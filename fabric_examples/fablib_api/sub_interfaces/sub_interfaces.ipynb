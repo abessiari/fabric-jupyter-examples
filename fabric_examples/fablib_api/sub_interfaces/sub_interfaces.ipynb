{
 "cells": [
  {
   "cell_type": "markdown",
   "metadata": {},
   "source": [
    "# Sub Interfaces over Dedicated Network Interface Cards\n",
    "\n",
    "FABRIC allows users to utilize dedicated NIC cards `NIC_ConnectX_5` and `NIC_ConnectX_6`. This notebook outlines the process for creating sub-interfaces for these NICs and connecting them to Network Services. Specifically, we will demonstrate how to connect the sub-interfaces to the FABRIC FABnetv4 Network Service. However, the sub-interfaces can be connected to any of the services listed in the Network Section of [Start Here](../../../start_here.ipynb).\n",
    "\n"
   ]
  },
  {
   "cell_type": "markdown",
   "metadata": {},
   "source": [
    "## Import the FABlib Library\n"
   ]
  },
  {
   "cell_type": "code",
   "execution_count": null,
   "metadata": {
    "tags": []
   },
   "outputs": [],
   "source": [
    "from ipaddress import ip_address, IPv4Address, IPv6Address, IPv4Network, IPv6Network\n",
    "import ipaddress\n",
    "\n",
    "from fabrictestbed_extensions.fablib.fablib import FablibManager as fablib_manager\n",
    "\n",
    "fablib = fablib_manager()\n",
    "                     \n",
    "fablib.show_config();"
   ]
  },
  {
   "cell_type": "markdown",
   "metadata": {
    "tags": []
   },
   "source": [
    "## Create the Experiment Slice\n",
    "\n",
    "In this example, we will create a slice and configure nodes with dedicated NICs, sub-interfaces, and network connections.\n",
    "\n",
    "NIC component models options:\n",
    "- NIC_ConnectX_5: 25 Gbps Dedicated Mellanox ConnectX-5 PCI Device (2 Ports) \n",
    "- NIC_ConnectX_6: 100 Gbps Dedicated Mellanox ConnectX-6 PCI Device (2 Ports) "
   ]
  },
  {
   "cell_type": "markdown",
   "metadata": {},
   "source": [
    "### Define variables"
   ]
  },
  {
   "cell_type": "code",
   "execution_count": null,
   "metadata": {
    "tags": []
   },
   "outputs": [],
   "source": [
    "slice_name = 'MySlice'\n",
    "\n",
    "node1_name = 'Node1'\n",
    "node2_name = 'Node2'\n",
    "\n",
    "network1_name='net1'\n",
    "network2_name='net2'\n",
    "network3_name='net3'\n",
    "\n",
    "model = \"NIC_ConnectX_6\""
   ]
  },
  {
   "cell_type": "markdown",
   "metadata": {},
   "source": [
    "### Identify the Sites\n",
    "\n",
    "List available sites with `NIC_ConnectX_5` or `NIC_ConnectX_6`. Chooose two site at random from the available sites."
   ]
  },
  {
   "cell_type": "code",
   "execution_count": null,
   "metadata": {},
   "outputs": [],
   "source": [
    "# we will use CX5 to generate traffic and CX6 to mirror traffic into so need sites that have both for this example.\n",
    "cx5_column_name = 'nic_connectx_5_available'\n",
    "cx6_column_name = 'nic_connectx_6_available'\n",
    "\n",
    "# find two sites with available ConnectX-5 and ConnectX-6 cards\n",
    "(site1, site2) = fablib.get_random_sites(count=2, filter_function=lambda x: x[cx6_column_name] > 0)\n",
    "\n",
    "print(f\"Sites chosen: {site1} {site2}\")"
   ]
  },
  {
   "cell_type": "markdown",
   "metadata": {},
   "source": [
    "### Slice Creation\n",
    "First, we create a new slice."
   ]
  },
  {
   "cell_type": "code",
   "execution_count": null,
   "metadata": {},
   "outputs": [],
   "source": [
    "#Create Slice\n",
    "slice = fablib.new_slice(name=slice_name)"
   ]
  },
  {
   "cell_type": "markdown",
   "metadata": {},
   "source": [
    "### Network Setup\n",
    "We then define three networks:\n",
    "\n",
    "- `net1` and `net2` are Layer 3 networks using IPv4.\n",
    "- `net3` is a Layer 2 network."
   ]
  },
  {
   "cell_type": "code",
   "execution_count": null,
   "metadata": {},
   "outputs": [],
   "source": [
    "# Networks\n",
    "net1 = slice.add_l3network(name=network1_name, type='IPv4')\n",
    "net2 = slice.add_l3network(name=network2_name, type='IPv4')\n",
    "net3 = slice.add_l2network(name=network3_name, subnet=\"192.168.1.0/24\")"
   ]
  },
  {
   "cell_type": "markdown",
   "metadata": {},
   "source": [
    "### Node1 Configuration\n",
    "We add `Node1` to the slice and configure it as follows:\n",
    "\n",
    "- Add a dedicated NIC (`NIC_ConnectX_6`).\n",
    "- Create two sub-interfaces on the NIC.\n",
    "- Connect one sub-interface to `net1` and set up routing to FABnetv4.\n",
    "- Connect the other sub-interface to `net3` for a Layer 2 Wide Area connection."
   ]
  },
  {
   "cell_type": "code",
   "execution_count": null,
   "metadata": {},
   "outputs": [],
   "source": [
    "node1 = slice.add_node(name=node1_name, site=site1)\n",
    "node1_iface1 = node1.add_component(model=model, name='nic1').get_interfaces()[0]\n",
    "\n",
    "node1_ch_iface1 = node1_iface1.add_sub_interface(\"child1\", vlan=\"100\")\n",
    "node1_ch_iface1.set_mode('auto')\n",
    "net1.add_interface(node1_ch_iface1)\n",
    "node1.add_route(subnet=fablib.FABNETV4_SUBNET, next_hop=net1.get_gateway())\n",
    "\n",
    "\n",
    "node1_ch_iface2 = node1_iface1.add_sub_interface(\"child2\", vlan=\"200\")\n",
    "node1_ch_iface2.set_mode('auto')\n",
    "net3.add_interface(node1_ch_iface2)"
   ]
  },
  {
   "cell_type": "markdown",
   "metadata": {},
   "source": [
    "### Node2 Configuration\n",
    "We add `Node2` to the slice and configure it as follows:\n",
    "\n",
    "- Add a dedicated NIC (`NIC_ConnectX_6`).\n",
    "- Create two sub-interfaces on the NIC.\n",
    "- Connect one sub-interface to `net2` and set up routing to FABnetv4.\n",
    "- Connect the other sub-interface to `net3` for a Layer 2 Wide Area connection."
   ]
  },
  {
   "cell_type": "code",
   "execution_count": null,
   "metadata": {},
   "outputs": [],
   "source": [
    "node2 = slice.add_node(name=node2_name, site=site2)\n",
    "node2_iface1 = node2.add_component(model=model, name='nic1').get_interfaces()[0]\n",
    "\n",
    "node2_ch_iface1 = node2_iface1.add_sub_interface(\"child1\", vlan=\"100\")\n",
    "node2_ch_iface1.set_mode('auto')\n",
    "net2.add_interface(node2_ch_iface1)\n",
    "node2.add_route(subnet=fablib.FABNETV4_SUBNET, next_hop=net2.get_gateway())\n",
    "\n",
    "node2_ch_iface2 = node2_iface1.add_sub_interface(\"child2\", vlan=\"200\")\n",
    "node2_ch_iface2.set_mode('auto')\n",
    "net3.add_interface(node2_ch_iface2)"
   ]
  },
  {
   "cell_type": "markdown",
   "metadata": {},
   "source": [
    "### Submit Slice Request\n",
    "Finally, we submit the slice request to instantiate the configuration."
   ]
  },
  {
   "cell_type": "code",
   "execution_count": null,
   "metadata": {},
   "outputs": [],
   "source": [
    "slice.submit()"
   ]
  },
  {
   "cell_type": "markdown",
   "metadata": {},
   "source": [
    "## Run the Experiment\n",
    "\n",
    "Verify connectivity through the sub-interfaces for two different network services:\n",
    "- Ensure the network passes over FabNetV4.\n",
    "- Ensure the network passes over the Layer 2 Wide Area Network.\n",
    "\n"
   ]
  },
  {
   "cell_type": "code",
   "execution_count": null,
   "metadata": {},
   "outputs": [],
   "source": [
    "slice = fablib.get_slice(slice_name)\n",
    "\n",
    "node1 = slice.get_node(name=node1_name)        \n",
    "node2 = slice.get_node(name=node2_name)           \n",
    "\n",
    "node2_addr = node2.get_interface(network_name=network2_name).get_ip_addr()\n",
    "\n",
    "stdout, stderr = node1.execute(f'ping -c 5 {node2_addr}')"
   ]
  },
  {
   "cell_type": "code",
   "execution_count": null,
   "metadata": {},
   "outputs": [],
   "source": [
    "slice = fablib.get_slice(slice_name)\n",
    "\n",
    "node1 = slice.get_node(name=node1_name)        \n",
    "node2 = slice.get_node(name=node2_name)           \n",
    "\n",
    "node2_addr = node2.get_interface(network_name=network3_name).get_ip_addr()\n",
    "\n",
    "stdout, stderr = node1.execute(f'ping -c 5 {node2_addr}')"
   ]
  },
  {
   "cell_type": "markdown",
   "metadata": {},
   "source": [
    "\n",
    "## Delete the Slice\n",
    "\n",
    "Please delete your slice when you are done with your experiment."
   ]
  },
  {
   "cell_type": "code",
   "execution_count": null,
   "metadata": {
    "tags": []
   },
   "outputs": [],
   "source": [
    "slice.delete()"
   ]
  },
  {
   "cell_type": "code",
   "execution_count": null,
   "metadata": {},
   "outputs": [],
   "source": []
  }
 ],
 "metadata": {
  "kernelspec": {
   "display_name": "Python 3 (ipykernel)",
   "language": "python",
   "name": "python3"
  },
  "language_info": {
   "codemirror_mode": {
    "name": "ipython",
    "version": 3
   },
   "file_extension": ".py",
   "mimetype": "text/x-python",
   "name": "python",
   "nbconvert_exporter": "python",
   "pygments_lexer": "ipython3",
   "version": "3.11.8"
  }
 },
 "nbformat": 4,
 "nbformat_minor": 4
}
