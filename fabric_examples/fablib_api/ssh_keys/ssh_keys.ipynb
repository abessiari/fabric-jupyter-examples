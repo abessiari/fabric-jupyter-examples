{
 "cells": [
  {
   "cell_type": "markdown",
   "metadata": {
    "tags": []
   },
   "source": [
    "# Create a Slice and Add/Remove SSH Keys\n",
    "\n",
    "This guide outlines the process of granting access to virtual machines (VMs) within your slice to other users. When collaborating with others, it's common to encounter situations where you need to enable them to access the VMs running in your slice. Access to these VMs on FABRIC is managed through SSH keys. This notebook offers methods to incorporate the SSH keys of your collaborators into the VMs within your slice, ensuring they have the necessary access to your VMs.\n"
   ]
  },
  {
   "cell_type": "markdown",
   "metadata": {},
   "source": [
    "## Import the FABlib Library\n"
   ]
  },
  {
   "cell_type": "code",
   "execution_count": null,
   "metadata": {
    "tags": []
   },
   "outputs": [],
   "source": [
    "from fabrictestbed_extensions.fablib.fablib import FablibManager as fablib_manager\n",
    "\n",
    "fablib = fablib_manager()\n",
    "\n",
    "fablib.show_config();"
   ]
  },
  {
   "cell_type": "markdown",
   "metadata": {
    "tags": []
   },
   "source": [
    "## Create the Experiment Slice\n",
    "\n",
    "The following creates two nodes with basic NICs connected to an isolated local Ethernet.  \n"
   ]
  },
  {
   "cell_type": "code",
   "execution_count": null,
   "metadata": {
    "tags": []
   },
   "outputs": [],
   "source": [
    "slice_name = 'SSH-Keys'\n",
    "site = fablib.get_random_site()\n",
    "print(f\"Sites: {site}\")\n",
    "\n",
    "node1_name='Node1'\n",
    "node2_name='Node2'\n",
    "\n",
    "network_name='net1'\n",
    "nic_name = 'nic1'\n",
    "model_name = 'NIC_Basic'"
   ]
  },
  {
   "cell_type": "code",
   "execution_count": null,
   "metadata": {
    "tags": []
   },
   "outputs": [],
   "source": [
    "from ipaddress import IPv4Network\n",
    "\n",
    "subnet = IPv4Network(\"192.168.1.0/24\")\n",
    "available_ips = list(subnet)[1:]"
   ]
  },
  {
   "cell_type": "code",
   "execution_count": null,
   "metadata": {
    "tags": []
   },
   "outputs": [],
   "source": [
    "#Create Slice\n",
    "slice = fablib.new_slice(name=slice_name)\n",
    "\n",
    "net1 = slice.add_l2network(name=network_name, subnet=subnet)\n",
    "\n",
    "# Node1\n",
    "node1 = slice.add_node(name=node1_name, site=site)\n",
    "iface1 = node1.add_component(model='NIC_Basic', name='nic1').get_interfaces()[0]\n",
    "iface1.set_mode('auto')\n",
    "net1.add_interface(iface1)\n",
    "\n",
    "# Node2\n",
    "node2 = slice.add_node(name=node2_name, site=site)\n",
    "iface2 = node2.add_component(model='NIC_Basic', name='nic1').get_interfaces()[0]\n",
    "iface2.set_mode('auto')\n",
    "net1.add_interface(iface2)\n",
    "\n",
    "\n",
    "#Submit Slice Request\n",
    "slice.submit();"
   ]
  },
  {
   "cell_type": "markdown",
   "metadata": {},
   "source": [
    "### Create and add ssh keys"
   ]
  },
  {
   "cell_type": "markdown",
   "metadata": {},
   "source": [
    "#### Get the Slice Information"
   ]
  },
  {
   "cell_type": "code",
   "execution_count": null,
   "metadata": {},
   "outputs": [],
   "source": [
    "slice = fablib.get_slice(slice_name)"
   ]
  },
  {
   "cell_type": "markdown",
   "metadata": {},
   "source": [
    "#### Generate an SSH Key Pair"
   ]
  },
  {
   "cell_type": "code",
   "execution_count": null,
   "metadata": {},
   "outputs": [],
   "source": [
    "import paramiko\n",
    "\n",
    "username = \"rocky\"\n",
    "\n",
    "# Generate a new RSA key pair\n",
    "key = paramiko.RSAKey.generate(bits=2048)\n",
    "public_key_string = f\"{key.get_name()} {key.get_base64()}\"\n",
    "\n",
    "private_key_path = \"id_rsa_test\"\n",
    "with open(private_key_path, \"w\") as private_key_file:\n",
    "    key.write_private_key(private_key_file)"
   ]
  },
  {
   "cell_type": "markdown",
   "metadata": {},
   "source": [
    "#### Add Public Key to a node and verify connectivity\n",
    "\n",
    "\n",
    "A public SSH key can be incorporated into a node using the following methods:\n",
    "\n",
    "- Add the public key to a node by supplying the public key string directly:\n",
    "`node.add_remove_public_key(sliver_public_key=public_key_string)`\n",
    "\n",
    "- Include a user's own public sliver key by specifying the sliver key name. The Sliver Key Name can be obtained from the 'Sliver' tab under [SSH Keys](https://portal.fabric-testbed.net/experiments#sshKeys).\n",
    "`node.add_remove_public_key(sliver_key_name=sliver_key_name)`\n",
    "\n",
    "- Integrate another user's public sliver key by providing their sliver key name and email address. The Sliver Key Name is accessible in the 'Sliver' tab under [SSH Keys](https://portal.fabric-testbed.net/experiments#sshKeys).\n",
    "`node.add_remove_public_key(sliver_key_name=sliver_key_name, email=email)`"
   ]
  },
  {
   "cell_type": "code",
   "execution_count": null,
   "metadata": {},
   "outputs": [],
   "source": [
    "for node in slice.get_nodes():\n",
    "    \n",
    "    # Add Public Key to the Node by passing the public key string\n",
    "    node.add_remove_public_key(sliver_public_key=public_key_string)\n",
    "    \n",
    "    # Add Portal Public Key to the Node by passing the sliver key name\n",
    "    #sliver_key_name = \"REPLACE_WITH_SLIVER_KEY_NAME\"\n",
    "    #node.add_remove_public_key(sliver_key_name=sliver_key_name)\n",
    "    \n",
    "    # Add Collaborator's Portal Public Key to the Node by passing the sliver key name and email\n",
    "    #sliver_key_name = \"REPLACE_WITH_SLIVER_KEY_NAME\"\n",
    "    #email = \"REPLACE_COLLABORATORS_EMAIL\"\n",
    "    #node.add_remove_public_key(sliver_key_name=sliver_key_name, email=email)\n",
    "    \n",
    "    # Validating SSH connection using the key\n",
    "    # When using the portal keys, this validation would require the respective private key to be saved at\n",
    "    # a location passed in private_key_path\n",
    "    try:\n",
    "        #private_key_path = \"REPLACE_WITH_PRIVATE_KEY_PATH_FOR_PORTAL_KEYS\"\n",
    "        stdout, stderr = node.execute('echo Hello, FABRIC from node `hostname -s`', \n",
    "                                      private_key_file=private_key_path)\n",
    "    except Exception as e:\n",
    "        print(\"Error:\", str(e))\n",
    "\n",
    "    print()    \n",
    "    "
   ]
  },
  {
   "cell_type": "markdown",
   "metadata": {},
   "source": [
    "#### Remove public key from a node"
   ]
  },
  {
   "cell_type": "code",
   "execution_count": null,
   "metadata": {},
   "outputs": [],
   "source": [
    "for node in slice.get_nodes():\n",
    "    \n",
    "    # Add Public Key to the Node by passing the public key string\n",
    "    node.add_remove_public_key(sliver_public_key=public_key_string, remove=True)\n",
    "    \n",
    "    # Add Portal Public Key to the Node by passing the sliver key name\n",
    "    #sliver_key_name = \"REPLACE_WITH_SLIVER_KEY_NAME\"\n",
    "    #node.add_remove_public_key(sliver_key_name=sliver_key_name, remove=True)\n",
    "    \n",
    "    # Add Collaborator's Portal Public Key to the Node by passing the sliver key name and email\n",
    "    #sliver_key_name = \"REPLACE_WITH_SLIVER_KEY_NAME\"\n",
    "    #email = \"REPLACE_COLLABORATORS_EMAIL\"\n",
    "    #node.add_remove_public_key(sliver_key_name=sliver_key_name, email=email, remove=True) "
   ]
  },
  {
   "cell_type": "markdown",
   "metadata": {},
   "source": [
    "## Delete the Slice\n",
    "\n",
    "Please delete your slice when you are done with your experiment."
   ]
  },
  {
   "cell_type": "code",
   "execution_count": null,
   "metadata": {
    "tags": []
   },
   "outputs": [],
   "source": [
    "slice = fablib.get_slice(slice_name)\n",
    "slice.delete()"
   ]
  },
  {
   "cell_type": "code",
   "execution_count": null,
   "metadata": {},
   "outputs": [],
   "source": []
  }
 ],
 "metadata": {
  "kernelspec": {
   "display_name": "Python 3 (ipykernel)",
   "language": "python",
   "name": "python3"
  },
  "language_info": {
   "codemirror_mode": {
    "name": "ipython",
    "version": 3
   },
   "file_extension": ".py",
   "mimetype": "text/x-python",
   "name": "python",
   "nbconvert_exporter": "python",
   "pygments_lexer": "ipython3",
   "version": "3.10.6"
  }
 },
 "nbformat": 4,
 "nbformat_minor": 4
}
