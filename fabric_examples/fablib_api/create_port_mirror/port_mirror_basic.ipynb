{
 "cells": [
  {
   "cell_type": "markdown",
   "metadata": {},
   "source": [
    "# Create a PortMirror service to snoop on dataplane traffic within your slice with Basic NICs"
   ]
  },
  {
   "cell_type": "markdown",
   "metadata": {},
   "source": [
    "FABRIC provides a special PortMirror Network Service that allows experimenters to snoop on traffic within a the slice. This service requires a __Net.PortMirror__ project permission tag on the project and granting this permission requires a review by the FABRIC team to ensure the project takes proper security precautions to prevent the misuse of this feature. \n",
    "\n",
    "In this notebook we demonstrate the process by creating a slice with a FABNetv4 service and PortMirror service where traffic from FABNetv4 service is mirrored. "
   ]
  },
  {
   "cell_type": "markdown",
   "metadata": {},
   "source": [
    "## Step 0: Import the FABlib Library"
   ]
  },
  {
   "cell_type": "code",
   "execution_count": null,
   "metadata": {},
   "outputs": [],
   "source": [
    "from ipaddress import ip_address, IPv4Address, IPv6Address, IPv4Network, IPv6Network\n",
    "import ipaddress\n",
    "\n",
    "from fabrictestbed_extensions.fablib.fablib import FablibManager as fablib_manager\n",
    "\n",
    "fablib = fablib_manager()\n",
    "                     \n",
    "fablib.show_config();"
   ]
  },
  {
   "cell_type": "markdown",
   "metadata": {},
   "source": [
    "## Step 1: Create the slice that generates traffic and also monitors traffic\n",
    "We will use the same approach as a [FABNetv4 full-auto notebook](../create_l3network_fabnet_ipv4_auto/create_l3network_fabnet_ipv4_auto.ipynb) here. \n",
    "\n",
    "### Initialize variables"
   ]
  },
  {
   "cell_type": "code",
   "execution_count": null,
   "metadata": {},
   "outputs": [],
   "source": [
    "slice_name = 'MySlice-generator-listener-basic'\n",
    "\n",
    "node1_name = 'Node1'\n",
    "node2_name = 'Node2'\n",
    "\n",
    "network1_name='net1'\n",
    "network2_name='net2'\n",
    "\n",
    "listener_node_name = 'listener_node'\n",
    "listener_pm_service = 'pmservice'\n",
    "listener_direction = 'both' # can also be 'rx' and 'tx'"
   ]
  },
  {
   "cell_type": "code",
   "execution_count": null,
   "metadata": {},
   "outputs": [],
   "source": [
    "# we will use CX5 to mirror traffic so need site that have CX5 for this example.\n",
    "cx5_column_name = 'nic_connectx_5_available'\n",
    "\n",
    "# find two sites with available ConnectX-5\n",
    "site1 = fablib.get_random_site(filter_function=lambda x: x[cx5_column_name] == 2)\n",
    "\n",
    "site2 = fablib.get_random_site(avoid=[site1])\n",
    "\n",
    "print(f'Will create \"{slice_name}\" on {site1} and {site2}')"
   ]
  },
  {
   "cell_type": "markdown",
   "metadata": {},
   "source": [
    "### Create the slice"
   ]
  },
  {
   "cell_type": "code",
   "execution_count": null,
   "metadata": {},
   "outputs": [],
   "source": [
    "# Create Traffic generator slice\n",
    "\n",
    "slice = fablib.new_slice(name=slice_name)\n",
    "\n",
    "# Networks\n",
    "net1 = slice.add_l3network(name=network1_name, type='IPv4')\n",
    "net2 = slice.add_l3network(name=network2_name, type='IPv4')\n",
    "\n",
    "# Node1\n",
    "node1 = slice.add_node(name=node1_name, site=site1)\n",
    "iface1 = node1.add_component(model='NIC_ConnectX_5', name='nic1').get_interfaces()[0]\n",
    "iface1.set_mode('auto')\n",
    "net1.add_interface(iface1)\n",
    "node1.add_route(subnet=fablib.FABNETV4_SUBNET, next_hop=net1.get_gateway())\n",
    "\n",
    "# Node2\n",
    "node2 = slice.add_node(name=node2_name, site=site2)\n",
    "iface2  = node2.add_component(model='NIC_Basic', name='nic1').get_interfaces()[0]\n",
    "iface2.set_mode('auto')\n",
    "net2.add_interface(iface2)\n",
    "node2.add_route(subnet=fablib.FABNETV4_SUBNET, next_hop=net2.get_gateway())\n",
    "\n",
    "\n",
    "#Submit Slice Request\n",
    "slice.submit();"
   ]
  },
  {
   "cell_type": "markdown",
   "metadata": {},
   "source": [
    "## Add the Listener to the Slice\n",
    "Add a listener node to the slice which mirrors the traffic received on `Node1`"
   ]
  },
  {
   "cell_type": "code",
   "execution_count": null,
   "metadata": {},
   "outputs": [],
   "source": [
    "slice = fablib.get_slice(slice_name)\n",
    "node1 = slice.get_node(node1_name)\n",
    "\n",
    "mirror_port_name = node1.get_interfaces()[0].get_peer_port_name()\n",
    "mirror_port_vlan = node1.get_interfaces()[0].get_peer_port_vlan()\n",
    "\n",
    "listener_node = slice.add_node(name=listener_node_name, site=site1)\n",
    "# the first (index 0) interface will be connected into the switch to receive mirror traffic\n",
    "listener_interface = listener_node.add_component(model='NIC_ConnectX_5', name='pmnic').get_interfaces()[0]\n",
    "\n",
    "# port mirroring is a network service of a special kind\n",
    "# it mirrors one or both directions of traffic ('rx', 'tx' or 'both') of a port that we identified in\n",
    "# Traffic Generator Topology into a port of a card we allocated in this slice (listener_interface)\n",
    "# NOTE: if you select 'both' directions that results in potentially 200Gbps of traffic, which\n",
    "# of course is impossible to fit into a single 100Gbps port of a ConnectX_6 card - be mindful of the\n",
    "# data rates.\n",
    "pmnet = slice.add_port_mirror_service(name=listener_pm_service, \n",
    "                                      mirror_interface_name=mirror_port_name,\n",
    "                                      mirror_interface_vlan=mirror_port_vlan,\n",
    "                                      receive_interface=listener_interface,\n",
    "                                      mirror_direction = listener_direction)\n",
    "\n",
    "\n",
    "#Submit Slice Request\n",
    "slice.submit();"
   ]
  },
  {
   "cell_type": "markdown",
   "metadata": {},
   "source": [
    "### Test the slice\n",
    "\n",
    "Let's make sure the two nodes i.e. `Node1` and `Node2` can communicate as expected."
   ]
  },
  {
   "cell_type": "code",
   "execution_count": null,
   "metadata": {},
   "outputs": [],
   "source": [
    "slice = fablib.get_slice(slice_name)\n",
    "\n",
    "node1 = slice.get_node(name=node1_name)        \n",
    "node2 = slice.get_node(name=node2_name)           \n",
    "\n",
    "node2_addr = node2.get_interface(network_name=network2_name).get_ip_addr()\n",
    "\n",
    "stdout, stderr = node1.execute(f'ping -c 5 {node2_addr}')"
   ]
  },
  {
   "cell_type": "markdown",
   "metadata": {},
   "source": [
    "### Set up the Listener\n",
    "\n",
    "This cell is useful if you are coming back to the experiment after a while. "
   ]
  },
  {
   "cell_type": "code",
   "execution_count": null,
   "metadata": {},
   "outputs": [],
   "source": [
    "slice = fablib.get_slice(slice_name)\n",
    "\n",
    "listener_node = slice.get_node(name=listener_node_name)   \n",
    "\n",
    "command = 'sudo dnf install -y tcpdump'\n",
    "\n",
    "stdout, stderr = listener_node.execute(command)"
   ]
  },
  {
   "cell_type": "markdown",
   "metadata": {},
   "source": [
    "## Run the experiment\n",
    "\n",
    "As a trivial experiment we start a `ping` between the two nodes and see if we can see it in the listener node."
   ]
  },
  {
   "cell_type": "code",
   "execution_count": null,
   "metadata": {},
   "outputs": [],
   "source": [
    "slice = fablib.get_slice(slice_name)\n",
    "\n",
    "node1 = slice.get_node(name=node1_name)        \n",
    "node2 = slice.get_node(name=node2_name)           \n",
    "listener_node = slice.get_node(name=listener_node_name)\n",
    "\n",
    "node2_addr = node2.get_interface(network_name=network2_name).get_ip_addr()\n",
    "listener_node_intf_name = listener_node.get_interface(network_name=listener_pm_service).get_device_name()\n",
    "\n",
    "print(f'Will run tcpdump on {listener_node.get_name()} interface {listener_node_intf_name}, listening to ping in Traffic Generator Slice')\n",
    "\n",
    "# run everything for 10 seconds\n",
    "traffic_command = f'timeout 10s ping -c 100 {node2_addr}'\n",
    "# look at libpcap documentation for more info on how to filter packets\n",
    "listen_command = f'sudo timeout 10s tcpdump -i {listener_node_intf_name} icmp'\n",
    "\n",
    "# start traffic generation in the background\n",
    "node2_thread = node1.execute_thread(traffic_command, output_file='node1_ping.log')\n",
    "# start tcpdump in the foreground\n",
    "listener_node_thread = listener_node.execute(listen_command)\n",
    "\n",
    "# check for errors\n",
    "stdout, stderr = node2_thread.result()\n",
    "if stderr and len(stderr):\n",
    "    print(f'Error output from Traffic Generator Slice: {stderr}')\n",
    "    \n",
    "print(f'Done')"
   ]
  },
  {
   "cell_type": "markdown",
   "metadata": {},
   "source": [
    "## Delete the slice"
   ]
  },
  {
   "cell_type": "code",
   "execution_count": null,
   "metadata": {},
   "outputs": [],
   "source": [
    "try:\n",
    "    fablib.delete_slice(slice_name)\n",
    "except Exception as e:\n",
    "    print(e)\n",
    "\n",
    "print('Done')"
   ]
  },
  {
   "cell_type": "code",
   "execution_count": null,
   "metadata": {},
   "outputs": [],
   "source": []
  }
 ],
 "metadata": {
  "kernelspec": {
   "display_name": "Python 3 (ipykernel)",
   "language": "python",
   "name": "python3"
  },
  "language_info": {
   "codemirror_mode": {
    "name": "ipython",
    "version": 3
   },
   "file_extension": ".py",
   "mimetype": "text/x-python",
   "name": "python",
   "nbconvert_exporter": "python",
   "pygments_lexer": "ipython3",
   "version": "3.11.8"
  }
 },
 "nbformat": 4,
 "nbformat_minor": 4
}
