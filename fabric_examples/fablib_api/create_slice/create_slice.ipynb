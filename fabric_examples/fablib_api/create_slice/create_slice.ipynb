{
 "cells": [
  {
   "cell_type": "markdown",
   "metadata": {
    "tags": []
   },
   "source": [
    "# Create and Submit a Slice\n",
    "\n",
    "On FABRIC, a slice is a collection of logically-related resources representing a single execution of an experiment (or a portion of an experiment, as multiple slices may be involved). Typically, a slice represents a connected topology of resources known as slivers. Every slice is part of one and only one project.\n",
    "\n",
    "Creating a slice can be accomplished using the FABlib library as shown in the following Jupyter notebook.\n",
    "\n",
    "Creating any slice starts with follows three basic steps:\n",
    "\n",
    "- Step 1: Create the slice by calling the `fablib.new_slice()` method and passing in the slice’s name.  At this point you have a slice object that you can use to build the slice.\n",
    "- Step 2: Design the slice by adding nodes, networks, and other components to the slice object. The slice that you design depends on the goals of your experiment.\n",
    "- Step 4: Optionally Validate the slice for resource feasibility.\n",
    "- Step 3: Submit the slice request. A slice is not instantiated until you submit the slice to the FABRIC service using the `slice.submit()` method. When you submit the slice request, FABRIC will try to find and allocate resources for your slice.   This step is quite complicated.  Larger slices will take longer to build and any slice might be impossible given currently available resources. While submitting a slice request there are several options that help you wait for your slice to build and handle exceptions in the build process. \n",
    "\n",
    "\n",
    "### FABlib API References\n",
    "\n",
    "- [fablib.show_config](https://fabric-fablib.readthedocs.io/en/latest/fablib.html#fabrictestbed_extensions.fablib.fablib.FablibManager.show_config)\n",
    "- [fablib.list_sites](https://fabric-fablib.readthedocs.io/en/latest/fablib.html#fabrictestbed_extensions.fablib.fablib.FablibManager.list_sites)\n",
    "- [fablib.new_slice](https://fabric-fablib.readthedocs.io/en/latest/fablib.html#fabrictestbed_extensions.fablib.fablib.FablibManager.new_slice)\n",
    "- [slice.add_node](https://fabric-fablib.readthedocs.io/en/latest/slice.html#fabrictestbed_extensions.fablib.slice.Slice.add_node)\n",
    "- [slice.validate](https://fabric-fablib.readthedocs.io/en/latest/slice.html#fabrictestbed_extensions.fablib.slice.Slice.validate)\n",
    "- [slice.submit](https://fabric-fablib.readthedocs.io/en/latest/slice.html#fabrictestbed_extensions.fablib.slice.Slice.submit)\n",
    "- [slice.get_nodes](https://fabric-fablib.readthedocs.io/en/latest/slice.html#fabrictestbed_extensions.fablib.slice.Slice.get_nodes)\n",
    "- [slice.list_nodes](https://fabric-fablib.readthedocs.io/en/latest/slice.html#fabrictestbed_extensions.fablib.slice.Slice.list_nodesß)\n",
    "- [slice.show](https://fabric-fablib.readthedocs.io/en/latest/slice.html#fabrictestbed_extensions.fablib.slice.Slice.show)\n",
    "- [node.execute](https://fabric-fablib.readthedocs.io/en/latest/node.html#fabrictestbed_extensions.fablib.node.Node.execute)\n",
    "- [slice.delete](https://fabric-fablib.readthedocs.io/en/latest/slice.html#fabrictestbed_extensions.fablib.slice.Slice.delete)\n"
   ]
  },
  {
   "cell_type": "markdown",
   "metadata": {
    "tags": []
   },
   "source": [
    "## Setup the Experiment\n",
    "\n",
    "### Import the FABlib API"
   ]
  },
  {
   "cell_type": "code",
   "execution_count": null,
   "metadata": {
    "tags": []
   },
   "outputs": [],
   "source": [
    "from fabrictestbed_extensions.fablib.fablib import FablibManager as fablib_manager\n",
    "\n",
    "fablib = fablib_manager()\n",
    "                         \n",
    "fablib.show_config();"
   ]
  },
  {
   "cell_type": "markdown",
   "metadata": {
    "tags": []
   },
   "source": [
    "## Option 1: Create a Slice - Basic\n",
    "\n",
    "The easiest way to submit a slice is to call the submit method on your slice without any parameters.  By default, this will block and wait until your slice is built, management access is enabled via ssh, and all dataplane interfaces have been tested for connectivity.  In addition,  the progress of your slice’s build process will be printed.  \n",
    "\n"
   ]
  },
  {
   "cell_type": "code",
   "execution_count": null,
   "metadata": {},
   "outputs": [],
   "source": [
    "# Create a slice\n",
    "slice = fablib.new_slice(name=\"MySlice1\")\n",
    "\n",
    "# Design the slice\n",
    "node = slice.add_node(name=\"Node1\")\n",
    "\n",
    "#Submit the Request\n",
    "slice.submit();"
   ]
  },
  {
   "cell_type": "markdown",
   "metadata": {},
   "source": [
    "## Option 2: Create a Slice - Wait Silently\n",
    "\n",
    "You can disable the progress reporting by setting `progress=False`.\n"
   ]
  },
  {
   "cell_type": "code",
   "execution_count": null,
   "metadata": {},
   "outputs": [],
   "source": [
    "# Create a slice\n",
    "slice = fablib.new_slice(name=\"MySlice2\")\n",
    "\n",
    "# Design the slice\n",
    "node = slice.add_node(name=\"Node1\")\n",
    "\n",
    "#Submit the Request\n",
    "slice_id = slice.submit(progress=False)\n",
    "\n",
    "print(f\"slice_id: {slice_id}\")"
   ]
  },
  {
   "cell_type": "markdown",
   "metadata": {},
   "source": [
    "## Option 3: Create a Slice - Non-blocking Submit\n",
    "\n",
    "You can create a slice without blockng by setting `wait=False`.  Note that if you do not wait for the slice, you will likely want to manually test your slice's state before trying to use it.  "
   ]
  },
  {
   "cell_type": "code",
   "execution_count": null,
   "metadata": {},
   "outputs": [],
   "source": [
    "\n",
    "# Create a slice\n",
    "slice = fablib.new_slice(name=\"MySlice3\")\n",
    "\n",
    "# Design the slice\n",
    "node = slice.add_node(name=\"Node1\")\n",
    "\n",
    "# Submit the request\n",
    "slice.submit(wait=False)\n",
    "\n",
    "# Save the slice ID\n",
    "slice_id = slice.get_slice_id()\n",
    "\n",
    "print(f\"slice_id: {slice_id}\")"
   ]
  },
  {
   "cell_type": "markdown",
   "metadata": {},
   "source": [
    "Test your slice's state"
   ]
  },
  {
   "cell_type": "code",
   "execution_count": null,
   "metadata": {},
   "outputs": [],
   "source": [
    "#Get Slice\n",
    "slice = fablib.get_slice(slice_id=slice_id)\n",
    "\n",
    "#Wait for ssh to be active\n",
    "slice_id = slice.wait_ssh(progress=True)\n",
    "\n",
    "print(f\"slice_id: {slice_id}\")\n",
    "\n",
    "#Run post boot config and dataplane network tests\n",
    "slice.post_boot_config();"
   ]
  },
  {
   "cell_type": "markdown",
   "metadata": {},
   "source": [
    "## Option 4: Create a Slice - Requesting resources in future\n",
    "\n",
    "You can reserve resources for future use by specifying a start time, even if they are not currently available. For example, if `NIC_ConnectX_5` or `NIC_ConnectX_6` are not presently available, you can now check their future availability and schedule them for a later time."
   ]
  },
  {
   "cell_type": "markdown",
   "metadata": {},
   "source": [
    "### Query Available Sites in Future\n",
    "\n",
    "List available sites with `NIC_ConnectX_5` or `NIC_ConnectX_6` one day from now. Chooose a site at random from one of the available sites."
   ]
  },
  {
   "cell_type": "code",
   "execution_count": null,
   "metadata": {},
   "outputs": [],
   "source": [
    "from datetime import datetime\n",
    "from datetime import timezone\n",
    "from datetime import timedelta\n",
    "\n",
    "start = (datetime.now(timezone.utc) + timedelta(days=1))"
   ]
  },
  {
   "cell_type": "code",
   "execution_count": null,
   "metadata": {},
   "outputs": [],
   "source": [
    "fields=['name','nic_connectx_5_available','nic_connectx_6_available']"
   ]
  },
  {
   "cell_type": "code",
   "execution_count": null,
   "metadata": {},
   "outputs": [],
   "source": [
    "smart_nic_sites = fablib.list_sites(fields=fields, start=start)\n",
    "\n",
    "smart_nic_sites = smart_nic_sites.data['Name'].values.tolist()\n",
    "print(f'All sites with NIC_ConnectX_5/NIC_ConnectX_6 available: {smart_nic_sites}')"
   ]
  },
  {
   "cell_type": "code",
   "execution_count": null,
   "metadata": {},
   "outputs": [],
   "source": [
    "import random\n",
    "\n",
    "if len(smart_nic_sites)==0:\n",
    "    print('Warning - no sites with available NIC_ConnectX_5/NIC_ConnectX_6 found')\n",
    "else:    \n",
    "    print(f'Selecting a site at random among {smart_nic_sites}')\n",
    "    site = random.choice(smart_nic_sites)\n",
    "\n",
    "    print(f\"Site chosen: {site}\")"
   ]
  },
  {
   "cell_type": "markdown",
   "metadata": {},
   "source": [
    "### Request a slice in Future\n",
    "\n",
    "A slice can be created for future use with a lease starting in future by passing `lease_start_time` in `submit`. When successful, the slice will enter the `AllocatedOK` state. When the lease becomes current, the resources will be provisioned and enter the `Active` state, causing the slice to transition to the `StableOK` state."
   ]
  },
  {
   "cell_type": "code",
   "execution_count": null,
   "metadata": {},
   "outputs": [],
   "source": [
    "# Create a slice\n",
    "slice = fablib.new_slice(name=\"MySlice4\")\n",
    "\n",
    "# Design the slice\n",
    "node = slice.add_node(name=\"Node1\", site=site)\n",
    "node.add_component(model=\"NIC_ConnectX_6\", name='nic1')\n",
    "node.add_component(model=\"NIC_ConnectX_6\", name='nic2')\n",
    "\n",
    "# Submit the request\n",
    "slice.submit(lease_start_time=start)\n",
    "\n",
    "# Save the slice ID\n",
    "slice_id = slice.get_slice_id()\n",
    "\n",
    "print(f\"slice_id: {slice_id}\")"
   ]
  },
  {
   "cell_type": "markdown",
   "metadata": {},
   "source": [
    "## Additional Options: Validate Slice\n",
    "\n",
    "Validate your slice before submitting to check for feasibility of resources. The validation can be done in following two ways:\n",
    "- Option 1: Validate the slice as resources are added to it\n",
    "- Option 2: Build the topology and validate the slice"
   ]
  },
  {
   "cell_type": "markdown",
   "metadata": {},
   "source": [
    "### Option 1: Validate the slice as resources are added to it\n",
    "\n",
    "The following code provides an example of validating Nodes in two different ways:\n",
    "\n",
    "- Add `Node1` and validate it by setting `validate=True` in `add_node`, and use `raise_exception=False` to remove the node if it is invalid without throwing an exception.\n",
    "- Add `Node2` and validate it by setting `validate=True` in `add_node`, and use `raise_exception=True` to throw an exception if the node is invalid.\n",
    "\n",
    "Doing a `list_nodes` can confirm that `Node1` is removed from the slice, but `Node2` still exists in the slice as requested."
   ]
  },
  {
   "cell_type": "code",
   "execution_count": null,
   "metadata": {},
   "outputs": [],
   "source": [
    "# Create a slice\n",
    "slice = fablib.new_slice(name=\"MySlice\")"
   ]
  },
  {
   "cell_type": "code",
   "execution_count": null,
   "metadata": {},
   "outputs": [],
   "source": [
    "# Add a node and validate it by specifying , do not raise exception in case of errors and remove it from the topology \n",
    "# Node1 is requested on a host not belonging to the site and hence is invalid\n",
    "\n",
    "node1 = slice.add_node(name=\"Node1\", site=\"MAX\", host=\"gpn-w1.fabric-testbed.net\", validate=True, raise_exception=False)"
   ]
  },
  {
   "cell_type": "code",
   "execution_count": null,
   "metadata": {},
   "outputs": [],
   "source": [
    "# Add a node and validate it, and raise exception in case of errors\n",
    "\n",
    "# Node2 is requesting T4 and RTX600 which is an infeasible requests as none of the hosts have both type of the GPUs available.\n",
    "# Since we requested Exception to be raised in case of errors, the following code raises Exception\n",
    "\n",
    "node2 = slice.add_node(name=\"Node2\", site=\"MAX\", validate=True, raise_exception=True)\n",
    "node2.add_component(model='NIC_Basic', name='nic2')\n",
    "node2.add_component(model='GPU_RTX6000', name='gpu1')\n",
    "node2.add_component(model='GPU_TeslaT4', name='gpu3')"
   ]
  },
  {
   "cell_type": "code",
   "execution_count": null,
   "metadata": {},
   "outputs": [],
   "source": [
    "# Node1 was removed from the topology as requested and Node2 still exists in the topology as requested\n",
    "slice.list_nodes();"
   ]
  },
  {
   "cell_type": "markdown",
   "metadata": {},
   "source": [
    "### Option 2: Build the topology and validate the slice\n",
    "\n",
    "We build a topology by requesting `Node1` on a host that does not belong to the site and `Node2` with two different models of GPUs. Both of these requests are invalid, and their validation by `slice.validate()` throws an exception, providing appropriate error information."
   ]
  },
  {
   "cell_type": "code",
   "execution_count": null,
   "metadata": {},
   "outputs": [],
   "source": [
    "# Create a slice\n",
    "slice = fablib.new_slice(name=\"MySlice\")\n",
    "\n",
    "# Add a node\n",
    "node1 = slice.add_node(name=\"Node1\", site=\"MAX\", host=\"gpn-w1.fabric-testbed.net\")\n",
    "# Here node1 is invalid request would be errored and removed from the slice\n",
    "\n",
    "node2 = slice.add_node(name=\"Node2\", site=\"MAX\")\n",
    "node2.add_component(model='NIC_Basic', name='nic2')\n",
    "node2.add_component(model='GPU_RTX6000', name='gpu1')\n",
    "node2.add_component(model='GPU_TeslaT4', name='gpu3')\n",
    "# Here node2 is invalid request as you can not have T4 and RTX600 both on a single worker\n",
    "\n",
    "# This call will report both the errors identified above\n",
    "slice.validate()"
   ]
  },
  {
   "cell_type": "markdown",
   "metadata": {},
   "source": [
    "## Additional Options: Timeouts and Retry Interval\n",
    "\n",
    "For any blocking call you can set and overall `timeout` and a retry `interval`.  Both settings are in seconds."
   ]
  },
  {
   "cell_type": "code",
   "execution_count": null,
   "metadata": {},
   "outputs": [],
   "source": [
    "# Create a slice\n",
    "slice = fablib.new_slice(name=\"MySlice5\")\n",
    "\n",
    "# Design the slice\n",
    "node = slice.add_node(name=\"Node1\")\n",
    "\n",
    "#Submit the Request\n",
    "slice_id = slice.submit(wait_timeout=600, wait_interval=60)\n",
    "\n",
    "print(f\"slice_id: {slice_id}\")"
   ]
  },
  {
   "cell_type": "code",
   "execution_count": null,
   "metadata": {
    "tags": []
   },
   "outputs": [],
   "source": [
    "#Delete Slices\n",
    "\n",
    "try:\n",
    "    fablib.delete_slice(\"MySlice1\")\n",
    "except:\n",
    "    pass\n",
    "\n",
    "try:\n",
    "    fablib.delete_slice(\"MySlice2\")\n",
    "except:\n",
    "    pass\n",
    "\n",
    "try:\n",
    "    fablib.delete_slice(\"MySlice3\")\n",
    "except:\n",
    "    pass\n",
    "\n",
    "try:\n",
    "    fablib.delete_slice(\"MySlice4\")\n",
    "except:\n",
    "    pass\n",
    "\n",
    "try:\n",
    "    fablib.delete_slice(\"MySlice5\")\n",
    "except:\n",
    "    pass\n"
   ]
  },
  {
   "cell_type": "code",
   "execution_count": null,
   "metadata": {},
   "outputs": [],
   "source": []
  }
 ],
 "metadata": {
  "kernelspec": {
   "display_name": "Python 3 (ipykernel)",
   "language": "python",
   "name": "python3"
  },
  "language_info": {
   "codemirror_mode": {
    "name": "ipython",
    "version": 3
   },
   "file_extension": ".py",
   "mimetype": "text/x-python",
   "name": "python",
   "nbconvert_exporter": "python",
   "pygments_lexer": "ipython3",
   "version": "3.11.8"
  }
 },
 "nbformat": 4,
 "nbformat_minor": 4
}
