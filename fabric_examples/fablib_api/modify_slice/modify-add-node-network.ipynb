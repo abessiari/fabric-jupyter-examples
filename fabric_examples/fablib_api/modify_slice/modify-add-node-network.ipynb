{
 "cells": [
  {
   "cell_type": "markdown",
   "metadata": {
    "tags": []
   },
   "source": [
    "# How to modify an existing slice\n",
    "\n",
    "This notebook outlines the process through which users can adjust an existing slice by either incorporating or eliminating nodes, components, and networks."
   ]
  },
  {
   "cell_type": "markdown",
   "metadata": {},
   "source": [
    "## Import the FABlib Library\n"
   ]
  },
  {
   "cell_type": "code",
   "execution_count": null,
   "metadata": {},
   "outputs": [],
   "source": [
    "from ipaddress import ip_address, IPv4Address, IPv6Address, IPv4Network, IPv6Network\n",
    "import ipaddress\n",
    "\n",
    "from fabrictestbed_extensions.fablib.fablib import FablibManager as fablib_manager\n",
    "\n",
    "fablib = fablib_manager()\n",
    "                     \n",
    "fablib.show_config();"
   ]
  },
  {
   "cell_type": "markdown",
   "metadata": {
    "tags": []
   },
   "source": [
    "## Create the Experiment Slice\n",
    "\n",
    "- Initialize a slice comprising two nodes: Node1 located at Site1 and Node2 at Site2, linked via a layer2 wide area network.\n",
    "- Incorporate Node3 at Site3 and establish a layer2 wide area network connection between Node1 and Node3.\n",
    "\n",
    "![Initial Topology](./initial-slice.png)"
   ]
  },
  {
   "cell_type": "code",
   "execution_count": null,
   "metadata": {},
   "outputs": [],
   "source": [
    "slice_name = 'MySlice-modify-add-node-network'\n",
    "[site1, site2, site3] = fablib.get_random_sites(count=3)\n",
    "\n",
    "print(f\"Sites: {site1}, {site2}, {site3}\")\n",
    "\n",
    "node1_name = 'Node1'\n",
    "node2_name = 'Node2'\n",
    "node3_name = 'Node3'\n",
    "node4_name = 'Node4'\n",
    "\n",
    "network1_name='net1'\n",
    "network2_name='net2'\n",
    "network3_name='net3'"
   ]
  },
  {
   "cell_type": "code",
   "execution_count": null,
   "metadata": {
    "tags": []
   },
   "outputs": [],
   "source": [
    "#Create Slice\n",
    "slice = fablib.new_slice(name=slice_name)\n",
    "\n",
    "# Networks\n",
    "net1 = slice.add_l2network(name=network1_name, subnet=IPv4Network(\"192.168.1.0/24\"))\n",
    "\n",
    "\n",
    "# Node1\n",
    "node1 = slice.add_node(name=node1_name, site=site1)\n",
    "iface1 = node1.add_component(model='NIC_Basic', name='nic1').get_interfaces()[0]\n",
    "iface1.set_mode('auto')\n",
    "net1.add_interface(iface1)\n",
    "\n",
    "\n",
    "# Node2\n",
    "node2 = slice.add_node(name=node2_name, site=site2)\n",
    "iface2 = node2.add_component(model='NIC_Basic', name='nic1').get_interfaces()[0]\n",
    "iface2.set_mode('auto')\n",
    "net1.add_interface(iface2)\n",
    "\n",
    "\n",
    "#Submit Slice Request\n",
    "slice.submit();"
   ]
  },
  {
   "cell_type": "markdown",
   "metadata": {},
   "source": [
    "## Verify connectivity between Node1 and Node2"
   ]
  },
  {
   "cell_type": "code",
   "execution_count": null,
   "metadata": {},
   "outputs": [],
   "source": [
    "slice = fablib.get_slice(slice_name)\n",
    "node1 = slice.get_node(name=node1_name)\n",
    "node2 = slice.get_node(name=node2_name)"
   ]
  },
  {
   "cell_type": "code",
   "execution_count": null,
   "metadata": {},
   "outputs": [],
   "source": [
    "node2_addr = node2.get_interface(network_name=network1_name).get_ip_addr()\n",
    "\n",
    "stdout, stderr = node1.execute(f'ping -c 5 {node2_addr}')"
   ]
  },
  {
   "cell_type": "markdown",
   "metadata": {},
   "source": [
    "## Modify the slice\n",
    "\n",
    "\n",
    "NOTE: Ensure to retrieve the most recent slice topology prior to initiating any update requests using `slice = fablib.get_slice(slice_name)`.\n",
    "\n",
    "- Integrate Node3 at site3 equipped with a NIC.\n",
    "- Add a NIC to Node1.\n",
    "- Establish a connection between Node1 and Node3.\n",
    "- Integrate Node4 at site1 equipped with a NIC.\n",
    "- Add a NIC to Node1.\n",
    "- Establish a connection between Node1 and Node4.\n",
    "\n",
    "![Updated Topology](./modify-add.png)"
   ]
  },
  {
   "cell_type": "code",
   "execution_count": null,
   "metadata": {},
   "outputs": [],
   "source": [
    "## NOTE: Always get the latest slice topolgy before requesting any updates\n",
    "slice = fablib.get_slice(slice_name)\n",
    "\n",
    "# Add a Layer2 Network\n",
    "net2 = slice.add_l2network(name=network2_name, subnet=IPv4Network(\"192.168.2.0/24\"))\n",
    "\n",
    "\n",
    "# Add Node3\n",
    "node3 = slice.add_node(name=node3_name, site=site2)\n",
    "iface3 = node3.add_component(model='NIC_Basic', name='nic1').get_interfaces()[0]\n",
    "iface3.set_mode('auto')\n",
    "net2.add_interface(iface3)\n",
    "\n",
    "# Add NIC to Node1 and add connect to Node3\n",
    "node1 = slice.get_node(name=node1_name)\n",
    "iface4 = node1.add_component(model='NIC_Basic', name='nic2').get_interfaces()[0]\n",
    "iface4.set_mode('auto')\n",
    "net2.add_interface(iface4)\n",
    "\n",
    "\n",
    "# Add a Layer2 Network\n",
    "net3 = slice.add_l2network(name=network3_name, subnet=IPv4Network(\"192.168.3.0/24\"))\n",
    "\n",
    "# Add Node4\n",
    "node4 = slice.add_node(name=node4_name, site=site1)\n",
    "iface5 = node4.add_component(model='NIC_Basic', name='nic1').get_interfaces()[0]\n",
    "iface5.set_mode('auto')\n",
    "net3.add_interface(iface5)\n",
    "\n",
    "# Add NIC to Node1 and add connect to Node3\n",
    "node1 = slice.get_node(name=node1_name)\n",
    "iface6 = node1.add_component(model='NIC_Basic', name='nic3').get_interfaces()[0]\n",
    "iface6.set_mode('auto')\n",
    "net3.add_interface(iface6)\n"
   ]
  },
  {
   "cell_type": "markdown",
   "metadata": {},
   "source": [
    "### Submit the updates"
   ]
  },
  {
   "cell_type": "code",
   "execution_count": null,
   "metadata": {},
   "outputs": [],
   "source": [
    "slice.submit()"
   ]
  },
  {
   "cell_type": "markdown",
   "metadata": {},
   "source": [
    "## Verify connectivity between Node1 and Node3"
   ]
  },
  {
   "cell_type": "code",
   "execution_count": null,
   "metadata": {},
   "outputs": [],
   "source": [
    "slice = fablib.get_slice(slice_name)\n",
    "node1 = slice.get_node(name=node1_name)\n",
    "node3 = slice.get_node(name=node3_name)"
   ]
  },
  {
   "cell_type": "code",
   "execution_count": null,
   "metadata": {},
   "outputs": [],
   "source": [
    "node3_addr = node3.get_interface(network_name=network2_name).get_ip_addr()\n",
    "\n",
    "stdout, stderr = node1.execute(f'ping -c 5 {node3_addr}')"
   ]
  },
  {
   "cell_type": "markdown",
   "metadata": {},
   "source": [
    "## Verify connectivity between Node1 and Node4"
   ]
  },
  {
   "cell_type": "code",
   "execution_count": null,
   "metadata": {},
   "outputs": [],
   "source": [
    "slice = fablib.get_slice(slice_name)\n",
    "node1 = slice.get_node(name=node1_name)\n",
    "node4 = slice.get_node(name=node4_name)"
   ]
  },
  {
   "cell_type": "code",
   "execution_count": null,
   "metadata": {},
   "outputs": [],
   "source": [
    "node4_addr = node4.get_interface(network_name=network3_name).get_ip_addr()\n",
    "\n",
    "stdout, stderr = node1.execute(f'ping -c 5 {node4_addr}')"
   ]
  },
  {
   "cell_type": "markdown",
   "metadata": {},
   "source": [
    "## Modify Slice \n",
    "NOTE: Prior to requesting any updates, it is essential to obtain the latest slice topology using slice = `fablib.get_slice(slice_name)`.\n",
    "\n",
    "- Remove NIC1 from Node1.\n",
    "- Eliminate Node2 from the slice.\n",
    "- Remove Network Net1 from the slice.\n",
    "\n",
    "![Updated Topology](./modify-delete.png)"
   ]
  },
  {
   "cell_type": "code",
   "execution_count": null,
   "metadata": {},
   "outputs": [],
   "source": [
    "## NOTE: Always get the latest slice topolgy before requesting any updates\n",
    "slice = fablib.get_slice(slice_name)\n",
    "\n",
    "\n",
    "# Removing NIC1 from Node1\n",
    "node1 = slice.get_node(name=node1_name)\n",
    "node1_nic1 = node1.get_component(name=\"nic1\")\n",
    "node1_nic1.delete()\n",
    "\n",
    "\n",
    "# Removing Node2 from Slice\n",
    "node2 = slice.get_node(name=node2_name)\n",
    "node2.delete()\n",
    "\n",
    "\n",
    "# Net1 is a wide area network and no longer have two participants after Node1 being removed\n",
    "# Removing the network\n",
    "net1 = slice.get_network(name=network1_name)\n",
    "net1.delete()"
   ]
  },
  {
   "cell_type": "markdown",
   "metadata": {},
   "source": [
    "### Submit the updates"
   ]
  },
  {
   "cell_type": "code",
   "execution_count": null,
   "metadata": {},
   "outputs": [],
   "source": [
    "slice.submit()"
   ]
  },
  {
   "cell_type": "markdown",
   "metadata": {},
   "source": [
    "\n",
    "## Delete the Slice\n",
    "\n",
    "Please delete your slice when you are done with your experiment."
   ]
  },
  {
   "cell_type": "code",
   "execution_count": null,
   "metadata": {},
   "outputs": [],
   "source": [
    "slice = fablib.get_slice(slice_name)\n",
    "slice.delete()"
   ]
  },
  {
   "cell_type": "code",
   "execution_count": null,
   "metadata": {},
   "outputs": [],
   "source": []
  }
 ],
 "metadata": {
  "kernelspec": {
   "display_name": "Python 3 (ipykernel)",
   "language": "python",
   "name": "python3"
  },
  "language_info": {
   "codemirror_mode": {
    "name": "ipython",
    "version": 3
   },
   "file_extension": ".py",
   "mimetype": "text/x-python",
   "name": "python",
   "nbconvert_exporter": "python",
   "pygments_lexer": "ipython3",
   "version": "3.11.8"
  }
 },
 "nbformat": 4,
 "nbformat_minor": 4
}
