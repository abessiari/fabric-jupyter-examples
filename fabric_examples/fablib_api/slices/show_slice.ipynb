{
 "cells": [
  {
   "cell_type": "markdown",
   "id": "60e3fd3a-d102-4626-9849-755cfdd24948",
   "metadata": {},
   "source": [
    "# Show Individual Slice"
   ]
  },
  {
   "cell_type": "markdown",
   "id": "bebf9e49-d901-46ec-94e6-62d4be407a4e",
   "metadata": {},
   "source": [
    "## Import FABlib"
   ]
  },
  {
   "cell_type": "code",
   "execution_count": 1,
   "id": "7e2a3475",
   "metadata": {
    "tags": []
   },
   "outputs": [
    {
     "data": {
      "text/html": [
       "<style type=\"text/css\">\n",
       "#T_d5e98 tr:nth-child(even) {\n",
       "  background: #dbf3ff;\n",
       "  color: #231f20;\n",
       "}\n",
       "#T_d5e98 tr:nth-child(odd) {\n",
       "  background: #ffffff;\n",
       "  color: #231f20;\n",
       "}\n",
       "#T_d5e98 caption {\n",
       "  text-align: center;\n",
       "  font-size: 150%;\n",
       "}\n",
       "#T_d5e98_row0_col0, #T_d5e98_row0_col1, #T_d5e98_row1_col0, #T_d5e98_row1_col1, #T_d5e98_row2_col0, #T_d5e98_row2_col1, #T_d5e98_row3_col0, #T_d5e98_row3_col1, #T_d5e98_row4_col0, #T_d5e98_row4_col1, #T_d5e98_row5_col0, #T_d5e98_row5_col1, #T_d5e98_row6_col0, #T_d5e98_row6_col1, #T_d5e98_row7_col0, #T_d5e98_row7_col1, #T_d5e98_row8_col0, #T_d5e98_row8_col1, #T_d5e98_row9_col0, #T_d5e98_row9_col1, #T_d5e98_row10_col0, #T_d5e98_row10_col1, #T_d5e98_row11_col0, #T_d5e98_row11_col1, #T_d5e98_row12_col0, #T_d5e98_row12_col1, #T_d5e98_row13_col0, #T_d5e98_row13_col1 {\n",
       "  text-align: left;\n",
       "  border: 1px #231f20 solid !important;\n",
       "  overwrite: False;\n",
       "}\n",
       "</style>\n",
       "<table id=\"T_d5e98\">\n",
       "  <caption>FABlib Config</caption>\n",
       "  <thead>\n",
       "  </thead>\n",
       "  <tbody>\n",
       "    <tr>\n",
       "      <td id=\"T_d5e98_row0_col0\" class=\"data row0 col0\" >Credential Manager</td>\n",
       "      <td id=\"T_d5e98_row0_col1\" class=\"data row0 col1\" >cm.fabric-testbed.net</td>\n",
       "    </tr>\n",
       "    <tr>\n",
       "      <td id=\"T_d5e98_row1_col0\" class=\"data row1 col0\" >Orchestrator</td>\n",
       "      <td id=\"T_d5e98_row1_col1\" class=\"data row1 col1\" >orchestrator.fabric-testbed.net</td>\n",
       "    </tr>\n",
       "    <tr>\n",
       "      <td id=\"T_d5e98_row2_col0\" class=\"data row2 col0\" >Token File</td>\n",
       "      <td id=\"T_d5e98_row2_col1\" class=\"data row2 col1\" >/home/fabric/work/fabric_config/id_tokens.json</td>\n",
       "    </tr>\n",
       "    <tr>\n",
       "      <td id=\"T_d5e98_row3_col0\" class=\"data row3 col0\" >Project ID</td>\n",
       "      <td id=\"T_d5e98_row3_col1\" class=\"data row3 col1\" >8e0099fa-e38f-4020-9959-4289039d36bd</td>\n",
       "    </tr>\n",
       "    <tr>\n",
       "      <td id=\"T_d5e98_row4_col0\" class=\"data row4 col0\" >Bastion Username</td>\n",
       "      <td id=\"T_d5e98_row4_col1\" class=\"data row4 col1\" >pruth_0031379841</td>\n",
       "    </tr>\n",
       "    <tr>\n",
       "      <td id=\"T_d5e98_row5_col0\" class=\"data row5 col0\" >Bastion Private Key File</td>\n",
       "      <td id=\"T_d5e98_row5_col1\" class=\"data row5 col1\" >/home/fabric/work/fabric_config/fabric_bastion_key</td>\n",
       "    </tr>\n",
       "    <tr>\n",
       "      <td id=\"T_d5e98_row6_col0\" class=\"data row6 col0\" >Bastion Host</td>\n",
       "      <td id=\"T_d5e98_row6_col1\" class=\"data row6 col1\" >bastion.fabric-testbed.net</td>\n",
       "    </tr>\n",
       "    <tr>\n",
       "      <td id=\"T_d5e98_row7_col0\" class=\"data row7 col0\" >Bastion Private Key Passphrase</td>\n",
       "      <td id=\"T_d5e98_row7_col1\" class=\"data row7 col1\" >None</td>\n",
       "    </tr>\n",
       "    <tr>\n",
       "      <td id=\"T_d5e98_row8_col0\" class=\"data row8 col0\" >Slice Public Key File</td>\n",
       "      <td id=\"T_d5e98_row8_col1\" class=\"data row8 col1\" >/home/fabric/work/fabric_config/slice_key.pub</td>\n",
       "    </tr>\n",
       "    <tr>\n",
       "      <td id=\"T_d5e98_row9_col0\" class=\"data row9 col0\" >Slice Private Key File</td>\n",
       "      <td id=\"T_d5e98_row9_col1\" class=\"data row9 col1\" >/home/fabric/work/fabric_config/slice_key</td>\n",
       "    </tr>\n",
       "    <tr>\n",
       "      <td id=\"T_d5e98_row10_col0\" class=\"data row10 col0\" >Slice Private Key Passphrase</td>\n",
       "      <td id=\"T_d5e98_row10_col1\" class=\"data row10 col1\" >None</td>\n",
       "    </tr>\n",
       "    <tr>\n",
       "      <td id=\"T_d5e98_row11_col0\" class=\"data row11 col0\" >Log File</td>\n",
       "      <td id=\"T_d5e98_row11_col1\" class=\"data row11 col1\" >/home/fabric/fablib.log</td>\n",
       "    </tr>\n",
       "    <tr>\n",
       "      <td id=\"T_d5e98_row12_col0\" class=\"data row12 col0\" >Log Level</td>\n",
       "      <td id=\"T_d5e98_row12_col1\" class=\"data row12 col1\" >INFO</td>\n",
       "    </tr>\n",
       "    <tr>\n",
       "      <td id=\"T_d5e98_row13_col0\" class=\"data row13 col0\" >Version</td>\n",
       "      <td id=\"T_d5e98_row13_col1\" class=\"data row13 col1\" >1.5.5</td>\n",
       "    </tr>\n",
       "  </tbody>\n",
       "</table>\n"
      ],
      "text/plain": [
       "<pandas.io.formats.style.Styler at 0x7f6658ebe510>"
      ]
     },
     "metadata": {},
     "output_type": "display_data"
    }
   ],
   "source": [
    "from fabrictestbed_extensions.fablib.fablib import FablibManager as fablib_manager\n",
    "\n",
    "fablib = fablib_manager()\n",
    "                     \n",
    "fablib.show_config();"
   ]
  },
  {
   "cell_type": "markdown",
   "id": "69c4611f-a9e2-4756-ad7f-bb6d23ed7b9c",
   "metadata": {},
   "source": [
    "## List the Slices \n",
    "\n",
    "List all slices to find a target slice for the rest of this notebook.  If you do not have any existing slices, you should create one or more before continuing.\n",
    "\n",
    "The output of the following call should print some active slice names and ID that you can cut/paste to the remaining example cells."
   ]
  },
  {
   "cell_type": "code",
   "execution_count": 2,
   "id": "da8197ff-eb2c-4e60-8a80-20e532d9e3b5",
   "metadata": {
    "tags": []
   },
   "outputs": [
    {
     "data": {
      "text/html": [
       "<style type=\"text/css\">\n",
       "#T_d73c8 caption {\n",
       "  text-align: center;\n",
       "  font-size: 150%;\n",
       "  caption-side: top;\n",
       "}\n",
       "#T_d73c8 th {\n",
       "  text-align: left;\n",
       "}\n",
       "#T_d73c8 tr:nth-child(even) {\n",
       "  background: #ffffff;\n",
       "  color: #231f20;\n",
       "}\n",
       "#T_d73c8 tr:nth-child(odd) {\n",
       "  background: #dbf3ff;\n",
       "  color: #231f20;\n",
       "}\n",
       "#T_d73c8 .level0 {\n",
       "  border: 1px black solid !important;\n",
       "  background: #ffffff;\n",
       "  color: #231f20;\n",
       "}\n",
       "#T_d73c8_row0_col0, #T_d73c8_row0_col1, #T_d73c8_row0_col2, #T_d73c8_row0_col3, #T_d73c8_row0_col4, #T_d73c8_row0_col5 {\n",
       "  text-align: left;\n",
       "  border: 1px #231f20 solid !important;\n",
       "  overwrite: False;\n",
       "}\n",
       "</style>\n",
       "<table id=\"T_d73c8\">\n",
       "  <caption>Slices</caption>\n",
       "  <thead>\n",
       "    <tr>\n",
       "      <th id=\"T_d73c8_level0_col0\" class=\"col_heading level0 col0\" >ID</th>\n",
       "      <th id=\"T_d73c8_level0_col1\" class=\"col_heading level0 col1\" >Name</th>\n",
       "      <th id=\"T_d73c8_level0_col2\" class=\"col_heading level0 col2\" >Lease Expiration (UTC)</th>\n",
       "      <th id=\"T_d73c8_level0_col3\" class=\"col_heading level0 col3\" >Lease Start (UTC)</th>\n",
       "      <th id=\"T_d73c8_level0_col4\" class=\"col_heading level0 col4\" >Project ID</th>\n",
       "      <th id=\"T_d73c8_level0_col5\" class=\"col_heading level0 col5\" >State</th>\n",
       "    </tr>\n",
       "  </thead>\n",
       "  <tbody>\n",
       "    <tr>\n",
       "      <td id=\"T_d73c8_row0_col0\" class=\"data row0 col0\" >0d3c2333-56c1-44a5-96b9-03ea60dfa109</td>\n",
       "      <td id=\"T_d73c8_row0_col1\" class=\"data row0 col1\" >RCNF</td>\n",
       "      <td id=\"T_d73c8_row0_col2\" class=\"data row0 col2\" >2023-10-03 20:27:36 +0000</td>\n",
       "      <td id=\"T_d73c8_row0_col3\" class=\"data row0 col3\" >2023-09-19 19:36:57 +0000</td>\n",
       "      <td id=\"T_d73c8_row0_col4\" class=\"data row0 col4\" >8e0099fa-e38f-4020-9959-4289039d36bd</td>\n",
       "      <td id=\"T_d73c8_row0_col5\" class=\"data row0 col5\" >StableOK</td>\n",
       "    </tr>\n",
       "  </tbody>\n",
       "</table>\n"
      ],
      "text/plain": [
       "<pandas.io.formats.style.Styler at 0x7f664476f8d0>"
      ]
     },
     "metadata": {},
     "output_type": "display_data"
    }
   ],
   "source": [
    "fablib.list_slices();"
   ]
  },
  {
   "cell_type": "markdown",
   "id": "f65b0dfe-f435-442b-bec8-cc5f5f4e35c0",
   "metadata": {},
   "source": [
    "## Get a Slice by Name"
   ]
  },
  {
   "cell_type": "markdown",
   "id": "2ff0ef2c-6e31-48a1-88df-656bfb7f1e9f",
   "metadata": {
    "tags": []
   },
   "source": [
    "You can get a current slice using its name. Names of current slices are unique. However, you can reuse slice names of deleted or failed slices.   If you want to get a deleted or failed slice you cannot use its name because it is not guaranteed to be unique.  \n"
   ]
  },
  {
   "cell_type": "code",
   "execution_count": 3,
   "id": "02a727ab-9bf8-47d0-8e45-9f07be92421d",
   "metadata": {
    "tags": []
   },
   "outputs": [
    {
     "data": {
      "text/html": [
       "<style type=\"text/css\">\n",
       "#T_64acf tr:nth-child(even) {\n",
       "  background: #dbf3ff;\n",
       "  color: #231f20;\n",
       "}\n",
       "#T_64acf tr:nth-child(odd) {\n",
       "  background: #ffffff;\n",
       "  color: #231f20;\n",
       "}\n",
       "#T_64acf caption {\n",
       "  text-align: center;\n",
       "  font-size: 150%;\n",
       "}\n",
       "#T_64acf_row0_col0, #T_64acf_row0_col1, #T_64acf_row1_col0, #T_64acf_row1_col1, #T_64acf_row2_col0, #T_64acf_row2_col1, #T_64acf_row3_col0, #T_64acf_row3_col1, #T_64acf_row4_col0, #T_64acf_row4_col1, #T_64acf_row5_col0, #T_64acf_row5_col1 {\n",
       "  text-align: left;\n",
       "  border: 1px #231f20 solid !important;\n",
       "  overwrite: False;\n",
       "}\n",
       "</style>\n",
       "<table id=\"T_64acf\">\n",
       "  <caption>Slice</caption>\n",
       "  <thead>\n",
       "  </thead>\n",
       "  <tbody>\n",
       "    <tr>\n",
       "      <td id=\"T_64acf_row0_col0\" class=\"data row0 col0\" >ID</td>\n",
       "      <td id=\"T_64acf_row0_col1\" class=\"data row0 col1\" >0d3c2333-56c1-44a5-96b9-03ea60dfa109</td>\n",
       "    </tr>\n",
       "    <tr>\n",
       "      <td id=\"T_64acf_row1_col0\" class=\"data row1 col0\" >Name</td>\n",
       "      <td id=\"T_64acf_row1_col1\" class=\"data row1 col1\" >RCNF</td>\n",
       "    </tr>\n",
       "    <tr>\n",
       "      <td id=\"T_64acf_row2_col0\" class=\"data row2 col0\" >Lease Expiration (UTC)</td>\n",
       "      <td id=\"T_64acf_row2_col1\" class=\"data row2 col1\" >2023-10-03 20:27:36 +0000</td>\n",
       "    </tr>\n",
       "    <tr>\n",
       "      <td id=\"T_64acf_row3_col0\" class=\"data row3 col0\" >Lease Start (UTC)</td>\n",
       "      <td id=\"T_64acf_row3_col1\" class=\"data row3 col1\" >2023-09-19 19:36:57 +0000</td>\n",
       "    </tr>\n",
       "    <tr>\n",
       "      <td id=\"T_64acf_row4_col0\" class=\"data row4 col0\" >Project ID</td>\n",
       "      <td id=\"T_64acf_row4_col1\" class=\"data row4 col1\" >8e0099fa-e38f-4020-9959-4289039d36bd</td>\n",
       "    </tr>\n",
       "    <tr>\n",
       "      <td id=\"T_64acf_row5_col0\" class=\"data row5 col0\" >State</td>\n",
       "      <td id=\"T_64acf_row5_col1\" class=\"data row5 col1\" >StableOK</td>\n",
       "    </tr>\n",
       "  </tbody>\n",
       "</table>\n"
      ],
      "text/plain": [
       "<pandas.io.formats.style.Styler at 0x7f664476ddd0>"
      ]
     },
     "metadata": {},
     "output_type": "display_data"
    }
   ],
   "source": [
    "slice_name='RCNF'\n",
    "\n",
    "slice = fablib.get_slice(name=slice_name)\n",
    "slice.show();"
   ]
  },
  {
   "cell_type": "code",
   "execution_count": 5,
   "id": "df2ae8f4-bb9d-42da-95d7-6c64424f050d",
   "metadata": {},
   "outputs": [
    {
     "data": {
      "text/html": [
       "<style type=\"text/css\">\n",
       "#T_121d6 caption {\n",
       "  text-align: center;\n",
       "  font-size: 150%;\n",
       "  caption-side: top;\n",
       "}\n",
       "#T_121d6 th {\n",
       "  text-align: left;\n",
       "}\n",
       "#T_121d6 tr:nth-child(even) {\n",
       "  background: #ffffff;\n",
       "  color: #231f20;\n",
       "}\n",
       "#T_121d6 tr:nth-child(odd) {\n",
       "  background: #dbf3ff;\n",
       "  color: #231f20;\n",
       "}\n",
       "#T_121d6 .level0 {\n",
       "  border: 1px black solid !important;\n",
       "  background: #ffffff;\n",
       "  color: #231f20;\n",
       "}\n",
       "#T_121d6_row0_col0, #T_121d6_row0_col1, #T_121d6_row0_col2, #T_121d6_row0_col3, #T_121d6_row0_col4, #T_121d6_row0_col5, #T_121d6_row0_col6, #T_121d6_row0_col7, #T_121d6_row0_col8, #T_121d6_row0_col9, #T_121d6_row0_col10, #T_121d6_row0_col11, #T_121d6_row0_col12, #T_121d6_row0_col13, #T_121d6_row0_col14, #T_121d6_row0_col15, #T_121d6_row1_col0, #T_121d6_row1_col1, #T_121d6_row1_col2, #T_121d6_row1_col3, #T_121d6_row1_col4, #T_121d6_row1_col5, #T_121d6_row1_col6, #T_121d6_row1_col7, #T_121d6_row1_col8, #T_121d6_row1_col9, #T_121d6_row1_col10, #T_121d6_row1_col11, #T_121d6_row1_col12, #T_121d6_row1_col13, #T_121d6_row1_col14, #T_121d6_row1_col15, #T_121d6_row2_col0, #T_121d6_row2_col1, #T_121d6_row2_col2, #T_121d6_row2_col3, #T_121d6_row2_col4, #T_121d6_row2_col5, #T_121d6_row2_col6, #T_121d6_row2_col7, #T_121d6_row2_col8, #T_121d6_row2_col9, #T_121d6_row2_col10, #T_121d6_row2_col11, #T_121d6_row2_col12, #T_121d6_row2_col13, #T_121d6_row2_col14, #T_121d6_row2_col15 {\n",
       "  text-align: left;\n",
       "  border: 1px #231f20 solid !important;\n",
       "  overwrite: False;\n",
       "}\n",
       "</style>\n",
       "<table id=\"T_121d6\">\n",
       "  <caption>Nodes</caption>\n",
       "  <thead>\n",
       "    <tr>\n",
       "      <th id=\"T_121d6_level0_col0\" class=\"col_heading level0 col0\" >ID</th>\n",
       "      <th id=\"T_121d6_level0_col1\" class=\"col_heading level0 col1\" >Name</th>\n",
       "      <th id=\"T_121d6_level0_col2\" class=\"col_heading level0 col2\" >Cores</th>\n",
       "      <th id=\"T_121d6_level0_col3\" class=\"col_heading level0 col3\" >RAM</th>\n",
       "      <th id=\"T_121d6_level0_col4\" class=\"col_heading level0 col4\" >Disk</th>\n",
       "      <th id=\"T_121d6_level0_col5\" class=\"col_heading level0 col5\" >Image</th>\n",
       "      <th id=\"T_121d6_level0_col6\" class=\"col_heading level0 col6\" >Image Type</th>\n",
       "      <th id=\"T_121d6_level0_col7\" class=\"col_heading level0 col7\" >Host</th>\n",
       "      <th id=\"T_121d6_level0_col8\" class=\"col_heading level0 col8\" >Site</th>\n",
       "      <th id=\"T_121d6_level0_col9\" class=\"col_heading level0 col9\" >Username</th>\n",
       "      <th id=\"T_121d6_level0_col10\" class=\"col_heading level0 col10\" >Management IP</th>\n",
       "      <th id=\"T_121d6_level0_col11\" class=\"col_heading level0 col11\" >State</th>\n",
       "      <th id=\"T_121d6_level0_col12\" class=\"col_heading level0 col12\" >Error</th>\n",
       "      <th id=\"T_121d6_level0_col13\" class=\"col_heading level0 col13\" >SSH Command</th>\n",
       "      <th id=\"T_121d6_level0_col14\" class=\"col_heading level0 col14\" >Public SSH Key File</th>\n",
       "      <th id=\"T_121d6_level0_col15\" class=\"col_heading level0 col15\" >Private SSH Key File</th>\n",
       "    </tr>\n",
       "  </thead>\n",
       "  <tbody>\n",
       "    <tr>\n",
       "      <td id=\"T_121d6_row0_col0\" class=\"data row0 col0\" >48d0f6ef-f02e-44e6-986f-095a28d6aa1c</td>\n",
       "      <td id=\"T_121d6_row0_col1\" class=\"data row0 col1\" >Node1</td>\n",
       "      <td id=\"T_121d6_row0_col2\" class=\"data row0 col2\" >16</td>\n",
       "      <td id=\"T_121d6_row0_col3\" class=\"data row0 col3\" >32</td>\n",
       "      <td id=\"T_121d6_row0_col4\" class=\"data row0 col4\" >100</td>\n",
       "      <td id=\"T_121d6_row0_col5\" class=\"data row0 col5\" >default_rocky_8</td>\n",
       "      <td id=\"T_121d6_row0_col6\" class=\"data row0 col6\" >qcow2</td>\n",
       "      <td id=\"T_121d6_row0_col7\" class=\"data row0 col7\" >wash-w2.fabric-testbed.net</td>\n",
       "      <td id=\"T_121d6_row0_col8\" class=\"data row0 col8\" >WASH</td>\n",
       "      <td id=\"T_121d6_row0_col9\" class=\"data row0 col9\" >rocky</td>\n",
       "      <td id=\"T_121d6_row0_col10\" class=\"data row0 col10\" >2001:400:a100:3020:f816:3eff:fea5:5376</td>\n",
       "      <td id=\"T_121d6_row0_col11\" class=\"data row0 col11\" >Active</td>\n",
       "      <td id=\"T_121d6_row0_col12\" class=\"data row0 col12\" ></td>\n",
       "      <td id=\"T_121d6_row0_col13\" class=\"data row0 col13\" >ssh -i /home/fabric/work/fabric_config/slice_key -F /home/fabric/work/fabric_config/ssh_config rocky@2001:400:a100:3020:f816:3eff:fea5:5376</td>\n",
       "      <td id=\"T_121d6_row0_col14\" class=\"data row0 col14\" >/home/fabric/work/fabric_config/slice_key.pub</td>\n",
       "      <td id=\"T_121d6_row0_col15\" class=\"data row0 col15\" >/home/fabric/work/fabric_config/slice_key</td>\n",
       "    </tr>\n",
       "    <tr>\n",
       "      <td id=\"T_121d6_row1_col0\" class=\"data row1 col0\" >None</td>\n",
       "      <td id=\"T_121d6_row1_col1\" class=\"data row1 col1\" >RCNF</td>\n",
       "      <td id=\"T_121d6_row1_col2\" class=\"data row1 col2\" >None</td>\n",
       "      <td id=\"T_121d6_row1_col3\" class=\"data row1 col3\" >None</td>\n",
       "      <td id=\"T_121d6_row1_col4\" class=\"data row1 col4\" >None</td>\n",
       "      <td id=\"T_121d6_row1_col5\" class=\"data row1 col5\" >None</td>\n",
       "      <td id=\"T_121d6_row1_col6\" class=\"data row1 col6\" >None</td>\n",
       "      <td id=\"T_121d6_row1_col7\" class=\"data row1 col7\" >None</td>\n",
       "      <td id=\"T_121d6_row1_col8\" class=\"data row1 col8\" >WASH</td>\n",
       "      <td id=\"T_121d6_row1_col9\" class=\"data row1 col9\" >None</td>\n",
       "      <td id=\"T_121d6_row1_col10\" class=\"data row1 col10\" ></td>\n",
       "      <td id=\"T_121d6_row1_col11\" class=\"data row1 col11\" >None</td>\n",
       "      <td id=\"T_121d6_row1_col12\" class=\"data row1 col12\" ></td>\n",
       "      <td id=\"T_121d6_row1_col13\" class=\"data row1 col13\" ></td>\n",
       "      <td id=\"T_121d6_row1_col14\" class=\"data row1 col14\" >/home/fabric/work/fabric_config/slice_key.pub</td>\n",
       "      <td id=\"T_121d6_row1_col15\" class=\"data row1 col15\" >/home/fabric/work/fabric_config/slice_key</td>\n",
       "    </tr>\n",
       "    <tr>\n",
       "      <td id=\"T_121d6_row2_col0\" class=\"data row2 col0\" >fae58633-33c8-478f-bd0f-61a5e86971dc</td>\n",
       "      <td id=\"T_121d6_row2_col1\" class=\"data row2 col1\" >cloudlet</td>\n",
       "      <td id=\"T_121d6_row2_col2\" class=\"data row2 col2\" >16</td>\n",
       "      <td id=\"T_121d6_row2_col3\" class=\"data row2 col3\" >32</td>\n",
       "      <td id=\"T_121d6_row2_col4\" class=\"data row2 col4\" >2000</td>\n",
       "      <td id=\"T_121d6_row2_col5\" class=\"data row2 col5\" >default_rocky_8</td>\n",
       "      <td id=\"T_121d6_row2_col6\" class=\"data row2 col6\" >qcow2</td>\n",
       "      <td id=\"T_121d6_row2_col7\" class=\"data row2 col7\" >wash-w1.fabric-testbed.net</td>\n",
       "      <td id=\"T_121d6_row2_col8\" class=\"data row2 col8\" >WASH</td>\n",
       "      <td id=\"T_121d6_row2_col9\" class=\"data row2 col9\" >rocky</td>\n",
       "      <td id=\"T_121d6_row2_col10\" class=\"data row2 col10\" >2001:400:a100:3020:f816:3eff:fe09:43dd</td>\n",
       "      <td id=\"T_121d6_row2_col11\" class=\"data row2 col11\" >Active</td>\n",
       "      <td id=\"T_121d6_row2_col12\" class=\"data row2 col12\" ></td>\n",
       "      <td id=\"T_121d6_row2_col13\" class=\"data row2 col13\" >ssh -i /home/fabric/work/fabric_config/slice_key -F /home/fabric/work/fabric_config/ssh_config rocky@2001:400:a100:3020:f816:3eff:fe09:43dd</td>\n",
       "      <td id=\"T_121d6_row2_col14\" class=\"data row2 col14\" >/home/fabric/work/fabric_config/slice_key.pub</td>\n",
       "      <td id=\"T_121d6_row2_col15\" class=\"data row2 col15\" >/home/fabric/work/fabric_config/slice_key</td>\n",
       "    </tr>\n",
       "  </tbody>\n",
       "</table>\n"
      ],
      "text/plain": [
       "<pandas.io.formats.style.Styler at 0x7f664474e610>"
      ]
     },
     "metadata": {},
     "output_type": "display_data"
    },
    {
     "data": {
      "text/html": [
       "<style type=\"text/css\">\n",
       "#T_7643d caption {\n",
       "  text-align: center;\n",
       "  font-size: 150%;\n",
       "  caption-side: top;\n",
       "}\n",
       "#T_7643d th {\n",
       "  text-align: left;\n",
       "}\n",
       "#T_7643d tr:nth-child(even) {\n",
       "  background: #ffffff;\n",
       "  color: #231f20;\n",
       "}\n",
       "#T_7643d tr:nth-child(odd) {\n",
       "  background: #dbf3ff;\n",
       "  color: #231f20;\n",
       "}\n",
       "#T_7643d .level0 {\n",
       "  border: 1px black solid !important;\n",
       "  background: #ffffff;\n",
       "  color: #231f20;\n",
       "}\n",
       "#T_7643d_row0_col0, #T_7643d_row0_col1, #T_7643d_row0_col2, #T_7643d_row0_col3, #T_7643d_row0_col4, #T_7643d_row0_col5, #T_7643d_row0_col6, #T_7643d_row0_col7, #T_7643d_row0_col8, #T_7643d_row1_col0, #T_7643d_row1_col1, #T_7643d_row1_col2, #T_7643d_row1_col3, #T_7643d_row1_col4, #T_7643d_row1_col5, #T_7643d_row1_col6, #T_7643d_row1_col7, #T_7643d_row1_col8 {\n",
       "  text-align: left;\n",
       "  border: 1px #231f20 solid !important;\n",
       "  overwrite: False;\n",
       "}\n",
       "</style>\n",
       "<table id=\"T_7643d\">\n",
       "  <caption>Networks</caption>\n",
       "  <thead>\n",
       "    <tr>\n",
       "      <th id=\"T_7643d_level0_col0\" class=\"col_heading level0 col0\" >ID</th>\n",
       "      <th id=\"T_7643d_level0_col1\" class=\"col_heading level0 col1\" >Name</th>\n",
       "      <th id=\"T_7643d_level0_col2\" class=\"col_heading level0 col2\" >Layer</th>\n",
       "      <th id=\"T_7643d_level0_col3\" class=\"col_heading level0 col3\" >Type</th>\n",
       "      <th id=\"T_7643d_level0_col4\" class=\"col_heading level0 col4\" >Site</th>\n",
       "      <th id=\"T_7643d_level0_col5\" class=\"col_heading level0 col5\" >Subnet</th>\n",
       "      <th id=\"T_7643d_level0_col6\" class=\"col_heading level0 col6\" >Gateway</th>\n",
       "      <th id=\"T_7643d_level0_col7\" class=\"col_heading level0 col7\" >State</th>\n",
       "      <th id=\"T_7643d_level0_col8\" class=\"col_heading level0 col8\" >Error</th>\n",
       "    </tr>\n",
       "  </thead>\n",
       "  <tbody>\n",
       "    <tr>\n",
       "      <td id=\"T_7643d_row0_col0\" class=\"data row0 col0\" >2da9028c-fdb4-468d-bc09-886974836b68</td>\n",
       "      <td id=\"T_7643d_row0_col1\" class=\"data row0 col1\" >fabnet1</td>\n",
       "      <td id=\"T_7643d_row0_col2\" class=\"data row0 col2\" >L3</td>\n",
       "      <td id=\"T_7643d_row0_col3\" class=\"data row0 col3\" >FABNetv4Ext</td>\n",
       "      <td id=\"T_7643d_row0_col4\" class=\"data row0 col4\" >WASH</td>\n",
       "      <td id=\"T_7643d_row0_col5\" class=\"data row0 col5\" >23.134.232.160/28</td>\n",
       "      <td id=\"T_7643d_row0_col6\" class=\"data row0 col6\" >23.134.232.161</td>\n",
       "      <td id=\"T_7643d_row0_col7\" class=\"data row0 col7\" >Active</td>\n",
       "      <td id=\"T_7643d_row0_col8\" class=\"data row0 col8\" ></td>\n",
       "    </tr>\n",
       "    <tr>\n",
       "      <td id=\"T_7643d_row1_col0\" class=\"data row1 col0\" >61fac8c8-c6c6-4154-b5d9-61cb34984327</td>\n",
       "      <td id=\"T_7643d_row1_col1\" class=\"data row1 col1\" >rcnf_facility_port</td>\n",
       "      <td id=\"T_7643d_row1_col2\" class=\"data row1 col2\" >L2</td>\n",
       "      <td id=\"T_7643d_row1_col3\" class=\"data row1 col3\" >L2Bridge</td>\n",
       "      <td id=\"T_7643d_row1_col4\" class=\"data row1 col4\" >WASH</td>\n",
       "      <td id=\"T_7643d_row1_col5\" class=\"data row1 col5\" >rcnf_facility_port.subnet</td>\n",
       "      <td id=\"T_7643d_row1_col6\" class=\"data row1 col6\" >rcnf_facility_port.gateway</td>\n",
       "      <td id=\"T_7643d_row1_col7\" class=\"data row1 col7\" >Active</td>\n",
       "      <td id=\"T_7643d_row1_col8\" class=\"data row1 col8\" ></td>\n",
       "    </tr>\n",
       "  </tbody>\n",
       "</table>\n"
      ],
      "text/plain": [
       "<pandas.io.formats.style.Styler at 0x7f6620756090>"
      ]
     },
     "metadata": {},
     "output_type": "display_data"
    },
    {
     "data": {
      "text/html": [
       "<style type=\"text/css\">\n",
       "#T_7643d caption {\n",
       "  text-align: center;\n",
       "  font-size: 150%;\n",
       "  caption-side: top;\n",
       "}\n",
       "#T_7643d th {\n",
       "  text-align: left;\n",
       "}\n",
       "#T_7643d tr:nth-child(even) {\n",
       "  background: #ffffff;\n",
       "  color: #231f20;\n",
       "}\n",
       "#T_7643d tr:nth-child(odd) {\n",
       "  background: #dbf3ff;\n",
       "  color: #231f20;\n",
       "}\n",
       "#T_7643d .level0 {\n",
       "  border: 1px black solid !important;\n",
       "  background: #ffffff;\n",
       "  color: #231f20;\n",
       "}\n",
       "#T_7643d_row0_col0, #T_7643d_row0_col1, #T_7643d_row0_col2, #T_7643d_row0_col3, #T_7643d_row0_col4, #T_7643d_row0_col5, #T_7643d_row0_col6, #T_7643d_row0_col7, #T_7643d_row0_col8, #T_7643d_row1_col0, #T_7643d_row1_col1, #T_7643d_row1_col2, #T_7643d_row1_col3, #T_7643d_row1_col4, #T_7643d_row1_col5, #T_7643d_row1_col6, #T_7643d_row1_col7, #T_7643d_row1_col8 {\n",
       "  text-align: left;\n",
       "  border: 1px #231f20 solid !important;\n",
       "  overwrite: False;\n",
       "}\n",
       "</style>\n",
       "<table id=\"T_7643d\">\n",
       "  <caption>Networks</caption>\n",
       "  <thead>\n",
       "    <tr>\n",
       "      <th id=\"T_7643d_level0_col0\" class=\"col_heading level0 col0\" >ID</th>\n",
       "      <th id=\"T_7643d_level0_col1\" class=\"col_heading level0 col1\" >Name</th>\n",
       "      <th id=\"T_7643d_level0_col2\" class=\"col_heading level0 col2\" >Layer</th>\n",
       "      <th id=\"T_7643d_level0_col3\" class=\"col_heading level0 col3\" >Type</th>\n",
       "      <th id=\"T_7643d_level0_col4\" class=\"col_heading level0 col4\" >Site</th>\n",
       "      <th id=\"T_7643d_level0_col5\" class=\"col_heading level0 col5\" >Subnet</th>\n",
       "      <th id=\"T_7643d_level0_col6\" class=\"col_heading level0 col6\" >Gateway</th>\n",
       "      <th id=\"T_7643d_level0_col7\" class=\"col_heading level0 col7\" >State</th>\n",
       "      <th id=\"T_7643d_level0_col8\" class=\"col_heading level0 col8\" >Error</th>\n",
       "    </tr>\n",
       "  </thead>\n",
       "  <tbody>\n",
       "    <tr>\n",
       "      <td id=\"T_7643d_row0_col0\" class=\"data row0 col0\" >2da9028c-fdb4-468d-bc09-886974836b68</td>\n",
       "      <td id=\"T_7643d_row0_col1\" class=\"data row0 col1\" >fabnet1</td>\n",
       "      <td id=\"T_7643d_row0_col2\" class=\"data row0 col2\" >L3</td>\n",
       "      <td id=\"T_7643d_row0_col3\" class=\"data row0 col3\" >FABNetv4Ext</td>\n",
       "      <td id=\"T_7643d_row0_col4\" class=\"data row0 col4\" >WASH</td>\n",
       "      <td id=\"T_7643d_row0_col5\" class=\"data row0 col5\" >23.134.232.160/28</td>\n",
       "      <td id=\"T_7643d_row0_col6\" class=\"data row0 col6\" >23.134.232.161</td>\n",
       "      <td id=\"T_7643d_row0_col7\" class=\"data row0 col7\" >Active</td>\n",
       "      <td id=\"T_7643d_row0_col8\" class=\"data row0 col8\" ></td>\n",
       "    </tr>\n",
       "    <tr>\n",
       "      <td id=\"T_7643d_row1_col0\" class=\"data row1 col0\" >61fac8c8-c6c6-4154-b5d9-61cb34984327</td>\n",
       "      <td id=\"T_7643d_row1_col1\" class=\"data row1 col1\" >rcnf_facility_port</td>\n",
       "      <td id=\"T_7643d_row1_col2\" class=\"data row1 col2\" >L2</td>\n",
       "      <td id=\"T_7643d_row1_col3\" class=\"data row1 col3\" >L2Bridge</td>\n",
       "      <td id=\"T_7643d_row1_col4\" class=\"data row1 col4\" >WASH</td>\n",
       "      <td id=\"T_7643d_row1_col5\" class=\"data row1 col5\" >rcnf_facility_port.subnet</td>\n",
       "      <td id=\"T_7643d_row1_col6\" class=\"data row1 col6\" >rcnf_facility_port.gateway</td>\n",
       "      <td id=\"T_7643d_row1_col7\" class=\"data row1 col7\" >Active</td>\n",
       "      <td id=\"T_7643d_row1_col8\" class=\"data row1 col8\" ></td>\n",
       "    </tr>\n",
       "  </tbody>\n",
       "</table>\n"
      ],
      "text/plain": [
       "<pandas.io.formats.style.Styler at 0x7f6620756090>"
      ]
     },
     "execution_count": 5,
     "metadata": {},
     "output_type": "execute_result"
    }
   ],
   "source": [
    "slice.list_nodes()\n",
    "slice.list_networks()\n"
   ]
  },
  {
   "cell_type": "markdown",
   "id": "0b6adac2-0187-4bf7-9845-1c29ce7a071a",
   "metadata": {},
   "source": [
    "## Get a Slice by ID\n",
    "\n",
    "You can get any slice using its slice ID.  Slice IDs are guaranteed to be unique so you can use them to get deleted and failed slices, as well as active ones. \n"
   ]
  },
  {
   "cell_type": "code",
   "execution_count": null,
   "id": "b495a088-c776-4c9a-93e9-d95595ce498c",
   "metadata": {},
   "outputs": [],
   "source": [
    "# Replace with valid slice ID\n",
    "slice_id='VAILD_SLICE_ID'\n",
    "\n",
    "try:\n",
    "    slice = fablib.get_slice(slice_id=slice_id)\n",
    "    slice.show();\n",
    "except Exception as e:\n",
    "    print(f\"Slice ID '{slice_id}' not found, Exception: \\n\\n{e}\")"
   ]
  },
  {
   "cell_type": "markdown",
   "id": "511cb0c6-e62e-4466-9981-11b52c3fae18",
   "metadata": {},
   "source": [
    "## Get all Slices\n",
    "\n",
    "By default this will get all the active slices and not get Dead and Closing slices."
   ]
  },
  {
   "cell_type": "code",
   "execution_count": null,
   "id": "72edf39c-75b7-4e56-b296-3f002fe4469f",
   "metadata": {},
   "outputs": [],
   "source": [
    "for slice in fablib.get_slices():\n",
    "     slice.show()"
   ]
  },
  {
   "cell_type": "markdown",
   "id": "eec0c561-ba73-4ba4-88ca-d63381264266",
   "metadata": {},
   "source": [
    "## Select Fields"
   ]
  },
  {
   "cell_type": "code",
   "execution_count": null,
   "id": "a109654e-4d38-406d-b429-096fc3e973ee",
   "metadata": {},
   "outputs": [],
   "source": [
    "slice_name='MySlice'\n",
    "\n",
    "slice = fablib.get_slice(name=slice_name)\n",
    "    \n",
    "slice.show(fields=['name','state']);"
   ]
  },
  {
   "cell_type": "markdown",
   "id": "0ed2166c-04df-4eb5-b692-3e253e98e608",
   "metadata": {},
   "source": [
    "## Output as Text"
   ]
  },
  {
   "cell_type": "code",
   "execution_count": null,
   "id": "f6f2d79d-a2d6-4620-9711-fafea7e4bab0",
   "metadata": {},
   "outputs": [],
   "source": [
    "slice_name='MySlice'\n",
    "\n",
    "slice = fablib.get_slice(name=slice_name)\n",
    "    \n",
    "output_string = slice.show(output='text')"
   ]
  },
  {
   "cell_type": "markdown",
   "id": "72e8068a-db36-45e5-994f-5a3bf4499303",
   "metadata": {},
   "source": [
    "## Output as JSON String"
   ]
  },
  {
   "cell_type": "code",
   "execution_count": null,
   "id": "1e670dff-5b62-4a6a-9a2c-051a4cc9552a",
   "metadata": {},
   "outputs": [],
   "source": [
    "slice_name='MySlice'\n",
    "\n",
    "slice = fablib.get_slice(name=slice_name)\n",
    "    \n",
    "output_json_string = slice.show(output='json')"
   ]
  },
  {
   "cell_type": "markdown",
   "id": "e42f017c-930a-467e-a139-053a5e564181",
   "metadata": {},
   "source": [
    "## Output as Python Dictionary"
   ]
  },
  {
   "cell_type": "code",
   "execution_count": null,
   "id": "04ceb045-9e9a-4707-9fd3-4ac89480e298",
   "metadata": {},
   "outputs": [],
   "source": [
    "slice_name='MySlice'\n",
    "\n",
    "slice = fablib.get_slice(name=slice_name)\n",
    "    \n",
    "output_dict = slice.show(output='dict')"
   ]
  },
  {
   "cell_type": "markdown",
   "id": "f3b8a7e4-1344-4471-a883-b36992756ac0",
   "metadata": {},
   "source": [
    "Use the information from the dictionary"
   ]
  },
  {
   "cell_type": "code",
   "execution_count": null,
   "id": "51a01531-8263-43b8-a392-3c837ba8e11e",
   "metadata": {},
   "outputs": [],
   "source": [
    "slice_name='MySlice'\n",
    "\n",
    "slice = fablib.get_slice(name=slice_name)\n",
    "    \n",
    "output_dict = slice.show(output='dict', quiet=True)\n",
    "    \n",
    "print(f\"{output_dict['name']}, {output_dict['state']}\")"
   ]
  },
  {
   "cell_type": "code",
   "execution_count": null,
   "id": "28a3c5f2-9f33-4b3b-965c-fb649289546b",
   "metadata": {},
   "outputs": [],
   "source": []
  }
 ],
 "metadata": {
  "kernelspec": {
   "display_name": "Python 3 (ipykernel)",
   "language": "python",
   "name": "python3"
  },
  "language_info": {
   "codemirror_mode": {
    "name": "ipython",
    "version": 3
   },
   "file_extension": ".py",
   "mimetype": "text/x-python",
   "name": "python",
   "nbconvert_exporter": "python",
   "pygments_lexer": "ipython3",
   "version": "3.11.2"
  }
 },
 "nbformat": 4,
 "nbformat_minor": 5
}
