{
 "cells": [
  {
   "cell_type": "markdown",
   "metadata": {},
   "source": [
    "# Creating FABnet IPv4 Ext Network: Manual Configuration\n",
    "\n",
    "FABRIC provides a pair of layer 3 IP networking services with external access across every FABRIC site (FABnetv4Ext and FABnetv6Ext). You can think of this service as a private internet that connects experiments across the testbed using FABRIC's high-performance network links and also provides external access. \n",
    "\n",
    "This notebook describes how to deploy the FABnetv4Ext service which is FABRIC's private IPv4 internet and configure the addresses manually, after the slice becomes active. The user can also enable/disable external access to specific IP addresses as requested.\n",
    "\n",
    "Due to limited IPv4 address space, a single subnet is used across a site for all the slices requesting FABnetv4Ext."
   ]
  },
  {
   "cell_type": "markdown",
   "metadata": {},
   "source": [
    "## Import the FABlib Library\n"
   ]
  },
  {
   "cell_type": "code",
   "execution_count": null,
   "metadata": {},
   "outputs": [],
   "source": [
    "from fabrictestbed_extensions.fablib.fablib import FablibManager as fablib_manager\n",
    "\n",
    "fablib = fablib_manager()\n",
    "                     \n",
    "fablib.show_config();"
   ]
  },
  {
   "cell_type": "markdown",
   "metadata": {
    "tags": []
   },
   "source": [
    "## Create the Experiment Slice\n",
    "\n",
    "The following creates two nodes, on different sites, with basic NICs connected to FABRIC's FABnetv4Ext internet.  \n",
    "\n",
    "Two nodes are created and one NIC component is added to each node.  This example uses components of model `NIC_Basic` which are SR-IOV Virtual Function on a 100 Gpbs Mellanox ConnectX-6 PCI device. The VF is accessed by the node via PCI passthrough. Other NIC models are listed below. When using dedicated PCI devices the whole physical device is allocated to one node and the device is accessed by the node using PCI passthrough. Calling the `get_interfaces()` method on a component will return a list of interfaces. Many dedicated NIC components may have more than one port.  Either port can be connected to the network.\n",
    "\n",
    "Next, add a separate `l3network` for each site and pass the list of interfaces on that site that you want to connect to FABnetv4Ext. All interfaces passed to `l3network` must be on the same site and each network will be placed on that site.  By default, a node is put on a random site.  If you want to ensure that your nodes are all on different sites you can specify the name of the sites in the `add_node` methode.  You can use the `fablib.get_random_site()` method to get a set of random site names that guarantee that the sites are different. \n",
    "\n",
    "Manual configuration does not require any additional steps before the slice request is submitted. \n",
    "\n",
    "\n",
    "NIC component models options:\n",
    "- NIC_Basic: 100 Gbps Mellanox ConnectX-6 SR-IOV VF (1 Port)\n",
    "- NIC_ConnectX_5: 25 Gbps Dedicated Mellanox ConnectX-5 PCI Device (2 Ports) \n",
    "- NIC_ConnectX_6: 100 Gbps Dedicated Mellanox ConnectX-6 PCI Device (2 Ports) \n",
    "\n"
   ]
  },
  {
   "cell_type": "code",
   "execution_count": null,
   "metadata": {},
   "outputs": [],
   "source": [
    "slice_name = 'MySlice'\n",
    "\n",
    "[site1,site2] = fablib.get_random_sites(count=2)\n",
    "print(f\"Sites: {site1}, {site2}\")\n",
    "\n",
    "node1_name = 'Node1'\n",
    "node2_name = 'Node2'\n",
    "\n",
    "network1_name='net1'\n",
    "network2_name='net2'\n",
    "\n",
    "node1_nic_name = 'nic1'\n",
    "node2_nic_name = 'nic2'"
   ]
  },
  {
   "cell_type": "code",
   "execution_count": null,
   "metadata": {
    "tags": []
   },
   "outputs": [],
   "source": [
    "#Create Slice\n",
    "slice = fablib.new_slice(name=slice_name)\n",
    "\n",
    "# Node1\n",
    "node1 = slice.add_node(name=node1_name, site=site1)\n",
    "iface1 = node1.add_component(model='NIC_Basic', name=node1_nic_name).get_interfaces()[0]\n",
    "\n",
    "# Node2\n",
    "node2 = slice.add_node(name=node2_name, site=site2)\n",
    "iface2  = node2.add_component(model='NIC_Basic', name=node2_nic_name).get_interfaces()[0]\n",
    "\n",
    "# NetworkS\n",
    "net1 = slice.add_l3network(name=network1_name, interfaces=[iface1], type='IPv4Ext')\n",
    "net2 = slice.add_l3network(name=network2_name, interfaces=[iface2], type='IPv4Ext')\n",
    "\n",
    "#Submit Slice Request\n",
    "slice.submit();"
   ]
  },
  {
   "cell_type": "markdown",
   "metadata": {
    "tags": []
   },
   "source": [
    "## Manually Configure IP Addresses\n",
    "\n",
    "Most users will want to configure IP addresses on their new nodes.  FABlib provides some useful methods to help you manually configure basic IP addresses. \n",
    "\n",
    "### Get the Assigned Subnet\n",
    "\n",
    "FABnetv4Ext networks are assigned a subnet and gateway by FABRIC.  You can get the subnet and available IPs from the FABlib objects. "
   ]
  },
  {
   "cell_type": "code",
   "execution_count": null,
   "metadata": {},
   "outputs": [],
   "source": [
    "slice=fablib.get_slice(name=slice_name)\n",
    "network1 = slice.get_network(name=network1_name)\n",
    "network1_available_ips = network1.get_available_ips()\n",
    "network1.show()\n",
    "\n",
    "network2 = slice.get_network(name=network2_name)\n",
    "network2_available_ips =  network2.get_available_ips()\n",
    "network2.show();"
   ]
  },
  {
   "cell_type": "markdown",
   "metadata": {},
   "source": [
    "## Request external access\n",
    "Users explicitly request the IP Adresses with external access. Due to limited IPv4 address space, a single subnet is used across a site for all the slices requesting FABnetv4Ext.\n",
    "\n",
    "\n",
    "NOTE: The first IP on the subnet is requested to be made public. If it is already in use, the next available IP is assigned and returned to the user. If none of the external IPs are available, an error is returned."
   ]
  },
  {
   "cell_type": "code",
   "execution_count": null,
   "metadata": {},
   "outputs": [],
   "source": [
    "try:\n",
    "    \n",
    "    # Enable Public IPv4 make_ip_publicly_routable\n",
    "    network1.make_ip_publicly_routable(ipv4=[str(network1_available_ips[0])])\n",
    "\n",
    "\n",
    "    # Enable Public IPv4 make_ip_publicly_routable\n",
    "    network2.make_ip_publicly_routable(ipv4=[str(network2_available_ips[0])])\n",
    "\n",
    "    slice.submit()\n",
    "\n",
    "except Exception as e:\n",
    "    print(f\"Exception: {e}\")\n",
    "    import traceback\n",
    "    traceback.print_exc()"
   ]
  },
  {
   "cell_type": "markdown",
   "metadata": {},
   "source": [
    "### Get latest Slice topology"
   ]
  },
  {
   "cell_type": "code",
   "execution_count": null,
   "metadata": {},
   "outputs": [],
   "source": [
    "slice = fablib.get_slice(slice_name)"
   ]
  },
  {
   "cell_type": "markdown",
   "metadata": {},
   "source": [
    "### Configure Node1\n",
    "\n",
    "Get the node and the interface you wish to configure.  You can use `node.get_interface` to get the interface that is connected to the specified network.  Then `pop` an IP address from the list of available public IPs and call `iface.ip_addr_add` to set the IP and subnet.  \n",
    "\n",
    "Then set a route from *this network* to the *other network* or *external world* through the specified gateway. \n",
    "\n",
    "NOTE: This route should not be made default route ensuring the management traffic is not disrupted or misdirected.\n",
    "\n",
    "\n",
    "Optionally, use the `node.execute()` method to show the results of adding the IP address and route.\n",
    "\n",
    "NOTE: If by any chance, routes are mis-configured or you have lost management IP access to your VM, please invoke: `node.os_reboot()` to revert all configuration.\n"
   ]
  },
  {
   "cell_type": "code",
   "execution_count": null,
   "metadata": {},
   "outputs": [],
   "source": [
    "node1 = slice.get_node(name=node1_name)        \n",
    "node1_iface = node1.get_interface(network_name=network1_name)  \n",
    "node1_addr = network1.get_public_ips()[0]\n",
    "node1_iface.ip_addr_add(addr=node1_addr, subnet=network1.get_subnet())\n",
    "\n",
    "node1.ip_route_add(subnet=network2.get_subnet(), gateway=network1.get_gateway())\n",
    "\n",
    "# Add route to external network\n",
    "stdout, stderr = node1.execute()\n",
    "stdout, stderr = node1.execute(f'sudo ip route add 0.0.0.0/0 via {network1.get_gateway()}')\n",
    "\n",
    "stdout, stderr = node1.execute(f'ip addr show {node1_iface.get_device_name()}')    \n",
    "stdout, stderr = node1.execute(f'ip route list')"
   ]
  },
  {
   "cell_type": "markdown",
   "metadata": {},
   "source": [
    "### Configure Node2\n",
    "\n",
    "Repeat the steps to add the next available IP to the second node and a route to the external network."
   ]
  },
  {
   "cell_type": "code",
   "execution_count": null,
   "metadata": {},
   "outputs": [],
   "source": [
    "node2 = slice.get_node(name=node2_name)        \n",
    "node2_iface = node2.get_interface(network_name=network2_name) \n",
    "node2_addr = network2.get_public_ips()[0]\n",
    "node2_iface.ip_addr_add(addr=node2_addr, subnet=network2.get_subnet())\n",
    "\n",
    "node2.ip_route_add(subnet=network1.get_subnet(), gateway=network2.get_gateway())\n",
    "\n",
    "# Add route to external network\n",
    "stdout, stderr = node2.execute(f'sudo ip route add 0.0.0.0/0 via {network2.get_gateway()}')\n",
    "\n",
    "\n",
    "stdout, stderr = node2.execute(f'ip addr show {node2_iface.get_device_name()}')\n",
    "stdout, stderr = node2.execute(f'ip route list')"
   ]
  },
  {
   "cell_type": "markdown",
   "metadata": {},
   "source": [
    "## Run the Experiment\n",
    "\n",
    "We will find the ping round trip time for this pair of sites and also ping round trip to an external website: `bing.com`.  Your experiment should be more interesting!\n"
   ]
  },
  {
   "cell_type": "code",
   "execution_count": null,
   "metadata": {},
   "outputs": [],
   "source": [
    "slice = fablib.get_slice(slice_name)\n",
    "\n",
    "node1 = slice.get_node(name=node1_name)        \n",
    "node2 = slice.get_node(name=node2_name)           \n",
    "\n",
    "node2_addr = node2.get_interface(network_name=network2_name).get_ip_addr()\n",
    "node1_addr = node1.get_interface(network_name=network1_name).get_ip_addr()"
   ]
  },
  {
   "cell_type": "code",
   "execution_count": null,
   "metadata": {},
   "outputs": [],
   "source": [
    "import subprocess\n",
    "\n",
    "def ping_ip(ip_address):\n",
    "    try:\n",
    "        result = subprocess.run(['ping', '-c', '4', ip_address], capture_output=True, text=True, check=True)\n",
    "        print(result.stdout)\n",
    "        return True\n",
    "    except subprocess.CalledProcessError:\n",
    "        return False"
   ]
  },
  {
   "cell_type": "markdown",
   "metadata": {},
   "source": [
    "### Ping Node1"
   ]
  },
  {
   "cell_type": "code",
   "execution_count": null,
   "metadata": {},
   "outputs": [],
   "source": [
    "ping_ip(str(node1_addr))"
   ]
  },
  {
   "cell_type": "markdown",
   "metadata": {},
   "source": [
    "### Ping Node2"
   ]
  },
  {
   "cell_type": "code",
   "execution_count": null,
   "metadata": {},
   "outputs": [],
   "source": [
    "ping_ip(str(node2_addr))"
   ]
  },
  {
   "cell_type": "markdown",
   "metadata": {},
   "source": [
    "## Delete the Slice\n",
    "\n",
    "Please delete your slice when you are done with your experiment."
   ]
  },
  {
   "cell_type": "code",
   "execution_count": null,
   "metadata": {},
   "outputs": [],
   "source": [
    "slice = fablib.get_slice(name=slice_name)\n",
    "slice.delete()"
   ]
  },
  {
   "cell_type": "code",
   "execution_count": null,
   "metadata": {},
   "outputs": [],
   "source": []
  }
 ],
 "metadata": {
  "kernelspec": {
   "display_name": "Python 3 (ipykernel)",
   "language": "python",
   "name": "python3"
  },
  "language_info": {
   "codemirror_mode": {
    "name": "ipython",
    "version": 3
   },
   "file_extension": ".py",
   "mimetype": "text/x-python",
   "name": "python",
   "nbconvert_exporter": "python",
   "pygments_lexer": "ipython3",
   "version": "3.10.6"
  }
 },
 "nbformat": 4,
 "nbformat_minor": 4
}
