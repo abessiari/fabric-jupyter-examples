{
 "cells": [
  {
   "cell_type": "markdown",
   "metadata": {},
   "source": [
    "# KNIT7\n",
    "\n",
    "## Check Installed Version of MFLib\n",
    "Important - You must restart this notebook kernel if install of MFLib has changed since this notebook was opened.\n",
    "If you need to install MFLib use ```pip install --user fabrictestbed-mflib```"
   ]
  },
  {
   "cell_type": "markdown",
   "metadata": {},
   "source": [
    "Run the following code to check if MFLib is installed and which version is installed."
   ]
  },
  {
   "cell_type": "code",
   "execution_count": null,
   "metadata": {},
   "outputs": [],
   "source": [
    "preferred_version = \"1.0.4\"\n",
    "try:\n",
    "    import mflib\n",
    "    print(f\"{mflib.__version__} mflib Package version \")\n",
    " \n",
    "    if preferred_version <= mflib.__version__:\n",
    "        print(\"Version is OK\")\n",
    "    else:\n",
    "        print(f\"WARNING! Version does not match preferred version of {preferred_version}. Some capabilities/methods may be incompatible with this tutorial.\")\n",
    "except Exception as e:\n",
    "    print(\"Failed to import MFLib. Has MFLib been installed? Has this notebook kernel been restarted since MFLib was installed?\")\n",
    "    print(e)"
   ]
  },
  {
   "cell_type": "markdown",
   "metadata": {},
   "source": [
    "If MFLib is not installed or if MFLib is an older version, uncomment out and run `pip install fabrictestbed-mflib` in the following cell."
   ]
  },
  {
   "cell_type": "code",
   "execution_count": null,
   "metadata": {},
   "outputs": [],
   "source": [
    "%%bash\n",
    "#pip install fabrictestbed-mflib "
   ]
  }
 ],
 "metadata": {
  "kernelspec": {
   "display_name": "Python 3 (ipykernel)",
   "language": "python",
   "name": "python3"
  },
  "language_info": {
   "codemirror_mode": {
    "name": "ipython",
    "version": 3
   },
   "file_extension": ".py",
   "mimetype": "text/x-python",
   "name": "python",
   "nbconvert_exporter": "python",
   "pygments_lexer": "ipython3",
   "version": "3.10.6"
  },
  "vscode": {
   "interpreter": {
    "hash": "916dbcbb3f70747c44a77c7bcd40155683ae19c65e1c03b4aa3499c5328201f1"
   }
  }
 },
 "nbformat": 4,
 "nbformat_minor": 4
}
