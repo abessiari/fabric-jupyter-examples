{
 "cells": [
  {
   "cell_type": "markdown",
   "metadata": {},
   "source": [
    "# KNIT7 One-way Latency Demo Part 1: Preparation\n",
    "### Create a non-MF slice with PTP for precise time measurements (3 nodes, IPv4 network)\n",
    "\n",
    "(This notebook is prepared specifically for KNIT7 \"OWL\" One-Way Latency Demo (part1) found [here](./knit7_owl_demo1.ipynb).)\n",
    "\n",
    "For running MF timestamp or OWL (one-way latency measurement) tools, slice nodes must meet prerequisites: \n",
    "\n",
    "+ Git and Dockerhub must be reachable \n",
    "+ Docker has to be running\n",
    "+ PTP (Precision Time Protocol) clock must be running/\n",
    "\n",
    "This notebook creates a 3-node slice and sets up all the the above\n",
    "\n",
    "**Last tested: 2023/09/15 by MH**"
   ]
  },
  {
   "cell_type": "markdown",
   "metadata": {},
   "source": [
    "## Import the FABlib Library\n"
   ]
  },
  {
   "cell_type": "code",
   "execution_count": null,
   "metadata": {},
   "outputs": [],
   "source": [
    "from fabrictestbed_extensions.fablib.fablib import FablibManager as fablib_manager\n",
    "\n",
    "try:\n",
    "    fablib = fablib_manager()\n",
    "                     \n",
    "    fablib.show_config()\n",
    "except Exception as e:\n",
    "    print(f\"Exception: {e}\")"
   ]
  },
  {
   "cell_type": "markdown",
   "metadata": {
    "tags": []
   },
   "source": [
    "## Create an Experiment Slice\n",
    "\n",
    "The following creates three nodes, on three PTP-capable sites, with basic NICs connected to FABRIC's FABnetv4 internet. "
   ]
  },
  {
   "cell_type": "code",
   "execution_count": null,
   "metadata": {},
   "outputs": [],
   "source": [
    "### TODO: Test this cell with the bleeding edge\n",
    "\n",
    "# slice_name=f\"KNIT7_slice\"\n",
    "# sites = []\n",
    "# avoid_sites = ['NCSA']\n",
    "# sites = fablib.get_random_sites(count=3,filter_function=lambda x:x['ptp_capable'] is True, avoid=(avoid_sites))\n",
    "\n",
    "# print (f\"PTP Capable sites selected are {sites}\")"
   ]
  },
  {
   "cell_type": "code",
   "execution_count": null,
   "metadata": {},
   "outputs": [],
   "source": [
    "slice_name = 'PTP_slice'\n",
    "\n",
    "# Choose a site only if it has a PTP-flag\n",
    "sites = []\n",
    "non_ptp_sites = []\n",
    "site_count = 3\n",
    "for i in range(1,site_count+1):\n",
    "    while True:\n",
    "        cur_site = (fablib.get_random_sites(avoid=(sites+non_ptp_sites+['EDC','UCSD', 'MICH']))).pop()\n",
    "       # print (cur_site)\n",
    "        ad = fablib.get_site_advertisement(cur_site)\n",
    "        if (ad.flags.ptp):\n",
    "            sites.append(cur_site)\n",
    "            print (f\"{cur_site} selected as site{i}\")\n",
    "            break\n",
    "        else:\n",
    "            print (f\"Ignoring non PTP Capable site {cur_site}\")\n",
    "            non_ptp_sites.append(cur_site)\n",
    "\n",
    "\n",
    "node1_name = 'Node1'\n",
    "node2_name = 'Node2'\n",
    "node3_name = 'Node3'\n"
   ]
  },
  {
   "cell_type": "code",
   "execution_count": null,
   "metadata": {},
   "outputs": [],
   "source": [
    "#Create Slice. add_fabnet() automatically adds an L3 interface on each node and assigns an IP address.\n",
    "\n",
    "slice = fablib.new_slice(name=slice_name)\n",
    "\n",
    "# Node1\n",
    "node1 = slice.add_node(name=node1_name, site=sites[0], image='docker_rocky_8')\n",
    "node1.add_fabnet()\n",
    "\n",
    "# Node2\n",
    "node2 = slice.add_node(name=node2_name, site=sites[1], image='docker_rocky_8')\n",
    "node2.add_fabnet()\n",
    "\n",
    "# Node3\n",
    "node3 = slice.add_node(name=node3_name, site=sites[2], image='docker_rocky_8')\n",
    "node3.add_fabnet()\n",
    "\n",
    "#Submit Slice Request\n",
    "slice.submit();"
   ]
  },
  {
   "cell_type": "markdown",
   "metadata": {
    "tags": []
   },
   "source": [
    "## (Optional) Observe the Slice's Attributes"
   ]
  },
  {
   "cell_type": "code",
   "execution_count": null,
   "metadata": {
    "tags": []
   },
   "outputs": [],
   "source": [
    "try:\n",
    "    slice = fablib.get_slice(name=slice_name)\n",
    "    slice.show()\n",
    "    slice.list_nodes()\n",
    "    slice.list_networks()\n",
    "    slice.list_interfaces()\n",
    "except Exception as e:\n",
    "    print(f\"Exception: {e}\")"
   ]
  },
  {
   "cell_type": "markdown",
   "metadata": {},
   "source": [
    "## Check connectivity via Experimenter's network\n",
    "\n",
    "The following checks Node1 --> Node2 and Node1 --> Node 3 as an example."
   ]
  },
  {
   "cell_type": "code",
   "execution_count": null,
   "metadata": {},
   "outputs": [],
   "source": [
    "try:\n",
    "    node1 = slice.get_node(name=node1_name)   \n",
    "    node2 = slice.get_node(name=node2_name)\n",
    "    node3 = slice.get_node(name=node3_name)\n",
    "    \n",
    "    node1_addr = node1.get_interface(network_name=f'FABNET_IPv4_{node1.get_site()}').get_ip_addr()\n",
    "    node2_addr = node2.get_interface(network_name=f'FABNET_IPv4_{node2.get_site()}').get_ip_addr()\n",
    "    node3_addr = node3.get_interface(network_name=f'FABNET_IPv4_{node3.get_site()}').get_ip_addr()\n",
    "    \n",
    "    node1.execute('hostname')\n",
    "    stdout, stderr = node1.execute(f'ping -c 5 {node2_addr}') \n",
    "    stdout, stderr = node1.execute(f'ping -c 5 {node3_addr}')  \n",
    "    \n",
    "    node2.execute('hostname')\n",
    "    stdout, stderr = node1.execute(f'ping -c 5 {node3_addr}')  \n",
    "\n",
    "    \n",
    "except Exception as e:\n",
    "    print(f\"Exception: {e}\")"
   ]
  },
  {
   "cell_type": "markdown",
   "metadata": {},
   "source": [
    "# Prepare each node for time precision experiments"
   ]
  },
  {
   "cell_type": "code",
   "execution_count": null,
   "metadata": {},
   "outputs": [],
   "source": [
    "nodes = slice.get_nodes()"
   ]
  },
  {
   "cell_type": "markdown",
   "metadata": {},
   "source": [
    "## Optimize repositories based on management network type (ipv4 vs ipv6)\n"
   ]
  },
  {
   "cell_type": "code",
   "execution_count": null,
   "metadata": {},
   "outputs": [],
   "source": [
    "nodes = slice.get_nodes()\n",
    "for node in nodes:\n",
    "    IPv6Management = False\n",
    "    ip_proto_index = \"4\"\n",
    "    commands = \"sudo ip -6 route del default via `ip -6 route show default|grep fe80|awk '{print $3}'` > /dev/null 2>&1\"\n",
    "    if node.validIPAddress(node.get_management_ip()) == \"IPv6\":\n",
    "        IPv6Management = True\n",
    "        ip_proto_index = \"6\"\n",
    "    if [ele for ele in [\"rocky\", \"centos\"] if (ele in node.get_image())]:\n",
    "        commands = (\n",
    "            f'sudo echo \"max_parallel_downloads=10\" |sudo tee -a /etc/dnf/dnf.conf;'\n",
    "            f'sudo echo \"fastestmirror=True\" |sudo tee -a /etc/dnf/dnf.conf;'\n",
    "            f'sudo echo \"ip_resolve='\n",
    "            + ip_proto_index\n",
    "            + '\" |sudo tee -a /etc/dnf/dnf.conf;'\n",
    "        )\n",
    "    elif [ele for ele in [\"ubuntu\", \"debian\"] if (ele in node.get_image())]:\n",
    "        commands = (\n",
    "            'sudo echo \"Acquire::ForceIPv'\n",
    "            + ip_proto_index\n",
    "            + ' \"true\";\" | sudo tee -a /etc/apt/apt.conf.d/1000-force-ipv'\n",
    "            + ip_proto_index\n",
    "            + \"-transport\"\n",
    "        )\n",
    "    if commands:\n",
    "        stdout, stderr = node.execute(commands, quiet=True)\n",
    "        print (f\"Optimizing Repos for {node.get_name()}\")\n",
    "        #print (f\"STDOUT: {stdout}\")\n",
    "        if stderr:\n",
    "            print (f\"STDERR: {stderr}\")"
   ]
  },
  {
   "cell_type": "markdown",
   "metadata": {},
   "source": [
    "## Set up PTP (Precision Time Protocol)\n",
    "\n",
    "This block can take a while to execute. If successful, it will print `Installation of PTP Completed`."
   ]
  },
  {
   "cell_type": "code",
   "execution_count": null,
   "metadata": {},
   "outputs": [],
   "source": [
    "pre_requisites = None\n",
    "\n",
    "clone_instructions = f\"\"\"\n",
    "cd /tmp/;git clone --filter=blob:none --no-checkout --depth 1 --sparse https://github.com/fabric-testbed/MeasurementFramework.git;\n",
    "cd /tmp/MeasurementFramework;git sparse-checkout add instrumentize/ptp/ansible;git checkout;\n",
    "\"\"\"\n",
    "\n",
    "ansible_instructions = f\"\"\"\n",
    "cd /tmp/MeasurementFramework/instrumentize/ptp/ansible;\n",
    "ansible-playbook --connection=local --inventory 127.0.0.1, --limit 127.0.0.1 playbook_fabric_experiment_ptp.yml;\n",
    "\"\"\"\n",
    "\n",
    "#Create execute threads\n",
    "execute_threads = {}\n",
    "\n",
    "for node in nodes:\n",
    "    if [ele for ele in [\"rocky\", \"centos\"] if (ele in node.get_image())]:\n",
    "        pre_requisites = f\"\"\"\n",
    "        sudo dnf -y install epel-release ; sudo dnf -y install ansible git; mkdir /tmp/ptp_ansible/;\n",
    "        \"\"\"\n",
    "    elif [ele for ele in [\"ubuntu\", \"debian\"] if (ele in node.get_image())]:\n",
    "        pre_requisites = f\"\"\"sudo apt-get update;sudo apt-get -y install ansible git;\"\"\"\n",
    "    else:\n",
    "        pre_requisites = None\n",
    "    print (f\"Installing PTP on {node.get_name()}\")\n",
    "    execute_threads[node] = node.execute_thread(\\\n",
    "                f\"{pre_requisites}\"\\\n",
    "                f\"{clone_instructions}\"\\\n",
    "                f\"{ansible_instructions}\",\\\n",
    "                output_file=f\"/tmp/{node.get_name()}_ptpinstall.log\"\\\n",
    "                )\n",
    "\n",
    "    #Wait for results from threads\n",
    "for node,thread in execute_threads.items():\n",
    "    print(f\"Waiting for result from node {node.get_name()}\")\n",
    "    stdout,stderr = thread.result()\n",
    "    #print(f\"stdout: {stdout}\")\n",
    "    #print(f\"stderr: {stderr}\")\n",
    "    #node.execute(f\"{pre_requisites}\"\\\n",
    "    #             f\"{ansible_instructions}\"\\\n",
    "    #            )\n",
    "\n",
    "print (f\"Installation of PTP Completed\\n\\n\")"
   ]
  },
  {
   "cell_type": "markdown",
   "metadata": {},
   "source": [
    "## Start Docker and verify it is running\n",
    "\n",
    "`docker ps` should print `CONTAINER ID   IMAGE     COMMAND   CREATED   STATUS    PORTS     NAMES`"
   ]
  },
  {
   "cell_type": "code",
   "execution_count": null,
   "metadata": {},
   "outputs": [],
   "source": [
    "for node in nodes:\n",
    "    node.execute(\"sudo systemctl start docker\")\n",
    "    node.execute(\"sudo systemctl enable docker\")\n",
    "    node.execute(\"sudo usermod -aG docker rocky\")\n",
    "    \n",
    "    print(f\"\\n Verify installtion... on {node.get_name()}\")\n",
    "    node.execute(\"docker ps\")"
   ]
  },
  {
   "cell_type": "markdown",
   "metadata": {
    "jp-MarkdownHeadingCollapsed": true,
    "tags": []
   },
   "source": [
    "# (Optional) Extend the slice (Add 14 days)"
   ]
  },
  {
   "cell_type": "code",
   "execution_count": null,
   "metadata": {},
   "outputs": [],
   "source": [
    "try:\n",
    "    slice = fablib.get_slice(name=slice_name)\n",
    "    print(f\"Lease End         : {slice.get_lease_end()}\")\n",
    "       \n",
    "except Exception as e:\n",
    "    print(f\"Exception: {e}\")"
   ]
  },
  {
   "cell_type": "code",
   "execution_count": null,
   "metadata": {},
   "outputs": [],
   "source": [
    "import datetime\n",
    "\n",
    "#Extend slice\n",
    "end_date = (datetime.datetime.now().astimezone() + datetime.timedelta(days=7)).strftime(\"%Y-%m-%d %H:%M:%S %z\")\n",
    "\n",
    "try:\n",
    "    slice = fablib.get_slice(name=slice_name)\n",
    "    slice.renew(end_date)\n",
    "    print(f\"New lease end date : {slice.get_lease_end()}\")\n",
    "    \n",
    "except Exception as e:\n",
    "    print(f\"Exception: {e}\")"
   ]
  },
  {
   "cell_type": "markdown",
   "metadata": {
    "jp-MarkdownHeadingCollapsed": true,
    "tags": []
   },
   "source": [
    "# Delete the Slice"
   ]
  },
  {
   "cell_type": "code",
   "execution_count": null,
   "metadata": {},
   "outputs": [],
   "source": [
    "# try:\n",
    "#     slice = fablib.get_slice(name=slice_name)\n",
    "#     slice.delete()\n",
    "# except Exception as e:\n",
    "#     print(f\"Exception: {e}\")"
   ]
  },
  {
   "cell_type": "code",
   "execution_count": null,
   "metadata": {},
   "outputs": [],
   "source": []
  }
 ],
 "metadata": {
  "kernelspec": {
   "display_name": "Python 3 (ipykernel)",
   "language": "python",
   "name": "python3"
  },
  "language_info": {
   "codemirror_mode": {
    "name": "ipython",
    "version": 3
   },
   "file_extension": ".py",
   "mimetype": "text/x-python",
   "name": "python",
   "nbconvert_exporter": "python",
   "pygments_lexer": "ipython3",
   "version": "3.10.6"
  }
 },
 "nbformat": 4,
 "nbformat_minor": 4
}
