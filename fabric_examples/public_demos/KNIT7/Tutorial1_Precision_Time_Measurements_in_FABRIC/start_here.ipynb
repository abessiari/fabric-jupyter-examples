{
 "cells": [
  {
   "cell_type": "markdown",
   "id": "7a19be59-0875-426a-8f59-46018842475e",
   "metadata": {},
   "source": [
    "# KNIT7 \n",
    "# Tutorial: Precision Time Measurements in FABRIC"
   ]
  },
  {
   "cell_type": "markdown",
   "id": "4e2d01cc-578d-4663-b8f0-0bd5238ff873",
   "metadata": {},
   "source": [
    "## Overview"
   ]
  },
  {
   "cell_type": "markdown",
   "id": "91d86ada-5c5b-4c33-9db2-5ae11e726797",
   "metadata": {},
   "source": [
    "#### In this tutorial, you will learn how to create a slice with the feature of precision timing enabled and experiments using the timestamp. You will also learn how to record the precision timestamp for packets and user-defined events, send the timestamp data to database such as InfluxDB and visualize the data using dashboards."
   ]
  },
  {
   "cell_type": "markdown",
   "id": "ecee4531-b0a6-4a73-86c3-aee1a3ef2670",
   "metadata": {
    "tags": []
   },
   "source": [
    "## Notebooks"
   ]
  },
  {
   "cell_type": "markdown",
   "id": "395575bb-2b20-4825-b6aa-53f3303ec7c6",
   "metadata": {},
   "source": [
    "1. [create a new Fabric slice](./knit7_create_topology.ipynb): Create a 4 node Fabric Slice\n",
    "2. [enable precision timing](./knit7_install_PTP.ipynb): Install the LinuxPTP software on all the nodes to enable precision timing\n",
    "3. [demonstrate use of Precision Timing](./knit7_demo_precision_timing.ipynb) Sample ping experiment with packet captures using precision Timing\n",
    "4. [record timestamp](./knit7_record_precision_timestamp.ipynb): Save packet/event timestamp data to json files\n",
    "5. [visualize timestamp data](./knit7_send_timestamp_to_influxdb.ipynb): Send timestamp data to InfluxDB and visualize it\n",
    "6. [delete the slice](./knit7_cleanup.ipynb): delete the experiment slice"
   ]
  },
  {
   "cell_type": "markdown",
   "id": "06d3e3ef-fad6-44bf-80c4-96c1cdc16dc4",
   "metadata": {},
   "source": [
    "## Run Sequence\n",
    "1 -> 2 -> 3 -> 4 -> 5 -> 6"
   ]
  }
 ],
 "metadata": {
  "kernelspec": {
   "display_name": "Python 3 (ipykernel)",
   "language": "python",
   "name": "python3"
  },
  "language_info": {
   "codemirror_mode": {
    "name": "ipython",
    "version": 3
   },
   "file_extension": ".py",
   "mimetype": "text/x-python",
   "name": "python",
   "nbconvert_exporter": "python",
   "pygments_lexer": "ipython3",
   "version": "3.10.6"
  }
 },
 "nbformat": 4,
 "nbformat_minor": 5
}
