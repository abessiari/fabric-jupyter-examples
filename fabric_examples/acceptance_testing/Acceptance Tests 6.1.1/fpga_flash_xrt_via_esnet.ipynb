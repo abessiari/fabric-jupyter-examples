{
 "cells": [
  {
   "cell_type": "markdown",
   "metadata": {
    "tags": []
   },
   "source": [
    "# Functional Test 6.1.1 - Return the FPGA back to XRT golden image using ESnet tools\n",
    "\n",
    "This Jupyter notebook will allow you to flash the FPGA from previously flashed ONS-based state to XRT-based state. It relies on ESnet workflow dockers to do so. It should not matter which experimenter artifact the dockers are based on so long as it is valid. After the completion a cold-boot is required to return FPGA to XRT state. \n",
    "\n",
    "This procedure can be used to reset the FPGA at a given site after experiments or initialize a newly installed device if the next user wants to use XRT and not ESnet workflow. It generally follows the procedures described by [ESnet](https://github.com/esnet/esnet-smartnic-fw/blob/main/sn-stack/README.INSTALL.md#optional-remove-the-esnet-smartnic-flash-image-from-the-fpga-card-to-revert-to-factory-image) for U280 devices. Note it refers to it as reverting to 'Factory Image', which for U280 is XRT. \n",
    "\n",
    "It is assumed you are operating as part of the FABRIC Maintenance project and have access to the persistent volume named `fpga-tools` created on EDC where releavent tools are downloaded.\n",
    "\n",
    "This notebook is broken up into steps and does not have to be executed in sequence. Note that unlike the [6.1.2 notebook](<../Acceptance Tests 6.1.2/fpga_flash_esnet.ipynb>) this one does not offer the ability to build ESnet docker images - if you need to do that, execute the appropriate steps in that other notebook first. \n",
    "\n",
    "- Step 2 Has multiple cells that initialize fablib and variables and creates a new slice\n",
    "  - The cells initializing the state __must always be executed__.\n",
    "  - Creating a slice is optional and can be skipped if slice already exists\n",
    "- Step 3 is a re-entrant cell and can be used any time you want to refresh information about the existing slice\n",
    "- Step 4 retrieves existing docker images built in Step 4 at a prior time. This is useful if you are reflashing multiple FPGAs with the same code - you can execute Step 5 once and the skip it for all further VMs simply retrieving the artifacts from Storage VM in this step\n",
    "- Step 5 that's the actual flashing and it involves identifying and rebooting the underlying server.\n",
    "- Step 6 is an optional 'extend the slice' step that can be excuted if Steps 2 and 3 have been executed.\n",
    "- Step 7 is 'delete the slice' that can be executed any time after Steps 2 and 3 have been executed.\n",
    " "
   ]
  },
  {
   "cell_type": "markdown",
   "metadata": {},
   "source": [
    "## Step 0: Re-create a VM attached to fpga-tools volume on EDC\n",
    "\n",
    "In order to have access to necessary tools execute the notebook to [re-create a Storage VM attached](../../fablib_api/fabric_fpgas/fpga_tools_storage.ipynb) to the `fpga-tools` persistent storage. You must execute it as a member of FABRIC Staff project. "
   ]
  },
  {
   "cell_type": "markdown",
   "metadata": {},
   "source": [
    "## Step 1: Identify and isolate the worker node\n",
    "\n",
    "Unless the whole site is already in maintenance, using administrator tools identify the worker node with FPGA and put it in maintenance making sure it does not have experimenter VMs on it. You can check the [aggregate ads in JSON](https://github.com/fabric-testbed/aggregate-ads/tree/main/JSON) to make sure you are targeting the right worker."
   ]
  },
  {
   "cell_type": "markdown",
   "metadata": {
    "tags": []
   },
   "source": [
    "## Step 2: Provision a VM on the desired worker with attached FPGA and FABNetv4 connection\n",
    "\n",
    "Create a slice with a VM attached to the FPGA on the desired site and a FABNetv4 interface to reach the Storage VM in Step 0."
   ]
  },
  {
   "cell_type": "markdown",
   "metadata": {},
   "source": [
    "### Initialize fablib and variables"
   ]
  },
  {
   "cell_type": "code",
   "execution_count": null,
   "metadata": {},
   "outputs": [],
   "source": [
    "# Initialize FABlib\n",
    "\n",
    "from fabrictestbed_extensions.fablib.fablib import FablibManager as fablib_manager\n",
    "\n",
    "fablib = fablib_manager()\n",
    "                     \n",
    "fablib.show_config();"
   ]
  },
  {
   "cell_type": "markdown",
   "metadata": {},
   "source": [
    "Define slice parameters - re-execute as needed to run any of the steps in this notebook."
   ]
  },
  {
   "cell_type": "code",
   "execution_count": null,
   "metadata": {},
   "outputs": [],
   "source": [
    "# user artifact should be deposited Storage VM into /mnt/fpga_tools/static/artifacts/<owner username>/<version> since names of artifacts may be similar or same.\n",
    "artifact_owner_username = 'msada'\n",
    "artifact_version = 'v2'\n",
    "\n",
    "# edit the name of the user-provided artifact and labtools and DPDK docker images stored in Storage VM as needed\n",
    "artifact = 'artifacts.au280.p4_only.0.zip'\n",
    "dpdk_image = 'smartnic-dpdk-docker.tar.gz'\n",
    "labtools_image = 'xilinx-labtools-docker-2023.1_0507_1903.tar.gz'\n",
    "\n",
    "# the image built from artifact usually has the same name regardless of the artifact\n",
    "artifact_image = 'esnet-smartnic-fw.tar.gz'\n",
    "sn_stack_tar = 'sn-stack.tar.gz'\n",
    "\n",
    "# Xilins labtools package in Storage VM\n",
    "labtools_package = 'Xilinx_Vivado_Lab_Lin_2023.1_0507_1903.tar.gz'\n",
    "\n",
    "# setup site name\n",
    "site='SRI'\n",
    "node_name='fpga-node'\n",
    "\n",
    "# FABNetv4 of storage VM - consult the Storage VM slice for this FABNetv4 IP address\n",
    "storage_vm_ip = \"10.132.142.2\"\n",
    "# username and password used in storage VM\n",
    "nginx_user = \"fpga_tools\"\n",
    "nginx_password = \"secret-password\"\n",
    "\n",
    "#\n",
    "# should not need to edit below\n",
    "FPGA_CHOICE='FPGA_Xilinx_U280'\n",
    "\n",
    "# name the slice and the node \n",
    "slice_name=f'Persistent esnet-smartnic slice with {FPGA_CHOICE} on {site}'\n",
    "print(f'Will create slice \"{slice_name}\" with node \"{node_name}\"')\n",
    "\n",
    "# don't edit - convert from FPGA type to a resource column name\n",
    "# to use in filter lambda function below\n",
    "choice_to_column = {\n",
    "    \"FPGA_Xilinx_U280\": \"fpga_u280_available\",\n",
    "}\n",
    "\n",
    "column_name = choice_to_column.get(FPGA_CHOICE, \"Unknown\")\n",
    "\n",
    "#fablib.get_image_names()"
   ]
  },
  {
   "cell_type": "markdown",
   "metadata": {},
   "source": [
    "### Create a new slice \n",
    "\n",
    "Create a slice with FPGA component on selected site and access to FABNetv4 network.\n",
    "\n",
    "__NOTE:__ It is important to use a Docker-enabled image so that Docker can properly build docker images on IPv6-enabled sites."
   ]
  },
  {
   "cell_type": "code",
   "execution_count": null,
   "metadata": {},
   "outputs": [],
   "source": [
    "# Create Slice. Note that by default submit() call will poll for 360 seconds every 10-20 seconds\n",
    "# waiting for slice to come up. Normal expected time is around 2 minutes. \n",
    "slice = fablib.new_slice(name=slice_name)\n",
    "image = 'docker_ubuntu_20'\n",
    "\n",
    "# Add node with a 200G drive and 8 of CPU cores using Ubuntu 20 image\n",
    "node = slice.add_node(name=node_name, site=site, cores=8, disk=200, image=image)\n",
    "node.add_component(model=FPGA_CHOICE, name='fpga1')\n",
    "# be sure to add FABNetv4 so we can communicate with the slice that has the tools\n",
    "node.add_fabnet()\n",
    "\n",
    "# use the postboot script from docker examples\n",
    "node.add_post_boot_upload_directory('../../fablib_api/docker_containers/node_tools','.')\n",
    "node.add_post_boot_execute('node_tools/enable_docker.sh {{ _self_.image }} ')\n",
    "node.add_post_boot_upload_directory('node_config','.')\n",
    "node.add_post_boot_execute(f'chmod a+x node_config/ipv6-and-docker-plugins.sh && node_config/ipv6-and-docker-plugins.sh')\n",
    "\n",
    "# Submit Slice Request\n",
    "slice.submit();"
   ]
  },
  {
   "cell_type": "markdown",
   "metadata": {},
   "source": [
    "Add storage VM into /etc/hosts for convenience. __Consult the storage slice for the FABNetv4 IPv4 address of that VM.__"
   ]
  },
  {
   "cell_type": "code",
   "execution_count": null,
   "metadata": {},
   "outputs": [],
   "source": [
    "slice = fablib.get_slice(slice_name)\n",
    "node = slice.get_node(name=node_name)   \n",
    "\n",
    "commands = list()\n",
    "commands.append(f\"echo {storage_vm_ip} fpga-tools-host | sudo tee -a /etc/hosts\")\n",
    "commands.append(f\"echo 127.0.0.1 {node_name} | sudo tee -a /etc/hosts\")\n",
    "\n",
    "for command in commands:\n",
    "    stdout, stderr = node.execute(command)"
   ]
  },
  {
   "cell_type": "markdown",
   "metadata": {},
   "source": [
    "## Step 3: Inspect the slice\n",
    "Note that nat64 configuration is done at boot time."
   ]
  },
  {
   "cell_type": "code",
   "execution_count": null,
   "metadata": {},
   "outputs": [],
   "source": [
    "slice = fablib.get_slice(slice_name)\n",
    "\n",
    "node = slice.get_node(name=node_name)              \n",
    "\n",
    "node_addr = node.get_interface(network_name=f'FABNET_IPv4_{node.get_site()}').get_ip_addr()\n",
    "\n",
    "slice.show()\n",
    "slice.list_nodes()\n",
    "slice.list_networks()\n",
    "print(f'Node FABNetV4 IP Address is {node_addr}')"
   ]
  },
  {
   "cell_type": "markdown",
   "metadata": {},
   "source": [
    "## Step 4: Retrieve docker images from Storage VM and install locally\n",
    "\n",
    "If you prebuilt the images and are just flashing a new FPGA, cells in this step will help you retrieve the previously built images from Storage VM and then install them into Docker on this VM.\n",
    "\n",
    "Most of the time you don't want to rebuild the DPDK and the Labtools images. You may need to build the image from user artifact, but if it is needed on multiple sites, it should be reused. You can select steps below as needed."
   ]
  },
  {
   "cell_type": "markdown",
   "metadata": {},
   "source": [
    "### Retrieve and install DPDK Docker image\n",
    "\n",
    "Retrieve previously built DPDK docker image and install it. Image names are set in the second cell of this notebook."
   ]
  },
  {
   "cell_type": "code",
   "execution_count": null,
   "metadata": {},
   "outputs": [],
   "source": [
    "# Retrieve the image and install it\n",
    "\n",
    "commands = list()\n",
    "commands.append(f'curl -k -u {nginx_user}:{nginx_password} https://fpga-tools-host/fpga-tools/smartnic-docker-images/{dpdk_image}  > {dpdk_image}')\n",
    "commands.append(f'docker load < {dpdk_image}')\n",
    "\n",
    "for command in commands:\n",
    "    print(f'Executing {command}')\n",
    "    stdout, stderr = node.execute(command)\n",
    "    \n",
    "print('Done')"
   ]
  },
  {
   "cell_type": "markdown",
   "metadata": {},
   "source": [
    "### Retrieve and install Xilinx Labtools docker image\n",
    "\n",
    "Retrieve previously built labtools docker image and install it. Image names are set in the second cell of this notebook."
   ]
  },
  {
   "cell_type": "code",
   "execution_count": null,
   "metadata": {},
   "outputs": [],
   "source": [
    "# Retrieve the image and install it\n",
    "\n",
    "commands = list()\n",
    "commands.append(f'curl -k -u {nginx_user}:{nginx_password} https://fpga-tools-host/fpga-tools/smartnic-docker-images/{labtools_image}  > {labtools_image}')\n",
    "commands.append(f'docker load < {labtools_image}')\n",
    "\n",
    "for command in commands:\n",
    "    print(f'Executing {command}')\n",
    "    stdout, stderr = node.execute(command)\n",
    "    \n",
    "print('Done')"
   ]
  },
  {
   "cell_type": "markdown",
   "metadata": {},
   "source": [
    "### Retrieve and install firmware image built from experimenter artifact\n",
    "Retrieve previously built firmware image and install it. "
   ]
  },
  {
   "cell_type": "code",
   "execution_count": null,
   "metadata": {},
   "outputs": [],
   "source": [
    "# Retrieve the image and install it\n",
    "\n",
    "commands = list()\n",
    "commands.append(f'curl -k -u {nginx_user}:{nginx_password} https://fpga-tools-host/fpga-tools/artifacts/{artifact_owner_username}/{artifact_version}/{artifact_image}  > {artifact_image}')\n",
    "commands.append(f'docker load < {artifact_image}')\n",
    "commands.append(f'curl -k -u {nginx_user}:{nginx_password} https://fpga-tools-host/fpga-tools/artifacts/{artifact_owner_username}/{artifact_version}/{sn_stack_tar}  > {sn_stack_tar}')\n",
    "commands.append(f'tar -zxf {sn_stack_tar}')\n",
    "\n",
    "for command in commands:\n",
    "    print(f'Executing {command}')\n",
    "    stdout, stderr = node.execute(command)\n",
    "    \n",
    "print('Done')"
   ]
  },
  {
   "cell_type": "markdown",
   "metadata": {},
   "source": [
    "### Check loaded docker images\n",
    "Prior to flashing/loading bitfile into RAM there should be three docker images which you either built directly or retrieved from Storage VM - __xilinx-labtools-docker, smartnic-dpdk-docker, and esnet-smartnic-fw__. They are always named this way so the docker compose in the flashing step can find them."
   ]
  },
  {
   "cell_type": "code",
   "execution_count": null,
   "metadata": {},
   "outputs": [],
   "source": [
    "command = 'docker image ls'\n",
    "\n",
    "stdout, stderr = node.execute(command)"
   ]
  },
  {
   "cell_type": "markdown",
   "metadata": {},
   "source": [
    "## Step 5: Flash the card (revert to factory XRT image)\n",
    "\n",
    "Here we continue to follow the instructions [here](https://github.com/esnet/esnet-smartnic-fw/blob/main/sn-stack/README.INSTALL.md#optional-remove-the-esnet-smartnic-flash-image-from-the-fpga-card-to-revert-to-factory-image)\n",
    "\n",
    "__Note:__ Prior to proceeding please be sure to follow these steps to open the iDrac interface of the server you are working on as it will need to be __cold rebooted__:\n",
    "\n",
    "1. Login to FABRIC VPN\n",
    "2. Login to the head node of the cluster on which this VM is created\n",
    "3. Login to the specific worker from the head node\n",
    "    - Use Step 3 of this notebook to locate the worker using `Host` column of the sliver table\n",
    "4. Run the following command to retrieve the asset tag: `cat /sys/class/dmi/id/chassis_serial` \n",
    "5. Login to the iDrac by using the [following formula](https://fabric-testbed.atlassian.net/wiki/spaces/FP/pages/1490812935/iDRAC+Setup): `192.168.<`[site index](https://fabric-testbed.atlassian.net/wiki/spaces/FP/pages/168624158/List+of+Hanks+FABRIC+Site+Information)`>.<100 + worker index>`.\n",
    "    - indi-w2.fabric-testbed.net -> 192.168.36.102 \n",
    "6. In the 'System Information' pane of iDrac compare the 'Service Tag' to the output of 4 above. This is to make sure we are rebooting the right server."
   ]
  },
  {
   "cell_type": "markdown",
   "metadata": {},
   "source": [
    "Verify the card is flashed with ONS - you should see two devices identified as 'Xilinx Corporation Device' 903f and 913f."
   ]
  },
  {
   "cell_type": "code",
   "execution_count": null,
   "metadata": {},
   "outputs": [],
   "source": [
    "command = 'lspci | grep Xilinx'\n",
    "stdout, stderr = node.execute(command)"
   ]
  },
  {
   "cell_type": "markdown",
   "metadata": {},
   "source": [
    "__Only flash the card back to XRT if ONS is present, otherwise abort by deleting the slice__"
   ]
  },
  {
   "cell_type": "code",
   "execution_count": null,
   "metadata": {},
   "outputs": [],
   "source": [
    "command = 'cd esnet-smartnic-fw/sn-stack/ && docker compose --profile smartnic-flash run --rm smartnic-flash-remove && docker compose down -v --remove-orphans'\n",
    "\n",
    "stdout, stderr = node.execute(command)"
   ]
  },
  {
   "cell_type": "markdown",
   "metadata": {},
   "source": [
    "After the process completes, shutoff the VM and __cold-reboot__ the worker node. "
   ]
  },
  {
   "cell_type": "code",
   "execution_count": null,
   "metadata": {},
   "outputs": [],
   "source": [
    "command = 'sudo /sbin/halt'\n",
    "\n",
    "stdout, stderr = node.execute(command)"
   ]
  },
  {
   "cell_type": "markdown",
   "metadata": {},
   "source": [
    "1. Use the iDrac console to perform a reboot (cold or warm)\n",
    "2. After the reboot completes delete the slice using Step 9\n",
    "3. Check on the worker node (no need to create a new VM). Generally you should see something like (Alveo Golden Image === XRT)\n",
    "```\n",
    "$ lspci | grep Xilinx\n",
    "25:00.0 Processing accelerators: Xilinx Corporation Alveo U280 Golden Image\n",
    "```"
   ]
  },
  {
   "cell_type": "markdown",
   "metadata": {},
   "source": [
    "## Step 7: Extend Slice"
   ]
  },
  {
   "cell_type": "markdown",
   "metadata": {},
   "source": [
    "Get slice details and extend the slice. This cell is optional and can be executed as-needed."
   ]
  },
  {
   "cell_type": "code",
   "execution_count": null,
   "metadata": {},
   "outputs": [],
   "source": [
    "slice = fablib.get_slice(name=slice_name)\n",
    "slice.show();"
   ]
  },
  {
   "cell_type": "markdown",
   "metadata": {},
   "source": [
    "Renew by 14 days"
   ]
  },
  {
   "cell_type": "code",
   "execution_count": null,
   "metadata": {},
   "outputs": [],
   "source": [
    "from datetime import datetime\n",
    "from datetime import timezone\n",
    "from datetime import timedelta\n",
    "\n",
    "# Set end host to now plus 14 days\n",
    "end_date = (datetime.now(timezone.utc) + timedelta(days=14)).strftime(\"%Y-%m-%d %H:%M:%S %z\")\n",
    "\n",
    "try:\n",
    "    slice = fablib.get_slice(name=slice_name)\n",
    "\n",
    "    slice.renew(end_date)\n",
    "except Exception as e:\n",
    "    print(f\"Exception: {e}\")"
   ]
  },
  {
   "cell_type": "markdown",
   "metadata": {},
   "source": [
    "## Step 8: Delete the slice\n",
    "\n",
    "Delete the slice after completing the programming."
   ]
  },
  {
   "cell_type": "code",
   "execution_count": null,
   "metadata": {},
   "outputs": [],
   "source": [
    "slice = fablib.get_slice(name=slice_name)\n",
    "slice.delete()"
   ]
  },
  {
   "cell_type": "code",
   "execution_count": null,
   "metadata": {},
   "outputs": [],
   "source": []
  }
 ],
 "metadata": {
  "kernelspec": {
   "display_name": "Python 3 (ipykernel)",
   "language": "python",
   "name": "python3"
  },
  "language_info": {
   "codemirror_mode": {
    "name": "ipython",
    "version": 3
   },
   "file_extension": ".py",
   "mimetype": "text/x-python",
   "name": "python",
   "nbconvert_exporter": "python",
   "pygments_lexer": "ipython3",
   "version": "3.10.6"
  }
 },
 "nbformat": 4,
 "nbformat_minor": 4
}
