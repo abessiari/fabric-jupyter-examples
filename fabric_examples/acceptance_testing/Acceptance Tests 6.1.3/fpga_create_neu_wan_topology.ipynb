{
 "cells": [
  {
   "cell_type": "markdown",
   "metadata": {
    "tags": []
   },
   "source": [
    "# Xilinx U280 - WAN experiment on FABRIC\n",
    "\n",
    "This Jupyter notebook will allow you create a WAN topology for an NEU experiment. \n",
    "\n",
    "https://github.com/OCT-FPGA/P4OpenNIC_Public\n",
    "\n",
    "It is assumed you are operating as part of the FABRIC Maintenance project and have access to the persistent volume named `fpga-tools` created on EDC where releavent tools are downloaded. "
   ]
  },
  {
   "cell_type": "markdown",
   "metadata": {},
   "source": [
    "## Step 0: Re-create a VM attached to fpga-tools volume on EDC\n",
    "\n",
    "In order to have access to necessary tools execute the notebook to [re-create a Storage VM attached](../../fablib_api/fabric_fpgas/fpga_tools_storage.ipynb) to the `fpga-tools` persistent storage. You must execute it as a member of FABRIC Staff project. "
   ]
  },
  {
   "cell_type": "markdown",
   "metadata": {},
   "source": [
    "## Step 1: Identify and isolate the worker node\n",
    "\n",
    "Unless the whole site is already in maintenance, using administrator tools identify the worker node with FPGA and put it in maintenance making sure it does not have experimenter VMs on it. You can check the [aggregate ads in JSON](https://github.com/fabric-testbed/aggregate-ads/tree/main/JSON) to make sure you are targeting the right worker."
   ]
  },
  {
   "cell_type": "markdown",
   "metadata": {
    "tags": []
   },
   "source": [
    "## Step 2: Provision a VM on the desired worker with attached FPGA and FABNetv4 connection\n",
    "\n",
    "Create a slice with a VM attached to the FPGA on the desired site and a FABNetv4 interface to reach the Storage VM in Step 0."
   ]
  },
  {
   "cell_type": "markdown",
   "metadata": {},
   "source": [
    "### Initialize fablib and variables"
   ]
  },
  {
   "cell_type": "code",
   "execution_count": null,
   "metadata": {},
   "outputs": [],
   "source": [
    "# Initialize FABlib\n",
    "\n",
    "from fabrictestbed_extensions.fablib.fablib import FablibManager as fablib_manager\n",
    "\n",
    "fablib = fablib_manager()\n",
    "                     \n",
    "fablib.show_config();"
   ]
  },
  {
   "cell_type": "markdown",
   "metadata": {},
   "source": [
    "Define slice parameters - re-execute as needed to run any of the steps in this notebook."
   ]
  },
  {
   "cell_type": "code",
   "execution_count": null,
   "metadata": {},
   "outputs": [],
   "source": [
    "# user artifact should be deposited Storage VM into /mnt/fpga_tools/static/artifacts/<owner username>/<version> since names of artifacts may be similar or same.\n",
    "artifact_owner_username = 'sbal'\n",
    "artifact_version = 'v1'\n",
    "\n",
    "# edit the name of the user-provided artifact and labtools and DPDK docker images stored in Storage VM as needed\n",
    "artifact = 'addhdr_jumbo.mcs'\n",
    "\n",
    "# Xilinx labtools package in Storage VM\n",
    "labtools_package = 'Vivado/Vivado_Lab_Lin_2023.2_1013_2256.tar.gz'\n",
    "\n",
    "# Xilinx xbflash2 package in Storage VM\n",
    "xbflash2_package = 'alveo-packages/xrt_202210.2.13.466_20.04-amd64-xbflash2.deb'\n",
    "\n",
    "# Xilinx xrt package in Storage VM\n",
    "xrt_package = 'alveo-packages/xrt_202320.2.16.204_20.04-amd64-xrt.deb'\n",
    "\n",
    "# Pcimem configDPDK.sh script in Storage VM\n",
    "configdpdk_script = 'alveo-utilities/configDPDK.sh'\n",
    "\n",
    "# FABNetv4 of storage VM - consult the Storage VM slice for this FABNetv4 IP address\n",
    "storage_vm_ip = \"10.132.129.2\"\n",
    "# username and password used in storage VM\n",
    "nginx_user = \"fpga_tools\"\n",
    "nginx_password = \"secret-password\"\n",
    "\n",
    "#\n",
    "# should not need to edit below\n",
    "FPGA_CHOICE='FPGA_Xilinx_U280'\n",
    "\n",
    "\n",
    "# don't edit - convert from FPGA type to a resource column name\n",
    "# to use in filter lambda function below\n",
    "choice_to_column = {\n",
    "    \"FPGA_Xilinx_U280\": \"fpga_u280_available\",\n",
    "}\n",
    "\n",
    "column_name = choice_to_column.get(FPGA_CHOICE, \"Unknown\")\n",
    "\n",
    "fpga_bdf = \"0000:1f:00.0\"\n",
    "\n",
    "#fablib.get_image_names()"
   ]
  },
  {
   "cell_type": "code",
   "execution_count": null,
   "metadata": {},
   "outputs": [],
   "source": [
    "# setup site name\n",
    "site1='PSC'\n",
    "node_name1='fpga-node-1'\n",
    "\n",
    "site2='INDI'\n",
    "node_name2='fpga-node-2'\n",
    "\n",
    "# name the slice and the node \n",
    "slice_name=f'WAN experiment with {FPGA_CHOICE} on {site1} {site2}'\n",
    "print(f'Will create slice \"{slice_name}\"')\n"
   ]
  },
  {
   "cell_type": "markdown",
   "metadata": {},
   "source": [
    "### Create a new slice \n",
    "\n",
    "Create a slice with FPGA component on selected site and access to FABNetv4 network.\n",
    "\n",
    "__NOTE:__ It is important to use a Docker-enabled image so that Docker can properly build docker images on IPv6-enabled sites."
   ]
  },
  {
   "cell_type": "code",
   "execution_count": null,
   "metadata": {},
   "outputs": [],
   "source": [
    "# Create Slice. Note that by default submit() call will poll for 360 seconds every 10-20 seconds\n",
    "# waiting for slice to come up. Normal expected time is around 2 minutes. \n",
    "slice = fablib.new_slice(name=slice_name)\n",
    "image = 'docker_ubuntu_20'"
   ]
  },
  {
   "cell_type": "code",
   "execution_count": null,
   "metadata": {},
   "outputs": [],
   "source": [
    "# Add node with a 200G drive and 8 of CPU cores using Ubuntu 20 image\n",
    "node1 = slice.add_node(name=node_name1, site=site1, cores=8, disk=100, image=image)\n",
    "node1_fpga = node1.add_component(model=FPGA_CHOICE, name='fpga1')\n",
    "node1_fpga_p1 = node1_fpga.get_interfaces()[0]\n",
    "node1_fpga_p2 = node1_fpga.get_interfaces()[1]\n",
    "\n",
    "# be sure to add FABNetv4 so we can communicate with the slice that has the tools\n",
    "node1.add_fabnet()\n",
    "\n",
    "# use the postboot script from docker examples\n",
    "node1.add_post_boot_upload_directory('../../fablib_api/docker_containers/node_tools','.')\n",
    "node1.add_post_boot_execute('node_tools/enable_docker.sh {{ _self_.image }} ')\n",
    "node1.add_post_boot_upload_directory('node_config','.')\n",
    "node1.add_post_boot_execute(f'chmod a+x node_config/ipv6-and-docker-plugins.sh && node_config/ipv6-and-docker-plugins.sh')"
   ]
  },
  {
   "cell_type": "code",
   "execution_count": null,
   "metadata": {},
   "outputs": [],
   "source": [
    "# Add node with a 200G drive and 8 of CPU cores using Ubuntu 20 image\n",
    "node2 = slice.add_node(name=node_name2, site=site2, cores=8, disk=100, image=image)\n",
    "node2_fpga = node2.add_component(model=FPGA_CHOICE, name='fpga2')\n",
    "node2_fpga_p1 = node2_fpga.get_interfaces()[0]\n",
    "node2_fpga_p2 = node2_fpga.get_interfaces()[1]\n",
    "\n",
    "# be sure to add FABNetv4 so we can communicate with the slice that has the tools\n",
    "node2.add_fabnet()\n",
    "\n",
    "# use the postboot script from docker examples\n",
    "node2.add_post_boot_upload_directory('../../fablib_api/docker_containers/node_tools','.')\n",
    "node2.add_post_boot_execute('node_tools/enable_docker.sh {{ _self_.image }} ')\n",
    "node2.add_post_boot_upload_directory('node_config','.')\n",
    "node2.add_post_boot_execute(f'chmod a+x node_config/ipv6-and-docker-plugins.sh && node_config/ipv6-and-docker-plugins.sh')"
   ]
  },
  {
   "cell_type": "code",
   "execution_count": null,
   "metadata": {},
   "outputs": [],
   "source": [
    "#nic1_name='SharedNIC1'\n",
    "#nic2_name='SharedNIC2'\n",
    "#nic_type='NIC_Basic'\n",
    "#network1_name='l3-FABNetv4-1'\n",
    "#network2_name='l3-FABNetv4-2'\n",
    "\n",
    "#node1_fabnet_iface = node1.add_component(model=nic_type, name=nic1_name).get_interfaces()[0]\n",
    "#node2_fabnet_iface = node2.add_component(model=nic_type, name=nic2_name).get_interfaces()[0]\n",
    "\n",
    "## Networks (one in each site)\n",
    "#net1 = slice.add_l3network(name=network1_name, interfaces=[node1_fabnet_iface], type='IPv4')\n",
    "#net2 = slice.add_l3network(name=network2_name, interfaces=[node2_fabnet_iface], type='IPv4')"
   ]
  },
  {
   "cell_type": "code",
   "execution_count": null,
   "metadata": {},
   "outputs": [],
   "source": [
    "# Submit Slice Request\n",
    "slice.submit();"
   ]
  },
  {
   "cell_type": "markdown",
   "metadata": {},
   "source": [
    "Add storage VM into /etc/hosts for convenience. __Consult the storage slice for the FABNetv4 IPv4 address of that VM.__"
   ]
  },
  {
   "cell_type": "code",
   "execution_count": null,
   "metadata": {},
   "outputs": [],
   "source": [
    "slice = fablib.get_slice(slice_name)\n",
    "\n",
    "for node in slice.get_nodes():\n",
    "   node_name = node.get_name()\n",
    "   print(f\"{node_name}\")\n",
    "\n",
    "   commands = list()\n",
    "   commands.append(f\"echo {storage_vm_ip} fpga-tools-host | sudo tee -a /etc/hosts\")\n",
    "   commands.append(f\"echo 127.0.0.1 {node_name} | sudo tee -a /etc/hosts\")\n",
    "\n",
    "   for command in commands:\n",
    "      stdout, stderr = node.execute(command)"
   ]
  },
  {
   "cell_type": "markdown",
   "metadata": {},
   "source": [
    "## Step 3: Inspect the slice\n",
    "Note that nat64 configuration is done at boot time."
   ]
  },
  {
   "cell_type": "code",
   "execution_count": null,
   "metadata": {},
   "outputs": [],
   "source": [
    "slice = fablib.get_slice(slice_name)\n",
    "\n",
    "for node in slice.get_nodes():\n",
    "   node_name = node.get_name()\n",
    "   node_addr = node.get_interface(network_name=f'FABNET_IPv4_{node.get_site()}').get_ip_addr()\n",
    "\n",
    "   print(f\"{node_name}\")\n",
    "   print(f'Node FABNetV4 IP Address is {node_addr}')\n",
    "\n",
    "slice.show()\n",
    "slice.list_nodes()\n",
    "slice.list_networks()"
   ]
  },
  {
   "cell_type": "markdown",
   "metadata": {},
   "source": [
    "## Step 4: Modify slice\n",
    "Add FPGAs"
   ]
  },
  {
   "cell_type": "code",
   "execution_count": null,
   "metadata": {},
   "outputs": [],
   "source": [
    "#slice = fablib.get_slice(slice_name)\n",
    "\n",
    "#node1 = slice.get_node(name=node_name1)              \n",
    "#node2 = slice.get_node(name=node_name2)              \n",
    "\n",
    "#print(f\"{node1.get_interfaces()[0]}\")\n",
    "#print(f\"{node1.get_interfaces()[1]}\")\n",
    "#print(f\"{node1.get_interfaces()[2]}\")\n",
    "\n",
    "#print(f\"{node2.get_interfaces()[0]}\")\n",
    "#print(f\"{node2.get_interfaces()[1]}\")\n",
    "#print(f\"{node2.get_interfaces()[2]}\")\n",
    "\n",
    "#fpga_n1_p1 = node1.get_interfaces()[0]\n",
    "#fpga_n2_p1 = node2.get_interfaces()[0]\n",
    "\n",
    "print(f\"--- node1_fpga_p1:\\n{node1_fpga_p1}\")\n",
    "print(f\"--- node1_fpga_p2:\\n{node1_fpga_p2}\")\n",
    "\n",
    "print(f\"--- node2_fpga_p1:\\n{node2_fpga_p1}\")\n",
    "print(f\"--- node2_fpga_p2:\\n{node2_fpga_p2}\")\n",
    "\n"
   ]
  },
  {
   "cell_type": "code",
   "execution_count": null,
   "metadata": {},
   "outputs": [],
   "source": [
    "from ipaddress import ip_address, IPv4Address, IPv6Address, IPv4Network, IPv6Network\n",
    "import ipaddress\n",
    "\n",
    "network1_name='net1'\n",
    "\n",
    "port1 = node1_fpga_p2\n",
    "port2 = node2_fpga_p1\n",
    "\n",
    "# Use L2Bridge network services to connect the smart NIC and the FPGA ports\n",
    "net1 = slice.add_l2network(name=network1_name, interfaces=[port1, port2], subnet=IPv4Network(\"192.168.40.0/24\"), type='L2STS')\n",
    "\n",
    "###net1 = slice.add_l2network(name=network1_name, subnet=IPv4Network(\"192.168.40.0/24\"), type='L2STS')\n",
    "###net1.add_interface(node1_fpga_p1)\n",
    "###net1.add_interface(node2_fpga_p1)\n"
   ]
  },
  {
   "cell_type": "code",
   "execution_count": null,
   "metadata": {},
   "outputs": [],
   "source": [
    "slice.submit()"
   ]
  },
  {
   "cell_type": "markdown",
   "metadata": {},
   "source": [
    "# Slice Info"
   ]
  },
  {
   "cell_type": "markdown",
   "metadata": {},
   "source": [
    "## Slice"
   ]
  },
  {
   "cell_type": "code",
   "execution_count": null,
   "metadata": {},
   "outputs": [],
   "source": [
    "slice = fablib.get_slice(name=slice_name)\n",
    "slice.show();"
   ]
  },
  {
   "cell_type": "markdown",
   "metadata": {},
   "source": [
    "## Nodes and Components"
   ]
  },
  {
   "cell_type": "code",
   "execution_count": null,
   "metadata": {},
   "outputs": [],
   "source": [
    "node = slice.get_node(node_name1) \n",
    "node.show()\n",
    "\n",
    "fpga = node.get_component('fpga1')\n",
    "fpga.show();\n",
    "\n",
    "print(f\"--- fpga_p1:\\n{fpga.get_interfaces()[0]}\")\n",
    "print(f\"--- fpga_p2:\\n{fpga.get_interfaces()[1]}\")"
   ]
  },
  {
   "cell_type": "code",
   "execution_count": null,
   "metadata": {},
   "outputs": [],
   "source": [
    "node = slice.get_node(node_name2) \n",
    "node.show()\n",
    "\n",
    "fpga = node.get_component('fpga2')\n",
    "fpga.show();\n",
    "\n",
    "print(f\"--- fpga_p1:\\n{fpga.get_interfaces()[0]}\")\n",
    "print(f\"--- fpga_p2:\\n{fpga.get_interfaces()[1]}\")"
   ]
  },
  {
   "cell_type": "markdown",
   "metadata": {
    "tags": []
   },
   "source": [
    "## Step 5: Fetch Tools\n",
    "\n",
    "Fetch the Linux tools from Xilinx and place into appropriate location"
   ]
  },
  {
   "cell_type": "markdown",
   "metadata": {
    "tags": []
   },
   "source": [
    "Clone OCT-FPGA repo"
   ]
  },
  {
   "cell_type": "code",
   "execution_count": null,
   "metadata": {},
   "outputs": [],
   "source": [
    "# checkout the repo\n",
    "tools_neu_repo = 'https://github.com/OCT-FPGA/P4OpenNIC_Public.git'\n",
    "\n",
    "commands = list()\n",
    "commands.append(f'[ ! -d ~/fpga-tools ] && mkdir -p ~/fpga-tools')\n",
    "commands.append(f'cd fpga-tools && git clone {tools_neu_repo}')\n",
    "\n",
    "for node in slice.get_nodes():\n",
    "   node_name = node.get_name()\n",
    "   for command in commands:\n",
    "      print(f'--- Node {node_name}: Executing command: {command}')\n",
    "      stdout, stderr = node.execute(command)\n",
    "   print('--- Done')"
   ]
  },
  {
   "cell_type": "markdown",
   "metadata": {
    "tags": []
   },
   "source": [
    "Clone pcimem repo"
   ]
  },
  {
   "cell_type": "code",
   "execution_count": null,
   "metadata": {},
   "outputs": [],
   "source": [
    "# checkout the repo - pcimem\n",
    "pcimem_repo = 'https://github.com/billfarrow/pcimem.git'\n",
    "\n",
    "commands = list()\n",
    "commands.append(f'[ ! -d ~/fpga-tools ] && mkdir -p fpga-tools')\n",
    "commands.append(f'cd fpga-tools && git clone {pcimem_repo}')\n",
    "\n",
    "for node in slice.get_nodes():\n",
    "   node_name = node.get_name()\n",
    "   for command in commands:\n",
    "      print(f'--- Node {node_name}: Executing command: {command}')\n",
    "      stdout, stderr = node.execute(command)\n",
    "   print('--- Done')"
   ]
  },
  {
   "cell_type": "markdown",
   "metadata": {},
   "source": [
    "Copy configDPDK.sh from the Storage VM"
   ]
  },
  {
   "cell_type": "code",
   "execution_count": null,
   "metadata": {},
   "outputs": [],
   "source": [
    "import os.path\n",
    "\n",
    "tools_location = '~/fpga-tools'\n",
    "\n",
    "commands = list()\n",
    "commands.append(f'[ ! -d {tools_location} ] && mkdir -p {tools_location}')\n",
    "commands.append(f'curl -k -u {nginx_user}:{nginx_password} https://fpga-tools-host/fpga-tools/{configdpdk_script}  > {tools_location}/{os.path.basename(configdpdk_script)}')\n",
    "commands.append(f'chmod +x {tools_location}/{os.path.basename(configdpdk_script)}')\n",
    "\n",
    "for node in slice.get_nodes():\n",
    "   node_name = node.get_name()\n",
    "   for command in commands:\n",
    "      print(f'--- Node {node_name}: Executing command: {command}')\n",
    "      stdout, stderr = node.execute(command)\n",
    "   print('--- Done')"
   ]
  },
  {
   "cell_type": "markdown",
   "metadata": {},
   "source": [
    "Clone open-nic-driver repo"
   ]
  },
  {
   "cell_type": "code",
   "execution_count": null,
   "metadata": {},
   "outputs": [],
   "source": [
    "# checkout the repo - open-nic-driver\n",
    "opennicdriver_repo = 'https://github.com/Xilinx/open-nic-driver.git'\n",
    "\n",
    "commands = list()\n",
    "commands.append(f'[ ! -d ~/fpga-tools ] && mkdir -p fpga-tools')\n",
    "commands.append(f'cd ~/fpga-tools && git clone {opennicdriver_repo}')\n",
    "commands.append(f'cd ~/fpga-tools/open-nic-driver && git checkout 2fa9668')\n",
    "\n",
    "for node in slice.get_nodes():\n",
    "   node_name = node.get_name()\n",
    "   for command in commands:\n",
    "      print(f'--- Node {node_name}: Executing command: {command}')\n",
    "      stdout, stderr = node.execute(command)\n",
    "   print('--- Done')"
   ]
  },
  {
   "cell_type": "markdown",
   "metadata": {},
   "source": [
    "Update packages"
   ]
  },
  {
   "cell_type": "code",
   "execution_count": null,
   "metadata": {},
   "outputs": [],
   "source": [
    "commands = list()\n",
    "commands.append(f'(sudo apt -y update && sudo apt -y upgrade) &> /tmp/fpga-apt-upgrade.log')\n",
    "\n",
    "for node in slice.get_nodes():\n",
    "   node_name = node.get_name()\n",
    "   for command in commands:\n",
    "      print(f'--- Node {node_name}: Executing command: {command}')\n",
    "      stdout, stderr = node.execute(command)\n",
    "   print('--- Done')"
   ]
  },
  {
   "cell_type": "markdown",
   "metadata": {},
   "source": [
    "Reboot"
   ]
  },
  {
   "cell_type": "code",
   "execution_count": null,
   "metadata": {},
   "outputs": [],
   "source": [
    "reboot = 'sudo reboot'\n",
    "\n",
    "try:\n",
    "   for node in slice.get_nodes():\n",
    "      node_name = node.get_name()\n",
    "      print(f'--- Node {node_name}: reboot')\n",
    "      node.execute(reboot)\n",
    "      slice.wait_ssh(timeout=360,interval=10,progress=True)\n",
    "\n",
    "      print(\"Now testing SSH abilites to reconnect...\",end=\"\")\n",
    "      slice.update()\n",
    "      slice.test_ssh()\n",
    "      print(\"Reconnected!\")\n",
    "       \n",
    "except Exception as e:\n",
    "    print(f\"Fail: {e}\")  \n",
    "\n",
    "for node in slice.get_nodes():\n",
    "   node_name = node.get_name()\n",
    "   print(f'--- Node {node_name}: node.config')\n",
    "   node.config()\n",
    "   print(\"--- Done\")  "
   ]
  },
  {
   "cell_type": "markdown",
   "metadata": {},
   "source": [
    "Install tools (add various package installations to this section)"
   ]
  },
  {
   "cell_type": "code",
   "execution_count": null,
   "metadata": {},
   "outputs": [],
   "source": [
    "commands = list()\n",
    "commands.append(f'sudo apt install -y hping3 &> /tmp/fpga-apt-tools.log')\n",
    "\n",
    "for node in slice.get_nodes():\n",
    "   node_name = node.get_name()\n",
    "   for command in commands:\n",
    "      print(f'--- Node {node_name}: Executing command: {command}')\n",
    "      stdout, stderr = node.execute(command)\n",
    "   print('--- Done')"
   ]
  },
  {
   "cell_type": "markdown",
   "metadata": {},
   "source": [
    "Install kernel-headers"
   ]
  },
  {
   "cell_type": "code",
   "execution_count": null,
   "metadata": {},
   "outputs": [],
   "source": [
    "commands = list()\n",
    "commands.append(f'sudo apt install -y linux-headers-$(uname -r) &> /tmp/fpga-apt-kernel-headers.log')\n",
    "\n",
    "for node in slice.get_nodes():\n",
    "   node_name = node.get_name()\n",
    "   for command in commands:\n",
    "      print(f'--- Node {node_name}: Executing command: {command}')\n",
    "      stdout, stderr = node.execute(command)\n",
    "   print('--- Done')"
   ]
  },
  {
   "cell_type": "markdown",
   "metadata": {},
   "source": [
    "## Step 6: Install Vivado Lab\n",
    "\n",
    "Install Vivado Lab Tools"
   ]
  },
  {
   "cell_type": "markdown",
   "metadata": {
    "tags": []
   },
   "source": [
    "Next transfer the Xilinx Vivado Lab package from the Storage VM"
   ]
  },
  {
   "cell_type": "code",
   "execution_count": null,
   "metadata": {},
   "outputs": [],
   "source": [
    "import os.path\n",
    "\n",
    "tools_location = '~/xilinx-labtools/vivado-installer'\n",
    "\n",
    "commands = [f'[ ! -d {tools_location} ] && mkdir -p {tools_location}',\n",
    "            f'curl -k -u {nginx_user}:{nginx_password} https://fpga-tools-host/fpga-tools/{labtools_package}  > {tools_location}/{os.path.basename(labtools_package)}']\n",
    "\n",
    "for node in slice.get_nodes():\n",
    "   node_name = node.get_name()\n",
    "   for command in commands:\n",
    "      print(f'--- Node {node_name}: Executing command: {command}')\n",
    "      stdout, stderr = node.execute(command)\n",
    "   print('--- Done')"
   ]
  },
  {
   "cell_type": "markdown",
   "metadata": {
    "tags": []
   },
   "source": [
    "Next transfer the artifact from Storage VM into a folder in this repo. This file will be called `<application_name>.mcs` and should be placed in the `~/bitfile` directory before starting the firmware build."
   ]
  },
  {
   "cell_type": "code",
   "execution_count": null,
   "metadata": {},
   "outputs": [],
   "source": [
    "bitfile_location = '~/fpga-bitfile'\n",
    "\n",
    "commands = [f'[ ! -d {bitfile_location} ] && mkdir -p {bitfile_location}',\n",
    "            f'curl -k -u {nginx_user}:{nginx_password} https://fpga-tools-host/fpga-tools/artifacts/{artifact_owner_username}/{artifact_version}/{artifact}  > {bitfile_location}/{artifact}']\n",
    "\n",
    "\n",
    "for node in slice.get_nodes():\n",
    "   node_name = node.get_name()\n",
    "   for command in commands:\n",
    "      print(f'--- Node {node_name}: Executing command: {command}')\n",
    "      stdout, stderr = node.execute(command)\n",
    "   print('--- Done')"
   ]
  },
  {
   "cell_type": "markdown",
   "metadata": {
    "tags": []
   },
   "source": [
    "Extract and install Xilinx Vivado Lab package"
   ]
  },
  {
   "cell_type": "code",
   "execution_count": null,
   "metadata": {
    "tags": []
   },
   "outputs": [],
   "source": [
    "# parse package name to get version\n",
    "import re\n",
    "\n",
    "pattern = re.compile('(Xilinx_)?Vivado_Lab_Lin_([\\d]{4}.[\\d]_[\\d]{4}_[\\d]{4}).tar.gz')\n",
    "m = pattern.match(os.path.basename(labtools_package))\n",
    "if m:\n",
    "    version = m[2]\n",
    "else:\n",
    "    version = 'Unknown'\n",
    "\n",
    "\n",
    "vivado_install_dir = \"/tools/Xilinx\"\n",
    " \n",
    "commands = list()\n",
    "commands.append(f'tar xf {tools_location}/{os.path.basename(labtools_package)} -C {tools_location}')\n",
    "commands.append(f'sudo {tools_location}/Vivado_Lab_Lin_{version}/xsetup --agree 3rdPartyEULA,XilinxEULA --batch Install --edition \"Vivado Lab Edition (Standalone)\" --location {vivado_install_dir}')\n",
    "\n",
    "\n",
    "for node in slice.get_nodes():\n",
    "   node_name = node.get_name()\n",
    "   for command in commands:\n",
    "      print(f'--- Node {node_name}: Executing command: {command}')\n",
    "      stdout, stderr = node.execute(command)\n",
    "   print('--- Done')"
   ]
  },
  {
   "cell_type": "markdown",
   "metadata": {
    "tags": []
   },
   "source": [
    "Install necessary libs"
   ]
  },
  {
   "cell_type": "code",
   "execution_count": null,
   "metadata": {
    "scrolled": true
   },
   "outputs": [],
   "source": [
    "commands = list()\n",
    "commands.append(f'sudo apt install -y lsb &> /tmp/fpga-apt-install.out')\n",
    "commands.append(f'sudo {tools_location}/Vivado_Lab_Lin_{version}/installLibs.sh &> /tmp/fpga-installLibs.out')\n",
    "\n",
    "for node in slice.get_nodes():\n",
    "   node_name = node.get_name()\n",
    "   for command in commands:\n",
    "      print(f'--- Node {node_name}: Executing command: {command}')\n",
    "      stdout, stderr = node.execute(command)\n",
    "   print('--- Done')"
   ]
  },
  {
   "cell_type": "markdown",
   "metadata": {
    "tags": []
   },
   "source": [
    "Install JTAG drivers"
   ]
  },
  {
   "cell_type": "code",
   "execution_count": null,
   "metadata": {},
   "outputs": [],
   "source": [
    "import re\n",
    "\n",
    "pattern = re.compile('([\\d]{4}.[\\d])_([\\d]{4}_[\\d]{4})')\n",
    "m = pattern.match(os.path.basename(version))\n",
    "if m:\n",
    "    version_major = m[1]\n",
    "else:\n",
    "    version_major = 'Unknown'\n",
    "\n",
    "\n",
    "commands = list()\n",
    "commands.append(f'sudo {vivado_install_dir}/Vivado_Lab/{version_major}/data/xicom/cable_drivers/lin64/install_script/install_drivers/install_drivers')\n",
    "\n",
    "for node in slice.get_nodes():\n",
    "   node_name = node.get_name()\n",
    "   for command in commands:\n",
    "      print(f'--- Node {node_name}: Executing command: {command}')\n",
    "      stdout, stderr = node.execute(command)\n",
    "   print('--- Done')"
   ]
  },
  {
   "cell_type": "markdown",
   "metadata": {},
   "source": [
    "Update packages"
   ]
  },
  {
   "cell_type": "code",
   "execution_count": null,
   "metadata": {},
   "outputs": [],
   "source": [
    "commands = list()\n",
    "commands.append(f'(sudo apt -y update && sudo apt -y upgrade) &> /tmp/fpga-apt-upgrade.log')\n",
    "\n",
    "for node in slice.get_nodes():\n",
    "   node_name = node.get_name()\n",
    "   for command in commands:\n",
    "      print(f'--- Node {node_name}: Executing command: {command}')\n",
    "      stdout, stderr = node.execute(command)\n",
    "   print('--- Done')"
   ]
  },
  {
   "cell_type": "markdown",
   "metadata": {
    "tags": []
   },
   "source": [
    "#### Reboot"
   ]
  },
  {
   "cell_type": "code",
   "execution_count": null,
   "metadata": {},
   "outputs": [],
   "source": [
    "reboot = 'sudo reboot'\n",
    "\n",
    "try:\n",
    "   for node in slice.get_nodes():\n",
    "      node_name = node.get_name()\n",
    "      print(f'--- Node {node_name}: reboot')\n",
    "      node.execute(reboot)\n",
    "      slice.wait_ssh(timeout=360,interval=10,progress=True)\n",
    "\n",
    "      print(\"Now testing SSH abilites to reconnect...\",end=\"\")\n",
    "      slice.update()\n",
    "      slice.test_ssh()\n",
    "      print(\"Reconnected!\")\n",
    "       \n",
    "except Exception as e:\n",
    "    print(f\"Fail: {e}\")  \n",
    "\n",
    "for node in slice.get_nodes():\n",
    "   node_name = node.get_name()\n",
    "   print(f'--- Node {node_name}: node.config')\n",
    "   node.config()\n",
    "   print(\"--- Done\")  "
   ]
  },
  {
   "cell_type": "markdown",
   "metadata": {},
   "source": [
    "#### Get the JTAG ID\n"
   ]
  },
  {
   "cell_type": "code",
   "execution_count": null,
   "metadata": {},
   "outputs": [],
   "source": [
    "commands = list()\n",
    "commands.append(f'source {vivado_install_dir}/Vivado_Lab/{version_major}/settings64.sh && vivado_lab -mode batch -source ~/fpga-tools/P4OpenNIC_Public/FABRIC-P4/scripts/get_jtag.tcl | grep -o \"Xilinx/[^[:space:]]*\" | cut -d/ -f2 > /tmp/fpga-jtag.id')\n",
    "commands.append(f'echo {fpga_bdf} > /tmp/fpga-bdf.id')\n",
    "\n",
    "for node in slice.get_nodes():\n",
    "   node_name = node.get_name()\n",
    "   for command in commands:\n",
    "      print(f'--- Node {node_name}: Executing command: {command}')\n",
    "      stdout, stderr = node.execute(command)\n",
    "   print('--- Done')"
   ]
  },
  {
   "cell_type": "markdown",
   "metadata": {},
   "source": [
    "Install kernel-headers"
   ]
  },
  {
   "cell_type": "code",
   "execution_count": null,
   "metadata": {},
   "outputs": [],
   "source": [
    "commands = list()\n",
    "commands.append(f'sudo apt install -y linux-headers-$(uname -r) &> /tmp/fpga-apt-kernel-headers.log')\n",
    "\n",
    "for node in slice.get_nodes():\n",
    "   node_name = node.get_name()\n",
    "   for command in commands:\n",
    "      print(f'--- Node {node_name}: Executing command: {command}')\n",
    "      stdout, stderr = node.execute(command)\n",
    "   print('--- Done')"
   ]
  },
  {
   "cell_type": "markdown",
   "metadata": {},
   "source": [
    "Install libraries for running Vivado GUI"
   ]
  },
  {
   "cell_type": "code",
   "execution_count": null,
   "metadata": {},
   "outputs": [],
   "source": [
    "commands = list()\n",
    "commands.append(f'sudo apt-get install -y libxrender1 libxtst6 libxi6 &> /tmp/fpga-apt-libs.log')\n",
    "\n",
    "for node in slice.get_nodes():\n",
    "   node_name = node.get_name()\n",
    "   for command in commands:\n",
    "      print(f'--- Node {node_name}: Executing command: {command}')\n",
    "      stdout, stderr = node.execute(command)\n",
    "   print('--- Done')"
   ]
  },
  {
   "cell_type": "markdown",
   "metadata": {},
   "source": [
    "### Install Alveo Packages\n",
    "https://www.xilinx.com/support/download/index.html/content/xilinx/en/downloadNav/alveo/u280.html\n",
    "\n",
    "#### Step 1. Download the Xilinx Runtime\n",
    " \n",
    "The Xilinx runtime (XRT) is a low level communication layer (APIs and drivers) between the host and the card.\n",
    "- [xrt_202320.2.16.204_20.04-amd64-xrt.deb](https://www.xilinx.com/bin/public/openDownload?filename=xrt_202320.2.16.204_20.04-amd64-xrt.deb)\n",
    " \n",
    "#### Step 2. Download the Deployment Target Platform\n",
    "\n",
    "The deployment target platform is the communication layer physically implemented and flashed into the card.\n",
    "- [xilinx-u280-gen3x16-xdma_2023.2_2023_1014_0238-all.deb.tar.gz](https://www.xilinx.com/bin/public/openDownload?filename=xilinx-u280-gen3x16-xdma_2023.2_2023_1014_0238-all.deb.tar.gz)\n"
   ]
  },
  {
   "cell_type": "code",
   "execution_count": null,
   "metadata": {},
   "outputs": [],
   "source": [
    "#commands = list()\n",
    "#commands.append(f'sudo wget -qO - https://www.xilinx.com/support/download/2020-2/xilinx-master-signing-key.asc | sudo apt-key add -')\n",
    "#commands.append(f'echo \"deb https://packages.xilinx.com/artifactory/debian-packages $(lsb_release -cs) main\" | sudo tee -a /etc/apt/sources.list.d/xlnx.list')\n",
    "#commands.append(f'(sudo apt-get update && sudo apt-get install -y xilinx-u280-gen3x16-xdma-base=1-3585717 xilinx-u280-gen3x16-xdma-validate=1-3585755 xilinx-cmc-u280=1.3.5-3592445 xilinx-sc-fw-u280=4.3.28-1.ea1b92f ) &> /tmp/fpga-apt-alveo.log')\n",
    "\n",
    "\n",
    "#for node in slice.get_nodes():\n",
    "#   node_name = node.get_name()\n",
    "#   for command in commands:\n",
    "#      print(f'--- Node {node_name}: Executing command: {command}')\n",
    "#      stdout, stderr = node.execute(command)\n",
    "#   print('--- Done')"
   ]
  },
  {
   "cell_type": "markdown",
   "metadata": {},
   "source": [
    "Install xbflash2"
   ]
  },
  {
   "cell_type": "code",
   "execution_count": null,
   "metadata": {},
   "outputs": [],
   "source": [
    "import os.path\n",
    "\n",
    "tools_location = '~/xilinx-labtools/alveo-packages'\n",
    "\n",
    "commands = list()\n",
    "commands.append(f'[ ! -d {tools_location} ] && mkdir -p {tools_location}')\n",
    "commands.append(f'wget -q https://www.xilinx.com/bin/public/openDownload?filename=xrt_202210.2.13.466_20.04-amd64-xbflash2.deb -O {tools_location}/xrt_202210.2.13.466_20.04-amd64-xbflash2.deb')\n",
    "commands.append(f'curl -k -u {nginx_user}:{nginx_password} https://fpga-tools-host/fpga-tools/{xbflash2_package}  > {tools_location}/{os.path.basename(xbflash2_package)}')\n",
    "commands.append(f'sudo apt-get install {tools_location}/xrt_202210.2.13.466_20.04-amd64-xbflash2.deb &> /tmp/fpga-apt-xbflash2.log')\n",
    "\n",
    "for node in slice.get_nodes():\n",
    "   node_name = node.get_name()\n",
    "   for command in commands:\n",
    "      print(f'--- Node {node_name}: Executing command: {command}')\n",
    "      stdout, stderr = node.execute(command)\n",
    "   print('--- Done')"
   ]
  },
  {
   "cell_type": "markdown",
   "metadata": {},
   "source": [
    "## Step 7: Kernel modules"
   ]
  },
  {
   "cell_type": "markdown",
   "metadata": {},
   "source": [
    "#### Step 1. Use configDPDK to read the registers"
   ]
  },
  {
   "cell_type": "code",
   "execution_count": null,
   "metadata": {},
   "outputs": [],
   "source": [
    "tools_location = '~/fpga-tools'\n",
    "\n",
    "commands = list()\n",
    "commands.append(f'cd {tools_location}/pcimem; make; [ ! -e {tools_location}/pcimem/configDPDK.sh ] && ln -s {tools_location}/configDPDK.sh')\n",
    "commands.append(f'cd {tools_location}/pcimem && ./configDPDK.sh')\n",
    "\n",
    "for node in slice.get_nodes():\n",
    "   node_name = node.get_name()\n",
    "   for command in commands:\n",
    "      print(f'--- Node {node_name}: Executing command: {command}')\n",
    "      stdout, stderr = node.execute(command)\n",
    "   print('--- Done')"
   ]
  },
  {
   "cell_type": "markdown",
   "metadata": {},
   "source": [
    "#### Step 2. Install kernel module open-nic-driver"
   ]
  },
  {
   "cell_type": "code",
   "execution_count": null,
   "metadata": {},
   "outputs": [],
   "source": [
    "tools_location = '~/fpga-tools'\n",
    "\n",
    "commands = list()\n",
    "commands.append(f'cd {tools_location}/open-nic-driver; make')\n",
    "commands.append(f'sudo rmmod onic &> /dev/null')\n",
    "commands.append(f'cd {tools_location}/open-nic-driver; sudo insmod onic.ko RS_FEC_ENABLED=0')\n",
    "commands.append(f'lsmod | grep onic')\n",
    "\n",
    "for node in slice.get_nodes():\n",
    "   node_name = node.get_name()\n",
    "   for command in commands:\n",
    "      print(f'--- Node {node_name}: Executing command: {command}')\n",
    "      stdout, stderr = node.execute(command)\n",
    "   print('--- Done')"
   ]
  },
  {
   "cell_type": "code",
   "execution_count": null,
   "metadata": {},
   "outputs": [],
   "source": [
    "#### Step 3. Configure interfaces"
   ]
  },
  {
   "cell_type": "code",
   "execution_count": null,
   "metadata": {},
   "outputs": [],
   "source": [
    "fpga_interface = 'enp31s0f0'\n",
    "commands = list()\n",
    "commands.append(f'sudo ip link set {fpga_interface} up')\n",
    "\n",
    "for node in slice.get_nodes():\n",
    "   node_name = node.get_name()\n",
    "   for command in commands:\n",
    "      print(f'--- Node {node_name}: Executing command: {command}')\n",
    "      stdout, stderr = node.execute(command)\n",
    "   print('--- Done')\n",
    "\n",
    "\n",
    "node1 = slice.get_node(name=node_name1)        \n",
    "node2 = slice.get_node(name=node_name2)        \n",
    "node1_addr = '192.168.40.11'\n",
    "node2_addr = '192.168.40.12'\n",
    "\n",
    "stdout, stderr = node1.execute(f'sudo ip addr add {node1_addr}/24 dev {fpga_interface}')\n",
    "stdout, stderr = node2.execute(f'sudo ip addr add {node2_addr}/24 dev {fpga_interface}')\n",
    "\n",
    "stdout, stderr = node1.execute(f'ping -c 30 {node2_addr}')\n"
   ]
  },
  {
   "cell_type": "markdown",
   "metadata": {},
   "source": [
    "## Step 8: Extend Slice"
   ]
  },
  {
   "cell_type": "markdown",
   "metadata": {},
   "source": [
    "Get slice details and extend the slice. This cell is optional and can be executed as-needed."
   ]
  },
  {
   "cell_type": "code",
   "execution_count": null,
   "metadata": {},
   "outputs": [],
   "source": [
    "slice = fablib.get_slice(name=slice_name)\n",
    "slice.show();"
   ]
  },
  {
   "cell_type": "markdown",
   "metadata": {},
   "source": [
    "Renew by 14 days"
   ]
  },
  {
   "cell_type": "code",
   "execution_count": null,
   "metadata": {},
   "outputs": [],
   "source": [
    "from datetime import datetime\n",
    "from datetime import timezone\n",
    "from datetime import timedelta\n",
    "\n",
    "# Set end host to now plus 14 days\n",
    "end_date = (datetime.now(timezone.utc) + timedelta(days=14)).strftime(\"%Y-%m-%d %H:%M:%S %z\")\n",
    "\n",
    "try:\n",
    "    slice = fablib.get_slice(name=slice_name)\n",
    "\n",
    "    slice.renew(end_date)\n",
    "except Exception as e:\n",
    "    print(f\"Exception: {e}\")"
   ]
  },
  {
   "cell_type": "markdown",
   "metadata": {},
   "source": [
    "## Step 9: Delete the slice\n",
    "\n",
    "Delete the slice after completing the programming."
   ]
  },
  {
   "cell_type": "code",
   "execution_count": null,
   "metadata": {},
   "outputs": [],
   "source": [
    "try:\n",
    "    slice = fablib.get_slice(name=slice_name)\n",
    "    slice.delete()\n",
    "except Exception as e:\n",
    "    print(f\"Exception: {e}\")"
   ]
  },
  {
   "cell_type": "code",
   "execution_count": null,
   "metadata": {},
   "outputs": [],
   "source": []
  }
 ],
 "metadata": {
  "kernelspec": {
   "display_name": "Python 3 (ipykernel)",
   "language": "python",
   "name": "python3"
  },
  "language_info": {
   "codemirror_mode": {
    "name": "ipython",
    "version": 3
   },
   "file_extension": ".py",
   "mimetype": "text/x-python",
   "name": "python",
   "nbconvert_exporter": "python",
   "pygments_lexer": "ipython3",
   "version": "3.11.8"
  }
 },
 "nbformat": 4,
 "nbformat_minor": 4
}
