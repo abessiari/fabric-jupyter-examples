{
 "cells": [
  {
   "cell_type": "markdown",
   "metadata": {
    "tags": []
   },
   "source": [
    "# Functional Test 6.1.3 - Flash NEU/OCT code into an FPGA persistent flash or RAM and validate\n",
    "\n",
    "This Jupyter notebook will allow you to flash experimenter FPGA code based on [ONS shell](https://github.com/Xilinx/open-nic-shell) into the FPGA persistent flash or RAM. If the persistent flash is used, the end result is an FPGA that even after a cold reboot of the server retains its programming with a standard Xilinx XRT shell. If the program is flashed into RAM, a warm reboot of the server will activate it. \n",
    "\n",
    "This procedure can be used to reset the FPGA at a given site after experiments or initialize a newly installed device. It generally follows the procedures described by [ESnet](https://github.com/esnet/esnet-smartnic-fw/blob/main/sn-stack/README.INSTALL.md#running-the-firmware) for U280 devices.\n",
    "\n",
    "It is assumed you are operating as part of the FABRIC Maintenance project and have access to the persistent volume named `fpga-tools` created on EDC where releavent tools are downloaded.\n",
    "\n",
    "This notebook is broken up into steps and does not have to be executed in sequence.\n",
    "\n",
    "- Step 2 Has multiple cells that initialize fablib and variables and creates a new slice\n",
    "  - The cells initializing the state __must always be executed__.\n",
    "  - Creating a slice is optional and can be skipped if slice already exists\n",
    "- Step 3 is a re-entrant cell and can be used any time you want to refresh information about the existing slice\n",
    "- Step 4 builds 3 docker images and saves them to Storage VM:\n",
    "  - Xilinx Labtools\n",
    "  - DPDK\n",
    "  - esnet-smartnic-fw based on experimenter-provided bitfile artifact\n",
    "  - Only the last one needs to be rebuilt often (for each user) the rest are already saved on the storage VM\n",
    "- Step 5 retrieves existing docker images built in Step 4 at a prior time. This is useful if you are reflashing multiple FPGAs with the same code - you can execute Step 5 once and the skip it for all further VMs simply retrieving the artifacts from Storage VM in this step\n",
    "- Step 6 can be done after Step 5 or Step 6 - that's the actual flashing and it involves identifying and rebooting the underlying server.\n",
    "- Step 7 is an optional 'extend the slice' step that can be excuted if Steps 2 and 3 have been executed.\n",
    "- Step 8 is 'delete the slice' that can be executed any time after Steps 2 and 3 have been executed.\n",
    " "
   ]
  },
  {
   "cell_type": "markdown",
   "metadata": {},
   "source": [
    "## Step 0: Re-create a VM attached to fpga-tools volume on EDC\n",
    "\n",
    "In order to have access to necessary tools execute the notebook to [re-create a Storage VM attached](../../fablib_api/fabric_fpgas/fpga_tools_storage.ipynb) to the `fpga-tools` persistent storage. You must execute it as a member of FABRIC Staff project. "
   ]
  },
  {
   "cell_type": "markdown",
   "metadata": {},
   "source": [
    "## Step 1: Identify and isolate the worker node\n",
    "\n",
    "Unless the whole site is already in maintenance, using administrator tools identify the worker node with FPGA and put it in maintenance making sure it does not have experimenter VMs on it. You can check the [aggregate ads in JSON](https://github.com/fabric-testbed/aggregate-ads/tree/main/JSON) to make sure you are targeting the right worker."
   ]
  },
  {
   "cell_type": "markdown",
   "metadata": {
    "tags": []
   },
   "source": [
    "## Step 2: Provision a VM on the desired worker with attached FPGA and FABNetv4 connection\n",
    "\n",
    "Create a slice with a VM attached to the FPGA on the desired site and a FABNetv4 interface to reach the Storage VM in Step 0."
   ]
  },
  {
   "cell_type": "markdown",
   "metadata": {},
   "source": [
    "### Initialize fablib and variables"
   ]
  },
  {
   "cell_type": "code",
   "execution_count": null,
   "metadata": {},
   "outputs": [],
   "source": [
    "# Initialize FABlib\n",
    "\n",
    "from fabrictestbed_extensions.fablib.fablib import FablibManager as fablib_manager\n",
    "\n",
    "fablib = fablib_manager()\n",
    "                     \n",
    "fablib.show_config();"
   ]
  },
  {
   "cell_type": "markdown",
   "metadata": {},
   "source": [
    "Define slice parameters - re-execute as needed to run any of the steps in this notebook."
   ]
  },
  {
   "cell_type": "code",
   "execution_count": null,
   "metadata": {},
   "outputs": [],
   "source": [
    "# user artifact should be deposited Storage VM into /mnt/fpga_tools/static/artifacts/<owner username>/<version> since names of artifacts may be similar or same.\n",
    "artifact_owner_username = 'han_zha'\n",
    "artifact_version = 'v1'\n",
    "\n",
    "# edit the name of the user-provided artifact and labtools and DPDK docker images stored in Storage VM as needed\n",
    "artifact = 'open_nic_shell.mcs'\n",
    "\n",
    "# Xilinx labtools package in Storage VM\n",
    "labtools_package = 'Vivado/Vivado_Lab_Lin_2023.2_1013_2256.tar.gz'\n",
    "\n",
    "# setup site name\n",
    "site='CLEM'\n",
    "node_name='fpga-node'\n",
    "\n",
    "# FABNetv4 of storage VM - consult the Storage VM slice for this FABNetv4 IP address\n",
    "storage_vm_ip = \"10.132.129.2\"\n",
    "# username and password used in storage VM\n",
    "nginx_user = \"fpga_tools\"\n",
    "nginx_password = \"secret-password\"\n",
    "\n",
    "#\n",
    "# should not need to edit below\n",
    "FPGA_CHOICE='FPGA_Xilinx_U280'\n",
    "\n",
    "# name the slice and the node \n",
    "slice_name=f'Persistent esnet-smartnic slice with {FPGA_CHOICE} on {site}'\n",
    "print(f'Will create slice \"{slice_name}\" with node \"{node_name}\"')\n",
    "\n",
    "# don't edit - convert from FPGA type to a resource column name\n",
    "# to use in filter lambda function below\n",
    "choice_to_column = {\n",
    "    \"FPGA_Xilinx_U280\": \"fpga_u280_available\",\n",
    "}\n",
    "\n",
    "column_name = choice_to_column.get(FPGA_CHOICE, \"Unknown\")\n",
    "\n",
    "#fablib.get_image_names()"
   ]
  },
  {
   "cell_type": "markdown",
   "metadata": {},
   "source": [
    "### Create a new slice \n",
    "\n",
    "Create a slice with FPGA component on selected site and access to FABNetv4 network.\n",
    "\n",
    "__NOTE:__ It is important to use a Docker-enabled image so that Docker can properly build docker images on IPv6-enabled sites."
   ]
  },
  {
   "cell_type": "code",
   "execution_count": null,
   "metadata": {},
   "outputs": [],
   "source": [
    "# Create Slice. Note that by default submit() call will poll for 360 seconds every 10-20 seconds\n",
    "# waiting for slice to come up. Normal expected time is around 2 minutes. \n",
    "slice = fablib.new_slice(name=slice_name)\n",
    "image = 'docker_ubuntu_20'\n",
    "\n",
    "# Add node with a 200G drive and 8 of CPU cores using Ubuntu 20 image\n",
    "node = slice.add_node(name=node_name, site=site, cores=8, disk=200, image=image)\n",
    "node.add_component(model=FPGA_CHOICE, name='fpga1')\n",
    "# be sure to add FABNetv4 so we can communicate with the slice that has the tools\n",
    "node.add_fabnet()\n",
    "\n",
    "# use the postboot script from docker examples\n",
    "node.add_post_boot_upload_directory('../../fablib_api/docker_containers/node_tools','.')\n",
    "node.add_post_boot_execute('node_tools/enable_docker.sh {{ _self_.image }} ')\n",
    "node.add_post_boot_upload_directory('node_config','.')\n",
    "node.add_post_boot_execute(f'chmod a+x node_config/ipv6-and-docker-plugins.sh && node_config/ipv6-and-docker-plugins.sh')\n",
    "\n",
    "# Submit Slice Request\n",
    "slice.submit();"
   ]
  },
  {
   "cell_type": "markdown",
   "metadata": {},
   "source": [
    "Add storage VM into /etc/hosts for convenience. __Consult the storage slice for the FABNetv4 IPv4 address of that VM.__"
   ]
  },
  {
   "cell_type": "code",
   "execution_count": null,
   "metadata": {},
   "outputs": [],
   "source": [
    "slice = fablib.get_slice(slice_name)\n",
    "node = slice.get_node(name=node_name)   \n",
    "\n",
    "commands = list()\n",
    "commands.append(f\"echo {storage_vm_ip} fpga-tools-host | sudo tee -a /etc/hosts\")\n",
    "commands.append(f\"echo 127.0.0.1 {node_name} | sudo tee -a /etc/hosts\")\n",
    "\n",
    "for command in commands:\n",
    "    stdout, stderr = node.execute(command)"
   ]
  },
  {
   "cell_type": "markdown",
   "metadata": {},
   "source": [
    "## Step 3: Inspect the slice\n",
    "Note that nat64 configuration is done at boot time."
   ]
  },
  {
   "cell_type": "code",
   "execution_count": null,
   "metadata": {},
   "outputs": [],
   "source": [
    "slice = fablib.get_slice(slice_name)\n",
    "\n",
    "node = slice.get_node(name=node_name)              \n",
    "\n",
    "node_addr = node.get_interface(network_name=f'FABNET_IPv4_{node.get_site()}').get_ip_addr()\n",
    "\n",
    "slice.show()\n",
    "slice.list_nodes()\n",
    "slice.list_networks()\n",
    "print(f'Node FABNetV4 IP Address is {node_addr}')"
   ]
  },
  {
   "cell_type": "markdown",
   "metadata": {
    "tags": []
   },
   "source": [
    "## Step 4: Fetch Tools and Install Vivado Lab\n",
    "\n",
    "Fetch the Linux tools from Xilinx and place into appropriate location"
   ]
  },
  {
   "cell_type": "markdown",
   "metadata": {
    "tags": []
   },
   "source": [
    "Clone OCT-FPGA repo"
   ]
  },
  {
   "cell_type": "code",
   "execution_count": null,
   "metadata": {},
   "outputs": [],
   "source": [
    "# checkout the repo\n",
    "tools_neu_repo = 'https://github.com/OCT-FPGA/P4OpenNIC_Public.git'\n",
    "\n",
    "commands = list()\n",
    "commands.append(f'[ ! -d ~/fpga-tools ] && mkdir -p ~/fpga-tools')\n",
    "commands.append(f'cd fpga-tools && git clone {tools_neu_repo}')\n",
    "\n",
    "for command in commands:\n",
    "    print(f'Executing {command}')\n",
    "    stdout, stderr = node.execute(command)\n",
    "    \n",
    "print('Done')"
   ]
  },
  {
   "cell_type": "markdown",
   "metadata": {
    "tags": []
   },
   "source": [
    "Clone pcimem repo"
   ]
  },
  {
   "cell_type": "code",
   "execution_count": null,
   "metadata": {},
   "outputs": [],
   "source": [
    "# checkout the repo\n",
    "\n",
    "# checkout the repo\n",
    "pcimem_repo = 'https://github.com/billfarrow/pcimem.git'\n",
    "\n",
    "commands = list()\n",
    "commands.append(f'[ ! -d ~/fpga-tools ] && mkdir -p fpga-tools')\n",
    "commands.append(f'cd fpga-tools && git clone {pcimem_repo}')\n",
    "\n",
    "for command in commands:\n",
    "    print(f'Executing {command}')\n",
    "    stdout, stderr = node.execute(command)\n",
    "    \n",
    "print('Done')"
   ]
  },
  {
   "cell_type": "markdown",
   "metadata": {
    "tags": []
   },
   "source": [
    "Next transfer the Xilinx Vivado Lab package from the Storage VM"
   ]
  },
  {
   "cell_type": "code",
   "execution_count": null,
   "metadata": {},
   "outputs": [],
   "source": [
    "import os.path\n",
    "\n",
    "tools_location = '~/xilinx-labtools/vivado-installer'\n",
    "\n",
    "commands = [f'[ ! -d {tools_location} ] && mkdir -p {tools_location}',\n",
    "            f'curl -k -u {nginx_user}:{nginx_password} https://fpga-tools-host/fpga-tools/{labtools_package}  > {tools_location}/{os.path.basename(labtools_package)}']\n",
    "\n",
    "for command in commands:\n",
    "    print(f'Executing {command}')\n",
    "    stdout, stderr = node.execute(command)\n",
    "    \n",
    "print('Done')"
   ]
  },
  {
   "cell_type": "markdown",
   "metadata": {
    "tags": []
   },
   "source": [
    "Next transfer the artifact from Storage VM into a folder in this repo. This file will be called `<application_name>.mcs` and should be placed in the `~/bitfile` directory before starting the firmware build."
   ]
  },
  {
   "cell_type": "code",
   "execution_count": null,
   "metadata": {},
   "outputs": [],
   "source": [
    "bitfile_location = '~/fpga-bitfile'\n",
    "\n",
    "commands = [f'[ ! -d {bitfile_location} ] && mkdir -p {bitfile_location}',\n",
    "            f'curl -k -u {nginx_user}:{nginx_password} https://fpga-tools-host/fpga-tools/artifacts/{artifact_owner_username}/{artifact_version}/{artifact}  > {bitfile_location}/{artifact}']\n",
    "\n",
    "\n",
    "for command in commands:\n",
    "    print(f'Executing {command}')\n",
    "    stdout, stderr = node.execute(command)\n",
    "    \n",
    "print('Done')"
   ]
  },
  {
   "cell_type": "markdown",
   "metadata": {
    "tags": []
   },
   "source": [
    "### Install\n",
    "#### Install Vivado Lab Tools"
   ]
  },
  {
   "cell_type": "markdown",
   "metadata": {
    "tags": []
   },
   "source": [
    "Extract and install Xilinx Vivado Lab package"
   ]
  },
  {
   "cell_type": "code",
   "execution_count": null,
   "metadata": {
    "tags": []
   },
   "outputs": [],
   "source": [
    "# parse package name to get version\n",
    "import re\n",
    "\n",
    "pattern = re.compile('(Xilinx_)?Vivado_Lab_Lin_([\\d]{4}.[\\d]_[\\d]{4}_[\\d]{4}).tar.gz')\n",
    "m = pattern.match(os.path.basename(labtools_package))\n",
    "if m:\n",
    "    version = m[2]\n",
    "else:\n",
    "    version = 'Unknown'\n",
    "\n",
    "\n",
    "vivado_install_dir = \"/tools/Xilinx\"\n",
    " \n",
    "commands = list()\n",
    "commands.append(f'tar xf {tools_location}/{os.path.basename(labtools_package)} -C {tools_location}')\n",
    "commands.append(f'sudo {tools_location}/Vivado_Lab_Lin_{version}/xsetup --agree 3rdPartyEULA,XilinxEULA --batch Install --edition \"Vivado Lab Edition (Standalone)\" --location {vivado_install_dir}')\n",
    "\n",
    "\n",
    "for command in commands:\n",
    "    print(f'Executing {command}')\n",
    "    stdout, stderr = node.execute(command)\n",
    "\n",
    "print('Done')"
   ]
  },
  {
   "cell_type": "markdown",
   "metadata": {
    "tags": []
   },
   "source": [
    "Install necessary libs"
   ]
  },
  {
   "cell_type": "code",
   "execution_count": null,
   "metadata": {},
   "outputs": [],
   "source": [
    "commands = list()\n",
    "commands.append(f'sudo apt install -y lsb &> /tmp/fpga-apt-install.out')\n",
    "commands.append(f'sudo {tools_location}/Vivado_Lab_Lin_{version}/installLibs.sh &> /tmp/fpga-installLibs.out')\n",
    "\n",
    "for command in commands:\n",
    "    print(f'Executing {command}')\n",
    "    stdout, stderr = node.execute(command)\n",
    "\n",
    "print('Done')"
   ]
  },
  {
   "cell_type": "markdown",
   "metadata": {
    "tags": []
   },
   "source": [
    "Install JTAG drivers"
   ]
  },
  {
   "cell_type": "code",
   "execution_count": null,
   "metadata": {},
   "outputs": [],
   "source": [
    "import re\n",
    "\n",
    "pattern = re.compile('([\\d]{4}.[\\d])_([\\d]{4}_[\\d]{4})')\n",
    "m = pattern.match(os.path.basename(version))\n",
    "if m:\n",
    "    version_major = m[1]\n",
    "else:\n",
    "    version_major = 'Unknown'\n",
    "\n",
    "\n",
    "commands = list()\n",
    "commands.append(f'sudo {vivado_install_dir}/Vivado_Lab/{version_major}/data/xicom/cable_drivers/lin64/install_script/install_drivers/install_drivers')\n",
    "\n",
    "for command in commands:\n",
    "    print(f'Executing {command}')\n",
    "    stdout, stderr = node.execute(command)\n",
    "    \n",
    "print('Done')"
   ]
  },
  {
   "cell_type": "markdown",
   "metadata": {
    "tags": []
   },
   "source": [
    "#### Reboot"
   ]
  },
  {
   "cell_type": "code",
   "execution_count": null,
   "metadata": {},
   "outputs": [],
   "source": [
    "reboot = 'sudo reboot'\n",
    "try:\n",
    "    print(reboot)\n",
    "    node.execute(reboot)\n",
    "    \n",
    "    slice.wait_ssh(timeout=360,interval=10,progress=True)\n",
    "\n",
    "    print(\"Now testing SSH abilites to reconnect...\",end=\"\")\n",
    "    slice.update()\n",
    "    slice.test_ssh()\n",
    "    print(\"Reconnected!\")\n",
    "\n",
    "except Exception as e:\n",
    "    print(f\"Fail: {e}\")  \n",
    "\n",
    "### <FIXME> manage hardcoded enp7s0 with fablib api\n",
    "node.execute(\"sudo ip link set dev enp6s0 up\")\n",
    "node.config()\n",
    "print(\"Done\")    "
   ]
  },
  {
   "cell_type": "markdown",
   "metadata": {},
   "source": [
    "#### Get the JTAG ID\n"
   ]
  },
  {
   "cell_type": "code",
   "execution_count": null,
   "metadata": {},
   "outputs": [],
   "source": [
    "commands = list()\n",
    "commands.append(f'source {vivado_install_dir}/Vivado_Lab/{version_major}/settings64.sh && vivado_lab -mode batch -source ~/P4OpenNIC_Public/FABRIC-P4/scripts/get_jtag.tcl | grep -o \"Xilinx/[^[:space:]]*\" | cut -d/ -f2 > /tmp/fpga-jtag.id')\n",
    "commands.append(f'echo \"0000:1f:00.0\" > /tmp/fpga-bdf.id')\n",
    "\n",
    "for command in commands:\n",
    "    print(f'Executing {command}')\n",
    "    stdout, stderr = node.execute(command)\n",
    "\n",
    "print('Done')    "
   ]
  },
  {
   "cell_type": "markdown",
   "metadata": {},
   "source": [
    "## Step 5: Flash the card \n",
    "\n",
    "Here we continue to follow the instructions [here](https://github.com/OCT-FPGA/P4OpenNIC_Public/tree/main/FABRIC-P4).\n",
    "\n",
    "__Note:__ Prior to proceeding please be sure to follow these steps to open the iDrac interface of the server you are working on as it will need to be __cold rebooted__ (in the case of a persistent reflash) or __warm rebooted__ (in the case of a RAM reflash):\n",
    "\n",
    "1. Login to FABRIC VPN\n",
    "2. Login to the head node of the cluster on which this VM is created\n",
    "3. Login to the specific worker from the head node\n",
    "    - Use Step 3 of this notebook to locate the worker using `Host` column of the sliver table\n",
    "4. Run the following command to retrieve the asset tag: `cat /sys/class/dmi/id/chassis_serial` \n",
    "5. Login to the iDrac by using the [following formula](https://fabric-testbed.atlassian.net/wiki/spaces/FP/pages/1490812935/iDRAC+Setup): `192.168.<`[site index](https://fabric-testbed.atlassian.net/wiki/spaces/FP/pages/168624158/List+of+Hanks+FABRIC+Site+Information)`>.<100 + worker index>`.\n",
    "    - indi-w2.fabric-testbed.net -> 192.168.36.102 \n",
    "6. In the 'System Information' pane of iDrac compare the 'Service Tag' to the output of 4 above. This is to make sure we are rebooting the right server.\n",
    "\n",
    "Now we flash the card - write to __persistent flash__, which is generally what you want (takes 20 minutes)"
   ]
  },
  {
   "cell_type": "markdown",
   "metadata": {},
   "source": [
    "After the process completes, shutoff the VM and __cold-reboot__ the worker node if you flashed persistent flash or __warm-reboot__ if flashing was into RAM. "
   ]
  },
  {
   "cell_type": "code",
   "execution_count": null,
   "metadata": {},
   "outputs": [],
   "source": [
    "command = 'sudo /sbin/halt'\n",
    "\n",
    "stdout, stderr = node.execute(command)"
   ]
  },
  {
   "cell_type": "markdown",
   "metadata": {},
   "source": [
    "1. Use the iDrac console to perform a reboot (cold or warm)\n",
    "2. After the reboot completes delete the slice using Step 9\n",
    "3. Login to the worker node as root and validate that Xilinx programming has been activated. Generally you should see something like:\n",
    "```\n",
    "ubuntu@fpga-node:~$ lspci | grep Xilinx\n",
    "25:00.0 Network controller: Xilinx Corporation Device 903f\n",
    "25:00.1 Network controller: Xilinx Corporation Device 913f\n",
    "```\n"
   ]
  },
  {
   "cell_type": "markdown",
   "metadata": {},
   "source": [
    "## Step 6: Extend Slice"
   ]
  },
  {
   "cell_type": "markdown",
   "metadata": {},
   "source": [
    "Get slice details and extend the slice. This cell is optional and can be executed as-needed."
   ]
  },
  {
   "cell_type": "code",
   "execution_count": null,
   "metadata": {},
   "outputs": [],
   "source": [
    "slice = fablib.get_slice(name=slice_name)\n",
    "slice.show();"
   ]
  },
  {
   "cell_type": "markdown",
   "metadata": {},
   "source": [
    "Renew by 14 days"
   ]
  },
  {
   "cell_type": "code",
   "execution_count": null,
   "metadata": {},
   "outputs": [],
   "source": [
    "from datetime import datetime\n",
    "from datetime import timezone\n",
    "from datetime import timedelta\n",
    "\n",
    "# Set end host to now plus 14 days\n",
    "end_date = (datetime.now(timezone.utc) + timedelta(days=14)).strftime(\"%Y-%m-%d %H:%M:%S %z\")\n",
    "\n",
    "try:\n",
    "    slice = fablib.get_slice(name=slice_name)\n",
    "\n",
    "    slice.renew(end_date)\n",
    "except Exception as e:\n",
    "    print(f\"Exception: {e}\")"
   ]
  },
  {
   "cell_type": "markdown",
   "metadata": {},
   "source": [
    "## Step 7: Delete the slice\n",
    "\n",
    "Delete the slice after completing the programming."
   ]
  },
  {
   "cell_type": "code",
   "execution_count": null,
   "metadata": {},
   "outputs": [],
   "source": [
    "slice = fablib.get_slice(name=slice_name)\n",
    "slice.delete()"
   ]
  },
  {
   "cell_type": "code",
   "execution_count": null,
   "metadata": {},
   "outputs": [],
   "source": []
  }
 ],
 "metadata": {
  "kernelspec": {
   "display_name": "Python 3 (ipykernel)",
   "language": "python",
   "name": "python3"
  },
  "language_info": {
   "codemirror_mode": {
    "name": "ipython",
    "version": 3
   },
   "file_extension": ".py",
   "mimetype": "text/x-python",
   "name": "python",
   "nbconvert_exporter": "python",
   "pygments_lexer": "ipython3",
   "version": "3.10.6"
  }
 },
 "nbformat": 4,
 "nbformat_minor": 4
}
