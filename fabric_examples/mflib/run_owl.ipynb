{
 "cells": [
  {
   "cell_type": "markdown",
   "id": "69243045-1873-403d-9629-fa1c4ad9ff0f",
   "metadata": {},
   "source": [
    "# Run OWL (One-Way Latency Measurements) \n",
    "\n",
    "Script for running OWL on one or more nodes in a slice. Output for each measurement is saved as a pcap file on the destination node. \n",
    "Current implementation on IPv4 experimenter interfaces only. Assumes each node has only 1 experimental interface.\n",
    "\n",
    "(Tested on 2023/08/18)"
   ]
  },
  {
   "cell_type": "markdown",
   "id": "6e427fdb-928d-451c-932b-19dc6a3905a9",
   "metadata": {},
   "source": [
    "# First things first"
   ]
  },
  {
   "cell_type": "code",
   "execution_count": null,
   "id": "da0921b6-03ae-44cb-b14c-97ed7fb6db48",
   "metadata": {},
   "outputs": [],
   "source": [
    "from fabrictestbed_extensions.fablib.fablib import fablib\n",
    "import json"
   ]
  },
  {
   "cell_type": "code",
   "execution_count": null,
   "id": "abc417ce-5d61-49c4-b4f5-82ab19000a21",
   "metadata": {},
   "outputs": [],
   "source": [
    "slice_name = \"PTP_slice\"\n",
    "\n",
    "try:\n",
    "    slice = fablib.get_slice(name=slice_name)\n",
    "except Exception as e:\n",
    "    print(f\"Fail: {e}\")\n",
    "print (slice)"
   ]
  },
  {
   "cell_type": "code",
   "execution_count": null,
   "id": "51986091-68b9-4b81-8eef-b4c0e2c849ff",
   "metadata": {},
   "outputs": [],
   "source": [
    "from mflib import owl\n",
    "\n",
    "# for debugging only\n",
    "#import owl_local as owl"
   ]
  },
  {
   "cell_type": "code",
   "execution_count": null,
   "id": "73cf5d35-f7b9-4783-acb6-710c22e048db",
   "metadata": {},
   "outputs": [],
   "source": [
    "node1_name = 'Node1'\n",
    "node2_name = 'Node2'\n",
    "node3_name = 'Node3'\n",
    "\n",
    "try:    \n",
    "    node1 = slice.get_node(name=node1_name)\n",
    "    node2 = slice.get_node(name=node2_name)\n",
    "    node3 = slice.get_node(name=node3_name)\n",
    "    nodes = slice.get_nodes()\n",
    "except Exception as e:\n",
    "    print(f\"Fail: {e}\")   "
   ]
  },
  {
   "cell_type": "markdown",
   "id": "5f07eb14-88bf-4b68-aae7-18cc3a003dc6",
   "metadata": {},
   "source": [
    "## Look up IPs of nodes and decide which IP address to use \n",
    "\n",
    "Checking experiment IP addresses by filtering out meas_network addresses. Asssumes one experimenter interface per node."
   ]
  },
  {
   "cell_type": "code",
   "execution_count": null,
   "id": "d01214da-6720-433e-bd32-bdc88de705c3",
   "metadata": {},
   "outputs": [],
   "source": [
    "node_ip_list = owl.nodes_ip_addrs(slice)\n",
    "print(node_ip_list)"
   ]
  },
  {
   "cell_type": "markdown",
   "id": "30622c3a-1eb8-4db7-8eab-b3312b3f1ef1",
   "metadata": {},
   "source": [
    "## Check OWL prerequisites on all nodes in the slice\n",
    "\n",
    "Runs the following test and prints output on each node:\n",
    "\n",
    "+ `git clone`\n",
    "+ `ps -ef | grep phc2sys`\n",
    "+ `docker --help`"
   ]
  },
  {
   "cell_type": "code",
   "execution_count": null,
   "id": "e7f70d14-4548-4af5-9991-5d72b0e18a37",
   "metadata": {},
   "outputs": [],
   "source": [
    "owl.check_owl_prerequisites(slice)"
   ]
  },
  {
   "cell_type": "markdown",
   "id": "198bd40a-dff4-4a06-b772-4642a2eeebea",
   "metadata": {},
   "source": [
    "## Pull OWL image from DockerHub"
   ]
  },
  {
   "cell_type": "code",
   "execution_count": null,
   "id": "e4820134-01aa-4320-bcc2-76351e9e753b",
   "metadata": {},
   "outputs": [],
   "source": [
    "image_name=\"fabrictestbed/owl:0.1.4\"\n",
    "\n",
    "for node in nodes:\n",
    "    node.execute(f\"sudo docker pull {image_name}\") "
   ]
  },
  {
   "cell_type": "markdown",
   "id": "7f90ba32-5b74-436d-9233-67bed343de5a",
   "metadata": {},
   "source": [
    "# Run the experiment\n",
    "\n",
    "There are 3 ways to use OWL\n",
    "\n",
    "1. Specify each link with sender-capturer pair: this should be easiest method for most users.\n",
    "2. Start each sender and capturer manually: this is useful when you want to have more precise control\n",
    "3. Start on all links: this starts OWL on every pair of nodes in the slice (excluding meas-node if there is one)\n",
    "\n",
    "\n",
    "**Note: By default, all the previously saved pcap files will be deleted when a node starts a new OWL capturer session. If this behavior is not desired, set `delete_previous_output` to `False`.**"
   ]
  },
  {
   "cell_type": "markdown",
   "id": "1516c2fe-0e9b-405a-9255-2bb7cf97a507",
   "metadata": {},
   "source": [
    "## Method 1: Specify links by source and destination nodes\n",
    "This examples runs OWL on the following links:\n",
    "\n",
    "+ Node1 --> Node2\n",
    "+ Node2 --> Node3\n",
    "+ Node3 --> Node2\n",
    "\n",
    "For each link, sender and capturer containers will start. If one node is a destination for more than 1 sender, only 1 capturer container instance will be created."
   ]
  },
  {
   "cell_type": "code",
   "execution_count": null,
   "id": "f88680d7-2f23-4d04-8266-60415802817f",
   "metadata": {
    "tags": []
   },
   "outputs": [],
   "source": [
    "owl.start_owl(slice, src_node=slice.get_node(name='Node1'), dst_node=slice.get_node(name='Node2'), img_name=image_name, probe_freq=1, no_ptp=False, outfile=None, \n",
    "              duration = 120, delete_previous_output=True)"
   ]
  },
  {
   "cell_type": "code",
   "execution_count": null,
   "id": "27362389-bcfb-4810-8f68-0a7e52b95051",
   "metadata": {},
   "outputs": [],
   "source": [
    "owl.start_owl(slice, src_node=slice.get_node(name='Node2'), dst_node=slice.get_node(name='Node3'), img_name=image_name, probe_freq=1, no_ptp=False, outfile=None, \n",
    "              duration = 600, delete_previous_output=True)"
   ]
  },
  {
   "cell_type": "code",
   "execution_count": null,
   "id": "741e36a1-ede3-4829-8da5-3846c79b8707",
   "metadata": {
    "tags": []
   },
   "outputs": [],
   "source": [
    "owl.start_owl(slice, src_node=slice.get_node(name='Node3'), dst_node=slice.get_node(name='Node2'), img_name=image_name, probe_freq=1, no_ptp=False, outfile=None, \n",
    "              duration = 600, delete_previous_output=True)"
   ]
  },
  {
   "cell_type": "markdown",
   "id": "637992c8-1b2b-472d-8325-92d3d23cb1d5",
   "metadata": {},
   "source": [
    "### Check if they are running"
   ]
  },
  {
   "cell_type": "code",
   "execution_count": null,
   "id": "b8238fab-8f4b-46d4-a2a9-94b626a46de5",
   "metadata": {
    "tags": []
   },
   "outputs": [],
   "source": [
    "owl.check_owl_all(slice)"
   ]
  },
  {
   "cell_type": "markdown",
   "id": "60872600-8060-4596-8434-8c187e234767",
   "metadata": {
    "tags": []
   },
   "source": [
    "### Stop all OWL containers"
   ]
  },
  {
   "cell_type": "code",
   "execution_count": null,
   "id": "f609bef8-f26d-4190-89c1-b4ee4bf5074b",
   "metadata": {
    "tags": []
   },
   "outputs": [],
   "source": [
    "owl.stop_owl_all(slice)"
   ]
  },
  {
   "cell_type": "markdown",
   "id": "8d771c34-c1a7-47d3-9bcf-132f647af7e3",
   "metadata": {},
   "source": [
    "### Verify"
   ]
  },
  {
   "cell_type": "code",
   "execution_count": null,
   "id": "6d22addc-a059-4f8a-9968-3f9844a49d8a",
   "metadata": {},
   "outputs": [],
   "source": [
    "owl.check_owl_all(slice)"
   ]
  },
  {
   "cell_type": "markdown",
   "id": "2f44f683-afd4-4e73-8539-8727d9b1ffa1",
   "metadata": {},
   "source": [
    "## Method 2: start each sender, caputrer separately\n",
    "\n",
    "If user desires more granular control, sender and capturer can be started/stopped independently.\n"
   ]
  },
  {
   "cell_type": "code",
   "execution_count": null,
   "id": "419b8c15-017a-4d45-bec3-40257dac445f",
   "metadata": {},
   "outputs": [],
   "source": [
    "owl.start_owl_sender(slice, src_node=slice.get_node(name='Node1'), dst_node=slice.get_node(name='Node2'), img_name=image_name, duration=120)"
   ]
  },
  {
   "cell_type": "code",
   "execution_count": null,
   "id": "952f354a-e7d1-49f5-a591-d0a83505258d",
   "metadata": {},
   "outputs": [],
   "source": [
    "owl.start_owl_sender(slice, src_node=slice.get_node(name='Node1'), dst_node=slice.get_node(name='Node3'), img_name=image_name, duration=120)"
   ]
  },
  {
   "cell_type": "code",
   "execution_count": null,
   "id": "ece20138-7acd-4a3f-9e91-788e98eae5f3",
   "metadata": {},
   "outputs": [],
   "source": [
    "owl.start_owl_capturer(slice,  dst_node=slice.get_node(name='Node2'), img_name=image_name, duration=120)"
   ]
  },
  {
   "cell_type": "code",
   "execution_count": null,
   "id": "67a8b922-f34f-4ee4-b52e-5c26e0a90659",
   "metadata": {},
   "outputs": [],
   "source": [
    "owl.start_owl_sender(slice, src_node=slice.get_node(name='Node3'), dst_node=slice.get_node(name='Node2'), img_name=image_name, duration=120)"
   ]
  },
  {
   "cell_type": "markdown",
   "id": "18b1cab8-7be6-4626-926d-733a443e49ae",
   "metadata": {},
   "source": [
    "### Check how the containers are running"
   ]
  },
  {
   "cell_type": "code",
   "execution_count": null,
   "id": "9f735508-2b17-45df-a184-60fe75b7b2ad",
   "metadata": {},
   "outputs": [],
   "source": [
    "owl.check_owl_all(slice)"
   ]
  },
  {
   "cell_type": "markdown",
   "id": "cdbbcc44-3eaa-4323-b279-79318a1f0dd0",
   "metadata": {},
   "source": [
    "### Stop OWL containers on each node\n",
    "\n",
    "The method finds all containers with the prefix `owl-sender_` in their names, stops and removes them."
   ]
  },
  {
   "cell_type": "code",
   "execution_count": null,
   "id": "1c030fe9-bcc7-4d5b-a975-a979e53e9a41",
   "metadata": {},
   "outputs": [],
   "source": [
    "owl.stop_owl_sender(slice, src_node=slice.get_node(name='Node1'), dst_node=slice.get_node(name='Node2'))"
   ]
  },
  {
   "cell_type": "code",
   "execution_count": null,
   "id": "f7518a5f-d6d5-4286-954c-8d8eb4256d06",
   "metadata": {},
   "outputs": [],
   "source": [
    "owl.stop_owl_sender(slice, src_node=slice.get_node(name='Node1'), dst_node=slice.get_node(name='Node3'))"
   ]
  },
  {
   "cell_type": "code",
   "execution_count": null,
   "id": "1c918e46-54f1-4645-a9a1-68e3b42f91e8",
   "metadata": {},
   "outputs": [],
   "source": [
    "owl.stop_owl_capturer(slice,  dst_node=slice.get_node(name='Node2'))"
   ]
  },
  {
   "cell_type": "code",
   "execution_count": null,
   "id": "b0ddb414-08d8-43b6-b083-2f0f7ace1f6b",
   "metadata": {},
   "outputs": [],
   "source": [
    "owl.stop_owl_sender(slice, src_node=slice.get_node(name='Node3'), dst_node=slice.get_node(name='Node2'))"
   ]
  },
  {
   "cell_type": "markdown",
   "id": "1a9c5b32-b902-4276-af0c-0c3afc615235",
   "metadata": {},
   "source": [
    "### Verify"
   ]
  },
  {
   "cell_type": "code",
   "execution_count": null,
   "id": "ccfb84e2-7d22-4d6d-a4c7-d0c876575df1",
   "metadata": {},
   "outputs": [],
   "source": [
    "owl.check_owl_all(slice)"
   ]
  },
  {
   "cell_type": "markdown",
   "id": "7928b506-088b-4db3-b31a-b12ebb52dbef",
   "metadata": {},
   "source": [
    "## Method 3: start on all links\n",
    "\n",
    "If OWL measurements are desired on ALL possible links, call the following method. It will start sender and capturer containers on all nodes with each node sending probe packets to all the rest of the nodes in the slice."
   ]
  },
  {
   "cell_type": "code",
   "execution_count": null,
   "id": "98390b66-202d-4f86-95be-22736d929822",
   "metadata": {},
   "outputs": [],
   "source": [
    "owl.start_owl_all(slice, img_name=image_name, probe_freq=1, outfile=None, duration=600, delete_previous=True)"
   ]
  },
  {
   "cell_type": "markdown",
   "id": "50986b05-dfaf-4ef8-872e-cdc1de5c6a41",
   "metadata": {},
   "source": [
    "### Check if they are running"
   ]
  },
  {
   "cell_type": "code",
   "execution_count": null,
   "id": "278b896e-6251-4946-8973-0ba4399dabcc",
   "metadata": {},
   "outputs": [],
   "source": [
    "owl.check_owl_all(slice)"
   ]
  },
  {
   "cell_type": "markdown",
   "id": "a22a471f-8954-45b5-bd60-9925712e7031",
   "metadata": {
    "tags": []
   },
   "source": [
    "### Stop all OWL containers"
   ]
  },
  {
   "cell_type": "code",
   "execution_count": null,
   "id": "56c00b00-9efb-4a0a-bc2b-9bf34df7ee97",
   "metadata": {
    "tags": []
   },
   "outputs": [],
   "source": [
    "owl.stop_owl_all(slice)"
   ]
  },
  {
   "cell_type": "markdown",
   "id": "4e352985-8a2e-4cc6-8303-1d5fca842b8e",
   "metadata": {},
   "source": [
    "### Verify"
   ]
  },
  {
   "cell_type": "code",
   "execution_count": null,
   "id": "29d858f8-ec1e-4fda-9061-89e13b892d1a",
   "metadata": {},
   "outputs": [],
   "source": [
    "owl.check_owl_all(slice)"
   ]
  },
  {
   "cell_type": "markdown",
   "id": "39e1685f-6bb7-4cb4-bb70-15fbd0075895",
   "metadata": {},
   "source": [
    "# Get the Output files\n",
    "\n",
    "By default, all the pcap files are saved in `/home/rocky/owl-output` as `{dest_ip}.pcap` on the desination node.\n",
    "\n",
    "## Check the availability of output files"
   ]
  },
  {
   "cell_type": "code",
   "execution_count": null,
   "id": "638678fd-f7e0-4502-b0ed-dabff8075c20",
   "metadata": {},
   "outputs": [],
   "source": [
    "owl_output_dir = '/home/rocky/owl-output'\n",
    "\n",
    "for node in nodes:\n",
    "    print(node.get_name())\n",
    "    node.execute(f\"ls -lh {owl_output_dir}\")"
   ]
  },
  {
   "cell_type": "markdown",
   "id": "54c09e95-055e-4d73-82ec-690edf729850",
   "metadata": {},
   "source": [
    "## Download the pcap files for analysis"
   ]
  },
  {
   "cell_type": "code",
   "execution_count": null,
   "id": "7a91ad13-1b7c-48fa-bef0-dec8dd64b157",
   "metadata": {},
   "outputs": [],
   "source": [
    "for node in nodes:\n",
    "    \n",
    "    print(f\"Downloading pcap files from {node.get_name()}\")\n",
    "    \n",
    "    local_output_dir = '/home/fabric/work/my_notebooks/OWL_new/'\n",
    "    owl.download_output(node, local_output_dir)"
   ]
  }
 ],
 "metadata": {
  "kernelspec": {
   "display_name": "Python 3 (ipykernel)",
   "language": "python",
   "name": "python3"
  },
  "language_info": {
   "codemirror_mode": {
    "name": "ipython",
    "version": 3
   },
   "file_extension": ".py",
   "mimetype": "text/x-python",
   "name": "python",
   "nbconvert_exporter": "python",
   "pygments_lexer": "ipython3",
   "version": "3.10.6"
  }
 },
 "nbformat": 4,
 "nbformat_minor": 5
}
