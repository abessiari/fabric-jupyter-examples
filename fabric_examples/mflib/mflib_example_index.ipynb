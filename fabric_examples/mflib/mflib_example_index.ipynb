{
 "cells": [
  {
   "cell_type": "markdown",
   "id": "0c2da6f1",
   "metadata": {},
   "source": [
    "#### Measurement Framework Library\n",
    "# MFLib API Examples: Jupyter Notebooks\n",
    "The MeasurementFramework Library - MFLib - makes it easy to install an extensive collection of monitoring tools into your Fabric experiment.\n",
    "For in-depth information vist [fabrictestbed-mflib at Read the Docs](https://fabrictestbed-mflib.readthedocs.io/en/latest/README.html)\n",
    "\n",
    "Prerequisites:\n",
    "* Have run the basic [FABRIC Configure Environment](../../configure.ipynb) notebook. Be sure to download the created `fabric_ssh_tunnel_tools.tgz` file and extract it to an easily accessible location.\n",
    "* Check if MFLib is installed & which version is installed using [Check MFLib Version](./mflib_version_check.ipynb)\n",
    "* Install MFLib if needed. `pip install --user fabrictestbed-mflib` or [Install MFLIB using source code](./mflib_install.ipynb).\n",
    "\n",
    "## Suggested Introduction\n",
    "If this is your first time using MFLib then you should first go to [Prepare a Slice](./prepare_a_slice.ipynb) to learn how to create a slice ready to have the Measurement Framework installed.  \n",
    "Then go to [Instumentize a Slice](./instrumentize_a_slice.ipynb) to learn how to add monitoring to your experiment. This notebook will get your slice instrumentized and gathering data.   \n",
    "\n",
    "Once the slice is Instrumentized and gathering data go to [Prometheus & Grafana in a Slice](./prometheus_grafana.ipynb) and [ELK & Kibana in a Slice](./elk_kibana.ipynb) to learn how to access the collected data.  \n",
    "Then go on to the More Ways to Use Graphs notebooks to learn how to add static and dynamic graphs to your notebooks.  \n",
    "\n"
   ]
  },
  {
   "cell_type": "markdown",
   "id": "40bcc917",
   "metadata": {
    "tags": []
   },
   "source": [
    "\n",
    "## Basic Tutorials\n",
    "\n",
    "- Install MFLib\n",
    "\n",
    "  - [Check MFLib Version](./mflib_version_check.ipynb)\n",
    "  - [Install MFLib via PIP (recommended)](./mflib_install_via_pip.ipynb)\n",
    "  - [Install MFLib via source code](./mflib_install_via_source.ipynb)\n",
    "\n",
    "\n",
    "- Create Test Slice\n",
    "\n",
    "  - [Prepare a Slice via Images (recommended)](./prepare_a_slice_via_images.ipynb): Create a slice that is ready be Instrumentized using disk images. This is a faster method.  \n",
    "  OR\n",
    "  - [Prepare a Slice](./prepare_a_slice.ipynb): Create a slice that is ready be Instrumentized\n",
    "\n",
    "\n",
    "- Instrumentize a Slice\n",
    "\n",
    "  - [Instumentize a Slice](./instrumentize_a_slice.ipynb): Instrumentize a slice using MFLib API  \n",
    "\n",
    "\n",
    "- View The Gathered Metrics/Data\n",
    "\n",
    "  - [Prometheus & Grafana in a Slice](./prometheus_grafana.ipynb): Accessing Prometheus metrics with Grafana\n",
    "  - [ELK & Kibana in a Slice](./elk_kibana.ipynb) Accessing ELK logs & metrics with Kibana\n",
    "  \n",
    "  \n",
    "## Advanced Tutorials\n",
    "\n",
    "- OWL (One-way Latency) Measurement\n",
    "\n",
    "  - [Create a PTP-enabled slice](./prepare_a_ptp_enabled_slice.ipynb): Create a slice with PTP-enabled, docker-installed nodes. The slice does NOT include any other MF functionalities (as shown above) and does not include a meas-node.\n",
    "  - [Run OWL](./run_owl.ipynb): Using the PTP-enabled slice created with the previous notebook, try running OWL between nodes.\n",
    "  \n",
    "  \n",
    "\n",
    "## More Ways to Use Graphs\n",
    "\n",
    "- [Adding Graphs to Jupyter Notebooks](./mfvis_jupyternotebook_graphs.ipynb): Adding Graphs to Jupyter Notebooks using MFVis API\n",
    "- [Downloading Graphs](./mfvis_graph_downloading.ipynb): Downloading PNG Graphs using MFVis API\n",
    "\n",
    "## Workshop Tutorials\n",
    "### KNIT6\n",
    "- [Advanced Tutorial ](./KNIT6/KNIT6_start_here.ipynb): Begin the KNIT6 Advanced Tutorial.\n"
   ]
  }
 ],
 "metadata": {
  "kernelspec": {
   "display_name": "Python 3 (ipykernel)",
   "language": "python",
   "name": "python3"
  },
  "language_info": {
   "codemirror_mode": {
    "name": "ipython",
    "version": 3
   },
   "file_extension": ".py",
   "mimetype": "text/x-python",
   "name": "python",
   "nbconvert_exporter": "python",
   "pygments_lexer": "ipython3",
   "version": "3.10.6"
  },
  "vscode": {
   "interpreter": {
    "hash": "916dbcbb3f70747c44a77c7bcd40155683ae19c65e1c03b4aa3499c5328201f1"
   }
  }
 },
 "nbformat": 4,
 "nbformat_minor": 5
}
