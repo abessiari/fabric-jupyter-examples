{
 "cells": [
  {
   "cell_type": "markdown",
   "metadata": {},
   "source": [
    "# Create a slice with PTP for precise time measurements\n",
    "\n",
    "For running MF timestamp or OWL (one-way latency measurement) tools, slice nodes must meet prerequisites: \n",
    "\n",
    "+ Git and Dockerhub must be reachable \n",
    "+ Docker has to be running\n",
    "+ PTP (Precision Time Protocol) clock must be running/\n",
    "\n",
    "This notebook creates a 3-node slice and sets up all the the above\n",
    "\n",
    "(Tested on 2023/08/18)"
   ]
  },
  {
   "cell_type": "markdown",
   "metadata": {},
   "source": [
    "## Import the FABlib Library\n"
   ]
  },
  {
   "cell_type": "code",
   "execution_count": null,
   "metadata": {},
   "outputs": [],
   "source": [
    "from fabrictestbed_extensions.fablib.fablib import FablibManager as fablib_manager\n",
    "\n",
    "try:\n",
    "    fablib = fablib_manager()\n",
    "                     \n",
    "    fablib.show_config()\n",
    "except Exception as e:\n",
    "    print(f\"Exception: {e}\")"
   ]
  },
  {
   "cell_type": "markdown",
   "metadata": {
    "tags": []
   },
   "source": [
    "## Create an Experiment Slice\n",
    "\n",
    "The following creates three nodes, on different sites, with basic NICs connected to FABRIC's FABnetv4 internet. Sites can be changed, but make sure that the site is PTP-compatible. \n",
    "\n",
    "Current list of PTP-compatible sites:\n",
    "\n",
    "- STAR\n",
    "- MAX\n",
    "- MICH\n",
    "- MASS \n",
    "- UTAH\n",
    "- NCSA\n",
    "- UCSD\n",
    "- FIU\n",
    "- CLEM\n",
    "- CERN"
   ]
  },
  {
   "cell_type": "code",
   "execution_count": null,
   "metadata": {},
   "outputs": [],
   "source": [
    "slice_name = 'PTP_slice'\n",
    "\n",
    "#[site1,site2,site3] = fablib.get_random_sites(count=2, \n",
    "#        avoid=[\"DALL\",\"GPN\",\"LBNL\",\"RENC\",\"SALT\",\"TACC\",\"UKY\",\"WASH\",\"NCSA\",\"LOSA\",\"GATECH\",\"INDI\",\"MAX\", \"MASS\",\"NEWY\",\"SRI\",\"UCSD\"])\n",
    "\n",
    "# for faster execution, specify the sites (from the list above)\n",
    "[site1, site2, site3] = [\"STAR\", \"CERN\", \"CLEM\"]\n",
    "\n",
    "print(f\"Sites: {site1}, {site2}, {site3}\")\n",
    "\n",
    "node1_name = 'Node1'\n",
    "node2_name = 'Node2'\n",
    "node3_name = 'Node3'\n"
   ]
  },
  {
   "cell_type": "code",
   "execution_count": null,
   "metadata": {},
   "outputs": [],
   "source": [
    "#Create Slice. add_fabnet() automatically adds an L3 interface on each node and assigns an IP address.\n",
    "\n",
    "slice = fablib.new_slice(name=slice_name)\n",
    "\n",
    "# Node1\n",
    "node1 = slice.add_node(name=node1_name, site=site1, image='docker_rocky_8')\n",
    "node1.add_fabnet()\n",
    "\n",
    "# Node2\n",
    "node2 = slice.add_node(name=node2_name, site=site2, image='docker_rocky_8')\n",
    "node2.add_fabnet()\n",
    "\n",
    "# Node3\n",
    "node3 = slice.add_node(name=node3_name, site=site3, image='docker_rocky_8')\n",
    "node3.add_fabnet()\n",
    "\n",
    "#Submit Slice Request\n",
    "slice.submit();"
   ]
  },
  {
   "cell_type": "markdown",
   "metadata": {
    "tags": []
   },
   "source": [
    "## (Optional) Observe the Slice's Attributes"
   ]
  },
  {
   "cell_type": "code",
   "execution_count": null,
   "metadata": {
    "tags": []
   },
   "outputs": [],
   "source": [
    "try:\n",
    "    slice = fablib.get_slice(name=slice_name)\n",
    "    slice.show()\n",
    "    slice.list_nodes()\n",
    "    slice.list_networks()\n",
    "    slice.list_interfaces()\n",
    "except Exception as e:\n",
    "    print(f\"Exception: {e}\")"
   ]
  },
  {
   "cell_type": "markdown",
   "metadata": {
    "tags": []
   },
   "source": [
    "<!-- ## Configure IP Addresses\n",
    "\n",
    "### Get the Assigned Subnet\n",
    "\n",
    "FABnetv4 networks are assigned a subnet and gateway by FABRIC.  You can get the subnet and available IPs from the FABlib objects.  -->"
   ]
  },
  {
   "cell_type": "markdown",
   "metadata": {},
   "source": [
    "## Check connectivity via Experimenter's network"
   ]
  },
  {
   "cell_type": "code",
   "execution_count": null,
   "metadata": {},
   "outputs": [],
   "source": [
    "try:\n",
    "    node1 = slice.get_node(name=node1_name)   \n",
    "    node3 = slice.get_node(name=node3_name)\n",
    "    node3_addr = node3.get_interface(network_name=f'FABNET_IPv4_{node3.get_site()}').get_ip_addr()\n",
    "    \n",
    "    node1.execute('hostname')\n",
    "    stdout, stderr = node1.execute(f'ping -c 5 {node3_addr}')  \n",
    "    \n",
    "except Exception as e:\n",
    "    print(f\"Exception: {e}\")"
   ]
  },
  {
   "cell_type": "markdown",
   "metadata": {},
   "source": [
    "# Prepare each node for time precision experiments"
   ]
  },
  {
   "cell_type": "code",
   "execution_count": null,
   "metadata": {},
   "outputs": [],
   "source": [
    "nodes = slice.get_nodes()"
   ]
  },
  {
   "cell_type": "markdown",
   "metadata": {},
   "source": [
    "## Enable NAT64"
   ]
  },
  {
   "cell_type": "markdown",
   "metadata": {},
   "source": [
    "### Upload and Execute the NAT64 Script\n",
    "\n",
    "We will use a NAT64 script, which configures an *IPv6* node so that it can access non-*IPv6* services. To view the script, click [here](./nat64.sh). This script sets up the [Public NAT64 Service](https://nat64.net) on your node.\n",
    "\n",
    "For more details on how uploading and executing scripts works on FABRIC, click [here](../upload_and_execute/upload_and_execute.ipynb).\n",
    "\n",
    "Based on https://nat64.net/\n",
    "Note that NAT64 could go away at any minute, as it is a public service ran independently by Kasper Dupont, and is not affiliated with FABRIC."
   ]
  },
  {
   "cell_type": "code",
   "execution_count": null,
   "metadata": {},
   "outputs": [],
   "source": [
    "# Change this to all nodes\n",
    "\n",
    "from ipaddress import ip_address, IPv6Address\n",
    "\n",
    "for node in nodes:\n",
    "    try:     \n",
    "        # If the node is an IPv6 Node then configure NAT64\n",
    "        if node.validIPAddress(node.get_management_ip()) == \"IPv6\":\n",
    "            # needed to fix sudo unable to resolve error\n",
    "            commands = \"\"\"\n",
    "            sudo echo -n \"127.0.0.1 \" | sudo cat - /etc/hostname  | sudo tee -a /etc/hosts;\n",
    "            sudo echo -n \"2a01:4f9:c010:3f02:64:0:8c52:7103       github.com\\n\"|sudo tee -a /etc/hosts;\n",
    "            sudo echo -n \"2a01:4f9:c010:3f02:64:0:8c52:7009       codeload.github.com\\n\"|sudo tee -a /etc/hosts;\n",
    "            sudo echo -n \"2a01:4f9:c010:3f02:64:0:b9c7:6e85       objects.githubusercontent.com\\n\"|sudo tee -a /etc/hosts;\n",
    "            sudo echo -n \"2600:1fa0:80b4:db49:34d9:6d1e::         ansible-galaxy.s3.amazonaws.com\\n\"|sudo tee -a /etc/hosts;\n",
    "            sudo echo -n \"2a01:4f9:c010:3f02:64:0:3455:9777       packages.confluent.io\\n\"|sudo tee -a /etc/hosts;\n",
    "            \"\"\"\n",
    "            stdout, stderr = node.execute(commands, quiet=True)\n",
    "\n",
    "        # Access non-IPv6 Services\n",
    "        stdout, stderr = node.execute(f'sudo yum install -y -q git && git clone https://github.com/fabric-testbed/jupyter-examples.git')\n",
    "\n",
    "        stdout, stderr = node.execute(f'ls jupyter-examples')\n",
    "\n",
    "    except Exception as e:\n",
    "        print(f\"Exception: {e}\")"
   ]
  },
  {
   "cell_type": "markdown",
   "metadata": {},
   "source": [
    "## Set up PTP (Precision Time Protocol)"
   ]
  },
  {
   "cell_type": "markdown",
   "metadata": {},
   "source": [
    "#### Clone MeasurementFramework Git repo Locally"
   ]
  },
  {
   "cell_type": "code",
   "execution_count": null,
   "metadata": {},
   "outputs": [],
   "source": [
    "%%bash\n",
    "rm -rf /tmp/MF;\n",
    "git clone https://github.com/fabric-testbed/MeasurementFramework.git /tmp/MF;"
   ]
  },
  {
   "cell_type": "markdown",
   "metadata": {},
   "source": [
    "#### Install and setup linux ptp package on all nodes "
   ]
  },
  {
   "cell_type": "code",
   "execution_count": null,
   "metadata": {},
   "outputs": [],
   "source": [
    "pre_requisites = f\"\"\"\n",
    "`sudo apt-get update;sudo apt-get -y install ansible git` || `sudo dnf -y install epel-release ;sudo dnf -y install ansible git`\n",
    "\"\"\"\n",
    "ansible_instructions = f\"\"\"\n",
    "cd /tmp/ansible;ansible-playbook --connection=local --inventory 127.0.0.1, --limit 127.0.0.1 playbook_fabric_experiment_ptp.yml;\n",
    "\"\"\"\n",
    "\n",
    "for node in nodes:\n",
    "    print (f\"Installing PTP on {node.get_name()}\")\n",
    "    node.upload_directory('/tmp/MF/instrumentize/ptp/ansible','/tmp/')\n",
    "    node.execute(f\"{pre_requisites}\"\\\n",
    "                 f\"{ansible_instructions}\"\\\n",
    "                )\n",
    "    print (f\"Installation of PTP Completed on {node.get_name()}\\n\\n\")"
   ]
  },
  {
   "cell_type": "markdown",
   "metadata": {},
   "source": [
    "## Start Docker "
   ]
  },
  {
   "cell_type": "code",
   "execution_count": null,
   "metadata": {},
   "outputs": [],
   "source": [
    "for node in nodes:\n",
    "    node.execute(\"sudo systemctl start docker\")\n",
    "    node.execute(\"sudo systemctl enable docker\")\n",
    "    node.execute(\"sudo usermod -aG docker rocky\")\n",
    "    \n",
    "    print(f\"\\n Verify installtion... on {node.get_name()}\")\n",
    "    node.execute(\"docker --help\")"
   ]
  },
  {
   "cell_type": "markdown",
   "metadata": {},
   "source": [
    "# (Optional) Extend the slice (Add 14 days)"
   ]
  },
  {
   "cell_type": "code",
   "execution_count": null,
   "metadata": {},
   "outputs": [],
   "source": [
    "try:\n",
    "    slice = fablib.get_slice(name=slice_name)\n",
    "    print(f\"Lease End         : {slice.get_lease_end()}\")\n",
    "       \n",
    "except Exception as e:\n",
    "    print(f\"Exception: {e}\")"
   ]
  },
  {
   "cell_type": "code",
   "execution_count": null,
   "metadata": {},
   "outputs": [],
   "source": [
    "import datetime\n",
    "\n",
    "#Extend slice\n",
    "end_date = (datetime.datetime.now().astimezone() + datetime.timedelta(days=14)).strftime(\"%Y-%m-%d %H:%M:%S %z\")\n",
    "\n",
    "try:\n",
    "    slice = fablib.get_slice(name=slice_name)\n",
    "    slice.renew(end_date)\n",
    "    print(f\"New lease end date : {slice.get_lease_end()}\")\n",
    "    \n",
    "except Exception as e:\n",
    "    print(f\"Exception: {e}\")"
   ]
  },
  {
   "cell_type": "markdown",
   "metadata": {},
   "source": [
    "# Delete the Slice"
   ]
  },
  {
   "cell_type": "code",
   "execution_count": null,
   "metadata": {},
   "outputs": [],
   "source": [
    "# try:\n",
    "#     slice = fablib.get_slice(name=slice_name)\n",
    "#     slice.delete()\n",
    "# except Exception as e:\n",
    "#     print(f\"Exception: {e}\")"
   ]
  }
 ],
 "metadata": {
  "kernelspec": {
   "display_name": "Python 3 (ipykernel)",
   "language": "python",
   "name": "python3"
  },
  "language_info": {
   "codemirror_mode": {
    "name": "ipython",
    "version": 3
   },
   "file_extension": ".py",
   "mimetype": "text/x-python",
   "name": "python",
   "nbconvert_exporter": "python",
   "pygments_lexer": "ipython3",
   "version": "3.10.6"
  }
 },
 "nbformat": 4,
 "nbformat_minor": 4
}
