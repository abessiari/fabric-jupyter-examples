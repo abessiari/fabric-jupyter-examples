{
 "cells": [
  {
   "cell_type": "markdown",
   "id": "178a0705-17aa-41cf-a0e0-9ce25c5931f4",
   "metadata": {
    "tags": []
   },
   "source": [
    "# Stitch to Cloudlab using a FABRIC facility port\n",
    "\n",
    "This notebook shows how to use a facility port to connect your FABRIC experiment to the Cloudlab testbed."
   ]
  },
  {
   "cell_type": "markdown",
   "id": "3aca4c97-f47f-4beb-99e0-b5eb35f9d0a2",
   "metadata": {},
   "source": [
    "## Import the FABlib library"
   ]
  },
  {
   "cell_type": "code",
   "execution_count": null,
   "id": "32e4df2d-b1b7-41aa-a859-3a8b97836897",
   "metadata": {},
   "outputs": [],
   "source": [
    "from fabrictestbed_extensions.fablib.fablib import FablibManager as fablib_manager\n",
    "from ipaddress import ip_address, IPv4Address, IPv6Address, IPv4Network, IPv6Network\n",
    "import ipaddress\n",
    "\n",
    "fablib = fablib_manager()\n",
    "                     \n",
    "fablib.show_config();"
   ]
  },
  {
   "cell_type": "markdown",
   "id": "94421c29-8585-4c47-be3e-b6f75c314cd3",
   "metadata": {},
   "source": [
    "## Create the Experiment Slice\n",
    "\n",
    "The following creates a single node with basic compute capabilities. You build a slice by creating a new slice and adding resources to the slice. After you build the slice, you must submit a request for the slice to be instantiated.   \n",
    "\n",
    "By default, the submit function will block until the node is ready and will display the progress of your slice being built.\n",
    "\n"
   ]
  },
  {
   "cell_type": "code",
   "execution_count": null,
   "id": "e2147aa8-ae70-4307-8568-31b216cbba8e",
   "metadata": {},
   "outputs": [],
   "source": [
    "slice_name = \"MySlice\"\n",
    "\n",
    "node_name = 'node1'\n",
    "network_name = 'net1'\n",
    "\n",
    "facility_port='Utah-Cloudlab-Powder'\n",
    "facility_port_site='UTAH'\n",
    "facility_port_vlan='3101'\n",
    "\n",
    "#Create a slice\n",
    "slice = fablib.new_slice(name=slice_name)\n",
    "\n",
    "# Create a L2 network, the network config should match the subnet used on the Cloudlab side\n",
    "net = slice.add_l2network(name=network_name, subnet=IPv4Network('192.168.1.0/24'))\n",
    "\n",
    "node = slice.add_node(name=node_name, site='UTAH')\n",
    "\n",
    "# If choosing a FABRIC site not directly connected to the Cloudlab site, NIC_Basic cannot be used with the required L2 network\n",
    "#node_iface = node.add_component(model='NIC_ConnectX_6', name=\"nic1\").get_interfaces()[0]\n",
    "node_iface = node.add_component(model='NIC_Basic', name=\"nic1\").get_interfaces()[0]\n",
    "net.add_interface(node_iface)\n",
    "node_iface.set_mode('config')\n",
    "# Set a specific IP address for the stitch interface on the node\n",
    "node_iface.set_ip_addr(IPv4Address(\"192.168.1.10\"))\n",
    "\n",
    "# Create a facility port component\n",
    "facility_port = slice.add_facility_port(name=facility_port, site=facility_port_site, vlan=facility_port_vlan)\n",
    "facility_port_interface = facility_port.get_interfaces()[0]\n",
    "net.add_interface(facility_port_interface)\n",
    "                          \n",
    "print(f\"facility_port.get_site(): {facility_port.get_site()}\")\n",
    "\n",
    "#Submit the Request\n",
    "slice.submit();"
   ]
  },
  {
   "cell_type": "markdown",
   "id": "3876f92c-6ebb-4398-9331-0bca70d91785",
   "metadata": {
    "tags": []
   },
   "source": [
    "## Cloudlab configuration\n",
    "\n",
    "Now that the FABRIC side has been allocated,and a network is constructed towards the Cloudlab facility port, we can create resources on the Cloudlab side. We will use an existing profile that allows for the selection of stitching vlan, IP subnet, and node count. The profile is available here: https://www.cloudlab.us/p/fabfed/fabfed-stitch-v2\n",
    "\n",
    "The follwing instructions demonstrate how to use the Cloudlab Web Portal to complete this stitching experiment. Programmatic options exist through the Cloudlab API, tools, and FabFed.\n",
    "\n",
    "# Instantiate a new instance of this profile.\n",
    "\n",
    "Login to Cloudlab using your credentials and load the profile page linked above.\n",
    "\n",
    "<img src=\"img/profile.png\" width=\"80%\"><br>\n",
    "\n",
    "# Set profile parameters\n",
    "\n",
    "Next, fill in the desired paramaters available in the stitching profile. The VLAN ID must match the vlan selected for the FABRIC facility port above. The IP subnet should match that subnet that was used in the FABRIC network above. You may select one or more nodes for the Cloudlab LAN segment that will be connected at layer2 to the facility port.\n",
    "\n",
    "<img src=\"img/params.png\" width=\"80%\"><br>\n",
    "\n",
    "# Select a Cloudlab site or cluster\n",
    "\n",
    "<img src=\"img/select.png\" width=\"80%\"><br>\n",
    "\n",
    "# Create the experiment and test.\n",
    "\n",
    "Complete the steps to instantiate the profile, submit, and wait for the Cloudlab experiment to become active.\n",
    "\n",
    "Once the experiment is active, the Cloudlab portal interface can be used to access a shell on the nodes from which you can ping the FABRIC nodes.\n",
    "\n",
    "<img src=\"img/test.png\" width=\"80%\"><br>"
   ]
  },
  {
   "cell_type": "markdown",
   "id": "7d31630d-5e16-4651-8f55-8faf638b1389",
   "metadata": {},
   "source": [
    "## Ping the Cloudlab resource from your FABRIC node\n",
    "\n",
    "Update the remote IP as needed.  Given an IP subnet, the Cloudlab profile will start assigning from the first host address."
   ]
  },
  {
   "cell_type": "code",
   "execution_count": null,
   "id": "b0ce8c32-f8af-4c91-83af-b170cb0b249a",
   "metadata": {},
   "outputs": [],
   "source": [
    "slice = fablib.get_slice(slice_name)\n",
    "node = slice.get_node(name=node_name)\n",
    "stdout, stderr = node.execute('ping -c 5 192.168.1.1')"
   ]
  },
  {
   "cell_type": "markdown",
   "id": "579ff408-4bbe-4523-a599-a9b9d2008cab",
   "metadata": {},
   "source": [
    "## Delete the slice"
   ]
  },
  {
   "cell_type": "code",
   "execution_count": null,
   "id": "42c8a5f0-707c-4f54-b47d-46d17f0de39a",
   "metadata": {},
   "outputs": [],
   "source": [
    "slice = fablib.get_slice(slice_name)\n",
    "slice.delete()"
   ]
  },
  {
   "cell_type": "markdown",
   "id": "b35b3559-181b-4ffd-853d-18bf9d040501",
   "metadata": {},
   "source": [
    "## Terminate the Cloudlab experiment\n",
    "\n",
    "Use the Cloudlab portal or other tools to release any experimental resources when no longer needed."
   ]
  }
 ],
 "metadata": {
  "kernelspec": {
   "display_name": "Python 3 (ipykernel)",
   "language": "python",
   "name": "python3"
  },
  "language_info": {
   "codemirror_mode": {
    "name": "ipython",
    "version": 3
   },
   "file_extension": ".py",
   "mimetype": "text/x-python",
   "name": "python",
   "nbconvert_exporter": "python",
   "pygments_lexer": "ipython3",
   "version": "3.9.7"
  }
 },
 "nbformat": 4,
 "nbformat_minor": 5
}
