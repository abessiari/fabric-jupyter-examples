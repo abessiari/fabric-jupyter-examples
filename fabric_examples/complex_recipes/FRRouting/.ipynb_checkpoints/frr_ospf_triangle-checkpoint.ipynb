{
 "cells": [
  {
   "cell_type": "markdown",
   "metadata": {},
   "source": [
    "# Routing Topology: OSPF using FRRouting Software Routers\n",
    "\n",
    "This example shows how to deploy a topology of FRRouter software routers on FABRIC. \n",
    "\n",
    "### Background: FRRouting\n",
    "\n",
    "[FRRouting](https://frrouting.org/) is an open source software router that is available for most Linux distros. FRRouting provides a suite of routing protocols including [OSPF](https://en.wikipedia.org/wiki/Open_Shortest_Path_First) dameons used in this example to propagate route updates across the topology.\n",
    "\n",
    "You might be familiar with the [Quagga](https://www.quagga.net/) router suite.  FRRouting is based on Quagga but has a more active upstream community including many large companies working on cloud networking. If you want to deploy any common routing protocol on FABRIC, FRRouting may be a great choice for your project.\n",
    "\n",
    "\n",
    "### Target FABRIC Topology\n",
    "\n",
    "\n",
    "This notebook will create a routed topology composed of nodes at three different FABRIC sites. An FRRouter will be deployed at each site. The router will be directly connected to a local layer 2 Ethernet (L2Bridge) and will serve as a gateway for any nodes at that site, connected to that local network.  The three routers will be connected to each other using dedicated layer 2 network circuits across FABRIC forming a triangle. Each router will contain an [OSPF](https://en.wikipedia.org/wiki/Open_Shortest_Path_First) daemon that will propagate route updates across the topology.\n",
    "\n",
    "Each FRRouter will be deployed in a VM at each site. The FRRouting software will be packaged as a Docker container and deployed on the VM using Docker host networking which allows direct access the networks.\n",
    "\n",
    "In addition to the routers, the example will deploy two VMs on each site connected to the local network and configured to route traffic through the FRRouter gateway.\n",
    "\n",
    "A high level view of the topology is depicted in the figure below.\n",
    "\n",
    "<img src=\"./figs/frr.png\" width=\"70%\"><br>\n",
    "\n",
    "### Additional Features\n",
    "\n",
    "In addition to the FRRouting suite, this notebook uses a few other advanced features.  In addition to learning about these features via the example in this notebook, additional information can be found at the links included here.\n",
    "\n",
    "- Templated Post boot tasks  ([example](../../../fabric_examples/fablib_api/post_boot_task_templates/post_boot_task_templates.ipynb))\n",
    "- Docker containers  ([example](../../../fabric_examples/fablib_api/docker_containers/docker_containers.ipynb))\n",
    "- iPerf3 and NUMA tuning  ([example](../../../fabric_examples/complex_recipes/iPerf3/iperf3_optimized_smart_nic.ipynb))\n",
    "\n",
    "\n",
    "### FABlib API References\n",
    "\n",
    "- [fablib.get_random_sites()](https://fabric-fablib.readthedocs.io/en/latest/fablib.html#fabrictestbed_extensions.fablib.fablib.FablibManager.get_random_sites)\n",
    "- [node.add_post_boot_upload_directory()](https://fabric-fablib.readthedocs.io/en/latest/node.html#fabrictestbed_extensions.fablib.node.Node.add_post_boot_upload_directory)\n",
    "- [node.add_post_boot_execute()](https://fabric-fablib.readthedocs.io/en/latest/node.html#fabrictestbed_extensions.fablib.node.Node.add_post_boot_execute)\n",
    "- [node.numa_tune()](https://fabric-fablib.readthedocs.io/en/latest/node.html#fabrictestbed_extensions.fablib.node.Node.numa_tune)\n",
    "- [node.pin_cpu()](https://fabric-fablib.readthedocs.io/en/latest/node.html#fabrictestbed_extensions.fablib.node.Node.pin_cpu)\n",
    "- [node.os_reboot()](https://fabric-fablib.readthedocs.io/en/latest/node.html#fabrictestbed_extensions.fablib.node.Node.os_reboot)\n"
   ]
  },
  {
   "cell_type": "markdown",
   "metadata": {},
   "source": [
    "## Import the FABlib Library\n",
    "\n",
    "In addition to the FABlib library, this example uses a few basic Python libraries for handling IP addresses and subnets."
   ]
  },
  {
   "cell_type": "code",
   "execution_count": null,
   "metadata": {
    "tags": []
   },
   "outputs": [],
   "source": [
    "from ipaddress import ip_address, IPv4Address, IPv6Address, IPv4Network, IPv6Network\n",
    "import ipaddress\n",
    "\n",
    "from fabrictestbed_extensions.fablib.fablib import FablibManager as fablib_manager\n",
    "\n",
    "fablib = fablib_manager()\n",
    "                     \n",
    "fablib.show_config();\n"
   ]
  },
  {
   "cell_type": "markdown",
   "metadata": {},
   "source": [
    "## Create the Experiment Slice\n",
    "\n",
    "The following creates private layer 2 networks on three sites including OSPF gateway routers that propagate routes across the topology. \n",
    "\n",
    "\n",
    "<img src=\"./figs/frr_detailed.png\" width=\"90%\"><br>\n",
    "\n",
    "\n",
    "\n",
    "### General Configuration\n",
    "\n",
    "Set the name of the slice, the sites to use, and the number of additional (non-router) nodes to add to each site."
   ]
  },
  {
   "cell_type": "code",
   "execution_count": null,
   "metadata": {
    "tags": []
   },
   "outputs": [],
   "source": [
    "slice_name = 'OSPF_Routing_Topology'\n",
    "\n",
    "sites = [site1, site2, site3] = fablib.get_random_sites(count=3, avoid=[])\n",
    "print(f\"Sites: {sites}\")\n",
    "\n",
    "site_node_count=1\n"
   ]
  },
  {
   "cell_type": "markdown",
   "metadata": {},
   "source": [
    "### Create the Slice"
   ]
  },
  {
   "cell_type": "code",
   "execution_count": null,
   "metadata": {},
   "outputs": [],
   "source": [
    "slice = fablib.new_slice(name=slice_name)"
   ]
  },
  {
   "cell_type": "markdown",
   "metadata": {},
   "source": [
    "### Add the Routers to the Topology\n",
    "\n",
    "\n",
    "<img src=\"./figs/router.png\" width=\"40%\"><br>\n"
   ]
  },
  {
   "cell_type": "markdown",
   "metadata": {},
   "source": [
    "#### Router1\n",
    "\n",
    "Add router1 and its local network using subnet `192.168.1.0/24` and set the router's gateway IP to `192.168.1.1`.\n",
    "\n",
    "This example applies user specified IPs that are automatically configured during the post boot configuration step. See this [example](./fabric_examples/fablib_api/create_l2network_wide_area_config/create_l2network_wide_area_config.ipynb) for more information.\n"
   ]
  },
  {
   "cell_type": "code",
   "execution_count": null,
   "metadata": {},
   "outputs": [],
   "source": [
    "subnet1 = IPv4Network(\"192.168.1.0/24\")\n",
    "gateway1 = subnet1[1]\n",
    "\n",
    "net1 = slice.add_l2network(name='net1', subnet=subnet1, gateway=gateway1)\n",
    "\n",
    "router1 = slice.add_node(name='router1', site=site1, cores=4, ram=8, disk=100, image='docker_rocky_8', host=f'{site1.lower()}-w1.fabric-testbed.net')\n",
    "router1_local_iface = router1.add_component(model='NIC_Basic', name='nic_local').get_interfaces()[0]\n",
    "\n",
    "router1_local_iface.set_mode('config')\n",
    "net1.add_interface(router1_local_iface)\n",
    "router1_local_iface.set_ip_addr(gateway1);"
   ]
  },
  {
   "cell_type": "markdown",
   "metadata": {},
   "source": [
    "#### Router2\n",
    "\n",
    "Add router2 and its local network using subnet `192.168.2.0/24` and set the router's gateway IP to `192.168.2.1`.\n",
    "\n",
    "This example applies user specified IPs that are automatically configured during the post boot configuration step.  See this [example](./fabric_examples/fablib_api/create_l2network_wide_area_config/create_l2network_wide_area_config.ipynb) for more information.\n",
    "\n",
    "\n",
    "\n",
    "\n"
   ]
  },
  {
   "cell_type": "code",
   "execution_count": null,
   "metadata": {},
   "outputs": [],
   "source": [
    "subnet2 = IPv4Network(\"192.168.2.0/24\")\n",
    "gateway2 = subnet2[1]\n",
    "\n",
    "net2 = slice.add_l2network(name='net2', subnet=subnet2, gateway=gateway2)\n",
    "\n",
    "router2 = slice.add_node(name='router2', site=site2, cores=4, ram=8, disk=100, image='docker_rocky_8', host=f'{site2.lower()}-w1.fabric-testbed.net')\n",
    "router2_local_iface = router2.add_component(model='NIC_Basic', name='nic_local').get_interfaces()[0]\n",
    "\n",
    "router2_local_iface.set_mode('config')\n",
    "net2.add_interface(router2_local_iface)\n",
    "router2_local_iface.set_ip_addr(gateway2);"
   ]
  },
  {
   "cell_type": "markdown",
   "metadata": {},
   "source": [
    "#### Router3\n",
    "\n",
    "Add router3 and its local network using subnet `192.168.3.0/24` and set the router's gateway IP to `192.168.3.1`.\n",
    "\n",
    "This example applies user specified IPs that are automatically configured during the post boot configuration step.  See this [example](./fabric_examples/fablib_api/create_l2network_wide_area_config/create_l2network_wide_area_config.ipynb) for more information.\n",
    "\n",
    "\n",
    "\n",
    "\n"
   ]
  },
  {
   "cell_type": "code",
   "execution_count": null,
   "metadata": {},
   "outputs": [],
   "source": [
    "subnet3 = IPv4Network(\"192.168.3.0/24\")\n",
    "gateway3 = subnet3[1]\n",
    "\n",
    "net3 = slice.add_l2network(name='net3', subnet=subnet3, gateway=gateway3)\n",
    "\n",
    "router3 = slice.add_node(name='router3', site=site3, cores=4, ram=8, disk=100, image='docker_rocky_8', host=f'{site3.lower()}-w1.fabric-testbed.net')\n",
    "router3_local_iface = router3.add_component(model='NIC_Basic', name='nic_local').get_interfaces()[0]\n",
    "\n",
    "router3_local_iface.set_mode('config')\n",
    "net3.add_interface(router3_local_iface)\n",
    "router3_local_iface.set_ip_addr(gateway3);"
   ]
  },
  {
   "cell_type": "markdown",
   "metadata": {},
   "source": [
    "### Add Post Boot Configuration Tasks\n",
    "\n",
    "This example includes a directory containing a couple scripts that should be used to configure the nodes. The following post boot tasks will execute after the nodes are booted.  The the following [example](../../../fabric_examples/fablib_api/post_boot_task_templates/post_boot_task_templates.ipynb) for more information about post boot tasks.\n",
    "\n",
    "The tasks include:\n",
    "\n",
    "- Upload node tools: Copy the `node_tools` directory to each node. This directory contains the custom configuration scripts. \n",
    "- Execute `host_tune.sh`: Execute the script that tunes the host for high-bandwidth, high-latency data transfers. Feel free to customize this script for your specific experiment.\n",
    "- Execute `enable_docker.sh`: This script enables the pre-installed Docker services. The image argument is an example of using templated post boot tasks. \n",
    "- Execute Docker pull to get required Docker container\n",
    "\n",
    "#### Router1 Post Boot Tasks"
   ]
  },
  {
   "cell_type": "code",
   "execution_count": null,
   "metadata": {},
   "outputs": [],
   "source": [
    "router1.add_post_boot_upload_directory('node_tools','.')   \n",
    "router1.add_post_boot_upload_directory('docker_containers','.')\n",
    "router1.add_post_boot_execute('node_tools/enable_docker.sh {{ _self_.image }}')\n",
    "\n",
    "dev_template = f\"{{{{ interfaces['{router1_local_iface.get_name()}'].dev }}}}\"\n",
    "\n",
    "print(f'{router1.get_name()}: dev_template: {dev_template}, local_gateway: {gateway1}')\n",
    "\n",
    "router1.add_post_boot_execute(f\"./docker_containers/fabric_frrouting/config.sh {dev_template} {gateway1} '192.168.0.0'\")   "
   ]
  },
  {
   "cell_type": "markdown",
   "metadata": {},
   "source": [
    "#### Router2 Post Boot Tasks"
   ]
  },
  {
   "cell_type": "code",
   "execution_count": null,
   "metadata": {},
   "outputs": [],
   "source": [
    "router2.add_post_boot_upload_directory('node_tools','.')    \n",
    "router2.add_post_boot_upload_directory('docker_containers','.')\n",
    "router2.add_post_boot_execute('node_tools/enable_docker.sh {{ _self_.image }}')\n",
    "\n",
    "dev_template = f\"{{{{ interfaces['{router2_local_iface.get_name()}'].dev }}}}\"\n",
    "\n",
    "print(f'{router2.get_name()}: dev_template: {dev_template}, local_gateway: {gateway2}')\n",
    "\n",
    "router2.add_post_boot_execute(f\"./docker_containers/fabric_frrouting/config.sh {dev_template} {gateway2} '192.168.0.0'\")   "
   ]
  },
  {
   "cell_type": "markdown",
   "metadata": {},
   "source": [
    "#### Router3 Post Boot Tasks"
   ]
  },
  {
   "cell_type": "code",
   "execution_count": null,
   "metadata": {},
   "outputs": [],
   "source": [
    "router3.add_post_boot_upload_directory('node_tools','.')  \n",
    "router3.add_post_boot_upload_directory('docker_containers','.')\n",
    "router3.add_post_boot_execute('node_tools/enable_docker.sh {{ _self_.image }}')\n",
    "\n",
    "dev_template = f\"{{{{ interfaces['{router3_local_iface.get_name()}'].dev }}}}\"\n",
    "\n",
    "print(f'{router3.get_name()}: dev_template: {dev_template}, local_gateway: {gateway3}')\n",
    "\n",
    "router3.add_post_boot_execute(f\"./docker_containers/fabric_frrouting/config.sh {dev_template} {gateway3} '192.168.0.0'\")   "
   ]
  },
  {
   "cell_type": "markdown",
   "metadata": {},
   "source": [
    "## Add Links between Routers\n",
    "\n",
    "<img src=\"./figs/add_links.png\" width=\"70%\"><br>\n",
    "\n",
    "The links between the routers are L2 networks with only a pair of nodes. Each of the links gets its own subnet and assigns the first two addresses, one to either end of the link.  \n",
    "\n",
    "After adding a link between two nodes, an additional post boot task is added to each node that configures the FRRouter with the new OSPF neighbor. The new task calls an additional script that was uploaded in the node_tools directory.\n"
   ]
  },
  {
   "cell_type": "markdown",
   "metadata": {},
   "source": [
    "#### Link: Router1-Router2 "
   ]
  },
  {
   "cell_type": "code",
   "execution_count": null,
   "metadata": {},
   "outputs": [],
   "source": [
    "link_info = {}\n",
    "link_subnet = IPv4Network(\"192.168.101.0/24\")\n",
    "ip_addr1=link_subnet[1]\n",
    "ip_addr2=link_subnet[2]\n",
    "\n",
    "link = slice.add_l2network(name='router1_router2', subnet=link_subnet)\n",
    "\n",
    "iface1 = router1.add_component(model='NIC_Basic', name=f'router1-router2').get_interfaces()[0]\n",
    "iface1.set_mode('config')\n",
    "link.add_interface(iface1)\n",
    "iface1.set_ip_addr(ip_addr1)\n",
    "iface1_dev = f\"{{{{ interfaces['{iface1.get_name()}'].dev }}}}\"\n",
    "router1.add_post_boot_execute(f'./docker_containers/fabric_frrouting/node_tools/add_ospf_neighbor.sh {iface1_dev} {ip_addr1} ')\n",
    "\n",
    "iface2 = router2.add_component(model='NIC_Basic', name=f'router2-router1').get_interfaces()[0]\n",
    "iface2.set_mode('config')\n",
    "link.add_interface(iface2)\n",
    "iface2.set_ip_addr(ip_addr2)    \n",
    "iface2_dev = f\"{{{{ interfaces['{iface2.get_name()}'].dev }}}}\"\n",
    "router2.add_post_boot_execute(f'./docker_containers/fabric_frrouting/node_tools/add_ospf_neighbor.sh {iface2_dev} {ip_addr2} ')"
   ]
  },
  {
   "cell_type": "markdown",
   "metadata": {},
   "source": [
    "#### Link: Router2-Router3 "
   ]
  },
  {
   "cell_type": "code",
   "execution_count": null,
   "metadata": {},
   "outputs": [],
   "source": [
    "link_info = {}\n",
    "link_subnet = IPv4Network(\"192.168.102.0/24\")\n",
    "ip_addr1=link_subnet[1]\n",
    "ip_addr2=link_subnet[2]\n",
    "\n",
    "link = slice.add_l2network(name='router2_router3', subnet=link_subnet)\n",
    "\n",
    "iface1 = router2.add_component(model='NIC_Basic', name=f'router2-router3').get_interfaces()[0]\n",
    "iface1.set_mode('config')\n",
    "link.add_interface(iface1)\n",
    "iface1.set_ip_addr(ip_addr1)\n",
    "iface1_dev = f\"{{{{ interfaces['{iface1.get_name()}'].dev }}}}\"\n",
    "router2.add_post_boot_execute(f'./docker_containers/fabric_frrouting/node_tools/add_ospf_neighbor.sh {iface1_dev} {ip_addr1} ')\n",
    "\n",
    "iface2 = router3.add_component(model='NIC_Basic', name=f'router3-router2').get_interfaces()[0]\n",
    "iface2.set_mode('config')\n",
    "link.add_interface(iface2)\n",
    "iface2.set_ip_addr(ip_addr2)    \n",
    "iface2_dev = f\"{{{{ interfaces['{iface2.get_name()}'].dev }}}}\"\n",
    "router3.add_post_boot_execute(f'./docker_containers/fabric_frrouting/node_tools/add_ospf_neighbor.sh {iface2_dev} {ip_addr2} ')\n"
   ]
  },
  {
   "cell_type": "markdown",
   "metadata": {},
   "source": [
    "#### Link: Router3-Router1"
   ]
  },
  {
   "cell_type": "code",
   "execution_count": null,
   "metadata": {},
   "outputs": [],
   "source": [
    "link_info = {}\n",
    "link_subnet = IPv4Network(\"192.168.103.0/24\")\n",
    "ip_addr1=link_subnet[1]\n",
    "ip_addr2=link_subnet[2]\n",
    "\n",
    "link = slice.add_l2network(name='router3_router1', subnet=link_subnet)\n",
    "\n",
    "iface1 = router3.add_component(model='NIC_Basic', name=f'router3-router1').get_interfaces()[0]\n",
    "iface1.set_mode('config')\n",
    "link.add_interface(iface1)\n",
    "iface1.set_ip_addr(ip_addr1)\n",
    "iface1_dev = f\"{{{{ interfaces['{iface1.get_name()}'].dev }}}}\"\n",
    "router3.add_post_boot_execute(f'./docker_containers/fabric_frrouting/node_tools/add_ospf_neighbor.sh {iface1_dev} {ip_addr1} ')\n",
    "\n",
    "iface2 = router1.add_component(model='NIC_Basic', name=f'router1-router3').get_interfaces()[0]\n",
    "iface2.set_mode('config')\n",
    "link.add_interface(iface2)\n",
    "iface2.set_ip_addr(ip_addr2)    \n",
    "iface2_dev = f\"{{{{ interfaces['{iface2.get_name()}'].dev }}}}\"\n",
    "router1.add_post_boot_execute(f'./docker_containers/fabric_frrouting/node_tools/add_ospf_neighbor.sh {iface2_dev} {ip_addr2} ')\n"
   ]
  },
  {
   "cell_type": "markdown",
   "metadata": {},
   "source": [
    "### Add Post Boot Task to Start FRRouting\n",
    "\n",
    "Finally, we add a post boot task that calls a script that starts the FRRouter connected to all of the data plane network interface devices (links to other routers and local networks).   This is done using a series of post boot script templates that are built in the cell.  \n"
   ]
  },
  {
   "cell_type": "code",
   "execution_count": null,
   "metadata": {},
   "outputs": [],
   "source": [
    "all_devs_template = ''\n",
    "for iface in router1.get_interfaces():\n",
    "    all_devs_template +=  f\" {{{{ interfaces['{iface.get_name()}'].dev }}}} \"\n",
    "router1.add_post_boot_execute(f'./docker_containers/fabric_frrouting/start.sh {all_devs_template} ')\n",
    "\n",
    "all_devs_template = ''\n",
    "for iface in router2.get_interfaces():\n",
    "    all_devs_template +=  f\" {{{{ interfaces['{iface.get_name()}'].dev }}}} \"\n",
    "router2.add_post_boot_execute(f'./docker_containers/fabric_frrouting/start.sh {all_devs_template} ')\n",
    "\n",
    "all_devs_template = ''\n",
    "for iface in router3.get_interfaces():\n",
    "    all_devs_template +=  f\" {{{{ interfaces['{iface.get_name()}'].dev }}}} \"\n",
    "router3.add_post_boot_execute(f'./docker_containers/fabric_frrouting/start.sh {all_devs_template} ')\n"
   ]
  },
  {
   "cell_type": "markdown",
   "metadata": {},
   "source": [
    "### Add Extra Nodes to Each Site\n",
    "\n",
    "Finally, we add end hosts at each site that are connected the local router and configured to route the `192.168.0.0/16` through the local FRRouter."
   ]
  },
  {
   "cell_type": "code",
   "execution_count": null,
   "metadata": {},
   "outputs": [],
   "source": [
    "\n",
    "for i, site in enumerate([site1, site2, site3]):\n",
    "    print(f\"Adding nodes to {site}\")\n",
    "    for node_num in range(site_node_count):\n",
    "        node_name = f\"{site.lower()}{node_num+1}\"\n",
    "        node = slice.add_node(name=node_name, site=site, cores=4, ram=8, disk=100, image='docker_rocky_8', host=f'{site.lower()}-w2.fabric-testbed.net')\n",
    "        \n",
    "        iface = node.add_component(model='NIC_Basic', name='nic_local').get_interfaces()[0]\n",
    "        network = slice.get_network(name=f'net{i+1}')\n",
    "\n",
    "        network.add_interface(iface)\n",
    "        iface.set_mode('auto')\n",
    "        node.add_route(subnet=IPv4Network('192.168.0.0/16'), next_hop=network.get_gateway())\n",
    "    \n",
    "        # Add post boot config    \n",
    "        node.add_post_boot_upload_directory('node_tools','.')\n",
    "        node.add_post_boot_execute('node_tools/enable_docker.sh {{ _self_.image }}')\n",
    "        node.add_post_boot_upload_directory('docker_containers','.')\n",
    "        node.add_post_boot_execute('docker pull fabrictestbed/slice-vm-rocky8-multitool:0.0.2 ')"
   ]
  },
  {
   "cell_type": "markdown",
   "metadata": {},
   "source": [
    "### Submit the Slice Request\n",
    "\n",
    "<img src=\"./figs/frr_detailed.png\" width=\"90%\"><br>\n",
    "\n",
    "Now that the slice request is complete, you can submit it.\n"
   ]
  },
  {
   "cell_type": "code",
   "execution_count": null,
   "metadata": {},
   "outputs": [],
   "source": [
    "slice.submit();"
   ]
  },
  {
   "cell_type": "markdown",
   "metadata": {
    "tags": []
   },
   "source": [
    "## Run the Experiment\n",
    "\n",
    "We will just test `ping` RTT and look at `tracepath`. \n",
    "\n",
    "Notice that if you run this quickly and repeatedly run this test against a specific target, you may see changes to the tracepath.  Initially the ping may even fail.  Why do you think this is happening?\n",
    "\n",
    "You may want to open a terminal in a new tab and use the ssh command to log into one of the end hosts and manually run `ping` and/or `tracepath`.\n"
   ]
  },
  {
   "cell_type": "code",
   "execution_count": null,
   "metadata": {
    "tags": []
   },
   "outputs": [],
   "source": [
    "try:\n",
    "    slice = fablib.get_slice(slice_name)\n",
    "\n",
    "    \n",
    "    source_node = slice.get_node(name=f'{sites[0].lower()}1')\n",
    "    \n",
    "    target_node = slice.get_node(name=f'{sites[1].lower()}1')\n",
    "    target_ip=target_node.get_interface(network_name=f'net2').get_ip_addr()\n",
    "    \n",
    "    print(f\"Testing target node: {target_node.get_name()}, target IP: {target_ip}\")\n",
    "\n",
    "    stdout, stderr = source_node.execute(f'ping -c 5 {target_ip}')\n",
    "\n",
    "    stdout, stderr = source_node.execute(f'tracepath {target_ip}')\n",
    "    \n",
    "except Exception as e:\n",
    "    print(f\"Exception: {e}\")"
   ]
  },
  {
   "cell_type": "markdown",
   "metadata": {},
   "source": [
    "Next, try running the iPerf3 test as described in this [example](./fabric_examples/complex_recipes/iPerf3/iperf3.ipynb).\n",
    "\n",
    "What bandwidth can you achieve with software routers?  Does this meet your expectations? Why do you think you got these results?"
   ]
  },
  {
   "cell_type": "code",
   "execution_count": null,
   "metadata": {
    "tags": []
   },
   "outputs": [],
   "source": [
    "slice = fablib.get_slice(slice_name)\n",
    "\n",
    "    \n",
    "source_node = slice.get_node(name=f'{sites[0].lower()}1')\n",
    "\n",
    "target_node = slice.get_node(name=f'{sites[1].lower()}1')\n",
    "target_ip=target_node.get_interface(network_name=f'net2').get_ip_addr()\n",
    "\n",
    "print(f\"Testing target node: {target_node.get_name()}, target IP: {target_ip}\")\n",
    "\n",
    "stdout1, stderr1 = target_node.execute(\"docker run -d --rm \"\n",
    "                                \"--network host \"\n",
    "                                \"fabrictestbed/slice-vm-rocky8-multitool:0.0.2  \"\n",
    "                                \"iperf3 -s -1\"\n",
    "                                , quiet=True, output_file=f\"{target_node.get_name()}.log\");\n",
    "\n",
    "stdout2, stderr2 = source_node.execute(\"docker run --rm \"\n",
    "                                \"--network host \"\n",
    "                                \"fabrictestbed/slice-vm-rocky8-multitool:0.0.2  \"\n",
    "                                f\"iperf3 -c {target_ip} -P 4 -t 30 -i 10 -O 10\"\n",
    "                                , quiet=False, output_file=f\"{node.get_name()}.log\");"
   ]
  },
  {
   "cell_type": "markdown",
   "metadata": {},
   "source": [
    "#### (Optional) NUMA Tuning\n",
    "\n",
    "Pin the VM's CPU cores and memory to the the same NUMA domain as the network card.  To complete NUMA pinning, you must remboot the VMs.\n",
    "\n",
    "Note that you may see failures on this step if other experiment have already pinned their cores and memory to the NUMA domain you are targeting."
   ]
  },
  {
   "cell_type": "code",
   "execution_count": null,
   "metadata": {},
   "outputs": [],
   "source": [
    "slice = fablib.get_slice(slice_name)\n",
    "\n",
    "for node in slice.get_nodes():\n",
    "\n",
    "    print(f'----- Pinning for node {node.get_name()} ------')\n",
    "\n",
    "    try:\n",
    "        print(f'Pinning vCPUs ')\n",
    "\n",
    "        # Pin all vCPUs for VM to same Numa node as the component\n",
    "        node.pin_cpu(component_name='nic_local')\n",
    "\n",
    "        print(f'Pinning memory ')\n",
    "        # Pin memmory for VM to same Numa node as the components\n",
    "        node.numa_tune()\n",
    "\n",
    "        # Reboot the VM\n",
    "        node.os_reboot()\n",
    "    except Exception as e:\n",
    "        print(f'{e}')\n",
    "        \n",
    "    "
   ]
  },
  {
   "cell_type": "markdown",
   "metadata": {},
   "source": [
    "After the VMs reboot, you probably need to reconfigure the VMs.  This notebook includes a scritp to restart the FRRouter."
   ]
  },
  {
   "cell_type": "code",
   "execution_count": null,
   "metadata": {},
   "outputs": [],
   "source": [
    "slice = fablib.get_slice(slice_name)\n",
    "\n",
    "# Wait for the SSH Connectivity to be back\n",
    "slice.wait_ssh()\n",
    "\n",
    "print(\"Nodes are back up!\")\n",
    "\n",
    "# Re-configuring the Network\n",
    "for node in slice.get_nodes():\n",
    "    print(f'Reconfiguring node {node.get_name()}')\n",
    "    node.config()\n",
    "\n",
    "    stdout1, stderr1 = node.execute(f\"sudo systemctl start docker\", output_file=f'{node.get_name()}.log', quiet=True)    \n",
    "    stdout1, stderr1 = node.execute(f\"sudo ./docker_containers/fabric_frrouting/node_tools/host_tune.sh\", \n",
    "                                    output_file=f'{node.get_name()}.log', quiet=True)\n",
    "    if 'router' in node.get_name():\n",
    "        stdout1, stderr1 = node.execute(f'sudo ./docker_containers/fabric_frrouting/restart.sh', \n",
    "                                    output_file=f'{node.get_name()}.log', quiet=True)"
   ]
  },
  {
   "cell_type": "markdown",
   "metadata": {
    "tags": []
   },
   "source": [
    "## Re-Run the Experiment\n",
    "\n",
    "We will just test `ping` RTT and look at `tracepath`. Your experiment should be more interesting!\n",
    "\n",
    "Notice that if you run this quickly and repeatedly run this test against a specific target, you may see changes to the tracepath.  Initially the ping may even fail.  Why do you think this is happening?\n"
   ]
  },
  {
   "cell_type": "code",
   "execution_count": null,
   "metadata": {
    "tags": []
   },
   "outputs": [],
   "source": [
    "try:\n",
    "    slice = fablib.get_slice(slice_name)\n",
    "\n",
    "    \n",
    "    source_node = slice.get_node(name=f'{sites[0].lower()}1')\n",
    "    \n",
    "    target_node = slice.get_node(name=f'{sites[1].lower()}1')\n",
    "    target_ip=target_node.get_interface(network_name=f'net2').get_ip_addr()\n",
    "    \n",
    "    print(f\"Testing target node: {target_node.get_name()}, target IP: {target_ip}\")\n",
    "\n",
    "    stdout, stderr = source_node.execute(f'ping -c 5 {target_ip}')\n",
    "\n",
    "    stdout, stderr = source_node.execute(f'tracepath {target_ip}')\n",
    "    \n",
    "except Exception as e:\n",
    "    print(f\"Exception: {e}\")"
   ]
  },
  {
   "cell_type": "markdown",
   "metadata": {},
   "source": [
    "Next, try running the iPerf3 test again as described in this [example](./fabric_examples/complex_recipes/iPerf3/iperf3.ipynb).\n",
    "\n",
    "What bandwidth can you achieve with software routers after NUMA tuning?  Does this meet your expectations? Why do you think you got these results?"
   ]
  },
  {
   "cell_type": "code",
   "execution_count": null,
   "metadata": {
    "tags": []
   },
   "outputs": [],
   "source": [
    "slice = fablib.get_slice(slice_name)\n",
    "\n",
    "    \n",
    "source_node = slice.get_node(name=f'{sites[0].lower()}1')\n",
    "\n",
    "target_node = slice.get_node(name=f'{sites[1].lower()}1')\n",
    "target_ip=target_node.get_interface(network_name=f'net2').get_ip_addr()\n",
    "\n",
    "print(f\"Testing target node: {target_node.get_name()}, target IP: {target_ip}\")\n",
    "\n",
    "stdout1, stderr1 = target_node.execute(\"docker run -d --rm \"\n",
    "                                \"--network host \"\n",
    "                                \"fabrictestbed/slice-vm-rocky8-multitool:0.0.2  \"\n",
    "                                \"iperf3 -s -1\"\n",
    "                                , quiet=True, output_file=f\"{target_node.get_name()}.log\");\n",
    "\n",
    "stdout2, stderr2 = source_node.execute(\"docker run --rm \"\n",
    "                                \"--network host \"\n",
    "                                \"fabrictestbed/slice-vm-rocky8-multitool:0.0.2  \"\n",
    "                                f\"iperf3 -c {target_ip} -P 8 -t 30 -i 10 -O 10\"\n",
    "                                , quiet=False, output_file=f\"{node.get_name()}.log\");"
   ]
  },
  {
   "cell_type": "markdown",
   "metadata": {},
   "source": [
    "## Delete the Slice\n",
    "\n",
    "Please delete your slice when you are done with your experiment."
   ]
  },
  {
   "cell_type": "code",
   "execution_count": null,
   "metadata": {
    "tags": []
   },
   "outputs": [],
   "source": [
    "try:\n",
    "    slice = fablib.get_slice(name=slice_name)\n",
    "    slice.delete()\n",
    "except Exception as e:\n",
    "    print(f\"Exception: {e}\")"
   ]
  },
  {
   "cell_type": "code",
   "execution_count": null,
   "metadata": {},
   "outputs": [],
   "source": [
    "\n"
   ]
  }
 ],
 "metadata": {
  "kernelspec": {
   "display_name": "Python 3 (ipykernel)",
   "language": "python",
   "name": "python3"
  },
  "language_info": {
   "codemirror_mode": {
    "name": "ipython",
    "version": 3
   },
   "file_extension": ".py",
   "mimetype": "text/x-python",
   "name": "python",
   "nbconvert_exporter": "python",
   "pygments_lexer": "ipython3",
   "version": "3.11.2"
  }
 },
 "nbformat": 4,
 "nbformat_minor": 4
}
