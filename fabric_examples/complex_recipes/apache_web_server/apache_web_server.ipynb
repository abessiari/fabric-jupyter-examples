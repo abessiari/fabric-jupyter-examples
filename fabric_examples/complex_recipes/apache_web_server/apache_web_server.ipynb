{
 "cells": [
  {
   "cell_type": "markdown",
   "id": "172e8938-6610-4bda-b226-6cf0d74ad193",
   "metadata": {},
   "source": [
    "#  Setting Up an Apache Web Server\n",
    "\n",
    "A web server allows for data hosted on one computer (the \"server\") to be accessable by other nodes on the network. We will refer to any nodes wanting to access the data as \"clients\".\n",
    "\n",
    "This example notebook will demonstrate how to set up a client-server network topology on FABRIC, install Apache on a server node, and download files from the server node to a single client node.\n",
    "\n",
    "\n",
    "## Configure the Environment"
   ]
  },
  {
   "cell_type": "markdown",
   "id": "e46aa7ee-f4a9-4cab-9123-6af2c334eca8",
   "metadata": {},
   "source": [
    "## Setup the Experiment\n",
    "\n",
    "#### Import FABRIC API"
   ]
  },
  {
   "cell_type": "code",
   "execution_count": null,
   "id": "d1c12b38-b9cf-4e0e-9c8b-90bd7bbde094",
   "metadata": {},
   "outputs": [],
   "source": [
    "from ipaddress import ip_address, IPv4Address, IPv6Address, IPv4Network, IPv6Network\n",
    "import ipaddress\n",
    "\n",
    "from fabrictestbed_extensions.fablib.fablib import FablibManager as fablib_manager\n",
    "\n",
    "fablib = fablib_manager()\n",
    "                     \n",
    "fablib.show_config();"
   ]
  },
  {
   "cell_type": "markdown",
   "id": "13998349-9bce-453f-977e-78930228936d",
   "metadata": {},
   "source": [
    "## Step 4: Create the Experiment Slice\n",
    "\n",
    "The following creates two nodes with basic NICs connected to an isolated WAN Ethernet, as outlined in the [Create a Wide Area Ethernet (Layer 2) tutorial](../../fablib_api/create_l2network_wide_area_auto/create_l2network_wide_area_auto.ipynb). More advanced topologies can be created, so long as the server node is routable by each client attempting to access the server's data."
   ]
  },
  {
   "cell_type": "code",
   "execution_count": null,
   "id": "8ab1834b-6f6d-4109-ad73-2ddda81a104a",
   "metadata": {},
   "outputs": [],
   "source": [
    "slice_name = 'MySlice-apache-web-server'\n",
    "[site1,site2]  = fablib.get_random_sites(count=2)\n",
    "print(f\"Sites: {site1}, {site2}\")\n",
    "\n",
    "server_name = 'server'\n",
    "client_name = 'client'\n",
    "network_name='net1'\n",
    "server_nic_name = 'server_nic'\n",
    "client_nic_name = 'client_nic'\n",
    "\n",
    "# We will use Ubuntu 20.04 for both nodes\n",
    "image = 'default_ubuntu_20'"
   ]
  },
  {
   "cell_type": "markdown",
   "id": "dae3919b-af8d-4a7a-bc88-8b8a1d0fa49d",
   "metadata": {},
   "source": [
    "In this example, we will set up an L2 network. As discuss above, a different network configuration, such as using the FABNet L3 network should work, so long as the clients and server can route to each other."
   ]
  },
  {
   "cell_type": "code",
   "execution_count": null,
   "id": "6b76d1f4-75ad-4907-a671-62e223722c14",
   "metadata": {},
   "outputs": [],
   "source": [
    "try:\n",
    "    #Create Slice\n",
    "    slice = fablib.new_slice(name=slice_name)\n",
    "\n",
    "    # Network\n",
    "    net1 = slice.add_l2network(name=network_name, subnet=IPv4Network(\"192.168.1.0/24\"))\n",
    "\n",
    "    # Node1\n",
    "    server = slice.add_node(name=server_name, site=site1, image=image)\n",
    "    server_iface = server.add_component(model='NIC_Basic', name=server_nic_name).get_interfaces()[0]\n",
    "    server_iface.set_mode('auto')\n",
    "    net1.add_interface(server_iface)\n",
    "    \n",
    "    # Node2\n",
    "    client = slice.add_node(name=client_name, site=site2, image=image)\n",
    "    client_iface = client.add_component(model='NIC_Basic', name=client_nic_name).get_interfaces()[0]\n",
    "    client_iface.set_mode('auto')\n",
    "    net1.add_interface(client_iface)    \n",
    "\n",
    "    #Submit Slice Request\n",
    "    slice.submit()\n",
    "except Exception as e:\n",
    "    print(f\"Exception: {e}\")"
   ]
  },
  {
   "cell_type": "markdown",
   "id": "dc8d9e5e-aac2-4743-9b1f-afc233dd3ea4",
   "metadata": {},
   "source": [
    "## Get Slice information"
   ]
  },
  {
   "cell_type": "code",
   "execution_count": null,
   "id": "8083cd69-1c83-473c-bdae-c11cfb506d81",
   "metadata": {},
   "outputs": [],
   "source": [
    "slice = fablib.get_slice(name=slice_name)\n",
    "server = slice.get_node(name=server_name)\n",
    "client = slice.get_node(name=client_name)"
   ]
  },
  {
   "cell_type": "markdown",
   "id": "3017c7dd-36e1-41f8-b539-8bcc447fa936",
   "metadata": {},
   "source": [
    "## Install Apache on the Server Node"
   ]
  },
  {
   "cell_type": "code",
   "execution_count": null,
   "id": "d2167e91-e94f-4cc0-9ea0-aa5f76498442",
   "metadata": {},
   "outputs": [],
   "source": [
    "apache_root_dir = \"/var/www/html\" # Default Root Directory to Store Web Server Files\n",
    "\n",
    "try:\n",
    "    print(\"Installing Apache...\")\n",
    "    stdout, stderr = server.execute(\"sudo apt-get update && sudo apt-get install -y apache2\")\n",
    "    print(\"Finished installing Apache.\")\n",
    "    \n",
    "except Exception as e:\n",
    "    print(f\"Exception: {e}\")"
   ]
  },
  {
   "cell_type": "markdown",
   "id": "1899f9ed-8223-4a16-b366-b54d7be4ec9c",
   "metadata": {},
   "source": [
    "## Optional: Set Up Firewall"
   ]
  },
  {
   "cell_type": "code",
   "execution_count": null,
   "id": "50710e77-fbfb-4470-9dea-979d93841bfa",
   "metadata": {},
   "outputs": [],
   "source": [
    "commands = [\n",
    "    \"sudo ufw allow 'Apache'\",                                # Allow Port 80 Through Firewall\n",
    "    \"sudo ufw allow ssh\",                                     # Allow Port 22 Through Firewall (IMPORTANT)\n",
    "    \"echo 'y' | sudo ufw enable\"                              # Enable the Firewall\n",
    "]\n",
    "\n",
    "try:\n",
    "    print(\"Setting up firewall...\")\n",
    "    for command in commands:\n",
    "        stdout, stderr = server.execute(command)\n",
    "    print(\"Finished setting up firewall.\")\n",
    "    \n",
    "except Exception as e:\n",
    "    print(f\"Exception: {e}\")"
   ]
  },
  {
   "cell_type": "markdown",
   "id": "11b68f53-7d0d-4705-8f6a-b1129aa55345",
   "metadata": {},
   "source": [
    "## Check to Ensure the Firewall is Active\n",
    "\n",
    "The command below should result in a table that looks like:\n",
    "\n",
    "```\n",
    "Status: active\n",
    "\n",
    "To                         Action      From\n",
    "--                         ------      ----\n",
    "Apache                     ALLOW       Anywhere                  \n",
    "22/tcp                     ALLOW       Anywhere                  \n",
    "Apache (v6)                ALLOW       Anywhere (v6)             \n",
    "22/tcp (v6)                ALLOW       Anywhere (v6)             \n",
    "```"
   ]
  },
  {
   "cell_type": "code",
   "execution_count": null,
   "id": "7c7cab77-45ba-457c-bb5e-c685e620cf1c",
   "metadata": {},
   "outputs": [],
   "source": [
    "try:\n",
    "    stdout, stderr = server.execute('sudo ufw status')\n",
    "    print(stdout)\n",
    "    \n",
    "except Exception as e:\n",
    "    print(f\"Exception: {e}\")"
   ]
  },
  {
   "cell_type": "markdown",
   "id": "b5687691-434f-44d6-8e52-25ff66daed01",
   "metadata": {},
   "source": [
    "## Check to Ensure the Apache Service is Active\n",
    "\n",
    "The command below should result in an entry that looks like:\n",
    "\n",
    "```\n",
    "● apache2.service - The Apache HTTP Server\n",
    "     Loaded: loaded (/lib/systemd/system/apache2.service; enabled; vendor preset: enabled)\n",
    "     Active: active (running) since ...\n",
    "```"
   ]
  },
  {
   "cell_type": "code",
   "execution_count": null,
   "id": "d58a4fce-c682-4459-a974-8acbfcea8fe2",
   "metadata": {},
   "outputs": [],
   "source": [
    "try:\n",
    "    stdout, stderr = server.execute('sudo systemctl status apache2')\n",
    "    print(stdout)\n",
    "    \n",
    "except Exception as e:\n",
    "    print(f\"Exception: {e}\")"
   ]
  },
  {
   "cell_type": "markdown",
   "id": "49a43c1a-7983-48be-bab2-74d9e0697f72",
   "metadata": {},
   "source": [
    "## Optional: Change Directory of Where Apache Files are Stored\n",
    "\n",
    "Update the `apache_root_dir` variable below to the directory you would like to store your files."
   ]
  },
  {
   "cell_type": "code",
   "execution_count": null,
   "id": "6ffe6260-e5e9-43c2-9de8-6f81a17a73bf",
   "metadata": {},
   "outputs": [],
   "source": [
    "apache_root_dir = \"/home/ubuntu/apache_contents\"\n",
    "change_root = f\"mkdir -p {apache_root_dir} && sudo sed -i 's,/var/www/html,{apache_root_dir},g' /etc/apache2/sites-available/000-default.conf && sudo sed -i 's,/var/www/html,{apache_root_dir},g' /etc/apache2/sites-available/default-ssl.conf && sudo sed -i 's,/var/www/,{apache_root_dir},g' /etc/apache2/apache2.conf\"\n",
    "\n",
    "try:\n",
    "    stdout, stderr = server.execute(change_root)\n",
    "    print(stderr)\n",
    "    \n",
    "except Exception as e:\n",
    "    print(f\"Exception: {e}\")"
   ]
  },
  {
   "cell_type": "markdown",
   "id": "c8296ad6-e2b7-47dd-85e0-9e7080086ab2",
   "metadata": {},
   "source": [
    "Restart the Apache service to have the changes take effect."
   ]
  },
  {
   "cell_type": "code",
   "execution_count": null,
   "id": "bc81311d-5ae6-4250-b825-49d86f991bfb",
   "metadata": {},
   "outputs": [],
   "source": [
    "try:\n",
    "    stdout, stderr = server.execute(\"sudo service apache2 restart\")\n",
    "    print(stderr)\n",
    "    \n",
    "except Exception as e:\n",
    "    print(f\"Exception: {e}\")"
   ]
  },
  {
   "cell_type": "markdown",
   "id": "6b205506-72e8-4278-8191-79d713eae7f8",
   "metadata": {},
   "source": [
    "## Save Your Files to the Server\n",
    "\n",
    "Here, we will create a new file called `download_me`, which will be a simple text file. Let's write `Congratualtions! The Apache server was setup correctly.` to our file by redirecting the string into the command `tee`, which writes the string into the file."
   ]
  },
  {
   "cell_type": "code",
   "execution_count": null,
   "id": "262c3977-e8e8-4530-93b5-24975c350cbe",
   "metadata": {},
   "outputs": [],
   "source": [
    "create_file = f'echo \"Congratualtions! The Apache server was setup correctly.\" | sudo tee {apache_root_dir}/download_me'\n",
    "try:\n",
    "    stdout, stderr = server.execute(create_file)\n",
    "    print(\"The file was created successfully.\")\n",
    "    \n",
    "except Exception as e:\n",
    "    print(f\"Exception: {e}\")"
   ]
  },
  {
   "cell_type": "markdown",
   "id": "508bdacb-0ab9-40f8-9828-a9719dfff950",
   "metadata": {},
   "source": [
    "## Download the File to the Client\n",
    "\n",
    "We are now ready to test our web server! Let's download the `download_me` file we created to the client node using `wget`. Apache uses port 80 for normal, unencrypted web traffic."
   ]
  },
  {
   "cell_type": "code",
   "execution_count": null,
   "id": "8c4fb713-d3c4-42c3-91e7-87f1bd07093c",
   "metadata": {},
   "outputs": [],
   "source": [
    "server_addr = server.get_interface(network_name=network_name).get_ip_addr()\n"
   ]
  },
  {
   "cell_type": "code",
   "execution_count": null,
   "id": "fdad13c1-783c-4e2e-a938-c25b7eef2c12",
   "metadata": {},
   "outputs": [],
   "source": [
    "try:\n",
    "    stdout, stderr = client.execute(f'wget {server_addr}:80/download_me')\n",
    "    print(stdout,stderr)\n",
    "    stdout, stderr = client.execute(f'cat download_me')\n",
    "    print(stdout)\n",
    "    \n",
    "except Exception as e:\n",
    "    print(f\"Exception: {e}\")"
   ]
  },
  {
   "cell_type": "markdown",
   "id": "d1de6127-d421-4cc7-9835-3abc5b71a246",
   "metadata": {},
   "source": [
    "## Delete the Slice\n",
    "\n",
    "Please delete your slice when you are done with your experiment."
   ]
  },
  {
   "cell_type": "code",
   "execution_count": null,
   "id": "6cdd40ee-5b4d-4689-80ee-944e065849b8",
   "metadata": {},
   "outputs": [],
   "source": [
    "try:\n",
    "    slice = fablib.get_slice(name=slice_name)\n",
    "    slice.delete()\n",
    "except Exception as e:\n",
    "    print(f\"Exception: {e}\")"
   ]
  },
  {
   "cell_type": "code",
   "execution_count": null,
   "id": "fd3d44c9-e7a2-45f3-9046-7c89732518ce",
   "metadata": {},
   "outputs": [],
   "source": []
  }
 ],
 "metadata": {
  "kernelspec": {
   "display_name": "Python 3 (ipykernel)",
   "language": "python",
   "name": "python3"
  },
  "language_info": {
   "codemirror_mode": {
    "name": "ipython",
    "version": 3
   },
   "file_extension": ".py",
   "mimetype": "text/x-python",
   "name": "python",
   "nbconvert_exporter": "python",
   "pygments_lexer": "ipython3",
   "version": "3.10.6"
  }
 },
 "nbformat": 4,
 "nbformat_minor": 5
}
