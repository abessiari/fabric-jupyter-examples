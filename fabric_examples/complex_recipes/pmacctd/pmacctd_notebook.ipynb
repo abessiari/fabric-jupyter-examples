{
 "cells": [
  {
   "cell_type": "code",
   "execution_count": 5,
   "id": "95f22e40-6b72-4c8f-b90a-d8e2d2297400",
   "metadata": {},
   "outputs": [],
   "source": [
    "# Pilar Fernandez Gayol\n",
    "# Illinois Institute of Technology \n",
    "# ETS Ingenieros Informaticos, Universidad Politecnica de Madrid"
   ]
  },
  {
   "cell_type": "markdown",
   "id": "5c3aac84-0030-4502-9cd4-f29438ff6b5b",
   "metadata": {
    "jp-MarkdownHeadingCollapsed": true
   },
   "source": [
    "<h1 style=\"font-size: 3em;\">Integration and Tutorial of pmacctd Toolset on FABRIC Testbed</h1>"
   ]
  },
  {
   "cell_type": "markdown",
   "id": "60cf7f20-9579-407c-81fc-9cf48c5f817a",
   "metadata": {
    "jp-MarkdownHeadingCollapsed": true
   },
   "source": [
    "#  Introduction\n",
    "The FABRIC testbed is a central hub for large-scale networking experimentation and research, offering a platform for exploring innovative networking technologies. pmacct, a set of open-source passive monitoring tools by Paolo Lucente, is widely used for network traffic monitoring. Integrating pmacct into FABRIC enhances its monitoring capabilities, enabling real-time traffic analysis in an advanced research setting. \n",
    "\n",
    "This project leverages multiple technologies to develop and execute experiments, integrating pmacct into FABRIC to advance network monitoring and experimentation. The goal is to provide real-world tools and settings for computer science and engineering students to explore and innovate in networking.\n",
    "\n",
    "> Throughout this notebook we will show the integration of pmacctd in FABRIC, we will perform several experiments that show the multiple capabilities offered by this tool.\n",
    "\n",
    "<div style=\"text-align: center;\">\n",
    "    <img src=\"./images/1.png\" width=\"350px\" alt=\"pmacctd integration on a FABRIC node\"/>\n",
    "</div>\n",
    "\n"
   ]
  },
  {
   "cell_type": "markdown",
   "id": "1a878377-2b6c-4809-b1fd-30bd92af6b9f",
   "metadata": {},
   "source": [
    "# Setup and Installation\n",
    "\n",
    "This section includes the necessary installations and configurations required to run the subsequent code. It ensures that all dependencies and environments are correctly set up."
   ]
  },
  {
   "cell_type": "markdown",
   "id": "9f00202d-50c9-4f17-aa70-9320c39d7536",
   "metadata": {},
   "source": [
    "## Creation of the slice\n",
    "\n",
    "For this experiments we are going to create a slice named \"pmacctd_slice\" with two nodes (n1 and n2), each with specified resources, connected by a layer 2 network (L2Bridge). The architecture enables experimentation with network configurations and monitoring.\n",
    "\n",
    "Each node uses an Ubuntu 20.04 image, which allows the installation of the pmacctd tool on it. It also provides a robust and flexible operating system for experimenting with different network configurations and monitoring setups.\n",
    "\n",
    "<div style=\"text-align: center;\">\n",
    "    <img src=\"./images/2.png\" width=\"400px\"/>\n",
    "</div>"
   ]
  },
  {
   "cell_type": "code",
   "execution_count": null,
   "id": "74d96352-85ce-4a47-952c-71570d1aa340",
   "metadata": {},
   "outputs": [],
   "source": [
    "from fabrictestbed_extensions.fablib.fablib import FablibManager as fablib_manager\n",
    "\n",
    "# Initialize the FABRIC library manager\n",
    "fablib = fablib_manager()\n",
    "\n",
    "# Define the slice and node names\n",
    "slice_name = \"pmacctd_slice\"\n",
    "n1_name = \"n1\"\n",
    "n2_name = \"n2\"\n",
    "\n",
    "# Try to find an existing slice with the given name\n",
    "slice = None\n",
    "for slice_candidate in fablib.get_slices():\n",
    "    if slice_candidate.get_name() == slice_name:\n",
    "        slice = slice_candidate\n",
    "        break\n",
    "\n",
    "# If the slice does not exist, create a new one\n",
    "if None == slice:\n",
    "    image = 'default_ubuntu_20'\n",
    "    site = 'MAX'\n",
    "    slice = fablib.new_slice(name=slice_name)\n",
    "\n",
    "    # Add the first node to the slice with specified resources\n",
    "    n1 = slice.add_node(name=n1_name, image=image, cores=2, ram=4, disk=50, site=site)\n",
    "    n1_iface1 = n1.add_component(model=\"NIC_Basic\", name=\"iface1\").get_interfaces()[0]\n",
    "\n",
    "    # Add the second node to the slice with specified resources\n",
    "    n2 = slice.add_node(name=n2_name, image=image, cores=2, ram=4, disk=50, site=site)\n",
    "    n2_iface1 = n2.add_component(model=\"NIC_Basic\", name=\"iface1\").get_interfaces()[0]\n",
    "\n",
    "    # Create a layer 2 network connecting both nodes\n",
    "    net = slice.add_l2network(name=\"net\", interfaces=[n1_iface1, n2_iface1], type=\"L2Bridge\")\n",
    "    slice.submit()\n",
    "\n",
    "# Retrieve the nodes from the slice\n",
    "n1 = slice.get_node(name=n1_name)\n",
    "n2 = slice.get_node(name=n2_name)\n",
    "\n",
    "# Display the slice information\n",
    "slice.show()\n"
   ]
  },
  {
   "cell_type": "markdown",
   "id": "4ae8a44b-54dd-4b72-9ed9-131d2a902a72",
   "metadata": {},
   "source": [
    "## Configuration of the slice\n"
   ]
  },
  {
   "cell_type": "markdown",
   "id": "ad462224-cfd5-42ca-ae66-608e60aa6bb4",
   "metadata": {},
   "source": [
    "##### Installing Essential Development and Network Tools on FABRIC Nodes\n",
    "   \n",
    "The following code updates the package lists and installs essential development tools (build-essential), network utilities (net-tools), and the Python Scapy library (python3-scapy) on the two nodes (n1 and n2).\n",
    "These tools are necessary for compiling software, managing network configurations, and manipulating network packets, preparing the nodes for network experiments and monitoring tasks of pmacctd.\n",
    "\n"
   ]
  },
  {
   "cell_type": "code",
   "execution_count": 7,
   "id": "6332caae-bc13-4f7b-ab86-5f30c70c378f",
   "metadata": {
    "scrolled": true
   },
   "outputs": [],
   "source": [
    "\n",
    "\n",
    "# For node n1\n",
    "stdout, stderr = n1.execute(\n",
    "    \"sudo apt update -y -qq && sudo apt install -y build-essential && sudo apt install -y net-tools && sudo apt install -y python3-scapy\",\n",
    "    quiet=True\n",
    ")\n",
    "\n",
    "# For node n2\n",
    "stdout, stderr = n2.execute(\n",
    "    \"sudo apt update -y -qq && sudo apt install -y build-essential && sudo apt install -y net-tools && sudo apt install -y python3-scapy\",\n",
    "    quiet=True\n",
    ")\n",
    "   "
   ]
  },
  {
   "cell_type": "markdown",
   "id": "47e882f1-3265-4338-b700-4f4a49efcfec",
   "metadata": {},
   "source": [
    "##### Testing SSH Connectivity and Retrieving Commands for FABRIC Nodes\n",
    "   \n",
    "This code tests the SSH connectivity on the two nodes (n1 and n2), printing whether SSH works on each node. \n",
    "It also retrieves and prints the SSH command for connecting to each node, these commands can be pasted on a terminal to gain access to the node ubuntu terminal for each node.\n",
    "\n",
    "If the result is False, an error has occurred during the creation of the slice; please delete it and try to create it again."
   ]
  },
  {
   "cell_type": "code",
   "execution_count": null,
   "id": "2b4568a7-70c1-47d1-afc5-6511b743d24e",
   "metadata": {
    "scrolled": true
   },
   "outputs": [],
   "source": [
    "print(\"ssh works on n1: \" + str(n1.test_ssh()))\n",
    "print(n1.get_ssh_command())\n",
    "\n",
    "print(\"ssh works on n2: \" + str(n2.test_ssh()))\n",
    "print(n2.get_ssh_command())"
   ]
  },
  {
   "cell_type": "markdown",
   "id": "211d2b98-b802-4e98-a589-48f35d7e5436",
   "metadata": {},
   "source": [
    "##### Displaying Network Interfaces on FABRIC Nodes\n",
    "   \n",
    "This code prints the network configuration of two nodes (n1 and n2) by executing the ifconfig command on each node."
   ]
  },
  {
   "cell_type": "code",
   "execution_count": null,
   "id": "e2fc1a32-7549-42d1-88d1-bb7936bcf600",
   "metadata": {},
   "outputs": [],
   "source": [
    "# Management vs Experiment interfaces.\n",
    "print(\"ifconfig n1:\")\n",
    "n1.execute(\"ifconfig\")\n",
    "print(\"ifconfig n2:\")\n",
    "n2.execute(\"ifconfig\")"
   ]
  },
  {
   "cell_type": "markdown",
   "id": "99eb34cf-f4c1-46d7-87bf-1228030940b2",
   "metadata": {},
   "source": [
    "##### Configuring IPv6 Addresses on the Nodes\n",
    "This code configures IPv6 addresses for the interfaces on the two nodes (n1 and n2). It assigns local IPv6 addresses and then displays the interface configurations."
   ]
  },
  {
   "cell_type": "code",
   "execution_count": null,
   "id": "3fc1af0a-9686-4613-8dea-3ee397508c08",
   "metadata": {},
   "outputs": [],
   "source": [
    "from ipaddress import IPv6Address, IPv6Network\n",
    "\n",
    "n1_iface1 = n1.get_interface(name = \"n1-iface1-p1\")\n",
    "n2_iface1 = n2.get_interface(name = \"n2-iface1-p1\")\n",
    "\n",
    "n1_iface1.ip_addr_add(addr = IPv6Address(\"fd3f:f209:c712::1\"), subnet = IPv6Network(\"fd3f:f209:c712::/48\"))\n",
    "n2_iface1.ip_addr_add(addr = IPv6Address(\"fd3f:f209:c712::2\"), subnet = IPv6Network(\"fd3f:f209:c712::/48\"))\n",
    "n1_iface1.show()\n",
    "n2_iface1.show()\n",
    "n1_ip = \"fd3f:f209:c712::1\"\n",
    "n2_ip = \"fd3f:f209:c712::2\""
   ]
  },
  {
   "cell_type": "markdown",
   "id": "ca120c27-2d97-40c2-a3b2-7dfca6484fba",
   "metadata": {},
   "source": [
    "##### Configuring the Network Interface\n",
    "This code configurates the network interfaces of the two nodes (n1 and n2), bringing up the network interfaces using the ifconfig command with root priviledges."
   ]
  },
  {
   "cell_type": "code",
   "execution_count": null,
   "id": "00c5fec4-3e3e-4857-a778-e500e51ed9c6",
   "metadata": {
    "scrolled": true
   },
   "outputs": [],
   "source": [
    "n1.execute(\"sudo ifconfig \" + n1_iface1.get_device_name() + \" up\")\n",
    "n2.execute(\"sudo ifconfig \" + n2_iface1.get_device_name() + \" up\")"
   ]
  },
  {
   "cell_type": "markdown",
   "id": "6582d155-1475-4489-a362-9dfa4dd624de",
   "metadata": {},
   "source": [
    "##### IPv6 Ping Test Between Nodes\n",
    "The following cell performs a single ICMPv6 ping test between network interfaces of nodes n1 and n2. \n",
    "The code executes these commands on both nodes to verify IPv6 connectivity between them."
   ]
  },
  {
   "cell_type": "code",
   "execution_count": null,
   "id": "c560401c-60da-42dc-acca-354c5eb36fdb",
   "metadata": {},
   "outputs": [],
   "source": [
    "command = \"ping -c 1 -I \" + n1_iface1.get_device_name() + \" fd3f:f209:c712::2\"\n",
    "print(command)\n",
    "n1.execute(command) \n",
    "\n",
    "command2 = \"ping -c 1 -I \" + n2_iface1.get_device_name() + \" fd3f:f209:c712::1\"\n",
    "print(command2)\n",
    "n2.execute(command2)"
   ]
  },
  {
   "cell_type": "markdown",
   "id": "d19e042a-495c-45f4-bd64-2a967f04882e",
   "metadata": {},
   "source": [
    "##### Transfering files to the nodes\n",
    "The following cell defines two functions that will be subsequently used on the notebook to upload and download files between the JypyterHub workspace and the nodes.\n",
    "\n",
    "For performing each action it is necessary to place the file on the workspace, and specify the node and the file (its route may be added too).\n",
    "\n",
    "You just need to run this cell once to use the defined functions."
   ]
  },
  {
   "cell_type": "code",
   "execution_count": 16,
   "id": "a7ccf650-c2bf-4784-a48c-27f7341291cc",
   "metadata": {},
   "outputs": [],
   "source": [
    "# Transferring files between your JupyterHub and your node\n",
    "\n",
    "# NOTE could use n1.upload_file(...)\n",
    "def cmd_upload_file_to(n, filename):\n",
    "    scp_pre_command = (n.get_ssh_command()).split(\" \")\n",
    "    scp_pre_command[0] = 'scp'\n",
    "    scp_pre_command[5] = scp_pre_command[5].split(\"@\")\n",
    "    scp_pre_command[5] = scp_pre_command[5][0] + \"@[\" + scp_pre_command[5][1] + \"]:~/\"\n",
    "    scp_pre_command.insert(5, filename)\n",
    "    return ' '.join(scp_pre_command)\n",
    "\n",
    "def cmd_download_file_from(n, filename):\n",
    "    scp_pre_command = (n.get_ssh_command()).split(\" \")\n",
    "    scp_pre_command[0] = 'scp'\n",
    "    scp_pre_command[5] = scp_pre_command[5].split(\"@\")\n",
    "    scp_pre_command[5] = scp_pre_command[5][0] + \"@[\" + scp_pre_command[5][1] + \"]:~/\" + filename\n",
    "    scp_pre_command.append(\".\")\n",
    "    return ' '.join(scp_pre_command)"
   ]
  },
  {
   "cell_type": "markdown",
   "id": "9e54af0d-2b00-4dce-bfd3-772ea711531c",
   "metadata": {},
   "source": [
    "## Installation\n",
    "\n",
    "This section includes the necessary installations and configurations required to run the pmacctd tool and to perform actions and experiments on it. It also ensures that all dependencies and environments are correctly set up.\n",
    "\n",
    "First, the zip files of the tool and the jansson library must be added to the workspace so that they can be transferred to the nodes.\n",
    "\n",
    "> Note: You can find the zip files on:\n",
    ">> pmacctd: http://www.pmacct.net/#downloads\n",
    ">> jansson library: https://digip.org/jansson/releases/\n",
    "\n",
    "\n",
    "> Note: You may need to change the names of the files in the cell "
   ]
  },
  {
   "cell_type": "code",
   "execution_count": null,
   "id": "daff9981-cb37-4f90-b356-1500daebc6f7",
   "metadata": {},
   "outputs": [],
   "source": [
    "#Upload the zip files to the nodes, you may paste the commands on a terminal to upload the files to the nodes.\n",
    "print(cmd_upload_file_to(n1, \"pmacct-1.7.8.zip\"))\n",
    "print(cmd_upload_file_to(n1, \"jansson-2.13.tar.gz\"))\n",
    "print(cmd_upload_file_to(n2, \"pmacct-1.7.8.zip\"))\n",
    "print(cmd_upload_file_to(n2, \"jansson-2.13.tar.gz\"))"
   ]
  },
  {
   "cell_type": "markdown",
   "id": "7f5074dd-a9ef-4dbf-ad8f-b4fede5e57fd",
   "metadata": {},
   "source": [
    "> The following code unzips the files loaded to the nodes, but first installs the neccessary software packages.\n"
   ]
  },
  {
   "cell_type": "code",
   "execution_count": 21,
   "id": "7d01ffe6-3d34-4574-a32c-bfe3c65574f1",
   "metadata": {
    "scrolled": true
   },
   "outputs": [],
   "source": [
    "# Unzip both files\n",
    "# First, install zip in the nodes\n",
    "stdout, stderr = n1.execute(\n",
    "    \"sudo apt-get install -y zip && unzip pmacct-1.7.8.zip && tar -xzf jansson-2.13.tar.gz\",\n",
    "    quiet=True\n",
    ")\n",
    "\n",
    "stdout, stderr = n2.execute(\n",
    "    \"sudo apt-get install -y zip && unzip pmacct-1.7.8.zip && tar -xzf jansson-2.13.tar.gz\",\n",
    "    quiet=True\n",
    ")\n"
   ]
  },
  {
   "cell_type": "markdown",
   "id": "10317b48-f4e5-4c77-90d9-326ffa98f7dc",
   "metadata": {},
   "source": [
    "##### Jansson library installation\n",
    "The following code installs the jansson library on the nodes. This library is needed so that the pmacctd tool can diplay the information of the results on the experiments in a JSON format.\n"
   ]
  },
  {
   "cell_type": "code",
   "execution_count": 22,
   "id": "ca3eeb66-8cca-4377-9cdc-58959fadf4b3",
   "metadata": {
    "scrolled": true
   },
   "outputs": [],
   "source": [
    "## Installation of jansson library\n",
    "stdout, stderr = n1.execute(\n",
    "    \"cd jansson-2.13 && ./configure && make && sudo make install\",\n",
    "    quiet=True\n",
    ")\n",
    "stdout, stderr = n2.execute(\n",
    "    \"cd jansson-2.13 && ./configure && make && sudo make install\",\n",
    "    quiet=True\n",
    ")\n"
   ]
  },
  {
   "cell_type": "markdown",
   "id": "6a8ac895-8570-4b68-a507-fa794cb0e507",
   "metadata": {},
   "source": [
    "##### pmacctd installation \n",
    "The following code installs the neccesary dependencies for the use of the tool and then installs it following the commands.\n",
    "\n",
    "1. Place on the pmacct folder (cd pmacct-1.7.8)\n",
    "2. Run the command ./autogen.sh\n",
    "3. Run the command ./configure --enable-jansson (so that the results can be created on a JSON format too)\n",
    "4. Run the command make\n",
    "5. Run the command make install (superuser privileges)\n"
   ]
  },
  {
   "cell_type": "code",
   "execution_count": 23,
   "id": "b6820026-1132-4740-9f6d-aa679c4cd937",
   "metadata": {
    "scrolled": true,
    "tags": []
   },
   "outputs": [],
   "source": [
    "## Installation of pmacctd \n",
    "stdout, stderr = n1.execute(\n",
    "    \"sudo apt-get install -y libpcap-dev pkg-config libtool autoconf automake make bash libstdc++6 g++ libjansson4\",\n",
    "    quiet=True\n",
    ")\n",
    "stdout, stderr = n1.execute(\n",
    "    \"cd pmacct-1.7.8 && ./autogen.sh && ./configure --enable-jansson && make && sudo make install\",\n",
    "    quiet=True\n",
    ")\n",
    "\n",
    "\n",
    "stdout, stderr = n2.execute(\n",
    "    \"sudo apt-get install -y libpcap-dev pkg-config libtool autoconf automake make bash libstdc++6 g++ libjansson4\",\n",
    "    quiet=True\n",
    ")\n",
    "stdout, stderr = n2.execute(\n",
    "    \"cd pmacct-1.7.8 && ./autogen.sh && ./configure --enable-jansson && make && sudo make install\",\n",
    "    quiet=True\n",
    ")\n"
   ]
  },
  {
   "cell_type": "markdown",
   "id": "497f4209-6c7f-41f8-8657-3e14689d1551",
   "metadata": {},
   "source": [
    "# Experiments and use of the tool\n",
    "The following sections describe different experiments performed on the pmacctd tool to know more about its capabilities. The experiments are performed both using .pcap files and live traffic captured by pmacctd.\n",
    "\n",
    "> You can use any .pcap file but I would be using the following one for the experiments gmail.pcapng.cap, which can be found in: https://packetlife.net/captures/\n",
    "You need to first upload it to the node using the upload function and then move it to the pmacctd folder: print(cmd_upload_file_to(n1, \"gmail.pcapng.cap\"))\n",
    "\n",
    "> We are going to use different configurations of the tool so that it works properly. These configurations can be found on the configuration-files folder and placed on the Jupyter Workspace. You can play with them so that you can learn how the tool works."
   ]
  },
  {
   "cell_type": "markdown",
   "id": "eacccf39-35e0-4354-996d-ec8d82c94b47",
   "metadata": {},
   "source": [
    "## Experiment of the pmacctd tool using a pcap file.\n",
    "In this section we are going to perform three different experiments using the same pcap file but with different configurations of the tool. We are going to show the results obtained from processing the pmacctd tool on a pcap file in three different formats: CSV, JSON and .txt. \n",
    "\n",
    "For the execution of the tool a configuration file is needed, in this section the following fields are necessary: \n",
    "\n",
    "daemonize: false \\\n",
    "debug: true \\\n",
    "pcap_savefile: file.pcap \\\n",
    "aggregate: src_host, dst_host, src_port, dst_port, proto, \\\n",
    "plugin_buffer_size: 4096 \\\n",
    "plugins: print \\\n",
    "print_output: csv/formatted/json \\\n",
    "print_output_file: result_file.format \\\n",
    "print_history_roundoff: m   \n",
    "\n",
    "\n",
    " - daemonize: This field indicates whether the process should run in the background or not. In this case, will set to false, meaning the process will run in the foreground.\n",
    "  - debug: This field controls the debug mode. When set to true, it enables debugging output, which is be helpful for these first exeperiments.\n",
    "  - pcap_savefile: This field specifies the path where the tool obtains the data. It will set to $PATH_of_pmacct_tool/pmacct-1.7.8/file.pcap. The file contains captured network traffic data.\n",
    "  - aggregate: This field specifies the fields by which to aggregate the captured data. In this case, it will aggregate data based on source host, destination host, source port, destination port, and protocol.\n",
    "    > The output would look like this:\n",
    "    <div style=\"text-align: center;\">\n",
    "    <img src=\"./images/3.png\" width=\"1000px\"/>\n",
    "</div>\n",
    "  - plugin_buffer_size: This field defines the buffer size used by plugins. \n",
    "  - plugins: This field specifies the plugins to be used. In this example, the print plugin is specified, which likely indicates that the captured data will be printed. \n",
    "  - print_output: This field specifies the output format for the printed data. It will be set to csv for the first experiment since we want our output in this format.\n",
    "  - print_history_roundoff: This field specifies the rounding-off interval for historical data. "
   ]
  },
  {
   "cell_type": "markdown",
   "id": "25cde96a-a4e1-49af-b284-9daf4c5d5bf6",
   "metadata": {},
   "source": [
    "### CSV format\n",
    "The configuration file will have the following data: \n",
    "\n",
    "daemonize: false \\\n",
    "debug: true \\\n",
    "pcap_savefile: gmail.pcapng.cap \\\n",
    "aggregate: src_host, dst_host, src_port, dst_port, proto, \\\n",
    "plugin_buffer_size: 4096 \\\n",
    "plugins: print \\\n",
    "print_output: csv \\\n",
    "print_output_file: result_pcap_csv.csv \\\n",
    "print_history_roundoff: m \n",
    "\n",
    "For this, we are going to upload to the node the following configuration file pcap_csv.conf which contains the information shown.\n",
    "The gmail.pcapng.cap is already uploaded on the node and placed on the pmacctd folder."
   ]
  },
  {
   "cell_type": "code",
   "execution_count": null,
   "id": "9c6d559c-5cfb-4ce2-b051-4769ea112e07",
   "metadata": {},
   "outputs": [],
   "source": [
    "# You need to paste the resulting commands into the terminal to upload the files\n",
    "print(cmd_upload_file_to(n1, \"configuration-files/pcap_csv.conf\"))\n",
    "print(cmd_upload_file_to(n2, \"configuration-files/pcap_csv.conf\"))"
   ]
  },
  {
   "cell_type": "markdown",
   "id": "ef513d32-2370-463b-bd3e-54c1ae51b7a3",
   "metadata": {},
   "source": [
    "##### Execution\n",
    "\n",
    "1. Move the configuration file to the pmacctd folder.\n",
    "2. Create the result csv file and move it to the pmacctd folder.\n",
    "3. Execute pmacctd.\n",
    "4. Show the results.\n",
    "5. You can execute the last cell of the section to download the csv result file into your computer."
   ]
  },
  {
   "cell_type": "code",
   "execution_count": null,
   "id": "189ca0f1-5cac-402c-8489-41d938861274",
   "metadata": {
    "scrolled": true
   },
   "outputs": [],
   "source": [
    "#Move configuration file to pmacctd directory, execute experiment and see results\n",
    "n1.execute(\"mv pcap_csv.conf pmacct-1.7.8\")\n",
    "n2.execute(\"mv pcap_csv.conf pmacct-1.7.8\")\n",
    "n1.execute(\"touch result_pcap_csv.csv && mv result_pcap_csv.csv pmacct-1.7.8\")\n",
    "n1.execute(\"cd pmacct-1.7.8 && sudo pmacctd -f pcap_csv.conf && cat result_pcap_csv.csv\")"
   ]
  },
  {
   "cell_type": "code",
   "execution_count": null,
   "id": "c53176b7-2495-45a9-ab6b-7e287ec8bf79",
   "metadata": {},
   "outputs": [],
   "source": [
    "print(cmd_download_file_from(n1, \"pmacct-1.7.8/result_pcap_csv.csv\"))"
   ]
  },
  {
   "cell_type": "markdown",
   "id": "a9b1e37b-926c-4eff-ae4d-c2bad5e4adf3",
   "metadata": {},
   "source": [
    "### JSON format\n",
    "The configuration file will have the following data: \n",
    "\n",
    "daemonize: false \\\n",
    "debug: true \\\n",
    "pcap_savefile: gmail.pcapng.cap \\\n",
    "aggregate: src_host, dst_host, src_port, dst_port, proto, \\\n",
    "plugin_buffer_size: 4096 \\\n",
    "plugins: print \\\n",
    "print_output: csv \\\n",
    "print_output_file: result_pcap_json.json \\\n",
    "print_history_roundoff: m \n",
    "\n",
    "For this, we are going to upload to the node the following configuration file pcap_json.conf which contains the information shown.\n",
    "The gmail.pcapng.cap is already uploaded on the node and placed on the pmacctd folder."
   ]
  },
  {
   "cell_type": "code",
   "execution_count": null,
   "id": "0395aee3-e189-4a2c-a6d5-9f1d02a3020f",
   "metadata": {},
   "outputs": [],
   "source": [
    "# You need to paste the resulting commands into the terminal to upload the files\n",
    "print(cmd_upload_file_to(n1, \"configuration-files/pcap_json.conf\"))\n",
    "print(cmd_upload_file_to(n2, \"configuration-files/pcap_json.conf\"))"
   ]
  },
  {
   "cell_type": "markdown",
   "id": "ca2e1c4b-0da5-47f6-9b28-835e2022ab43",
   "metadata": {},
   "source": [
    "##### Execution\n",
    "\n",
    "1. Move the configuration file to the pmacctd folder.\n",
    "2. Create the result .json file and move it to the pmacctd folder.\n",
    "3. Execute pmacctd.\n",
    "4. Show the results.\n",
    "5. You can execute the last cell of the section to download the json result file into your computer."
   ]
  },
  {
   "cell_type": "code",
   "execution_count": null,
   "id": "698f17bf-af2a-4c13-b36b-01f2e0be6354",
   "metadata": {
    "scrolled": true
   },
   "outputs": [],
   "source": [
    "#Move configuration file to pmacctd directory, execute experiment and see results\n",
    "n1.execute(\"mv pcap_json.conf pmacct-1.7.8\")\n",
    "n2.execute(\"mv pcap_json.conf pmacct-1.7.8\")\n",
    "n1.execute(\"touch result_pcap_json.json && mv result_pcap_json.json pmacct-1.7.8\")\n",
    "n1.execute(\"cd pmacct-1.7.8 && sudo pmacctd -f pcap_json.conf && cat result_pcap_json.json\")"
   ]
  },
  {
   "cell_type": "code",
   "execution_count": null,
   "id": "c0d9397b-0bc5-416a-8a4c-6438513613b4",
   "metadata": {},
   "outputs": [],
   "source": [
    "print(cmd_download_file_from(n1, \"pmacct-1.7.8/result_pcap_json.json\"))"
   ]
  },
  {
   "cell_type": "markdown",
   "id": "0d23fe0c-9b6d-493f-b9a0-cd1a6879b1e1",
   "metadata": {},
   "source": [
    "### TXT Format\n",
    "\n",
    "\n",
    "\n",
    "The configuration file will have the following data: \\\n",
    "\n",
    "daemonize: false \\\n",
    "debug: true \\\n",
    "pcap_savefile: gmail.pcapng.cap \\\n",
    "aggregate: src_host, dst_host, src_port, dst_port, proto, \\\n",
    "plugin_buffer_size: 4096 \\\n",
    "plugins: print \\\n",
    "print_output: formatted \\\n",
    "print_output_file: result_pcap_formatted.txt\\\n",
    "print_history_roundoff: m \n",
    "\n",
    "For this, we are going to upload to the node the following configuration file pcap_formatted.conf which contains the information shown.\n",
    "The gmail.pcapng.cap is already uploaded on the node and placed on the pmacctd folder.\n"
   ]
  },
  {
   "cell_type": "code",
   "execution_count": null,
   "id": "6e2cefd3-e9ee-41a4-add9-9afdc5f85707",
   "metadata": {
    "scrolled": true
   },
   "outputs": [],
   "source": [
    "# You need to paste the resulting commands into the terminal to upload the files\n",
    "print(cmd_upload_file_to(n1, \"configuration-files/pcap_formatted.conf\"))\n",
    "print(cmd_upload_file_to(n2, \"configuration-files/pcap_formatted.conf\"))"
   ]
  },
  {
   "cell_type": "markdown",
   "id": "acfeab7c-ef60-42d2-934d-07830781607c",
   "metadata": {},
   "source": [
    "##### Execution\n",
    "\n",
    "1. Move the configuration file to the pmacctd folder.\n",
    "2. Create the result txt file and move it to the pmacctd folder.\n",
    "3. Execute pmacctd.\n",
    "4. Show the results.\n",
    "5. You can execute the last cell of the section to download the .txt result file into your computer."
   ]
  },
  {
   "cell_type": "code",
   "execution_count": null,
   "id": "313102c0-7a09-4eb8-bec5-aa37b6ddcb3c",
   "metadata": {
    "scrolled": true
   },
   "outputs": [],
   "source": [
    "#Move configuration file to pmacctd directory, execute experiment and see results\n",
    "n1.execute(\"mv pcap_formatted.conf pmacct-1.7.8\")\n",
    "n2.execute(\"mv pcap_formatted.conf pmacct-1.7.8\")\n",
    "n1.execute(\"touch result_pcap_formatted.txt && mv result_pcap_formatted.txt pmacct-1.7.8\")\n",
    "n1.execute(\"cd pmacct-1.7.8 && sudo pmacctd -f pcap_formatted.conf && cat result_pcap_formatted.txt\")"
   ]
  },
  {
   "cell_type": "code",
   "execution_count": null,
   "id": "af16ad8b-33ac-418e-8a91-94651c72b164",
   "metadata": {},
   "outputs": [],
   "source": [
    "print(cmd_download_file_from(n1, \"pmacct-1.7.8/result_pcap_formatted.txt\"))"
   ]
  },
  {
   "cell_type": "markdown",
   "id": "a67066f6-4dc4-468d-9724-532803af043a",
   "metadata": {},
   "source": [
    "### Customization \n",
    "\n",
    "Pmacctd offers an important characteristic, which is that enables the user to choose which fields wants to obtain from the captured data. This can be done using the \"aggregate\" field on the configuration file.\n",
    "\n",
    "All the available aggregate fields are: src_mac, dst_mac, vlan, in_vlan, out_vlan, cos, etype, src_host, dst_host,src_net, dst_net, src_mask, dst_mask, src_as,    dst_as, src_port, dst_port, tos, proto, none, sum_mac, sum_host, sum_net, sum_as, sum_port, flows, tag, tag2, label, class, tcpflags, in_iface, out_iface, std_comm, ext_comm, lrg_comm, as_path, peer_src_ip, peer_dst_ip, peer_src_as, peer_dst_as, local_pref, med, dst_roa, src_std_comm, src_ext_comm, src_lrg_comm, src_as_path, src_local_pref, src_med, src_roa, mpls_vpn_rd, mpls_pw_id, mpls_label_top, mpls_label_bottom, mpls_label_stack, sampling_rate, sampling_direction, src_host_country, dst_host_country, src_host_pocode, dst_host_pocode, src_host_coords, dst_host_coords, nat_event, fw_event, post_nat_src_host, post_nat_dst_host, post_nat_src_port, post_nat_dst_port, tunnel_src_mac, tunnel_dst_mac, tunnel_src_host, tunnel_dst_host, tunnel_proto, tunnel_tos, tunnel_src_port, tunnel_dst_port, tunnel_tcpflags, fwd_status, vxlan, timestamp_start, timestamp_end, timestamp_arrival, timestamp_export, export_proto_seqno, export_proto_version, export_proto_sysid.\n",
    "\n",
    "Some of them may not be supported by some packets but we can make a small example to test some of them (the most used ones).\n",
    " \n",
    "daemonize: false \\\n",
    "debug: true \\\n",
    "pcap_interface: any \\\n",
    "aggregate: src_host, dst_host, src_port, dst_port, proto, src_mac, dst_mac, etype, in_iface, out_iface, \\\n",
    "plugin_buffer_size: 4096 \\\n",
    "plugins: print \\\n",
    "print_output: formatted \\\n",
    "print_output_file: result_custom.txt \\\n",
    "print_history_roundoff: m \n",
    "\n",
    "\n",
    "For this, we are going to upload to the node the following configuration file live_custom.conf which contains the information shown.\n",
    "The gmail.pcapng.cap is already uploaded on the node and placed on the pmacctd folder."
   ]
  },
  {
   "cell_type": "code",
   "execution_count": null,
   "id": "36703d5f-7f00-4267-a8a1-864f92fa3cf3",
   "metadata": {
    "scrolled": true
   },
   "outputs": [],
   "source": [
    "# You need to paste the resulting commands into the terminal to upload the files\n",
    "print(cmd_upload_file_to(n1, \"configuration-files/pcap_custom.conf\"))\n",
    "print(cmd_upload_file_to(n2, \"configuration-files/pcap_custom.conf\"))"
   ]
  },
  {
   "cell_type": "markdown",
   "id": "57210ce1-2584-45cb-bc53-2a5267c2be2f",
   "metadata": {},
   "source": [
    "##### Execution\n",
    "\n",
    "1. Move the configuration file to the pmacctd folder.\n",
    "2. Create the result txt file and move it to the pmacctd folder.\n",
    "3. Execute pmacctd.\n",
    "4. Show the results.\n",
    "5. You can execute the last cell of the section to download the .txt result file into your computer."
   ]
  },
  {
   "cell_type": "code",
   "execution_count": null,
   "id": "b4567a79-9420-4d5b-b4e4-0158a10b112c",
   "metadata": {
    "collapsed": true,
    "jupyter": {
     "outputs_hidden": true
    },
    "scrolled": true
   },
   "outputs": [],
   "source": [
    "#Move configuration file to pmacctd directory, execute experiment and see results\n",
    "n1.execute(\"touch result_custom.txt\")\n",
    "n1.execute(\"mv pcap_custom.conf result_custom.txt pmacct-1.7.8\")\n",
    "n2.execute(\"mv pcap_custom.conf pmacct-1.7.8\")\n",
    "n1.execute(\"cd pmacct-1.7.8 && sudo pmacctd -f pcap_custom.conf && cat result_custom.txt\")"
   ]
  },
  {
   "cell_type": "code",
   "execution_count": null,
   "id": "45500b9b-ce9f-4327-911c-9c047f73fda6",
   "metadata": {},
   "outputs": [],
   "source": [
    "#Download results\n",
    "print(cmd_download_file_from(n1, \"pmacct-1.7.8/result_custom.txt\"))"
   ]
  },
  {
   "cell_type": "markdown",
   "id": "4b92e658-8244-4505-9fd5-1990fa2c2c8c",
   "metadata": {},
   "source": [
    "### Filtering data\n",
    "Pmacctd allow filtering the data captured using the pcap_filter field on the configuration file.\n",
    "\n",
    "This filter must be written as in tcpdump, in order to work properly. The following configuration file shows an example of it.\n",
    " \n",
    "daemonize: false \\\n",
    "debug: true \\\n",
    "pcap_savefile: gmail.pcapng.cap \\\n",
    "pcap_filter: tcp \\\n",
    "aggregate: src_host, dst_host, src_port, dst_port, proto, \\\n",
    "plugin_buffer_size: 4096 \\\n",
    "plugins: print \\\n",
    "print_output: csv \\\n",
    "print_output_file: result_pcap_filter.csv \\\n",
    "print_history_roundoff: m \n",
    "\n",
    "\n",
    "For this, we are going to upload to the node the following configuration file pcap_filter.conf which contains the information shown.\n",
    "The gmail.pcapng.cap is already uploaded on the node and placed on the pmacctd folder.\n",
    "\n",
    "The expected output is a csv file which only contains information about tcp packets."
   ]
  },
  {
   "cell_type": "code",
   "execution_count": null,
   "id": "3af094a4-590d-4c29-971e-3037395abff1",
   "metadata": {
    "scrolled": true
   },
   "outputs": [],
   "source": [
    "# You need to paste the resulting commands into the terminal to upload the files\n",
    "print(cmd_upload_file_to(n1, \"configuration-files/pcap_filter.conf\"))\n",
    "print(cmd_upload_file_to(n2, \"configuration-files/pcap_filter.conf\"))"
   ]
  },
  {
   "cell_type": "markdown",
   "id": "486f2717-65d1-4bd5-b4db-bce9380fb387",
   "metadata": {},
   "source": [
    "##### Execution\n",
    "\n",
    "1. Move the configuration file to the pmacctd folder.\n",
    "2. Create the result csv file and move it to the pmacctd folder.\n",
    "3. Execute pmacctd.\n",
    "4. Show the results.\n",
    "5. You can execute the last cell of the section to download the .csv result file into your computer."
   ]
  },
  {
   "cell_type": "code",
   "execution_count": null,
   "id": "858db908-8618-41e9-bec8-c87a1e6de25f",
   "metadata": {
    "scrolled": true
   },
   "outputs": [],
   "source": [
    "#Move configuration file to pmacctd directory, execute experiment and see results\n",
    "n1.execute(\"touch result_pcap_filter.csv\")\n",
    "n1.execute(\"mv pcap_filter.conf result_pcap_filter.csv pmacct-1.7.8\")\n",
    "n1.execute(\"cd pmacct-1.7.8 && sudo pmacctd -f pcap_filter.conf && cat result_pcap_filter.csv\")"
   ]
  },
  {
   "cell_type": "code",
   "execution_count": null,
   "id": "81a24b97-d75b-48f1-adce-926a976c1a29",
   "metadata": {},
   "outputs": [],
   "source": [
    "#Download results\n",
    "print(cmd_download_file_from(n1, \"pmacct-1.7.8/result_pcap_filter.csv\"))"
   ]
  },
  {
   "cell_type": "markdown",
   "id": "98b3f73f-5eb3-4cce-af31-78e0678c9611",
   "metadata": {},
   "source": [
    "## Experiment of the pmacctd tool using live traffic\n",
    "In this section we are going to perform an experiment using live traffic sending ICMP packets between nodes by using the \"ping\" command. We are going to show the results obtained from processing the pmacctd tool on a file in the formatted different format. This format can be changed to any different one as we did on the last section, you just have to change its value on the configuration file and re-uploaded it to the node. \n",
    "\n",
    "For the execution of the tool a configuration file is needed, in this section the forllowing fields are necessary: \n",
    "\n",
    "daemonize: false \\\n",
    "debug: true \\\n",
    "pcap_interface: any/eth3s0 \\\n",
    "aggregate: src_host, dst_host, src_port, dst_port, proto, \\\n",
    "plugin_buffer_size: 4096 \\\n",
    "plugins: print \\\n",
    "print_output: csv/formatted/json \\\n",
    "print_output_file: result_file.format \\\n",
    "print_history_roundoff: m   \n",
    "\n",
    "  - pcap_interface: This field specifies the interface where the tool captures the data from. The value can be \"any\" or the name of the interface itself.\n",
    "    \n",
    "For this, we are going to upload to the node the following configuration file live.conf which contains the information shown."
   ]
  },
  {
   "cell_type": "code",
   "execution_count": null,
   "id": "f2dbaf70-c426-4cb0-8dc1-ae125ba89dcf",
   "metadata": {},
   "outputs": [],
   "source": [
    "# You need to paste the resulting commands into the terminal to upload the files\n",
    "print(cmd_upload_file_to(n1, \"configuration-files/live.conf\"))\n",
    "print(cmd_upload_file_to(n2, \"configuration-files/live.conf\"))"
   ]
  },
  {
   "cell_type": "markdown",
   "id": "7be9a514-d9ef-4ed2-a934-0873598efdc3",
   "metadata": {},
   "source": [
    "##### Execution\n",
    "\n",
    "1. Create the result result file.\n",
    "2. Move the configuration file and the result file to the pmacctd folder.\n",
    "3. Create live traffic betweeen the nodes.\n",
    "4. Execute pmacctd.\n",
    "5. Show the results.\n",
    "6. You can execute the last cell of the section to download the .txt result file into your computer."
   ]
  },
  {
   "cell_type": "code",
   "execution_count": null,
   "id": "79491fd9-b56c-4fd6-b102-6f262f7d525e",
   "metadata": {},
   "outputs": [],
   "source": [
    "#Move configuration file to pmacctd directory, execute experiment and see results\n",
    "n1.execute(\"touch result_live.txt\")\n",
    "n1.execute(\"mv live.conf result_live.txt pmacct-1.7.8\")\n",
    "n2.execute(\"mv live.conf pmacct-1.7.8\")"
   ]
  },
  {
   "cell_type": "markdown",
   "id": "f4fd9c6d-7eaf-4990-909a-a26f96851e35",
   "metadata": {},
   "source": [
    "##### Concurrent Execution\n",
    "The following cell uses the Python's threading module for concurrent execution of tasks. Two threads are created to run functions run_pmacctd on nodes n1 and n2, executing commands command_n1 and command_n2 respectively. This allows simultaneous operation of network monitoring (pmacctd) and IPv6 ping testing. The use of join() ensures synchronization, waiting for completion of the second thread before ending execution.\n",
    "\n",
    "This is used because when using live traffic pmacctd acts as a demon so it needs to be stopped manually. Since we are testing the live traffic capabilities of pmacctd, we can use threads so that first the node n1 starts the daemon of pmacctd and then n2 pings 20 times to n1. Then when the second command finishes also the pmacctd tool stops so that we can see the results."
   ]
  },
  {
   "cell_type": "code",
   "execution_count": null,
   "id": "3488193d-042a-478e-9e9f-c6df80bff13e",
   "metadata": {},
   "outputs": [],
   "source": [
    "import threading \n",
    "def run_pmacctd(node, command):\n",
    "    result = node.execute(command)\n",
    "    print(result)\n",
    "command_n1 = \"cd pmacct-1.7.8 && sudo pmacctd -f live.conf\"\n",
    "command_n2 = \"ping -c 20 \" + n1_ip\n",
    "\n",
    "thread_h1 = threading.Thread(target=run_pmacctd, args=(n1, command_n1))\n",
    "thread_h2 = threading.Thread(target=run_pmacctd, args=(n2, command_n2))\n",
    "\n",
    "thread_h1.start()\n",
    "thread_h2.start()\n",
    "\n",
    "thread_h2.join()"
   ]
  },
  {
   "cell_type": "code",
   "execution_count": null,
   "id": "5f7f7b13-421c-47f8-a829-0208b61715fb",
   "metadata": {
    "collapsed": true,
    "jupyter": {
     "outputs_hidden": true
    }
   },
   "outputs": [],
   "source": [
    "#Show results\n",
    "n1.execute(\"cd pmacct-1.7.8 && cat result_live.txt\")\n",
    "print(cmd_download_file_from(n1, \"pmacct-1.7.8/result_live.txt\"))"
   ]
  },
  {
   "cell_type": "markdown",
   "id": "f8ea51a2-dd4d-4309-aa0a-dc85e3225a7c",
   "metadata": {},
   "source": [
    "### Filtering data\n",
    "The pmacctd tool allows for data filtering through the pcap_filter field in its configuration file. This feature is particularly useful when working with live traffic, as it enables you to focus on specific data of interest or identify anomalies. By applying filters, you can streamline your data analysis, making it easier to pinpoint relevant information or troubleshoot issues.\n",
    "\n",
    "This filter must be written as in tcpdump, in order to work properly. The following configuration file shows an example of it. This time we are going to implement a mmore complex filter. We are going to filter by the ip of the host and the type protocol. We can also delete that information from the aggregation field since all the data collected will present the same data of them. \n",
    " \n",
    "daemonize: false \\\n",
    "debug: true \\\n",
    "pcap_interface: any \\\n",
    "pcap_filter: icmp6 and src host fd3f:f209:c712::2 \\\n",
    "aggregate: src_port, dst_port, etype, in_iface, out_iface, \\\n",
    "plugin_buffer_size: 4096 \\\n",
    "plugins: print \\\n",
    "print_output: csv \\\n",
    "print_output_file: result_live_filter.csv \\\n",
    "print_history_roundoff: m \n",
    "\n",
    "\n",
    "For this, we are going to upload to the node the following configuration file live_filter.conf which contains the information shown.\n",
    "The gmail.pcapng.cap is already uploaded on the node and placed on the pmacctd folder.\n",
    "\n",
    "The expected output is a csv file which only contains information about icmp packets with source IP address fd3f:f209:c712::2 (n2)."
   ]
  },
  {
   "cell_type": "code",
   "execution_count": null,
   "id": "e1858cbe-da12-4b1b-87a5-ffe97e7a0e8a",
   "metadata": {
    "scrolled": true
   },
   "outputs": [],
   "source": [
    "# You need to paste the resulting commands into the terminal to upload the files\n",
    "print(cmd_upload_file_to(n1, \"configuration-files/live_filter.conf\"))\n",
    "print(cmd_upload_file_to(n2, \"configuration-files/live_filter.conf\"))"
   ]
  },
  {
   "cell_type": "markdown",
   "id": "4ad968b1-e563-44a8-b0c2-1c24cf9e87db",
   "metadata": {},
   "source": [
    "##### Execution\n",
    "\n",
    "1. Create the result result file.\n",
    "2. Move the configuration file and the result file to the pmacctd folder.\n",
    "3. Create live traffic betweeen the nodes.\n",
    "4. Execute pmacctd.\n",
    "5. Show the results.\n",
    "6. You can execute the last cell of the section to download the .csv result file into your computer."
   ]
  },
  {
   "cell_type": "code",
   "execution_count": null,
   "id": "ac8e99d4-3138-4928-b745-7ce292187bf4",
   "metadata": {
    "scrolled": true
   },
   "outputs": [],
   "source": [
    "#Move configuration file to pmacctd directory, execute experiment and see results\n",
    "n1.execute(\"touch result_live_filter.csv\")\n",
    "n1.execute(\"mv live_filter.conf result_live_filter.csv pmacct-1.7.8\")"
   ]
  },
  {
   "cell_type": "markdown",
   "id": "2fd351aa-d8fa-49d5-9703-a58c726148df",
   "metadata": {},
   "source": [
    "##### Concurrent Execution\n",
    "The following cell uses the Python's threading module for concurrent execution of tasks. Two threads are created to run functions run_pmacctd on nodes n1 and n2, executing commands command_n1 and command_n2 respectively. This allows simultaneous operation of network monitoring (pmacctd) and IPv6 ping testing. The use of join() ensures synchronization, waiting for completion of the second thread before ending execution.\n",
    "\n",
    "This is used because when using live traffic pmacctd acts as a demon so it needs to be stopped manually. Since we are testing the live traffic capabilities of pmacctd, we can use threads so that first the node n1 starts the daemon of pmacctd and then n2 pings 20 times to n1. Then when the second command finishes also the pmacctd tool stops so that we can see the results."
   ]
  },
  {
   "cell_type": "code",
   "execution_count": null,
   "id": "4606ef10-447b-4b03-9375-bc2d434a6348",
   "metadata": {},
   "outputs": [],
   "source": [
    "import threading \n",
    "def run_pmacctd(node, command):\n",
    "    result = node.execute(command)\n",
    "    print(result)\n",
    "command_n1 = \"cd pmacct-1.7.8 && sudo pmacctd -f live_filter.conf\"\n",
    "command_n2 = \"ping -c 20 \" + n1_ip\n",
    "\n",
    "thread_h1 = threading.Thread(target=run_pmacctd, args=(n1, command_n1))\n",
    "thread_h2 = threading.Thread(target=run_pmacctd, args=(n2, command_n2))\n",
    "\n",
    "thread_h1.start()\n",
    "thread_h2.start()\n",
    "\n",
    "thread_h2.join()"
   ]
  },
  {
   "cell_type": "code",
   "execution_count": null,
   "id": "3306b9fb-c94d-40c2-89fa-453ee9f71515",
   "metadata": {},
   "outputs": [],
   "source": [
    "# Show results\n",
    "n1.execute(\"cd pmacct-1.7.8 && cat result_live_filter.csv\")"
   ]
  },
  {
   "cell_type": "code",
   "execution_count": null,
   "id": "1faecef0-2724-4bbc-b0b7-5b1193cd630c",
   "metadata": {},
   "outputs": [],
   "source": [
    "# Download results\n",
    "print(cmd_download_file_from(n1, \"pmacct-1.7.8/result_live_filter.csv\"))"
   ]
  },
  {
   "cell_type": "markdown",
   "id": "75c427dd-4d2c-4415-982c-6ad08b5f9026",
   "metadata": {},
   "source": [
    "## Experiment of the pmacctd tool using live traffic with iPerf\n",
    "\n",
    "In this section we are going to continue to use live traffic to test the pmacctd tool, but this time we are going to use iPerf. \n",
    "iPerf is a network performance testing tool used to measure bandwidth between two hosts over a TCP or UDP connection. iPerf works by establishing a client-server model where one instance of iPerf acts as the server and another as the client. \n",
    "\n",
    "The objective of this is to test the pmacctd tool this time with UDP and TCP packets, instead of ICMP ones. \n",
    "\n",
    "For the execution of the tool a configuration file is needed, in this section the following fields are necessary: \n",
    "\n",
    "daemonize: false \\\n",
    "debug: true \\\n",
    "pcap_interface: any \\\n",
    "aggregate: src_host, dst_host, src_port, dst_port, proto, \\\n",
    "plugin_buffer_size: 4096 \\\n",
    "plugins: print \\\n",
    "print_output: csv/formatted/json \\\n",
    "print_output_file: result_file.format \\\n",
    "print_history_roundoff: m \n",
    "\n",
    "\n",
    "For this, we are going to upload to the node the following configuration file iperf.conf which contains the information shown."
   ]
  },
  {
   "cell_type": "code",
   "execution_count": null,
   "id": "636f3401-3126-4475-8ddf-e2a5f51dbd63",
   "metadata": {},
   "outputs": [],
   "source": [
    "# You need to paste the resulting commands into the terminal to upload the files\n",
    "print(cmd_upload_file_to(n1, \"configuration-files/iperf.conf\"))\n",
    "print(cmd_upload_file_to(n2, \"configuration-files/iperf.conf\"))"
   ]
  },
  {
   "cell_type": "markdown",
   "id": "226a49de-9313-4136-8464-15dcfdbabf6a",
   "metadata": {},
   "source": [
    "> We need to install iperf on the nodes, since we use IPV6 we will use iperf3, which supports it."
   ]
  },
  {
   "cell_type": "code",
   "execution_count": 59,
   "id": "9cf9de89-dfc7-4cf3-b519-5a3ce2478a8e",
   "metadata": {
    "scrolled": true
   },
   "outputs": [],
   "source": [
    "#Install iperf3\n",
    "stdout, stderr = n1.execute(\n",
    "    \"sudo apt-get install -y iperf3\",\n",
    "    quiet=True\n",
    ")\n",
    "stdout, stderr = n2.execute(\n",
    "    \"sudo apt-get install -y iperf3\",\n",
    "    quiet=True\n",
    ")"
   ]
  },
  {
   "cell_type": "markdown",
   "id": "0a400b17-a900-4d28-a092-02f7779777f8",
   "metadata": {},
   "source": [
    "##### Execution\n",
    "\n",
    "1. Create the result result file.\n",
    "2. Move the configuration file and the result file to the pmacctd folder.\n",
    "3. Create live traffic betweeen the nodes.\n",
    "4. Execute pmacctd.\n",
    "5. Show the results.\n",
    "6. You can execute the last cell of the section to download the .txt result file into your computer."
   ]
  },
  {
   "cell_type": "code",
   "execution_count": null,
   "id": "e9acdc0d-d565-4f66-983b-f78d7859fbee",
   "metadata": {},
   "outputs": [],
   "source": [
    "#Move configuration file to pmacctd directory, execute experiment and see results\n",
    "n1.execute(\"touch result_iperf.csv\")\n",
    "n1.execute(\"mv iperf.conf result_iperf.csv pmacct-1.7.8\")\n",
    "n2.execute(\"mv iperf.conf pmacct-1.7.8\")"
   ]
  },
  {
   "cell_type": "markdown",
   "id": "074a43e2-e4ce-4a1a-b1ad-a8529979f1b0",
   "metadata": {},
   "source": [
    "##### iPerf\n",
    "\n",
    "This time we are going to use the same thread approach to test the tool, but using iPerf. n1 will act as the server node and n2 wil act as the client, but first we need to execute the daemon tool on the server node, which will finish when the last command finishes.\n",
    "\n",
    "> Note: It must work, but if not, you will need to look for the PID of the process by getting into the terminal of the node and put the command ps aux | grep iperf and then use the command sudo kill -9 \"PID\" so that the address gets free and you can execute the iPerf again."
   ]
  },
  {
   "cell_type": "code",
   "execution_count": null,
   "id": "81e0dc7b-f985-4cc3-9bae-1e0b1a9bfb01",
   "metadata": {},
   "outputs": [],
   "source": [
    "import threading\n",
    "\n",
    "def run_iperf(node, command):\n",
    "    result = node.execute(command)\n",
    "    print(result)\n",
    "command = \"cd pmacct-1.7.8 && sudo pmacctd -f iperf.conf\"\n",
    "command_n1 = \"iperf3 -s\"\n",
    "command_n2 = \"iperf3 -c \" + n1_ip +  \" -6\"\n",
    "\n",
    "thread = threading.Thread(target=run_iperf, args=(n1, command))\n",
    "thread_n1 = threading.Thread(target=run_iperf, args=(n1, command_n1))\n",
    "thread_n2 = threading.Thread(target=run_iperf, args=(n2, command_n2))\n",
    "\n",
    "thread.start()\n",
    "thread_n1.start()\n",
    "thread_n2.start()\n",
    "\n",
    "thread_n2.join()"
   ]
  },
  {
   "cell_type": "code",
   "execution_count": null,
   "id": "49b6a532-5a8b-49c2-bb86-38ea55dc6105",
   "metadata": {},
   "outputs": [],
   "source": [
    "#Show results\n",
    "n1.execute(\"cd pmacct-1.7.8 && cat result_iperf.csv\")"
   ]
  },
  {
   "cell_type": "code",
   "execution_count": null,
   "id": "0b368669-0e6d-4aa8-8ceb-65250c14d4eb",
   "metadata": {},
   "outputs": [],
   "source": [
    "print(cmd_download_file_from(n1, \"pmacct-1.7.8/result_iperf.csv\"))"
   ]
  },
  {
   "cell_type": "markdown",
   "id": "b41d3d4c-9bf5-4ee7-b113-9e94706a5cb5",
   "metadata": {},
   "source": [
    "## Experiment of the pmacctd tool using a pcap file with IPFIX flows\n",
    "\n",
    "IPFIX (IP Flow Information Export) flows are a standard method for exporting detailed information about IP traffic flows from network devices like routers and switches. They capture metadata including packet counts, timestamps, protocol types, ports, source and destination IP addresses, and so on. Security, traffic analysis, and network monitoring are all done with this data. IPFIX assists in anomaly detection and performance optimization. It is also a more advanced and flexible version of NetFlow, allowing for more detailed and customizable flow information export.\n",
    "\n",
    "We are going to first work producing IPFIX flows with pmacctd using a pcap file, this will include first print the result on a terminal, then on a log file at pmacctd then we are going to create an .ipfix file which will be opened and analyzed with tshark and lastly we are going to send the flows to a collector using the Netflow Python library."
   ]
  },
  {
   "cell_type": "markdown",
   "id": "9709366e-8456-4ee8-9aea-174df7908311",
   "metadata": {},
   "source": [
    "### Print the result on the terminal\n",
    "\n",
    "For this first and easiest experiment we will use the following configuration file: \n",
    "\n",
    "daemonize: false \\\n",
    "debug: true \\\n",
    "pcap_savefile: gmail.pcapng.cap \\\n",
    "plugins: nfprobe, print \\\n",
    "nfprobe_version: 10 \n",
    "\n",
    "- nfprobe: This plugin is used for exporting network flow data using the NetFlow/IPFIX protocol.\n",
    "- print: This plugin is used for printing the collected data, in this case to standard output since we have not specified an output file.\n",
    "- nfprobe_version: 10 refers to IPFIX, which is also known as NetFlow version 10. "
   ]
  },
  {
   "cell_type": "code",
   "execution_count": null,
   "id": "342f923c-a966-41c7-9930-c2e53deb20c1",
   "metadata": {},
   "outputs": [],
   "source": [
    "# You need to paste the resulting commands into the terminal to upload the files\n",
    "print(cmd_upload_file_to(n1, \"configuration-files/ipfix_1.conf\"))\n",
    "print(cmd_upload_file_to(n2, \"configuration-files/ipfix_1.conf\"))"
   ]
  },
  {
   "cell_type": "markdown",
   "id": "aa6fde9b-3b26-4b25-b51f-8c53de897a50",
   "metadata": {},
   "source": [
    "##### Execution\n",
    "\n",
    "1. Move the configuration file to the pmacctd folder.\n",
    "2. Execute pmacctd.\n",
    "3. Show the results."
   ]
  },
  {
   "cell_type": "code",
   "execution_count": null,
   "id": "286add4c-5cdd-4871-8254-93b18de88bd3",
   "metadata": {},
   "outputs": [],
   "source": [
    "#Move configuration file to pmacctd directory, execute experiment and see results\n",
    "n1.execute(\"mv ipfix_1.conf pmacct-1.7.8\")\n",
    "n2.execute(\"mv ipfix_1.conf pmacct-1.7.8\")"
   ]
  },
  {
   "cell_type": "code",
   "execution_count": null,
   "id": "9e6d1790-cd3a-4001-9df0-9279fcd6d864",
   "metadata": {},
   "outputs": [],
   "source": [
    "n1.execute(\"cd pmacct-1.7.8 && sudo pmacctd -f ipfix_1.conf\")"
   ]
  },
  {
   "cell_type": "markdown",
   "id": "05c7d2b0-32a6-42bb-aac1-27ffb1c82e43",
   "metadata": {},
   "source": [
    "### Print the result on a log file\n",
    "\n",
    "For this second experiment we will use the following configuration file: \n",
    "\n",
    "daemonize: false \\\n",
    "debug: true \\\n",
    "pcap_savefile: gmail.pcapng.cap \\\n",
    "plugins: nfprobe, print \\\n",
    "nfprobe_version: 10 \\\n",
    "print_output_file: ipfix_2.log\n",
    "\n",
    "- print: This plugin is used for printing the collected data, in this case to a log file since we have specified an output file.\n",
    "- print_output_file: refers to the log output file."
   ]
  },
  {
   "cell_type": "code",
   "execution_count": null,
   "id": "8874a7e2-89d3-4297-a0a6-3b44a1bd68cc",
   "metadata": {},
   "outputs": [],
   "source": [
    "# You need to paste the resulting commands into the terminal to upload the files\n",
    "print(cmd_upload_file_to(n1, \"configuration-files/ipfix_2.conf\"))\n",
    "print(cmd_upload_file_to(n2, \"configuration-files/ipfix_2.conf\"))"
   ]
  },
  {
   "cell_type": "markdown",
   "id": "96ff1987-81ef-4838-88f9-cd6a38b1afba",
   "metadata": {},
   "source": [
    "##### Execution\n",
    "\n",
    "1. Create the result result log file.\n",
    "2. Move the configuration file and the result file to the pmacctd folder.\n",
    "3. Execute pmacctd.\n",
    "4. Show the results.\n",
    "5. You can execute the last cell of the section to download the .log result file into your computer."
   ]
  },
  {
   "cell_type": "code",
   "execution_count": null,
   "id": "226f98e2-59c1-46cd-84c6-f0911f884493",
   "metadata": {},
   "outputs": [],
   "source": [
    "#Move configuration file to pmacctd directory, execute experiment and see results\n",
    "n1.execute(\"touch ipfix_2.log\")\n",
    "n1.execute(\"mv ipfix_2.conf ipfix_2.log pmacct-1.7.8\")\n",
    "n2.execute(\"mv ipfix_2.conf pmacct-1.7.8\")"
   ]
  },
  {
   "cell_type": "code",
   "execution_count": null,
   "id": "7f002719-275e-4e02-a2ce-9dc29caad5c6",
   "metadata": {},
   "outputs": [],
   "source": [
    "n1.execute(\"cd pmacct-1.7.8 && sudo pmacctd -f ipfix_2.conf\")\n",
    "n1.execute(\"cd pmacct-1.7.8 && cat ipfix_2.log\")"
   ]
  },
  {
   "cell_type": "code",
   "execution_count": null,
   "id": "01e8fd51-998b-455c-8b83-837d9c22c9b0",
   "metadata": {},
   "outputs": [],
   "source": [
    "print(cmd_download_file_from(n1, \"pmacct-1.7.8/ipfix_2.log\"))"
   ]
  },
  {
   "cell_type": "markdown",
   "id": "e333ed07-c242-46c5-ae6f-9de75c4beb03",
   "metadata": {},
   "source": [
    "### Send the IPFIX flows to an .ipfix file \n",
    "\n",
    "For this experiment we will use the following configuration file: \n",
    "\n",
    "daemonize: false \\\n",
    "debug: true \\\n",
    "pcap_savefile: gmail.pcapng.cap \\\n",
    "plugins: nfprobe \\\n",
    "nfprobe_receiver: 127.0.0.1:4739 \\\n",
    "nfprobe_version: 10 \n",
    "\n",
    "- nfprobe_receiver: it configures pmacct to send the collected network flow data to a local collector on IP address 127.0.0.1 (local) running on port 4739."
   ]
  },
  {
   "cell_type": "code",
   "execution_count": null,
   "id": "b8f41040-a5e7-4501-b3b7-199ea0576195",
   "metadata": {},
   "outputs": [],
   "source": [
    "# You need to paste the resulting commands into the terminal to upload the files\n",
    "print(cmd_upload_file_to(n1, \"configuration-files/ipfix_3.conf\"))\n",
    "print(cmd_upload_file_to(n2, \"configuration-files/ipfix_3.conf\"))"
   ]
  },
  {
   "cell_type": "markdown",
   "id": "1e8c6ee0-73bf-4225-bcf9-97c8e96c171d",
   "metadata": {},
   "source": [
    "##### Execution\n",
    "\n",
    "1. Create the result result IPFIX file.\n",
    "2. Move the configuration file and the result file to the pmacctd folder.\n",
    "3. Redirect the network flow of 127.0.0.1 port 4739 to the file\n",
    "4. Execute pmacctd.\n",
    "5. Show the results.\n",
    "6. You can execute the last cell of the section to download the .log result file into your computer."
   ]
  },
  {
   "cell_type": "code",
   "execution_count": null,
   "id": "65e713bf-45d6-4719-8fa1-1374896be3a7",
   "metadata": {},
   "outputs": [],
   "source": [
    "#Move configuration file to pmacctd directory, execute experiment and see results\n",
    "n1.execute(\"touch ipfix_flows_3.ipfix\")\n",
    "n1.execute(\"mv ipfix_3.conf ipfix_flows_3.ipfix pmacct-1.7.8\")\n",
    "n2.execute(\"mv ipfix_3.conf pmacct-1.7.8\")"
   ]
  },
  {
   "cell_type": "markdown",
   "id": "fd75b976-285a-40b3-9536-9df4648f2812",
   "metadata": {},
   "source": [
    "##### Redirecting the flow of 127.0.0.1 port 4739 to the file. \n",
    "We are going to do that using netcat. So we first need to download it and then use the following command to redirect the ipfix flows created to it: nc -u -l 4739 > pmacct-1.7.8/ipfix_flows_3.ipfix.\n",
    "\n",
    "This command means that we are using the NetCat utility using UDP which listens for incoming connections on port 4739 and which redirects the output to the file specified on the path, in this cas ipfix_flows_3.ipfix\n"
   ]
  },
  {
   "cell_type": "code",
   "execution_count": 76,
   "id": "28d4d2de-b0c5-46a5-be95-85d793449ca8",
   "metadata": {},
   "outputs": [],
   "source": [
    "stdout, stderr = n1.execute(\n",
    "    \"sudo apt-get install netcat\",\n",
    "    quiet=True\n",
    ")\n",
    "stdout, stderr = n2.execute(\n",
    "    \"sudo apt-get install netcat\",\n",
    "    quiet=True\n",
    ")"
   ]
  },
  {
   "cell_type": "code",
   "execution_count": null,
   "id": "1bf5750e-3f6e-4621-bc3d-e46cf78844fc",
   "metadata": {
    "scrolled": true
   },
   "outputs": [],
   "source": [
    "import threading\n",
    "\n",
    "def run_iperf(node, command):\n",
    "    result = node.execute(command)\n",
    "    print(result)\n",
    "command_1 = \"nc -u -l 4739 > pmacct-1.7.8/ipfix_flows_3.ipfix\"\n",
    "command_2 = \"cd pmacct-1.7.8 && sudo pmacctd -f ipfix_3.conf\"\n",
    "\n",
    "thread_1 = threading.Thread(target=run_iperf, args=(n1, command_1))\n",
    "thread_2 = threading.Thread(target=run_iperf, args=(n1, command_2))\n",
    "\n",
    "thread_1.start()\n",
    "thread_2.start()\n",
    "\n",
    "thread_2.join()"
   ]
  },
  {
   "cell_type": "code",
   "execution_count": null,
   "id": "61abfe25-fece-4091-93a9-0724545c358a",
   "metadata": {},
   "outputs": [],
   "source": [
    "print(cmd_download_file_from(n1, \"pmacct-1.7.8/ipfix_flows_3.ipfix\"))"
   ]
  },
  {
   "cell_type": "markdown",
   "id": "6e1974bb-f462-4b00-b117-b4e4733431cf",
   "metadata": {},
   "source": [
    "##### We need to download t-shark so that we can se the content of the flows in the result file. \n",
    "First, we need to download the file to inspect its content and the different flows. Since downloading TShark requires granting some permissions, we cannot automate this process. Please refer to the cell where the SSH command for node n1 is shown in the section. Execute that command in a terminal (so that that terminal is now the terminal of the node), and then run the following command: \"sudo apt-get install -y tshark\"\n"
   ]
  },
  {
   "cell_type": "code",
   "execution_count": null,
   "id": "0083137c-b290-4d73-8e9a-a82f01f73802",
   "metadata": {
    "collapsed": true,
    "jupyter": {
     "outputs_hidden": true
    }
   },
   "outputs": [],
   "source": [
    "#n1.execute(\"sudo apt-get install -y tshark\")\n",
    "#n2.execute(\"sudo apt-get install -y tshark\")"
   ]
  },
  {
   "cell_type": "markdown",
   "id": "de4e530d-9cdc-48d3-b141-f3dcda7e1f8e",
   "metadata": {},
   "source": [
    "##### Summary\n",
    "The following command will read and display the packet summary information from the IPFIX file, showing a list of packets captured in the file.\n"
   ]
  },
  {
   "cell_type": "code",
   "execution_count": null,
   "id": "57218177-9000-4467-944d-b904cfca5321",
   "metadata": {
    "collapsed": true,
    "jupyter": {
     "outputs_hidden": true
    }
   },
   "outputs": [],
   "source": [
    "n1.execute(\"tshark -r pmacct-1.7.8/ipfix_flows_3.ipfix\")"
   ]
  },
  {
   "cell_type": "markdown",
   "id": "2055bd38-a40b-41bb-97ea-cfdfeff3d552",
   "metadata": {},
   "source": [
    "##### In detail \n",
    "This command reads the IPFIX file and provides a detailed hex and ASCII representation of the first packet's data. This is useful for in-depth analysis of the packet's structure and content.\n",
    "\n",
    "You can change the number of the packet and execute the command again to inspect different ones.\n"
   ]
  },
  {
   "cell_type": "code",
   "execution_count": null,
   "id": "a5414398-3e78-4210-978a-bcbcaa59877b",
   "metadata": {},
   "outputs": [],
   "source": [
    "# Look one packet of a flow in detail\n",
    "n1.execute(\"tshark -r pmacct-1.7.8/ipfix_flows_3.ipfix -x -c 1\")"
   ]
  },
  {
   "cell_type": "markdown",
   "id": "293c9b71-562c-473f-91ad-52cb2748552b",
   "metadata": {},
   "source": [
    "### Send the IPFIX flows to a collector"
   ]
  },
  {
   "cell_type": "markdown",
   "id": "1b3c4a5b-7f13-42ef-8301-6356d6da3a77",
   "metadata": {},
   "source": [
    "First, we need to download the netflow Python library from  https://pypi.org/project/netflow/ and place on the work directory. \n",
    "Also it is necessary to download python3 on the node: sudo apt-get install python3 to be able to use the library. Then we will uploade it to the nodes. "
   ]
  },
  {
   "cell_type": "code",
   "execution_count": null,
   "id": "8fbf20bf-a554-4898-9fe3-f1f595c04fc7",
   "metadata": {},
   "outputs": [],
   "source": [
    "# Please, place the resulting command on a terminal\n",
    "print(cmd_upload_file_to(n1, \"netflow-0.12.2.tar.gz\"))\n",
    "print(cmd_upload_file_to(n2, \"netflow-0.12.2.tar.gz\"))      "
   ]
  },
  {
   "cell_type": "code",
   "execution_count": null,
   "id": "e9bc76e3-e50a-48b7-b175-36e4e1d4dbb5",
   "metadata": {},
   "outputs": [],
   "source": [
    "# Unzip the netflow library file, you can install the zip library by executing the command sudo apt-get zip, you can uncomment the following line and execute it\n",
    "# If you follow this notebook from the beggining you should have the software package already installed.\n",
    "#n1.execute(\"sudo apt-get zip\")\n",
    "n1.execute(\"tar -xzf netflow-0.12.2.tar.gz\")\n",
    "n2.execute(\"tar -xzf netflow-0.12.2.tar.gz\")"
   ]
  },
  {
   "cell_type": "markdown",
   "id": "927b95c2-f3a1-4e97-b877-85776609cc47",
   "metadata": {},
   "source": [
    "It is necessary to download python3 and pip on the node to be able to use the library."
   ]
  },
  {
   "cell_type": "code",
   "execution_count": 80,
   "id": "9829ab9c-917c-4351-a8b0-38b5ad7c866f",
   "metadata": {},
   "outputs": [],
   "source": [
    "# Download pyython at the nodes and also netflow\n",
    "stdout, stderr = n1.execute(\n",
    "    \"sudo apt-get install -y python3\",\n",
    "    quiet=True\n",
    ")\n",
    "stdout, stderr = n1.execute(\n",
    "    \"sudo apt-get install -y python3\",\n",
    "    quiet=True\n",
    ")\n",
    "stdout, stderr = n2.execute(\n",
    "    \"sudo apt-get install -y pip\",\n",
    "    quiet=True\n",
    ")\n",
    "stdout, stderr = n2.execute(\n",
    "    \"sudo apt-get install -y pip\",\n",
    "    quiet=True\n",
    ")"
   ]
  },
  {
   "cell_type": "markdown",
   "id": "28c4cf23-ad39-42f9-8402-277ad30dbfa8",
   "metadata": {},
   "source": [
    "We also need to install the netflow Python package so that the library works properly."
   ]
  },
  {
   "cell_type": "code",
   "execution_count": 81,
   "id": "9a4c7440-7109-4b54-ae06-8ef7e2ecdea8",
   "metadata": {},
   "outputs": [],
   "source": [
    "stdout, stderr = n1.execute(\n",
    "    \"pip install netflow\",\n",
    "    quiet=True\n",
    ")\n",
    "stdout, stderr = n2.execute(\n",
    "    \"pip install netflow\",\n",
    "    quiet=True\n",
    ")"
   ]
  },
  {
   "cell_type": "markdown",
   "id": "9c6909b0-14da-4119-9608-57dc42b9877f",
   "metadata": {},
   "source": [
    "##### Configuration file\n",
    "\n",
    "For this experiment we will use the following configuration file: \n",
    "\n",
    "daemonize: false \\\n",
    "debug: true \\\n",
    "pcap_savefile: gmail.pcapng.cap \\\n",
    "plugins: nfprobe \\\n",
    "nfprobe_receiver: 127.0.0.2:4739 \\\n",
    "nfprobe_version: 9 \n",
    "\n",
    "- nfprobe_version: 9 refers to NetFlow, since we are using its Python version we need to specify it."
   ]
  },
  {
   "cell_type": "code",
   "execution_count": null,
   "id": "5045f3ff-4de2-4ff2-91d1-3bc87579546c",
   "metadata": {},
   "outputs": [],
   "source": [
    "# Please, place the resulting command on a terminal\n",
    "print(cmd_upload_file_to(n1, \"configuration-files/ipfix_4.conf\"))\n",
    "print(cmd_upload_file_to(n2, \"configuration-files/ipfix_4.conf\"))"
   ]
  },
  {
   "cell_type": "markdown",
   "id": "cfed5ceb-1a1f-43d7-9c70-24f73e4bd2a9",
   "metadata": {},
   "source": [
    "##### Execution\n",
    "\n",
    "1. Move the configuration file to the pmacctd folder.\n",
    "2. Execute the python program collector.py specifying the host and the port \n",
    "3. Redirect the network flow of 127.0.0.2 port 4739 to the file\n",
    "4. Execute pmacctd.\n",
    "5. Show the results.\n",
    "6. You can execute the last cell of the section to download the .log result file into your computer."
   ]
  },
  {
   "cell_type": "code",
   "execution_count": null,
   "id": "f8405971-62fd-422d-b2f8-3e06ebde8811",
   "metadata": {},
   "outputs": [],
   "source": [
    "n1.execute(\"mv ipfix_4.conf pmacct-1.7.8\")\n",
    "n2.execute(\"mv ipfix_4.conf pmacct-1.7.8\")"
   ]
  },
  {
   "cell_type": "code",
   "execution_count": null,
   "id": "77fa7429-da7f-4aa5-8219-4c1a44f16cc4",
   "metadata": {
    "scrolled": true
   },
   "outputs": [],
   "source": [
    "import threading\n",
    "\n",
    "def run_iperf(node, command):\n",
    "    result = node.execute(command)\n",
    "    print(result)\n",
    "command_1 = \"cd netflow-0.12.2/netflow && python3 collector.py --host 127.0.0.2 --port 4739\"\n",
    "command_2 = \"cd pmacct-1.7.8 && sudo pmacctd -f ipfix_4.conf\"\n",
    "\n",
    "thread_1 = threading.Thread(target=run_iperf, args=(n1, command_1))\n",
    "thread_2 = threading.Thread(target=run_iperf, args=(n1, command_2))\n",
    "\n",
    "thread_1.start()\n",
    "thread_2.start()\n",
    "\n",
    "thread_2.join()"
   ]
  },
  {
   "cell_type": "markdown",
   "id": "28d39b00-366f-43d7-afc0-56b1a24d1013",
   "metadata": {},
   "source": [
    "##### Results\n",
    "\n",
    "The results will be obtained on a .tar file, containing a JSON file placed on the netflow folder as you can see on the following picture:\n",
    "\n",
    "<div style=\"text-align: center;\">\n",
    "    <img src=\"./images/4.png\" width=\"700px\"/>\n",
    "</div>\n",
    "\n",
    "You can unzip them using the command: gzip -d filename.gz\n",
    "\n",
    "You can see the results using the command: cat filename\n",
    "\n",
    "You can download the results using the command \"print(cmd_download_file_from(n1, \"filename\"))\" on a new cell of this Notebook \n"
   ]
  },
  {
   "cell_type": "markdown",
   "id": "c449a98c-8bfa-4c35-a5aa-504680d138ce",
   "metadata": {},
   "source": [
    "##  Experiment of the pmacctd tool using live traffic with IPFIX flows\n",
    "Now we are going to work producing IPFIX flows with pmacctd using the live traffic captured by pmacctd, this will include first printing the result on a terminal, then in a log file at pmacctd then we are going to create an .ipfix file which will be opened and analyzed with tshark and lastly we are going to send the flows to a collector using the Netflow Python library."
   ]
  },
  {
   "cell_type": "markdown",
   "id": "0084d12c-c267-4a28-a12b-427b3be708c6",
   "metadata": {},
   "source": [
    "### Print the result on the terminal\n",
    "For this first and easiest experiment we will use the following configuration file: \n",
    "\n",
    "daemonize: false \\\n",
    "debug: true \\\n",
    "pcap_interface: any \\\n",
    "plugins: nfprobe, print \\\n",
    "nfprobe_version: 10 \\\n",
    "nfprobe_receiver: localhost:4739\n",
    "\n",
    "- nfprobe: This plugin is used for exporting network flow data using the NetFlow/IPFIX protocol.\n",
    "- print: This plugin is used for printing the collected data, in this case to standard output since we have not specified an output file.\n",
    "- nfprobe_version: 10 refers to IPFIX, which is also known as NetFlow version 10.\n",
    "- pcap_interface: refers to the interface or interfaces where the tool will collect the data from.\n",
    "- nfprobe_receiver: specifies the destination to which NetFlow/IPFIX data should be sent."
   ]
  },
  {
   "cell_type": "code",
   "execution_count": null,
   "id": "44d56e3c-068f-40ae-a11c-c281d88e00c8",
   "metadata": {},
   "outputs": [],
   "source": [
    "# You need to paste the resulting commands into the terminal to upload the files\n",
    "print(cmd_upload_file_to(n1, \"configuration-files/ipfix_live_1.conf\"))\n",
    "print(cmd_upload_file_to(n2, \"configuration-files/ipfix_live_1.conf\"))"
   ]
  },
  {
   "cell_type": "markdown",
   "id": "5270b301-66c3-4200-8487-2e754511ab05",
   "metadata": {},
   "source": [
    "##### Execution\n",
    "\n",
    "1. Move the configuration file to the pmacctd folder.\n",
    "2. Start the pmacctd daemon using threads. \n",
    "3. Execute ICMP live traffic to the n1 so that it can be collected.\n",
    "4. Show the results on the terminal."
   ]
  },
  {
   "cell_type": "code",
   "execution_count": null,
   "id": "4cfcc6fe-80ea-4c54-835e-57fe02969196",
   "metadata": {},
   "outputs": [],
   "source": [
    "#Move configuration file to pmacctd directory, execute experiment and see results\n",
    "n1.execute(\"mv ipfix_live_1.conf pmacct-1.7.8\")\n",
    "n2.execute(\"mv ipfix_live_1.conf pmacct-1.7.8\")"
   ]
  },
  {
   "cell_type": "code",
   "execution_count": null,
   "id": "bd873547-bc03-41b5-8e20-1d82c95bd603",
   "metadata": {},
   "outputs": [],
   "source": [
    "import threading \n",
    "def run_pmacctd(node, command):\n",
    "    result = node.execute(command)\n",
    "    print(result)\n",
    "command_n1 = \"cd pmacct-1.7.8 && sudo pmacctd -f ipfix_live_1.conf\"\n",
    "command_n2 = \"ping -c 20 \" + n1_ip\n",
    "\n",
    "thread_h1 = threading.Thread(target=run_pmacctd, args=(n1, command_n1))\n",
    "thread_h2 = threading.Thread(target=run_pmacctd, args=(n2, command_n2))\n",
    "\n",
    "thread_h1.start()\n",
    "thread_h2.start()\n",
    "\n",
    "thread_h2.join()"
   ]
  },
  {
   "cell_type": "markdown",
   "id": "cf3de42f-fc2b-477e-a662-bddb0dadb92a",
   "metadata": {},
   "source": [
    "### Print the result on a log file\n",
    "\n",
    "For this second experiment we will use the following configuration file: \n",
    "\n",
    "daemonize: false \\\n",
    "debug: true \\\n",
    "pcap_interface: any \\\n",
    "plugins: nfprobe, print \\\n",
    "nfprobe_version: 10 \\\n",
    "print_output_file: ipfix_live_2.log\n",
    "\n",
    "- print: This plugin is used for printing the collected data, in this case to a log file since we have specified an output file.\n",
    "- pcap_interface: refers to the interface or interfaces where the tool will collect the data from.\n",
    "- print_output_file: refers to the log output file."
   ]
  },
  {
   "cell_type": "code",
   "execution_count": null,
   "id": "e39922bb-7638-44cd-84f9-f9cb23ba3b6c",
   "metadata": {},
   "outputs": [],
   "source": [
    "# You need to paste the resulting commands into the terminal to upload the files\n",
    "print(cmd_upload_file_to(n1, \"configuration-files/ipfix_live_2.conf\"))\n",
    "print(cmd_upload_file_to(n2, \"configuration-files/ipfix_live_2.conf\"))"
   ]
  },
  {
   "cell_type": "markdown",
   "id": "a6d4b909-b485-4a8a-ab0e-a70d798be635",
   "metadata": {},
   "source": [
    "##### Execution\n",
    "\n",
    "1. Create the result result log file.\n",
    "2. Move the configuration file and the result log file to the pmacctd folder.\n",
    "3. Execute pmacctd.\n",
    "4. Create live traffic betweeen the nodes.\n",
    "5. Show the results.\n",
    "6. You can execute the last cell of the section to download the .log result file into your computer."
   ]
  },
  {
   "cell_type": "code",
   "execution_count": null,
   "id": "bc0d84de-abe9-476e-9456-ec972ad7fb3a",
   "metadata": {},
   "outputs": [],
   "source": [
    "#Move configuration file to pmacctd directory, execute experiment and see results\n",
    "n1.execute(\"touch ipfix_live_2.log\")\n",
    "n1.execute(\"mv ipfix_live_2.conf ipfix_live_2.log pmacct-1.7.8\")\n",
    "n2.execute(\"mv ipfix_live_2.conf pmacct-1.7.8\")"
   ]
  },
  {
   "cell_type": "code",
   "execution_count": null,
   "id": "fa2ad30d-26c1-4b32-ad26-eba5781069a0",
   "metadata": {},
   "outputs": [],
   "source": [
    "import threading \n",
    "def run_pmacctd(node, command):\n",
    "    result = node.execute(command)\n",
    "    print(result)\n",
    "command_n1 = \"cd pmacct-1.7.8 && sudo pmacctd -f ipfix_live_2.conf\"\n",
    "command_n2 = \"ping -c 20 \" + n1_ip\n",
    "\n",
    "thread_h1 = threading.Thread(target=run_pmacctd, args=(n1, command_n1))\n",
    "thread_h2 = threading.Thread(target=run_pmacctd, args=(n2, command_n2))\n",
    "\n",
    "thread_h1.start()\n",
    "thread_h2.start()\n",
    "\n",
    "thread_h2.join()"
   ]
  },
  {
   "cell_type": "code",
   "execution_count": null,
   "id": "489dce01-1551-44e4-a66e-ed46bd280d00",
   "metadata": {},
   "outputs": [],
   "source": [
    "print(cmd_download_file_from(n1, \"pmacct-1.7.8/ipfix_live_2.log\"))"
   ]
  },
  {
   "cell_type": "markdown",
   "id": "7fc2adef-9ef2-4098-9e2c-bbe128a3183d",
   "metadata": {},
   "source": [
    "### Send the IPFIX flows to an .ipfix file \n",
    "For this experiment we will use the following configuration file: \n",
    "\n",
    "daemonize: false \\\n",
    "debug: true \\\n",
    "pcap_interface: any \\\n",
    "plugins: nfprobe \\\n",
    "nfprobe_receiver: 127.0.0.4:4738 \\\n",
    "nfprobe_version: 10 \n",
    "\n",
    "- nfprobe_receiver: it configures pmacct to send the collected network flow data to a local collector on IP address 127.0.0.4 running on port 4739."
   ]
  },
  {
   "cell_type": "code",
   "execution_count": null,
   "id": "4581acce-d7c4-406f-96ab-9354d79cbc9c",
   "metadata": {},
   "outputs": [],
   "source": [
    "# Please, paste the resulting commands to upload the configuration files to the nodes\n",
    "\n",
    "print(cmd_upload_file_to(n1, \"configuration-files/ipfix_live_3.conf\"))\n",
    "print(cmd_upload_file_to(n2, \"configuration-files/ipfix_live_3.conf\"))"
   ]
  },
  {
   "cell_type": "markdown",
   "id": "749888b8-616f-4f7e-bcdd-170834c5f11f",
   "metadata": {},
   "source": [
    "##### Redirecting the flow of 127.0.0.4 port 4739 to the file. \n",
    "We are going to do that using netcat. So we first need to download it and then use the following command to redirect the ipfix flows created to it: nc -u -l 4739 > pmacct-1.7.8/ipfix_flows_live_3.ipfix.\n",
    "\n",
    "This command means that we are using the NetCat utility using UDP which listens for incoming connections on port 4739 and which redirects the output to the file specified on the path, in this cas ipfix_flows_3.ipfix\n"
   ]
  },
  {
   "cell_type": "code",
   "execution_count": 98,
   "id": "1be37790-9526-4e96-8bea-6d52a240892a",
   "metadata": {
    "scrolled": true
   },
   "outputs": [],
   "source": [
    "stdout, stderr = n1.execute(\n",
    "    \"sudo apt-get install -y netcat\",\n",
    "    quiet=True\n",
    ")\n",
    "stdout, stderr = n2.execute(\n",
    "    \"sudo apt-get install -y netcat\",\n",
    "    quiet=True\n",
    ")\n"
   ]
  },
  {
   "cell_type": "markdown",
   "id": "2132860f-15ac-44dd-bd79-cfcb6f1275bf",
   "metadata": {},
   "source": [
    "##### Execution\n",
    "\n",
    "1. Create the result result IPFIX file.\n",
    "2. Move the configuration file and the result file to the pmacctd folder.\n",
    "3. Redirect the network flow of 127.0.0.4 port 4739 to the file\n",
    "4. Execute pmacctd.\n",
    "5. Show the results.\n",
    "6. You can execute the last cell of the section to download the .log result file into your computer."
   ]
  },
  {
   "cell_type": "code",
   "execution_count": null,
   "id": "6b308fdc-bbf6-497f-9eba-5f0df19f1548",
   "metadata": {},
   "outputs": [],
   "source": [
    "#Move configuration file to pmacctd directory, execute experiment and see results\n",
    "n1.execute(\"touch ipfix_flows_live_3.ipfix\")\n",
    "n1.execute(\"mv ipfix_live_3.conf ipfix_flows_live_3.ipfix pmacct-1.7.8\")\n",
    "n2.execute(\"mv ipfix_live_3.conf pmacct-1.7.8\")"
   ]
  },
  {
   "cell_type": "code",
   "execution_count": null,
   "id": "0727a070-d871-4a13-a535-ed394e53d519",
   "metadata": {},
   "outputs": [],
   "source": [
    "import threading\n",
    "\n",
    "def run_iperf(node, command):\n",
    "    result = node.execute(command)\n",
    "    print(result)\n",
    "command_1 = \"nc -u -l 4738 > pmacct-1.7.8/ipfix_flows_live_3.ipfix\"\n",
    "command_2 = \"cd pmacct-1.7.8 && sudo pmacctd -f ipfix_live_3.conf\"\n",
    "command_3 = \"ping -c 20 -I \" + n1_iface1.get_device_name() + n1_ip\n",
    "\n",
    "thread_1 = threading.Thread(target=run_iperf, args=(n1, command_1))\n",
    "thread_2 = threading.Thread(target=run_iperf, args=(n1, command_2))\n",
    "thread_3 = threading.Thread(target=run_iperf, args=(n2, command_3))\n",
    "\n",
    "thread_1.start()\n",
    "thread_2.start()\n",
    "thread_3.start()\n",
    "\n",
    "thread_3.join()"
   ]
  },
  {
   "cell_type": "code",
   "execution_count": null,
   "id": "a7c71ef4-fff4-4e96-b277-2fbddc1dea83",
   "metadata": {},
   "outputs": [],
   "source": [
    "print(cmd_download_file_from(n1, \"pmacct-1.7.8/ipfix_flows_live_3.ipfix\"))"
   ]
  },
  {
   "cell_type": "markdown",
   "id": "d820f373-9e48-4068-b148-553f1ef742b0",
   "metadata": {},
   "source": [
    "##### We need to download t-shark so that we can se the content of the flows in the result file. \n",
    "First, we need to download the file to inspect its content and the different flows. Since downloading TShark requires granting some permissions, we cannot automate this process. Please refer to the cell where the SSH command for node n1 is shown in the section. Execute that command in a terminal, and then run the following command: \"sudo apt-get install -y tshark\"\n"
   ]
  },
  {
   "cell_type": "markdown",
   "id": "57b172d0-ddeb-49a6-ba9a-33be56bf30d1",
   "metadata": {},
   "source": [
    "##### Summary\n",
    "The following command will read and display the packet summary information from the IPFIX file, showing a list of packets captured in the file.\n"
   ]
  },
  {
   "cell_type": "code",
   "execution_count": null,
   "id": "88ec8e6d-a945-4068-8019-c837ced2bce2",
   "metadata": {},
   "outputs": [],
   "source": [
    "n1.execute(\"tshark -r pmacct-1.7.8/ipfix_flows_live_3.ipfix\")"
   ]
  },
  {
   "cell_type": "markdown",
   "id": "205207e2-9f4f-46ce-80ce-e1a7d598546d",
   "metadata": {},
   "source": [
    "##### In detail \n",
    "This command reads the IPFIX file and provides a detailed hex and ASCII representation of the first packet's data. This is useful for in-depth analysis of the packet's structure and content.\n",
    "\n",
    "You can change the number of the packet and execute the command again to inspect different ones.\n"
   ]
  },
  {
   "cell_type": "code",
   "execution_count": null,
   "id": "4ac49145-a5ac-4d90-b768-600d21ecd9af",
   "metadata": {},
   "outputs": [],
   "source": [
    "# Look one packet of a flow in detai\n",
    "n1.execute(\"tshark -r pmacct-1.7.8/ipfix_flows_live_3.ipfix -x -c 1\")"
   ]
  },
  {
   "cell_type": "markdown",
   "id": "b56641a2-4f5e-4719-ab2c-1a1d19b48aff",
   "metadata": {},
   "source": [
    "### Send the IPFIX flows to a collector"
   ]
  },
  {
   "cell_type": "markdown",
   "id": "6ab4c57a-b817-449c-8d9f-a384816a93bb",
   "metadata": {},
   "source": [
    "First, we need to download the netflow Python library from  https://pypi.org/project/netflow/ and place on the work directory. \n",
    "Also it is necessary to download python3 on the node: sudo apt-get install python3 to be able to use the library. Then we will uploade it to the nodes. "
   ]
  },
  {
   "cell_type": "code",
   "execution_count": null,
   "id": "81cea71a-90e1-4e51-8f12-eaca3bd547fe",
   "metadata": {},
   "outputs": [],
   "source": [
    "# Upload the netflow library to the nodes.\n",
    "print(cmd_upload_file_to(n1, \"netflow-0.12.2.tar.gz\"))\n",
    "print(cmd_upload_file_to(n2, \"netflow-0.12.2.tar.gz\"))      "
   ]
  },
  {
   "cell_type": "code",
   "execution_count": null,
   "id": "c005d284-ada7-4491-a00d-c98e1cb4d3e4",
   "metadata": {},
   "outputs": [],
   "source": [
    "# Unzip the netflow library file, you can install the zip library by executing the command sudo apt-get zip, you can uncomment the following line and execute it\n",
    "# If you follow this notebook from the beggining you should have the software package already installed.\n",
    "#n1.execute(\"sudo apt-get zip\")\n",
    "n1.execute(\"tar -xzf netflow-0.12.2.tar.gz\")\n",
    "n2.execute(\"tar -xzf netflow-0.12.2.tar.gz\")"
   ]
  },
  {
   "cell_type": "markdown",
   "id": "e07027e2-2c13-4bdf-951d-a0bce180f018",
   "metadata": {},
   "source": [
    "It is necessary to download python3 and pip on the node to be able to use the library."
   ]
  },
  {
   "cell_type": "code",
   "execution_count": null,
   "id": "91ed22c9-d92a-4d09-9047-111a6e034c53",
   "metadata": {
    "collapsed": true,
    "jupyter": {
     "outputs_hidden": true
    },
    "scrolled": true
   },
   "outputs": [],
   "source": [
    "# Download pyython at the nodes and also netflow\n",
    "stdout, stderr = n1.execute(\n",
    "    \"sudo apt-get install -y python3\",\n",
    "    quiet=True\n",
    ")\n",
    "stdout, stderr = n1.execute(\n",
    "    \"sudo apt-get install -y python3\",\n",
    "    quiet=True\n",
    ")\n",
    "stdout, stderr = n2.execute(\n",
    "    \"sudo apt-get install -y pip\",\n",
    "    quiet=True\n",
    ")\n",
    "stdout, stderr = n2.execute(\n",
    "    \"sudo apt-get install -y pip\",\n",
    "    quiet=True\n",
    ")\n"
   ]
  },
  {
   "cell_type": "markdown",
   "id": "98c9d722-1475-45ab-a47f-3e8ae5976cf2",
   "metadata": {},
   "source": [
    "We also need to install the netflow Python package so that the library works properly."
   ]
  },
  {
   "cell_type": "code",
   "execution_count": null,
   "id": "0509b55c-3b79-4452-8948-e638b33a83e7",
   "metadata": {},
   "outputs": [],
   "source": [
    "stdout, stderr = n1.execute(\n",
    "    \"pip install netflow\",\n",
    "    quiet=True\n",
    ")\n",
    "stdout, stderr = n2.execute(\n",
    "    \"pip install netflow\",\n",
    "    quiet=True\n",
    ")\n"
   ]
  },
  {
   "cell_type": "markdown",
   "id": "75158b86-9bbf-41d8-a10a-ded5f538f256",
   "metadata": {},
   "source": [
    "##### Configuration file\n",
    "\n",
    "For this experiment we will use the following configuration file: \n",
    "\n",
    "daemonize: false \\\n",
    "debug: true \\\n",
    "pcap_interface: any \\\n",
    "plugins: nfprobe \\\n",
    "nfprobe_receiver: 127.0.0.6:4739 \\\n",
    "nfprobe_version: 9 \n",
    "\n",
    "- nfprobe_version: 9 refers to NetFlow, since we are using its Python version we need to specify it."
   ]
  },
  {
   "cell_type": "code",
   "execution_count": null,
   "id": "75e16c28-ed31-40c7-9006-655851a7392a",
   "metadata": {},
   "outputs": [],
   "source": [
    "# Please, paste the commands on the terminal to upload the files to the node\n",
    "print(cmd_upload_file_to(n1, \"configuration-files/ipfix_live_4.conf\"))\n",
    "print(cmd_upload_file_to(n2, \"configuration-files/ipfix_live_4.conf\"))"
   ]
  },
  {
   "cell_type": "markdown",
   "id": "eff40e91-77a8-47b8-a3cf-a3e9cac7f151",
   "metadata": {},
   "source": [
    "##### Execution\n",
    "\n",
    "1. Move the configuration file to the pmacctd folder.\n",
    "2. Execute the python program collector.py specifying the host and the port \n",
    "3. Redirect the network flow of 127.0.0.6 port 4739 to the file\n",
    "4. Execute pmacctd daemon.\n",
    "5. Create ICMP live traffic\n",
    "6. Show the results."
   ]
  },
  {
   "cell_type": "code",
   "execution_count": null,
   "id": "dd3d0dbd-d6d6-4659-a3c1-305dc0b3f2c3",
   "metadata": {
    "scrolled": true
   },
   "outputs": [],
   "source": [
    "n1.execute(\"mv ipfix_live_4.conf pmacct-1.7.8\")\n",
    "n2.execute(\"mv ipfix_live_4.conf pmacct-1.7.8\")"
   ]
  },
  {
   "cell_type": "code",
   "execution_count": null,
   "id": "db55fa2a-3e5d-4509-837f-2eb0550529ec",
   "metadata": {
    "collapsed": true,
    "jupyter": {
     "outputs_hidden": true
    }
   },
   "outputs": [],
   "source": [
    "import threading\n",
    "\n",
    "def run_iperf(node, command):\n",
    "    result = node.execute(command)\n",
    "    print(result)\n",
    "command_1 = \"cd netflow-0.12.2/netflow && python3 collector.py --host 127.0.0.6 --port 4739\"\n",
    "command_2 = \"cd pmacct-1.7.8 && sudo pmacctd -f ipfix_live_4.conf\"\n",
    "command_3 = \"ping -c 40 -I \" + n1_iface1.get_device_name() + n1_ip\n",
    "\n",
    "thread_1 = threading.Thread(target=run_iperf, args=(n1, command_1))\n",
    "thread_2 = threading.Thread(target=run_iperf, args=(n1, command_2))\n",
    "thread_3 = threading.Thread(target=run_iperf, args=(n2, command_3))\n",
    "\n",
    "thread_1.start()\n",
    "thread_2.start()\n",
    "thread_3.start()\n",
    "\n",
    "thread_3.join()"
   ]
  },
  {
   "cell_type": "markdown",
   "id": "038eabb1-a5c7-44ed-8465-9f3bc48a9a79",
   "metadata": {},
   "source": [
    "##### Results\n",
    "\n",
    "The results will be obtained on a .tar file, containing a JSON file placed on the netflow folder as you can see on the following picture:\n",
    "\n",
    "<div style=\"text-align: center;\">\n",
    "    <img src=\"./images/4.png\" width=\"700px\"/>\n",
    "</div>\n",
    "\n",
    "You can unzip them using the command: gzip -d filename.gz\n",
    "\n",
    "You can see the results using the command: cat filename\n",
    "\n",
    "You can download the results using the command: print(cmd_download_file_from(n1, \"filename\"))\n"
   ]
  },
  {
   "cell_type": "markdown",
   "id": "fd196564-3b97-45c2-8bbd-d70654e33604",
   "metadata": {},
   "source": [
    "# Future work\n",
    "This notebook focuses on the integration of pmacctd with FABRIC, but this is not its ultimate goal. The aim is to create an opportunity for future students and individuals interested in networking within the field of computer science to experiment and learn by leveraging the combined capabilities of these two tools. Therefore, I encourage users to continue contributing to this notebook by modifying experiments, tweaking the pmacctd configuration files, experimenting with different topologies, incorporating pmacctd into their own projects, or simply exploring the numerous functionalities that pmacct offers."
   ]
  }
 ],
 "metadata": {
  "kernelspec": {
   "display_name": "Python 3 (ipykernel)",
   "language": "python",
   "name": "python3"
  },
  "language_info": {
   "codemirror_mode": {
    "name": "ipython",
    "version": 3
   },
   "file_extension": ".py",
   "mimetype": "text/x-python",
   "name": "python",
   "nbconvert_exporter": "python",
   "pygments_lexer": "ipython3",
   "version": "3.11.8"
  },
  "toc-autonumbering": true,
  "toc-showcode": true,
  "toc-showmarkdowntxt": false
 },
 "nbformat": 4,
 "nbformat_minor": 5
}
