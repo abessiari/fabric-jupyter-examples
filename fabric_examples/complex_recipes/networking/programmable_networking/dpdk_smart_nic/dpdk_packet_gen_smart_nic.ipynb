{
 "cells": [
  {
   "cell_type": "markdown",
   "metadata": {},
   "source": [
    "# Smart NIC with DPDK and Packet gen\n",
    "\n",
    "DPDK is the Data Plane Development Kit that consists of libraries to accelerate packet processing workloads running on a wide variety of CPU architectures. It is designed to run on x86, POWER, and ARM processors and licensed under the Open-Source BSD License.\n",
    "\n",
    "Pktgen-DPDK is a traffic generator powered by DPDK.\n",
    "\n",
    "This notebook depicts how to attach Smart NICs to DPDK and send traffic to the DPDK connected NICs via Pktgen-DPDK."
   ]
  },
  {
   "cell_type": "markdown",
   "metadata": {},
   "source": [
    "## Import the FABlib Library\n"
   ]
  },
  {
   "cell_type": "code",
   "execution_count": null,
   "metadata": {},
   "outputs": [],
   "source": [
    "from ipaddress import ip_address, IPv4Address, IPv6Address, IPv4Network, IPv6Network\n",
    "import ipaddress\n",
    "\n",
    "from fabrictestbed_extensions.fablib.fablib import FablibManager as fablib_manager\n",
    "\n",
    "fablib = fablib_manager()\n",
    "                     \n",
    "fablib.show_config();"
   ]
  },
  {
   "cell_type": "markdown",
   "metadata": {},
   "source": [
    "## Re-create a VM attached to dpdk-mellanox-tools volume on EDC\n",
    "\n",
    "In order to have access to necessary tools execute the notebook to [re-create a Storage VM attached](./dpdk_tools_storage.ipynb) to the `dpdk-mellanox-tools` persistent storage. You must execute it as a member of project which owns the volume.\n",
    "\n",
    "This step is optional. You can skip this step but would be then required to download Mellanox drivers from NVIDIA's [website](https://network.nvidia.com/products/infiniband-drivers/linux/mlnx_ofed/) and upload to the VMs. "
   ]
  },
  {
   "cell_type": "markdown",
   "metadata": {
    "tags": []
   },
   "source": [
    "## Create the Experiment Slice\n",
    "\n",
    "The following creates two nodes with NIC_ConnectX_6/NIC_ConnectX_5 NICs connected to an isolated local Ethernet. \n",
    "- `l3fwd-node`: with one port connected to local L2 network. We will run DPDK L3FWD application here\n",
    "- `pktgen-node`: with one port connected to local L2 network. We wull run DPDK Packet Generator her \n",
    "\n",
    "In addition to local L2 network, each node is connected to FABNETv4 to be able to download the drivers from the Storage Node.\n",
    "\n",
    "<img src=\"./images/dpdk-pktgen-smart-nic.png\"><br>"
   ]
  },
  {
   "cell_type": "code",
   "execution_count": null,
   "metadata": {},
   "outputs": [],
   "source": [
    "slice_name = 'MySlice-dpdk-pktgen'\n",
    "site = fablib.get_random_site()\n",
    "print(f\"Site: {site}\")\n",
    "\n",
    "l3fwd_node_name = 'l3fwd-node'\n",
    "pktgen_node_name = 'pktgen-node'\n",
    "\n",
    "network_name='net1'\n",
    "\n",
    "# username and password used in storage VM\n",
    "nginx_user = \"dpdk_mellanox_tools\"\n",
    "nginx_password = \"secret-password\"\n",
    "storage_vm_ip = \"10.129.1.2\"\n",
    "\n",
    "rocky_mellanox_iso_name = \"MLNX_OFED_LINUX-23.07-0.5.0.0-rhel9.2-x86_64.iso\"\n",
    "ubuntu_mellanox_iso_name = \"MLNX_OFED_LINUX-23.07-0.5.1.2-ubuntu20.04-x86_64.iso\"\n",
    "\n",
    "\n",
    "image_name = \"default_rocky_9\"\n",
    "#image_name = \"default_ubuntu_20\""
   ]
  },
  {
   "cell_type": "code",
   "execution_count": null,
   "metadata": {
    "tags": []
   },
   "outputs": [],
   "source": [
    "#Create Slice\n",
    "slice = fablib.new_slice(name=slice_name)\n",
    "\n",
    "# Network\n",
    "net1 = slice.add_l2network(name=network_name, subnet=IPv4Network(\"192.168.1.0/24\"))\n",
    "\n",
    "# l3fwd_node\n",
    "l3fwd_node = slice.add_node(name=l3fwd_node_name, site=site, cores=8, ram=32, disk=10, image=image_name)\n",
    "l3fwd_node.add_fabnet()\n",
    "iface1 = l3fwd_node.add_component(model='NIC_ConnectX_6', name='nic1').get_interfaces()[0]\n",
    "\n",
    "# pktgen_node\n",
    "pktgen_node = slice.add_node(name=pktgen_node_name, site=site, cores=8, ram=32, disk=10, image=image_name)\n",
    "pktgen_node.add_fabnet()\n",
    "iface2 = pktgen_node.add_component(model='NIC_ConnectX_6', name='nic1').get_interfaces()[0]\n",
    "\n",
    "iface1.set_mode('auto')\n",
    "iface2.set_mode('auto')\n",
    "\n",
    "net1.add_interface(iface1)\n",
    "net1.add_interface(iface2)\n",
    "\n",
    "for n in slice.get_nodes():\n",
    "    n.add_post_boot_upload_directory('node_tools','.')\n",
    "    n.add_post_boot_execute('chmod +x node_tools/*')\n",
    "    n.add_post_boot_execute('sudo node_tools/install.sh')\n",
    "\n",
    "#Submit Slice Request\n",
    "slice.submit();"
   ]
  },
  {
   "cell_type": "markdown",
   "metadata": {},
   "source": [
    "## Verify connectivity between nodes on the local ethernet"
   ]
  },
  {
   "cell_type": "code",
   "execution_count": null,
   "metadata": {},
   "outputs": [],
   "source": [
    "l3fwd_node = slice.get_node(name=l3fwd_node_name)        \n",
    "pktgen_node = slice.get_node(name=pktgen_node_name)           \n",
    "\n",
    "pktgen_node_addr = pktgen_node.get_interface(network_name=network_name).get_ip_addr()\n",
    "\n",
    "stdout, stderr = l3fwd_node.execute(f'ping -c 5 {pktgen_node_addr}')"
   ]
  },
  {
   "cell_type": "markdown",
   "metadata": {},
   "source": [
    "## Setup IOMMU and Hugepages \n",
    "\n",
    "For DPDK to function properly we need to setup IOMMU and hugepages on the VMs"
   ]
  },
  {
   "cell_type": "code",
   "execution_count": null,
   "metadata": {},
   "outputs": [],
   "source": [
    "for n in slice.get_nodes():\n",
    "    stdout, stderr = n.execute(f\"sudo node_tools/grub.sh {n.get_ram()}\", quiet=True, output_file=f\"logs/{n.get_name()}-grub.log\")\n",
    "    stdout, stderr = n.execute(\"sudo node_tools/apply_vfio_settings.sh\", quiet=True, output_file=f\"logs/{n.get_name()}-vfio.log\")"
   ]
  },
  {
   "cell_type": "markdown",
   "metadata": {},
   "source": [
    "## Install Mellanox Drivers\n",
    "\n",
    "Download the drivers from storage node and install. This step should be executed only if the Storage Node is available from where the drivers can be downloaded.\n",
    "If the storage node is not available, the user is expected to download the Mellanox drivers from from NVIDIA's [website](https://network.nvidia.com/products/infiniband-drivers/linux/mlnx_ofed/) and upload to the VMs. User should then install the drivers using the steps:\n",
    "```\n",
    "sudo mount -o ro,loop <Driver ISO location> /mnt/\n",
    "sudo /mnt/mlnxofedinstall --force\n",
    "sudo /etc/init.d/openibd restart\n",
    "```"
   ]
  },
  {
   "cell_type": "code",
   "execution_count": null,
   "metadata": {},
   "outputs": [],
   "source": [
    "execute_threads = {}\n",
    "for n in slice.get_nodes():\n",
    "    if \"rocky\" in n.get_image():\n",
    "        mellanox_iso_name = rocky_mellanox_iso_name\n",
    "    else:\n",
    "        mellanox_iso_name = ubuntu_mellanox_iso_name\n",
    "    stdout, stderr = n.execute(f\"wget --no-check-certificate --user=dpdk_mellanox_tools --password=secret-password https://{storage_vm_ip}/dpdk-mellanox-tools/{mellanox_iso_name}\", quiet=True)\n",
    "    execute_threads[n] = n.execute_thread(f\"sudo node_tools/fw.sh\", output_file=f\"logs/{n.get_name()}-drivers.log\")\n",
    "    \n",
    "    \n",
    "#Wait for results from threads\n",
    "for n,thread in execute_threads.items():\n",
    "    print(f\"Waiting for result from node {n.get_name()}\")\n",
    "    stdout,stderr = thread.result()   \n",
    "    \n",
    "print(\"Driver install completed!\")"
   ]
  },
  {
   "cell_type": "markdown",
   "metadata": {},
   "source": [
    "## Reboot the VMs"
   ]
  },
  {
   "cell_type": "code",
   "execution_count": null,
   "metadata": {},
   "outputs": [],
   "source": [
    "for n in slice.get_nodes():\n",
    "    stdout, stderr = n.execute(\"sudo reboot\", quiet=True)"
   ]
  },
  {
   "cell_type": "markdown",
   "metadata": {},
   "source": [
    "## Wait for the VMs to be back up"
   ]
  },
  {
   "cell_type": "code",
   "execution_count": null,
   "metadata": {},
   "outputs": [],
   "source": [
    "slice = fablib.get_slice(slice_name)\n",
    "slice.wait_ssh()"
   ]
  },
  {
   "cell_type": "code",
   "execution_count": null,
   "metadata": {},
   "outputs": [],
   "source": [
    "for n in slice.get_nodes():\n",
    "    n.config()"
   ]
  },
  {
   "cell_type": "markdown",
   "metadata": {},
   "source": [
    "## Download and build DPDK\n",
    "Download the DPDK source code from DPDK website: https://fast.dpdk.org/rel/ and then build using the following commands.\n",
    "\n",
    "The DPDK libraries and binaries will be installed at `/usr/local/lib64` and `/usr/local/bin/`."
   ]
  },
  {
   "cell_type": "code",
   "execution_count": null,
   "metadata": {},
   "outputs": [],
   "source": [
    "execute_threads = {}\n",
    "for n in slice.get_nodes():\n",
    "   execute_threads[n] = n.execute_thread(\"node_tools/dpdk.sh\", output_file=f\"logs/{n.get_name()}-dpdk.log\")\n",
    "\n",
    "#Wait for results from threads\n",
    "for n,thread in execute_threads.items():\n",
    "    print(f\"Waiting for result from node {n.get_name()}\")\n",
    "    stdout,stderr = thread.result()  \n",
    "    \n",
    "print(\"DPDK install completed!\")"
   ]
  },
  {
   "cell_type": "markdown",
   "metadata": {},
   "source": [
    "## Download and build PKTGEN-DPDK\n",
    "\n",
    "This section is only applied on the `pktgen-node`. Download the Pktgen-DPDK source code from github. As Pktgen-DPDK uses the DPDK libraries installed in prior section, please select a version which is close to the DPDK version. Then build using the following commands:"
   ]
  },
  {
   "cell_type": "code",
   "execution_count": null,
   "metadata": {},
   "outputs": [],
   "source": [
    "pktgen_node = slice.get_node(name=pktgen_node_name)\n",
    "stdout, stderr = pktgen_node.execute(\"node_tools/pktgen.sh\", quiet=True, output_file=f\"logs/{pktgen_node.get_name()}-dpdk-pktgen.log\")"
   ]
  },
  {
   "cell_type": "markdown",
   "metadata": {},
   "source": [
    "## Get the Nodes"
   ]
  },
  {
   "cell_type": "code",
   "execution_count": null,
   "metadata": {},
   "outputs": [],
   "source": [
    "l3fwd_node = slice.get_node(name=l3fwd_node_name)\n",
    "l3fwd_node_interface = l3fwd_node.get_interface(network_name=network_name)\n",
    "\n",
    "\n",
    "pktgen_node = slice.get_node(name=pktgen_node_name)\n",
    "pktgen_node_interface = pktgen_node.get_interface(network_name=network_name)"
   ]
  },
  {
   "cell_type": "markdown",
   "metadata": {},
   "source": [
    "## Run the Experiment\n"
   ]
  },
  {
   "cell_type": "markdown",
   "metadata": {},
   "source": [
    "### Start L3FWD Application on l3fwd-node\n",
    "\n",
    "Open a SSH console for `l3fwd-node` and start `dpdk-l3fwd` application using the commands generated by the next cell:"
   ]
  },
  {
   "cell_type": "code",
   "execution_count": null,
   "metadata": {},
   "outputs": [],
   "source": [
    "print(f\"Open a SSH console for {l3fwd_node.get_name()} using the command: {l3fwd_node.get_ssh_command()}\")"
   ]
  },
  {
   "cell_type": "code",
   "execution_count": null,
   "metadata": {},
   "outputs": [],
   "source": [
    "print(\"Start DPDK L3fwd using the command: \")\n",
    "print(f'cd dpdk-23.07;sudo ./build/examples/dpdk-l3fwd -a {l3fwd_node_interface.get_component().get_pci_addr()[0]} -c 0x1 -n 4 -- -p 0x1 --config=\"(0,0,0)\"  --eth-dest=0,{pktgen_node_interface.get_mac().lower()}')"
   ]
  },
  {
   "cell_type": "markdown",
   "metadata": {},
   "source": [
    "### L3fwd example output\n",
    "\n",
    "<img src=\"./images/l3fwd.png\"><br>"
   ]
  },
  {
   "cell_type": "markdown",
   "metadata": {},
   "source": [
    "### Start Pktgen Application on pktgen-node\n",
    "\n",
    "Open a SSH console for `pktgen-node` and start `pktgen` using the commands generated by the next cell:"
   ]
  },
  {
   "cell_type": "code",
   "execution_count": null,
   "metadata": {},
   "outputs": [],
   "source": [
    "print(f\"Open a SSH console for {pktgen_node.get_name()} using the command: {pktgen_node.get_ssh_command()}\")"
   ]
  },
  {
   "cell_type": "code",
   "execution_count": null,
   "metadata": {},
   "outputs": [],
   "source": [
    "print(\"Start DPDK PKTGEN using the command: \")\n",
    "if \"rocky\" in pktgen_node.get_image():\n",
    "    print(\"export PKG_CONFIG_PATH=/usr/local/lib64/pkgconfig\")\n",
    "    print(\"cd Pktgen-DPDK\")\n",
    "else:\n",
    "    print(\"cd pktgen-dpdk\")\n",
    "print(f\"sudo ./Builddir/app/pktgen -a {pktgen_node_interface.get_component().get_pci_addr()[0]} -l 0-4 -n 3 -- -P -m [1:3].0\")"
   ]
  },
  {
   "cell_type": "markdown",
   "metadata": {},
   "source": [
    "After Pktgen is brought up, set up Pktgen and start traffic by running the commands generated by the next cell:"
   ]
  },
  {
   "cell_type": "code",
   "execution_count": null,
   "metadata": {},
   "outputs": [],
   "source": [
    "print(f\"set 0-1 dst mac {l3fwd_node_interface.get_mac().lower()}\")\n",
    "print(f\"set 0-1 src mac {pktgen_node_interface.get_mac().lower()}\")\n",
    "print(\"set 0-1 size 128\")\n",
    "print(\"set 0-1 rate 50\")\n",
    "print(\"start 0\")\n",
    "print(\"start 1\")"
   ]
  },
  {
   "cell_type": "markdown",
   "metadata": {},
   "source": [
    "### Pktgen example output\n",
    "\n",
    "<img src=\"./images/pktgen.png\"><br>"
   ]
  },
  {
   "cell_type": "markdown",
   "metadata": {},
   "source": [
    "## Delete the Slice\n",
    "\n",
    "Please delete your slice when you are done with your experiment."
   ]
  },
  {
   "cell_type": "code",
   "execution_count": null,
   "metadata": {},
   "outputs": [],
   "source": [
    "slice = fablib.get_slice(slice_name)\n",
    "slice.delete()"
   ]
  },
  {
   "cell_type": "code",
   "execution_count": null,
   "metadata": {},
   "outputs": [],
   "source": []
  }
 ],
 "metadata": {
  "kernelspec": {
   "display_name": "Python 3 (ipykernel)",
   "language": "python",
   "name": "python3"
  },
  "language_info": {
   "codemirror_mode": {
    "name": "ipython",
    "version": 3
   },
   "file_extension": ".py",
   "mimetype": "text/x-python",
   "name": "python",
   "nbconvert_exporter": "python",
   "pygments_lexer": "ipython3",
   "version": "3.10.6"
  }
 },
 "nbformat": 4,
 "nbformat_minor": 4
}
