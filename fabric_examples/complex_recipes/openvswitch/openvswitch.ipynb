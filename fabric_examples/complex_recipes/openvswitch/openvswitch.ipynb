{
 "cells": [
  {
   "cell_type": "markdown",
   "metadata": {},
   "source": [
    "# Open Vswitch\n",
    "\n",
    "This example shows how to deploy a topology of Openvswitch software bridges on FABRIC. \n",
    "\n",
    "### Background: OVS\n",
    "\n",
    "Open vSwitch ([OVS](https://www.openvswitch.org/)) is an open-source, multi-layer virtual switch that is designed to be used in virtualized server environments. It is a critical component of many virtualization platforms and software-defined networking (SDN) solutions.\n",
    "\n",
    "\n",
    "### Target FABRIC Topology\n",
    "\n",
    "This notebook will create a topology depicting a network with a bridge node and two hosts, where OVS is used to create virtual bridge. The OVS bridge enables communication between the hosts. This setup provides a flexible and scalable architecture, suitable for various virtualization and software-defined networking scenarios.\n",
    "\n",
    "A high level view of the topology is depicted in the figure below.\n",
    "\n",
    "<img src=\"./figs/openvswitch-single.png\" width=\"70%\"><br>\n",
    "\n",
    "### Limitation\n",
    "Due to NVIDIA/Mellanox limitation, it appears the desired bridged virtual function forwarding behavior is not something currently supported for SRIOV functions i.e. `NIC_Basic`. VM hosting OVS bridge is required to use Dedicated NICs i.e. `NIC_ConnectX_5` or `NIC_ConnectX_6`.\n",
    "\n",
    "We are working on an alternate solution, which would be available in the upcoming release."
   ]
  },
  {
   "cell_type": "markdown",
   "metadata": {},
   "source": [
    "## Import the FABlib Library"
   ]
  },
  {
   "cell_type": "code",
   "execution_count": null,
   "metadata": {
    "tags": []
   },
   "outputs": [],
   "source": [
    "from ipaddress import ip_address, IPv4Address, IPv4Network\n",
    "import ipaddress\n",
    "from fabrictestbed_extensions.fablib.fablib import FablibManager as fablib_manager\n",
    "\n",
    "\n",
    "fablib = fablib_manager()\n",
    "fablib.show_config();"
   ]
  },
  {
   "cell_type": "markdown",
   "metadata": {},
   "source": [
    "## Create the Experiment Slice\n",
    "\n",
    "### General Configuration\n",
    "\n",
    "Set the name of the slice, the sites to use, and the number of additional (non-router) nodes to add to each site."
   ]
  },
  {
   "cell_type": "code",
   "execution_count": null,
   "metadata": {
    "tags": []
   },
   "outputs": [],
   "source": [
    "slice_name= \"MySlice-openvswitch\"\n",
    "\n",
    "# we will use CX5 to generate traffic so need sites that have CX5 for this example.\n",
    "cx5_column_name = 'nic_connectx_5_available'\n",
    "\n",
    "# find two sites with available ConnectX-5 \n",
    "sites = [site1] = fablib.get_random_sites(count=1, filter_function=lambda x: x[cx5_column_name] > 0)\n",
    "print(f\"Sites: {sites}\")\n",
    "\n",
    "site_node_count = 2\n",
    "bridge1_name = 'bridge1'"
   ]
  },
  {
   "cell_type": "markdown",
   "metadata": {},
   "source": [
    "### Create Slice"
   ]
  },
  {
   "cell_type": "code",
   "execution_count": null,
   "metadata": {},
   "outputs": [],
   "source": [
    "slice = fablib.new_slice(name=slice_name)\n",
    "default_image= 'default_ubuntu_22'"
   ]
  },
  {
   "cell_type": "markdown",
   "metadata": {},
   "source": [
    "### Add Bridge1"
   ]
  },
  {
   "cell_type": "code",
   "execution_count": null,
   "metadata": {},
   "outputs": [],
   "source": [
    "bridge1 = slice.add_node(name=bridge1_name, site=site1, cores=4, ram=8, disk=50, image=default_image)\n",
    "bridge1_nic = bridge1.add_component(model='NIC_ConnectX_5', name='nic_local')"
   ]
  },
  {
   "cell_type": "markdown",
   "metadata": {},
   "source": [
    "### Add Host Nodes"
   ]
  },
  {
   "cell_type": "code",
   "execution_count": null,
   "metadata": {},
   "outputs": [],
   "source": [
    "i = 0\n",
    "print(f\"Adding nodes to {site1}\")\n",
    "for node_num in range(site_node_count):\n",
    "    node_name = f\"{site1.lower()}{node_num+1}\"\n",
    "\n",
    "    node = slice.add_node(name=node_name, site=site1, cores=4, ram=8, disk=50, image=default_image)\n",
    "    iface = node.add_component(model='NIC_Basic', name='nic_local').get_interfaces()[0]    \n",
    "    net = slice.add_l2network(name=f\"net{node_num}\")\n",
    "\n",
    "    net.add_interface(iface)\n",
    "    net.add_interface(bridge1_nic.get_interfaces()[i])\n",
    "    i += 1"
   ]
  },
  {
   "cell_type": "markdown",
   "metadata": {},
   "source": [
    "### Submit the Slice Request\n",
    "\n",
    "<img src=\"./figs/openvswitch-single.png\" width=\"60%\"><br>\n",
    "\n",
    "Now that the slice request is complete, you can submit it.\n"
   ]
  },
  {
   "cell_type": "code",
   "execution_count": null,
   "metadata": {},
   "outputs": [],
   "source": [
    "slice.submit();"
   ]
  },
  {
   "cell_type": "markdown",
   "metadata": {},
   "source": [
    "### Install OVS and net-tools on all bridges"
   ]
  },
  {
   "cell_type": "code",
   "execution_count": null,
   "metadata": {
    "tags": []
   },
   "outputs": [],
   "source": [
    "try:\n",
    "    for node in slice.get_nodes():\n",
    "        if node.get_name().startswith(\"bridge\"):\n",
    "            stdout, stderr = node.execute('yes | sudo apt-get -y update && sudo apt-get upgrade', quiet=True) \n",
    "            stdout, stderr = node.execute('yes | sudo apt-get -y install openvswitch-switch openvswitch-common', quiet=True)\n",
    "            stdout, stderr = node.execute('sudo apt-get -y install net-tools', quiet=True)\n",
    "            print(f\"done bridge: {node.get_name()}\")\n",
    "    print(\"Done\")\n",
    "except Exception as e:\n",
    "    print(f\"Exception: {e}\")"
   ]
  },
  {
   "cell_type": "markdown",
   "metadata": {
    "tags": []
   },
   "source": [
    "### Create a new bridge, enable the spanning tree protocol on necessary interfaces"
   ]
  },
  {
   "cell_type": "code",
   "execution_count": null,
   "metadata": {
    "tags": []
   },
   "outputs": [],
   "source": [
    "bridge1 = slice.get_node(name=bridge1_name)\n",
    "stdout, stderr = bridge1.execute('sudo ovs-vsctl add-br br0')\n",
    "for interface in bridge1.get_interfaces():\n",
    "    stdout, stderr = bridge1.execute(f'sudo ovs-vsctl add-port br0 {interface.get_physical_os_interface_name()}')\n",
    "    #Remove IP addresses for all interfaces\n",
    "    stdout, stderr = bridge1.execute(f'sudo ifconfig {interface.get_physical_os_interface_name()} 0')\n",
    "    \n",
    "#bring the bridge up\n",
    "stdout, stderr = bridge1.execute('sudo ifconfig br0 up')\n",
    "\n",
    "print(\"Done\")"
   ]
  },
  {
   "cell_type": "markdown",
   "metadata": {},
   "source": [
    "### Enable Spanning tree and confirm"
   ]
  },
  {
   "cell_type": "code",
   "execution_count": null,
   "metadata": {
    "tags": []
   },
   "outputs": [],
   "source": [
    "stdout, stderr = bridge1.execute('sudo ovs-vsctl set bridge br0 stp_enable=true')"
   ]
  },
  {
   "cell_type": "code",
   "execution_count": null,
   "metadata": {},
   "outputs": [],
   "source": [
    "stdout, stderr = bridge1.execute('sudo ovs-appctl stp/show')"
   ]
  },
  {
   "cell_type": "markdown",
   "metadata": {},
   "source": [
    "## Setup the Host Nodes"
   ]
  },
  {
   "cell_type": "code",
   "execution_count": null,
   "metadata": {},
   "outputs": [],
   "source": [
    "host1 = slice.get_node(name=f'{site1.lower()}1')\n",
    "host2 = slice.get_node(name=f'{site1.lower()}2')"
   ]
  },
  {
   "cell_type": "code",
   "execution_count": null,
   "metadata": {
    "tags": []
   },
   "outputs": [],
   "source": [
    "stdout, stderr = host1.execute('sudo apt-get -y install net-tools', quiet=True)\n",
    "stdout, stderr = host2.execute('sudo apt-get -y install net-tools', quiet=True)"
   ]
  },
  {
   "cell_type": "code",
   "execution_count": null,
   "metadata": {},
   "outputs": [],
   "source": [
    "stdout, stderr = host1.execute(f'sudo ip link set dev {host1.get_interfaces()[0].get_physical_os_interface_name()} up', quiet=True)\n",
    "stdout, stderr = host2.execute(f'sudo ip link set dev {host2.get_interfaces()[0].get_physical_os_interface_name()} up', quiet=True)"
   ]
  },
  {
   "cell_type": "code",
   "execution_count": null,
   "metadata": {},
   "outputs": [],
   "source": [
    "stdout, stderr = host1.execute(f'sudo ip addr add 10.10.10.1/24 dev {host1.get_interfaces()[0].get_physical_os_interface_name()}', quiet=True)\n",
    "stdout, stderr = host2.execute(f'sudo ip addr add 10.10.10.2/24 dev {host2.get_interfaces()[0].get_physical_os_interface_name()}', quiet=True)"
   ]
  },
  {
   "cell_type": "markdown",
   "metadata": {},
   "source": [
    "### Ping Test"
   ]
  },
  {
   "cell_type": "code",
   "execution_count": null,
   "metadata": {
    "tags": []
   },
   "outputs": [],
   "source": [
    "# Ping test\n",
    "stdout, stderr = host1.execute('ping 10.10.10.2 -c 5')"
   ]
  },
  {
   "cell_type": "markdown",
   "metadata": {},
   "source": [
    "### Delete the slice"
   ]
  },
  {
   "cell_type": "code",
   "execution_count": null,
   "metadata": {},
   "outputs": [],
   "source": [
    "slice.delete()"
   ]
  },
  {
   "cell_type": "code",
   "execution_count": null,
   "metadata": {},
   "outputs": [],
   "source": []
  }
 ],
 "metadata": {
  "kernelspec": {
   "display_name": "Python 3 (ipykernel)",
   "language": "python",
   "name": "python3"
  },
  "language_info": {
   "codemirror_mode": {
    "name": "ipython",
    "version": 3
   },
   "file_extension": ".py",
   "mimetype": "text/x-python",
   "name": "python",
   "nbconvert_exporter": "python",
   "pygments_lexer": "ipython3",
   "version": "3.10.6"
  }
 },
 "nbformat": 4,
 "nbformat_minor": 4
}
