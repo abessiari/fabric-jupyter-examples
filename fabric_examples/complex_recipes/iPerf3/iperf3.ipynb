{
 "cells": [
  {
   "cell_type": "markdown",
   "metadata": {},
   "source": [
    "# Create a Slice and Run iPerf3\n",
    "\n"
   ]
  },
  {
   "cell_type": "markdown",
   "metadata": {},
   "source": [
    "## Import the FABlib Library\n"
   ]
  },
  {
   "cell_type": "code",
   "execution_count": null,
   "metadata": {
    "tags": []
   },
   "outputs": [],
   "source": [
    "from fabrictestbed_extensions.fablib.fablib import FablibManager as fablib_manager\n",
    "\n",
    "fablib = fablib_manager()\n",
    "\n",
    "fablib.show_config();"
   ]
  },
  {
   "cell_type": "markdown",
   "metadata": {
    "tags": []
   },
   "source": [
    "## Create the Experiment Slice\n",
    "\n",
    "The following creates two nodes with basic NICs connected to an isolated local Ethernet.  \n"
   ]
  },
  {
   "cell_type": "code",
   "execution_count": null,
   "metadata": {
    "tags": []
   },
   "outputs": [],
   "source": [
    "slice_name = 'iPerf3'\n",
    "[site1, site2] = fablib.get_random_sites(count=2)\n",
    "print(f\"Sites: {site1}, {site2}\")\n",
    "\n",
    "node1_name='Node1'\n",
    "node2_name='Node2'"
   ]
  },
  {
   "cell_type": "code",
   "execution_count": null,
   "metadata": {
    "tags": []
   },
   "outputs": [],
   "source": [
    "#Create Slice\n",
    "slice = fablib.new_slice(name=slice_name)\n",
    "\n",
    "# Node1\n",
    "node1 = slice.add_node(name=node1_name, cores=4, ram=16, site=site1, image='default_rocky_9')\n",
    "node1.add_fabnet()\n",
    "node1.add_post_boot_upload_directory('node_tools','.')\n",
    "node1.add_post_boot_execute('sudo node_tools/host_tune.sh')\n",
    "node1.add_post_boot_execute('node_tools/enable_docker.sh {{ _self_.image }} ')\n",
    "node1.add_post_boot_execute('docker pull fabrictestbed/slice-vm-rocky8-multitool:0.0.2 ')\n",
    "\n",
    "\n",
    "# Node2\n",
    "node2 = slice.add_node(name=node2_name, cores=4, ram=16, site=site2, image='default_rocky_9')\n",
    "node2.add_fabnet()\n",
    "node2.add_post_boot_upload_directory('node_tools','.')\n",
    "node2.add_post_boot_execute('sudo node_tools/host_tune.sh')\n",
    "node2.add_post_boot_execute('node_tools/enable_docker.sh {{ _self_.image }} ')\n",
    "node2.add_post_boot_execute('docker pull fabrictestbed/slice-vm-rocky8-multitool:0.0.2 ')\n",
    "\n",
    "#Submit Slice Request\n",
    "slice.submit();"
   ]
  },
  {
   "cell_type": "markdown",
   "metadata": {},
   "source": [
    "## Run iPerf3"
   ]
  },
  {
   "cell_type": "code",
   "execution_count": null,
   "metadata": {
    "tags": []
   },
   "outputs": [],
   "source": [
    "slice = fablib.get_slice(slice_name)\n",
    "\n",
    "node1 = slice.get_node(name=node1_name)        \n",
    "node2 = slice.get_node(name=node2_name)           \n",
    "\n",
    "stdout1, stderr1 = node1.execute(\"docker run -d --rm \"\n",
    "                                \"--network host \"\n",
    "                                \"fabrictestbed/slice-vm-rocky8-multitool:0.0.2 \"\n",
    "                                \"iperf3 -s -1\"\n",
    "                                , quiet=True, output_file=f\"{node1.get_name()}.log\");\n",
    "\n",
    "node1_addr = node1.get_interface(network_name=f'FABNET_IPv4_{node1.get_site()}').get_ip_addr()\n",
    "\n",
    "stdout2, stderr2 = node2.execute(\"docker run --rm \"\n",
    "                                \"--network host \"\n",
    "                                \"fabrictestbed/slice-vm-rocky8-multitool:0.0.2 \"\n",
    "                                f\"iperf3 -c {node1_addr} -P 4 -t 30 -i 10 -O 10\"\n",
    "                                , quiet=False, output_file=f\"{node2.get_name()}.log\");\n",
    "\n",
    "\n"
   ]
  },
  {
   "cell_type": "markdown",
   "metadata": {},
   "source": [
    "## Delete the Slice\n",
    "\n",
    "Please delete your slice when you are done with your experiment."
   ]
  },
  {
   "cell_type": "code",
   "execution_count": null,
   "metadata": {
    "tags": []
   },
   "outputs": [],
   "source": [
    "slice = fablib.get_slice(slice_name)\n",
    "slice.delete()"
   ]
  },
  {
   "cell_type": "code",
   "execution_count": null,
   "metadata": {},
   "outputs": [],
   "source": []
  }
 ],
 "metadata": {
  "kernelspec": {
   "display_name": "Python 3 (ipykernel)",
   "language": "python",
   "name": "python3"
  },
  "language_info": {
   "codemirror_mode": {
    "name": "ipython",
    "version": 3
   },
   "file_extension": ".py",
   "mimetype": "text/x-python",
   "name": "python",
   "nbconvert_exporter": "python",
   "pygments_lexer": "ipython3",
   "version": "3.11.8"
  }
 },
 "nbformat": 4,
 "nbformat_minor": 4
}
