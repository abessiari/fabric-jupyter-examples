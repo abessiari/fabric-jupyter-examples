{
 "cells": [
  {
   "cell_type": "markdown",
   "metadata": {},
   "source": [
    "# Create a Slice and Add/Remove SSH Keys\n",
    "\n"
   ]
  },
  {
   "cell_type": "markdown",
   "metadata": {},
   "source": [
    "## Import the FABlib Library\n"
   ]
  },
  {
   "cell_type": "code",
   "execution_count": null,
   "metadata": {
    "tags": []
   },
   "outputs": [],
   "source": [
    "from ipaddress import ip_address, IPv4Address, IPv6Address, IPv4Network, IPv6Network\n",
    "import ipaddress\n",
    "from fabrictestbed_extensions.fablib.fablib import FablibManager as fablib_manager\n",
    "\n",
    "fablib = fablib_manager()\n",
    "\n",
    "fablib.show_config();"
   ]
  },
  {
   "cell_type": "code",
   "execution_count": null,
   "metadata": {},
   "outputs": [],
   "source": [
    "from plugins import Plugins\n",
    "import traceback\n",
    "try:\n",
    "    Plugins.load()\n",
    "except Exception as e:\n",
    "    traceback.print_exc()"
   ]
  },
  {
   "cell_type": "markdown",
   "metadata": {
    "tags": []
   },
   "source": [
    "## Create the Experiment Slice\n",
    "\n",
    "The following creates two nodes with basic NICs connected to an isolated local Ethernet.  \n"
   ]
  },
  {
   "cell_type": "code",
   "execution_count": null,
   "metadata": {
    "tags": []
   },
   "outputs": [],
   "source": [
    "slice_name = 'SSH-Keys'\n",
    "site1 = fablib.get_random_site()\n",
    "print(f\"Sites: {site1}\")\n",
    "\n",
    "node1_name='Node1'\n",
    "node2_name='Node2'\n",
    "\n",
    "network_name='net1'\n",
    "nic_name = 'nic1'\n",
    "model_name = 'NIC_Basic'"
   ]
  },
  {
   "cell_type": "code",
   "execution_count": null,
   "metadata": {
    "tags": []
   },
   "outputs": [],
   "source": [
    "from ipaddress import ip_address, IPv4Address, IPv6Address, IPv4Network, IPv6Network\n",
    "\n",
    "subnet = IPv4Network(\"192.168.1.0/24\")\n",
    "available_ips = list(subnet)[1:]"
   ]
  },
  {
   "cell_type": "code",
   "execution_count": null,
   "metadata": {
    "tags": []
   },
   "outputs": [],
   "source": [
    "#Create Slice\n",
    "slice = fablib.new_slice(name=slice_name)\n",
    "\n",
    "net1 = slice.add_l2network(name=network_name, subnet=subnet)\n",
    "\n",
    "\n",
    "hosts = [f\"{site1.lower()}-w1\", f\"{site1.lower()}-w2\", f\"{site1.lower()}-w3\"]\n",
    "\n",
    "for h in hosts:\n",
    "\n",
    "    # Node1\n",
    "    node1 = slice.add_node(name=f\"{h}-a\", cores=16, ram=32, site=site1, image='docker_rocky_8', host=f\"{h}.fabric-testbed.net\")\n",
    "    #node1.add_fabnet()\n",
    "\n",
    "    iface1 = node1.add_component(model=model_name, name=nic_name).get_interfaces()[0]\n",
    "    #iface1.set_mode('auto')\n",
    "    net1.add_interface(iface1)\n",
    "\n",
    "#Submit Slice Request\n",
    "slice.submit();"
   ]
  },
  {
   "cell_type": "markdown",
   "metadata": {},
   "source": [
    "### Create and add ssh keys"
   ]
  },
  {
   "cell_type": "code",
   "execution_count": null,
   "metadata": {},
   "outputs": [],
   "source": [
    "slice = fablib.get_slice(slice_name)"
   ]
  },
  {
   "cell_type": "code",
   "execution_count": null,
   "metadata": {},
   "outputs": [],
   "source": [
    "import paramiko\n",
    "\n",
    "username = \"rocky\"\n",
    "\n",
    "for node in slice.get_nodes():\n",
    "    # Generate a new RSA key pair\n",
    "    key = paramiko.RSAKey.generate(bits=2048)\n",
    "    public_key_string = f\"{key.get_name()} {key.get_base64()}\"\n",
    "    \n",
    "    private_key_path = \"id_rsa_test\"\n",
    "    with open(private_key_path, \"w\") as private_key_file:\n",
    "        key.write_private_key(private_key_file)\n",
    "        \n",
    "    key_dict = {'key': public_key_string, \n",
    "                'comment': 'ephemerial key added via POA'}\n",
    "    \n",
    "    print(f\"Adding ssh keys to node {node.get_name()}\")\n",
    "    node.perform_operational_action(operation=\"addkey\", keys=[key_dict])\n",
    "    print(f\"Key added successfully to node {node.get_name()}\")\n",
    "    print(\"Validate ssh keys-----\")\n",
    "    try:\n",
    "        stdout, stderr = node.execute('echo Hello, FABRIC from node `hostname -s`', \n",
    "                                      private_key_file=private_key_path)\n",
    "    except Exception as e:\n",
    "        print(\"Error:\", str(e))\n",
    "    print(\"Validation complete---\")\n",
    "    print(f\"Remove ssh keys to node {node.get_name()}\")\n",
    "    node.perform_operational_action(operation=\"removekey\", keys=[key_dict])\n",
    "    print(f\"Key removed successfully to node {node.get_name()}\")\n",
    "    print()\n",
    "    \n",
    "    "
   ]
  },
  {
   "cell_type": "markdown",
   "metadata": {},
   "source": [
    "## Delete the Slice\n",
    "\n",
    "Please delete your slice when you are done with your experiment."
   ]
  },
  {
   "cell_type": "code",
   "execution_count": null,
   "metadata": {
    "tags": []
   },
   "outputs": [],
   "source": [
    "slice = fablib.get_slice(slice_name)\n",
    "slice.delete()"
   ]
  },
  {
   "cell_type": "code",
   "execution_count": null,
   "metadata": {},
   "outputs": [],
   "source": []
  }
 ],
 "metadata": {
  "kernelspec": {
   "display_name": "Python 3 (ipykernel)",
   "language": "python",
   "name": "python3"
  },
  "language_info": {
   "codemirror_mode": {
    "name": "ipython",
    "version": 3
   },
   "file_extension": ".py",
   "mimetype": "text/x-python",
   "name": "python",
   "nbconvert_exporter": "python",
   "pygments_lexer": "ipython3",
   "version": "3.9.7"
  }
 },
 "nbformat": 4,
 "nbformat_minor": 4
}
